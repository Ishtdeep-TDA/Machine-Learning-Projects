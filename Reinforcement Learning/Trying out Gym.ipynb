{
 "cells": [
  {
   "cell_type": "code",
   "execution_count": null,
   "metadata": {},
   "outputs": [],
   "source": [
    "import gym\n",
    "from gym import envs"
   ]
  },
  {
   "cell_type": "code",
   "execution_count": null,
   "metadata": {},
   "outputs": [],
   "source": [
    "print(envs.registry.all())"
   ]
  },
  {
   "cell_type": "code",
   "execution_count": null,
   "metadata": {},
   "outputs": [],
   "source": [
    "env = gym.make('MountainCar-v0')"
   ]
  },
  {
   "cell_type": "code",
   "execution_count": null,
   "metadata": {},
   "outputs": [],
   "source": [
    "%matplotlib inline\n",
    "env.reset()\n",
    "for _ in range(10000):\n",
    "    \n",
    "    a,b = env.reset()\n",
    "    a,b,c,d = env.step(2)\n",
    "    flag = 0\n",
    "    for i in range(1000):\n",
    "        \n",
    "        \n",
    "        print(a,b,c,d)\n",
    "        if a[0]>-0.8 and flag ==0:\n",
    "            a,b,c,d = env.step(0)\n",
    "        else:\n",
    "            flag = 1\n",
    "        if flag == 1:\n",
    "            a,b,c,d = env.step(2)\n",
    "        \n",
    "env.close()"
   ]
  },
  {
   "cell_type": "code",
   "execution_count": null,
   "metadata": {},
   "outputs": [],
   "source": [
    "env.close()"
   ]
  },
  {
   "cell_type": "code",
   "execution_count": null,
   "metadata": {},
   "outputs": [],
   "source": [
    "env = gym.make('MountainCarContinuous-v0')\n",
    "observation = env.reset()\n",
    "for t in range(100):\n",
    "    env.render()\n",
    "    print(observation)\n",
    "    action = env.action_space.sample()\n",
    "    observation, reward, done, info = env.step(action)\n",
    "    print(observation, reward, done, info)\n",
    "    if done:\n",
    "        print(\"Finished after {} timesteps\".format(t+1))\n",
    "        break"
   ]
  },
  {
   "cell_type": "code",
   "execution_count": null,
   "metadata": {},
   "outputs": [],
   "source": [
    "env.render(close=True)"
   ]
  },
  {
   "cell_type": "code",
   "execution_count": null,
   "metadata": {},
   "outputs": [],
   "source": [
    "print(env.action_space)"
   ]
  },
  {
   "cell_type": "code",
   "execution_count": null,
   "metadata": {},
   "outputs": [],
   "source": [
    "import gym\n",
    "import gym_chess\n",
    "import random\n",
    "\n",
    "env = gym.make('Chess-v0')\n",
    "print(env.render())\n",
    "\n",
    "env.reset()\n",
    "done = False\n",
    "\n",
    "count = 0\n",
    "while not done:\n",
    "    random.sample\n",
    "    action = random.sample(env.legal_moves,1)\n",
    "    a,b,c,d = env.step(action[0])\n",
    "    print(env.render(mode='unicode'))\n",
    "    print(a,b,c,d)\n",
    "    #count += 1\n",
    "    #if count ==2:\n",
    "    #    break\n",
    "env.close()"
   ]
  },
  {
   "cell_type": "code",
   "execution_count": 1,
   "metadata": {},
   "outputs": [
    {
     "ename": "NameError",
     "evalue": "name 'env' is not defined",
     "output_type": "error",
     "traceback": [
      "\u001b[1;31m---------------------------------------------------------------------------\u001b[0m",
      "\u001b[1;31mNameError\u001b[0m                                 Traceback (most recent call last)",
      "\u001b[1;32m<timed exec>\u001b[0m in \u001b[0;36m<module>\u001b[1;34m\u001b[0m\n",
      "\u001b[1;31mNameError\u001b[0m: name 'env' is not defined"
     ]
    }
   ],
   "source": [
    "%%time\n",
    "env.reset()\n",
    "done = False\n",
    "\n",
    "count = 0\n",
    "while not done:\n",
    "    random.sample\n",
    "    action = random.sample(env.legal_moves,1)\n",
    "    a,b,c,d = env.step(action[0])\n",
    "    env.render(mode='unicode')\n",
    "    #print(a,b,c,d)\n",
    "    if c == True:\n",
    "        break\n",
    "    #count += 1\n",
    "    #if count ==2:\n",
    "    #    break\n",
    "\n",
    "env.close()"
   ]
  },
  {
   "cell_type": "code",
   "execution_count": null,
   "metadata": {},
   "outputs": [],
   "source": []
  },
  {
   "cell_type": "code",
   "execution_count": null,
   "metadata": {},
   "outputs": [],
   "source": []
  }
 ],
 "metadata": {
  "kernelspec": {
   "display_name": "Python 3",
   "language": "python",
   "name": "python3"
  },
  "language_info": {
   "codemirror_mode": {
    "name": "ipython",
    "version": 3
   },
   "file_extension": ".py",
   "mimetype": "text/x-python",
   "name": "python",
   "nbconvert_exporter": "python",
   "pygments_lexer": "ipython3",
   "version": "3.7.4"
  }
 },
 "nbformat": 4,
 "nbformat_minor": 4
}
