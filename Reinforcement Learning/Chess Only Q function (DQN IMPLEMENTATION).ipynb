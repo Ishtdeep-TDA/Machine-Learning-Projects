{
 "cells": [
  {
   "cell_type": "code",
   "execution_count": 1,
   "metadata": {
    "scrolled": true
   },
   "outputs": [],
   "source": [
    "import chess\n",
    "from chess import Move\n",
    "from copy import copy\n",
    "import chess.svg\n",
    "import tqdm\n",
    "from tqdm import tqdm\n",
    "import random\n",
    "from random import choice\n",
    "import tensorflow as tf\n",
    "import numpy as np\n",
    "import math\n",
    "from abc import ABC, abstractmethod\n",
    "from collections import defaultdict,deque\n",
    "import math\n",
    "from copy import copy\n"
   ]
  },
  {
   "cell_type": "code",
   "execution_count": 2,
   "metadata": {},
   "outputs": [],
   "source": [
    "# keras model approach\n",
    "from tensorflow.keras import Model\n",
    "from tensorflow.keras.layers import Conv2D,MaxPooling2D,Flatten,BatchNormalization,Dense, Input,UpSampling2D\n",
    "from tensorflow.keras.activations import relu"
   ]
  },
  {
   "cell_type": "code",
   "execution_count": 3,
   "metadata": {},
   "outputs": [],
   "source": [
    "# ADDING THE CODE SO THAT TENSORFLOW DOES NOT EAT THE WHOLE GPU MEMORY\n",
    "physical_devices = tf.config.experimental.list_physical_devices('GPU')\n",
    "tf.config.experimental.set_memory_growth(physical_devices[0], True)"
   ]
  },
  {
   "cell_type": "code",
   "execution_count": 4,
   "metadata": {},
   "outputs": [
    {
     "name": "stdout",
     "output_type": "stream",
     "text": [
      "g1h3\n",
      "<class 'str'>\n",
      "<class 'chess.Move'>\n",
      "__bool__\n"
     ]
    }
   ],
   "source": [
    "b = chess.Board()\n",
    "\n",
    "#b.push_san(\"e4\")\n",
    "print(str(list(b.legal_moves)[0]))\n",
    "print(type(str(list(b.legal_moves)[0])))\n",
    "print(type(list(b.legal_moves)[0]))\n",
    "print(dir(b.legal_moves)[0])"
   ]
  },
  {
   "cell_type": "code",
   "execution_count": 5,
   "metadata": {},
   "outputs": [
    {
     "name": "stdout",
     "output_type": "stream",
     "text": [
      "g1h3\n",
      "g1f3\n",
      "b1c3\n",
      "b1a3\n",
      "h2h3\n",
      "g2g3\n",
      "f2f3\n",
      "e2e3\n",
      "d2d3\n",
      "c2c3\n",
      "b2b3\n",
      "a2a3\n",
      "h2h4\n",
      "g2g4\n",
      "f2f4\n",
      "e2e4\n",
      "d2d4\n",
      "c2c4\n",
      "b2b4\n",
      "a2a4\n"
     ]
    }
   ],
   "source": [
    "leg = list(b.legal_moves)\n",
    "for i in leg:\n",
    "    print(str(i))"
   ]
  },
  {
   "cell_type": "code",
   "execution_count": 6,
   "metadata": {},
   "outputs": [
    {
     "data": {
      "text/plain": [
       "\"import gym\\nimport gym_chess\\nimport random\\n\\nenv = gym.make('Chess-v0')\\nprint(dir(env))\\nenv.reset()\\ndone = False\\n\\ncount = 0\\nwhile not done:\\n    print(env.render())\\n    print(env._board.fen())\\n    random.sample\\n    action = random.sample(env.legal_moves,1)\\n    a,b,done,d = env.step(action[0])\\n    state = copy(env)\\n    #count += 1\\n    #if count ==2:\\n    \\nenv.close()\""
      ]
     },
     "execution_count": 6,
     "metadata": {},
     "output_type": "execute_result"
    }
   ],
   "source": [
    "'''import gym\n",
    "import gym_chess\n",
    "import random\n",
    "\n",
    "env = gym.make('Chess-v0')\n",
    "print(dir(env))\n",
    "env.reset()\n",
    "done = False\n",
    "\n",
    "count = 0\n",
    "while not done:\n",
    "    print(env.render())\n",
    "    print(env._board.fen())\n",
    "    random.sample\n",
    "    action = random.sample(env.legal_moves,1)\n",
    "    a,b,done,d = env.step(action[0])\n",
    "    state = copy(env)\n",
    "    #count += 1\n",
    "    #if count ==2:\n",
    "    \n",
    "env.close()'''"
   ]
  },
  {
   "cell_type": "code",
   "execution_count": 7,
   "metadata": {},
   "outputs": [
    {
     "name": "stdout",
     "output_type": "stream",
     "text": [
      "Model: \"RL_Value_Function\"\n",
      "_________________________________________________________________\n",
      "Layer (type)                 Output Shape              Param #   \n",
      "=================================================================\n",
      "input_1 (InputLayer)         [(None, 8, 8, 12)]        0         \n",
      "_________________________________________________________________\n",
      "conv2d (Conv2D)              (None, 8, 8, 32)          3488      \n",
      "_________________________________________________________________\n",
      "conv2d_1 (Conv2D)            (None, 8, 8, 32)          9248      \n",
      "_________________________________________________________________\n",
      "batch_normalization (BatchNo (None, 8, 8, 32)          128       \n",
      "_________________________________________________________________\n",
      "max_pooling2d (MaxPooling2D) (None, 4, 4, 32)          0         \n",
      "_________________________________________________________________\n",
      "up_sampling2d (UpSampling2D) (None, 8, 8, 32)          0         \n",
      "_________________________________________________________________\n",
      "conv2d_2 (Conv2D)            (None, 8, 8, 64)          18496     \n",
      "_________________________________________________________________\n",
      "conv2d_3 (Conv2D)            (None, 8, 8, 64)          36928     \n",
      "_________________________________________________________________\n",
      "batch_normalization_1 (Batch (None, 8, 8, 64)          256       \n",
      "_________________________________________________________________\n",
      "max_pooling2d_1 (MaxPooling2 (None, 4, 4, 64)          0         \n",
      "_________________________________________________________________\n",
      "up_sampling2d_1 (UpSampling2 (None, 8, 8, 64)          0         \n",
      "_________________________________________________________________\n",
      "conv2d_4 (Conv2D)            (None, 8, 8, 128)         204928    \n",
      "_________________________________________________________________\n",
      "conv2d_5 (Conv2D)            (None, 8, 8, 128)         409728    \n",
      "_________________________________________________________________\n",
      "batch_normalization_2 (Batch (None, 8, 8, 128)         512       \n",
      "_________________________________________________________________\n",
      "max_pooling2d_2 (MaxPooling2 (None, 4, 4, 128)         0         \n",
      "_________________________________________________________________\n",
      "up_sampling2d_2 (UpSampling2 (None, 8, 8, 128)         0         \n",
      "_________________________________________________________________\n",
      "conv2d_6 (Conv2D)            (None, 8, 8, 256)         819456    \n",
      "_________________________________________________________________\n",
      "conv2d_7 (Conv2D)            (None, 8, 8, 256)         1638656   \n",
      "_________________________________________________________________\n",
      "batch_normalization_3 (Batch (None, 8, 8, 256)         1024      \n",
      "_________________________________________________________________\n",
      "max_pooling2d_3 (MaxPooling2 (None, 4, 4, 256)         0         \n",
      "_________________________________________________________________\n",
      "up_sampling2d_3 (UpSampling2 (None, 8, 8, 256)         0         \n",
      "_________________________________________________________________\n",
      "conv2d_8 (Conv2D)            (None, 8, 8, 256)         1638656   \n",
      "_________________________________________________________________\n",
      "conv2d_9 (Conv2D)            (None, 8, 8, 256)         1638656   \n",
      "_________________________________________________________________\n",
      "batch_normalization_4 (Batch (None, 8, 8, 256)         1024      \n",
      "_________________________________________________________________\n",
      "conv2d_10 (Conv2D)           (None, 8, 8, 256)         1638656   \n",
      "_________________________________________________________________\n",
      "conv2d_11 (Conv2D)           (None, 8, 8, 64)          409664    \n",
      "=================================================================\n",
      "Total params: 8,469,504\n",
      "Trainable params: 8,468,032\n",
      "Non-trainable params: 1,472\n",
      "_________________________________________________________________\n",
      "None\n",
      "Model: \"RL_Value_Function\"\n",
      "_________________________________________________________________\n",
      "Layer (type)                 Output Shape              Param #   \n",
      "=================================================================\n",
      "input_2 (InputLayer)         [(None, 8, 8, 12)]        0         \n",
      "_________________________________________________________________\n",
      "conv2d_12 (Conv2D)           (None, 8, 8, 32)          3488      \n",
      "_________________________________________________________________\n",
      "conv2d_13 (Conv2D)           (None, 8, 8, 32)          9248      \n",
      "_________________________________________________________________\n",
      "batch_normalization_5 (Batch (None, 8, 8, 32)          128       \n",
      "_________________________________________________________________\n",
      "max_pooling2d_4 (MaxPooling2 (None, 4, 4, 32)          0         \n",
      "_________________________________________________________________\n",
      "up_sampling2d_4 (UpSampling2 (None, 8, 8, 32)          0         \n",
      "_________________________________________________________________\n",
      "conv2d_14 (Conv2D)           (None, 8, 8, 64)          18496     \n",
      "_________________________________________________________________\n",
      "conv2d_15 (Conv2D)           (None, 8, 8, 64)          36928     \n",
      "_________________________________________________________________\n",
      "batch_normalization_6 (Batch (None, 8, 8, 64)          256       \n",
      "_________________________________________________________________\n",
      "max_pooling2d_5 (MaxPooling2 (None, 4, 4, 64)          0         \n",
      "_________________________________________________________________\n",
      "up_sampling2d_5 (UpSampling2 (None, 8, 8, 64)          0         \n",
      "_________________________________________________________________\n",
      "conv2d_16 (Conv2D)           (None, 8, 8, 128)         204928    \n",
      "_________________________________________________________________\n",
      "conv2d_17 (Conv2D)           (None, 8, 8, 128)         409728    \n",
      "_________________________________________________________________\n",
      "batch_normalization_7 (Batch (None, 8, 8, 128)         512       \n",
      "_________________________________________________________________\n",
      "max_pooling2d_6 (MaxPooling2 (None, 4, 4, 128)         0         \n",
      "_________________________________________________________________\n",
      "up_sampling2d_6 (UpSampling2 (None, 8, 8, 128)         0         \n",
      "_________________________________________________________________\n",
      "conv2d_18 (Conv2D)           (None, 8, 8, 256)         819456    \n",
      "_________________________________________________________________\n",
      "conv2d_19 (Conv2D)           (None, 8, 8, 256)         1638656   \n",
      "_________________________________________________________________\n",
      "batch_normalization_8 (Batch (None, 8, 8, 256)         1024      \n",
      "_________________________________________________________________\n",
      "max_pooling2d_7 (MaxPooling2 (None, 4, 4, 256)         0         \n",
      "_________________________________________________________________\n",
      "up_sampling2d_7 (UpSampling2 (None, 8, 8, 256)         0         \n",
      "_________________________________________________________________\n",
      "conv2d_20 (Conv2D)           (None, 8, 8, 256)         1638656   \n",
      "_________________________________________________________________\n",
      "conv2d_21 (Conv2D)           (None, 8, 8, 256)         1638656   \n",
      "_________________________________________________________________\n",
      "batch_normalization_9 (Batch (None, 8, 8, 256)         1024      \n",
      "_________________________________________________________________\n",
      "conv2d_22 (Conv2D)           (None, 8, 8, 256)         1638656   \n",
      "_________________________________________________________________\n",
      "conv2d_23 (Conv2D)           (None, 8, 8, 64)          409664    \n",
      "=================================================================\n",
      "Total params: 8,469,504\n",
      "Trainable params: 8,468,032\n",
      "Non-trainable params: 1,472\n",
      "_________________________________________________________________\n",
      "None\n"
     ]
    }
   ],
   "source": [
    "def model_keras():\n",
    "    \n",
    "    input1 = Input(shape=(8,8,12))\n",
    "    x = Conv2D(32,3, activation='relu',padding = \"same\",kernel_initializer=\"glorot_uniform\")(input1)\n",
    "    x = Conv2D(32,3, activation='relu',padding = \"same\",kernel_initializer=\"glorot_uniform\")(x)\n",
    "    x = BatchNormalization()(x)\n",
    "    x = MaxPooling2D(pool_size=(2, 2), strides=None, padding=\"same\")(x)\n",
    "    x = UpSampling2D()(x)\n",
    "    \n",
    "    x = Conv2D(64,3, activation='relu',padding = \"same\",kernel_initializer=\"glorot_uniform\")(x)\n",
    "    x = Conv2D(64,3, activation='relu',padding = \"same\",kernel_initializer=\"glorot_uniform\")(x)\n",
    "    x = BatchNormalization()(x)\n",
    "    x = MaxPooling2D(pool_size=(2, 2), strides=None, padding=\"same\")(x)\n",
    "    x = UpSampling2D()(x)\n",
    "    \n",
    "    x = Conv2D(128,5, activation='relu',padding = \"same\",kernel_initializer=\"glorot_uniform\")(x)\n",
    "    x = Conv2D(128,5, activation='relu',padding = \"same\",kernel_initializer=\"glorot_uniform\")(x)\n",
    "    x = BatchNormalization()(x)\n",
    "    x = MaxPooling2D(pool_size=(2, 2), strides=None, padding=\"same\")(x)\n",
    "    x = UpSampling2D()(x)\n",
    "    \n",
    "    x = Conv2D(256,5, activation='relu',padding = \"same\",kernel_initializer=\"glorot_uniform\")(x)\n",
    "    x = Conv2D(256,5, activation='relu',padding = \"same\",kernel_initializer=\"glorot_uniform\")(x)\n",
    "    x = BatchNormalization()(x)\n",
    "    x = MaxPooling2D(pool_size=(2, 2), strides=None, padding=\"same\")(x)\n",
    "    x = UpSampling2D()(x)\n",
    "    \n",
    "    x = Conv2D(256,5, activation='relu',padding = \"same\",kernel_initializer=\"glorot_uniform\")(x)\n",
    "    x = Conv2D(256,5, activation='relu',padding = \"same\",kernel_initializer=\"glorot_uniform\")(x)\n",
    "    x = BatchNormalization()(x)\n",
    "    \n",
    "    x = Conv2D(256,5, activation='relu',padding = \"same\",kernel_initializer=\"glorot_uniform\")(x)\n",
    "    x = Conv2D(64,5, activation='sigmoid',padding = \"same\",kernel_initializer=\"glorot_uniform\")(x)\n",
    "\n",
    "    #here we introduce the second input (the encoded move)\n",
    "    # 32 inputs 2*8 inputs from square to move from \n",
    "    # 2*8 from the square to move\n",
    "    # exmple e2e5\n",
    "    \n",
    "    '''x = Flatten()(x)\n",
    "    input2 = Input(shape=(32,))\n",
    "    x = tf.keras.layers.Concatenate()([x, input2])\n",
    "    \n",
    "    x = Dense(1000,activation='relu',kernel_initializer=\"glorot_uniform\")(x)\n",
    "    x = BatchNormalization()(x)\n",
    "    x = Dense(1000,activation='relu',kernel_initializer=\"glorot_uniform\")(x)\n",
    "    x = BatchNormalization()(x)\n",
    "    x = Dense(1000,activation='relu',kernel_initializer=\"glorot_uniform\")(x)\n",
    "    x = BatchNormalization()(x)\n",
    "    output = Dense(1,activation='sigmoid',kernel_initializer=\"glorot_uniform\")(x)\n",
    "    '''\n",
    "    \n",
    "    model = Model(inputs=input1, outputs=x, name=\"RL_Value_Function\")\n",
    "    \n",
    "    print(model.summary())\n",
    "    \n",
    "    #model.compile(optimizer=\"adam\",loss='binary_crossentropy',metrics=['binary_crossentropy'])\n",
    "    \n",
    "    return model\n",
    "model_1 = model_keras()\n",
    "model_2 = model_keras()"
   ]
  },
  {
   "cell_type": "code",
   "execution_count": 8,
   "metadata": {},
   "outputs": [],
   "source": [
    "def encode(board):\n",
    "    '''\n",
    "    This is to encode a board position into the nn input\n",
    "    we will have 12 8*8 boards\n",
    "    first 6 will have the black pieces\n",
    "    next 6 will have the white pieces\n",
    "    \n",
    "    todo::::\n",
    "    \n",
    "    we can later include some cues for castling and special moves\n",
    "    \n",
    "    \n",
    "    \n",
    "    The order on both of them will be \n",
    "    \n",
    "    1 - pawn\n",
    "    2 - rook\n",
    "    3 - knights\n",
    "    4 - bishop\n",
    "    5 - queen\n",
    "    6 - king\n",
    "    \n",
    "    The final encoding will have the board reversed (we will see it through blacks perspective)\n",
    "    \n",
    "    '''\n",
    "    array = np.zeros((12, 8, 8), dtype=np.int) # these are the boards\n",
    "    \n",
    "    for square, piece in board.piece_map().items():\n",
    "        x = int(square/8)\n",
    "        y = int(square%8)\n",
    "\n",
    "        # this is the black piece encoding\n",
    "        \n",
    "        if piece.symbol() == \"p\":\n",
    "            array[0][x][y] = 1\n",
    "            \n",
    "        if piece.symbol() == \"r\":\n",
    "            array[1][x][y] = 1\n",
    "            \n",
    "        if piece.symbol() == \"n\":\n",
    "            array[2][x][y] = 1\n",
    "            \n",
    "        if piece.symbol() == \"b\":\n",
    "            array[3][x][y] = 1\n",
    "            \n",
    "        if piece.symbol() == \"q\":\n",
    "            array[4][x][y] = 1\n",
    "        \n",
    "        if piece.symbol() == \"k\":\n",
    "            array[5][x][y] = 1\n",
    "            \n",
    "        # This is the white piece encoding\n",
    "        \n",
    "        if piece.symbol() == \"P\":\n",
    "            array[6][x][y] = 1\n",
    "            \n",
    "        if piece.symbol() == \"R\":\n",
    "            array[7][x][y] = 1\n",
    "            \n",
    "        if piece.symbol() == \"N\":\n",
    "            array[8][x][y] = 1\n",
    "            \n",
    "        if piece.symbol() == \"B\":\n",
    "            array[9][x][y] = 1\n",
    "            \n",
    "        if piece.symbol() == \"Q\":\n",
    "            array[10][x][y] = 1\n",
    "            \n",
    "        if piece.symbol() == \"K\":\n",
    "            array[11][x][y] = 1\n",
    "    array.resize((8,8,12))\n",
    "    array = tf.expand_dims(array,0)\n",
    "    array = array.numpy()\n",
    "    array = np.array(array,dtype = \"float32\")\n",
    "    return array\n",
    "\n",
    "temp_encode = encode(b)\n",
    "def get_direction(x1,y1,x2,y2):\n",
    "    x_diff = x2-x1\n",
    "    y_diff = y2-y1\n",
    "    direction = \"\"\n",
    "    distance = None\n",
    "    \n",
    "    if x_diff==0 and y_diff>0:\n",
    "        direction = 0 # North has a base of 0 (0-6 planes are of north)\n",
    "        distance = abs(y_diff)\n",
    "        \n",
    "    elif x_diff==0 and y_diff<0:\n",
    "        direction = 7 # South has a base of 7 (7-13 planes are of South)\n",
    "        distance = abs(y_diff)\n",
    "        \n",
    "    elif x_diff>0 and y_diff==0:\n",
    "        direction = 14 # East has a base of 14 (14-20 planes are of East)\n",
    "        distance = abs(x_diff)\n",
    "        \n",
    "    elif x_diff<0 and y_diff==0:\n",
    "        direction = 21 # West has a base of 21 (21-27 planes are of West)\n",
    "        distance = abs(x_diff)\n",
    "        \n",
    "    elif x_diff>0 and y_diff>0:\n",
    "        direction = 28 # NE has a base of 28 (28-34 planes are of NE)\n",
    "        distance = abs(x_diff)\n",
    "        \n",
    "    elif x_diff<0 and y_diff>0: \n",
    "        direction = 35 # NW has a base of 35 (35-41 planes are of NW)\n",
    "        distance = abs(x_diff)\n",
    "        \n",
    "    elif x_diff<0 and y_diff<0:\n",
    "        direction = 42 # SW has a base of 42 (42-48 planes are of NW)\n",
    "        distance = abs(x_diff)\n",
    "        \n",
    "    elif x_diff>0 and y_diff<0:\n",
    "        direction = 49 # SE has a base of 49 (49-55 planes are of NW)\n",
    "        distance = abs(x_diff)\n",
    "    else:\n",
    "        direction = \"INVALID\"\n",
    "        distance = None\n",
    "        \n",
    "    return direction,distance\n",
    "\n",
    "def decode_specific_move(move):\n",
    "    '''Given a move it will find the specific position of the move in the NN'''\n",
    "    board_mapping = {\n",
    "        \"a\":0,\n",
    "        \"b\":1,\n",
    "        \"c\":2,\n",
    "        \"d\":3,\n",
    "        \"e\":4,\n",
    "        \"f\":5,\n",
    "        \"g\":6,\n",
    "        \"h\":7,\n",
    "        \"1\":0,\n",
    "        \"2\":1,\n",
    "        \"3\":2,\n",
    "        \"4\":3,\n",
    "        \"5\":4,\n",
    "        \"6\":5,\n",
    "        \"7\":6,\n",
    "        \"8\":7,\n",
    "    }\n",
    "    \n",
    "    temp_str = str(move)\n",
    "    x1 = board_mapping[str(temp_str[0])]\n",
    "    y1 = board_mapping[str(temp_str[1])]\n",
    "    x2 = board_mapping[str(temp_str[2])]\n",
    "    y2 = board_mapping[str(temp_str[3])]\n",
    "\n",
    "    # ADD KNIGHT LOGIC FIRST\n",
    "    \n",
    "    knight_plane = knight_moves(x1,y1,x2,y2)\n",
    "    if knight_plane !=0:\n",
    "        return (x1,y1,knight_plane)\n",
    "    else:\n",
    "        # IF NOT KNIGHT MOVE THEN\n",
    "        plane,dist = get_direction(x1,y1,x2,y2)\n",
    "        final_plane = plane + dist\n",
    "        return (x1,y1,final_plane)\n",
    "\n",
    "def knight_moves(x1,y1,x2,y2):\n",
    "    diff_x = x2-x1\n",
    "    diff_y = y2-y1\n",
    "    sq_x = math.pow((x2-x1),2)\n",
    "    sq_y = math.pow((y2-y1),2)\n",
    "    flag = 0\n",
    "    plane = None\n",
    "    if math.sqrt(sq_x+sq_y) == math.sqrt(5):\n",
    "        flag = 1\n",
    "    else:\n",
    "        return 0\n",
    "    if flag == 1 and diff_x<0 and diff_y == 1:\n",
    "        plane = 56\n",
    "    elif flag == 1 and diff_x<0 and diff_y == 2:\n",
    "        plane = 57\n",
    "    elif flag == 1 and diff_x>0 and diff_y == 2:\n",
    "        plane = 58\n",
    "    elif flag == 1 and diff_x>0 and diff_y == 1:\n",
    "        plane = 59\n",
    "    elif flag == 1 and diff_x>0 and diff_y == -1:\n",
    "        plane = 60\n",
    "    elif flag == 1 and diff_x>0 and diff_y == -2:\n",
    "        plane = 61\n",
    "    elif flag == 1 and diff_x<0 and diff_y == -2:\n",
    "        plane = 62\n",
    "    elif flag == 1 and diff_x<0 and diff_y == -1:\n",
    "        plane = 63\n",
    "    else:\n",
    "        plane = 0\n",
    "    return plane\n",
    "\n",
    "def decode(nn_out,legal_moves):\n",
    "    '''\n",
    "    Currently the neural network will output 64 planes\n",
    "    the first 56 planes will regard to all the queen moves\n",
    "    Queen moves are \n",
    "    N,S,E,W,NE,NW,SE,SW\n",
    "    \n",
    "    for each direction of queen moves there will be number of steps that\n",
    "    the piece will move\n",
    "    (0,1,2,3,4,5,6,7)\n",
    "    \n",
    "    hence 56 planes for queen moves\n",
    "    \n",
    "    the next 8 planes are for knight moves,\n",
    "    \n",
    "    each of the knight plane will correspond to a Knight move\n",
    "    \n",
    "    '''\n",
    "    move_values = {}\n",
    "    board_mapping = {\n",
    "        \"a\":0,\n",
    "        \"b\":1,\n",
    "        \"c\":2,\n",
    "        \"d\":3,\n",
    "        \"e\":4,\n",
    "        \"f\":5,\n",
    "        \"g\":6,\n",
    "        \"h\":7,\n",
    "        \"1\":0,\n",
    "        \"2\":1,\n",
    "        \"3\":2,\n",
    "        \"4\":3,\n",
    "        \"5\":4,\n",
    "        \"6\":5,\n",
    "        \"7\":6,\n",
    "        \"8\":7,\n",
    "    }\n",
    "    for i in legal_moves:\n",
    "        temp_str = str(i)\n",
    "        x1 = board_mapping[str(temp_str[0])]\n",
    "        y1 = board_mapping[str(temp_str[1])]\n",
    "        x2 = board_mapping[str(temp_str[2])]\n",
    "        y2 = board_mapping[str(temp_str[3])]\n",
    "        \n",
    "        # ADD KNIGHT LOGIC FIRST\n",
    "        knight_plane = knight_moves(x1,y1,x2,y2)\n",
    "        if knight_plane !=0:\n",
    "            move_values[temp_str] = [nn_out[x1][y1][knight_plane],(x1,y1,knight_plane)]\n",
    "        else:\n",
    "            # IF NOT KNIGHT MOVE THEN\n",
    "            plane,dist = get_direction(x1,y1,x2,y2)\n",
    "            final_plane = plane + dist\n",
    "            move_values[temp_str] = [nn_out[x1][y1][final_plane],(x1,y1,final_plane)]\n",
    "    return move_values\n",
    "def policy(move_dict,eps,turn):\n",
    "    if np.random.rand() <= eps:  \n",
    "        return random.choice(list(move_dict.keys()))\n",
    "    # best move for white\n",
    "    elif turn == True:\n",
    "        action = max(move_dict,key = move_dict.get)\n",
    "        return action\n",
    "    # best move for black\n",
    "    else:\n",
    "        action = min(move_dict,key = move_dict.get)\n",
    "        return action"
   ]
  },
  {
   "cell_type": "code",
   "execution_count": 9,
   "metadata": {},
   "outputs": [],
   "source": [
    "temp_out = model_1.predict(temp_encode)"
   ]
  },
  {
   "cell_type": "code",
   "execution_count": 10,
   "metadata": {},
   "outputs": [
    {
     "data": {
      "text/plain": [
       "(4, 1, 2)"
      ]
     },
     "execution_count": 10,
     "metadata": {},
     "output_type": "execute_result"
    }
   ],
   "source": [
    "decode_specific_move(\"e2e4\")"
   ]
  },
  {
   "cell_type": "code",
   "execution_count": 11,
   "metadata": {},
   "outputs": [
    {
     "data": {
      "text/plain": [
       "(1, 8, 8, 12)"
      ]
     },
     "execution_count": 11,
     "metadata": {},
     "output_type": "execute_result"
    }
   ],
   "source": [
    "temp_encode.shape"
   ]
  },
  {
   "cell_type": "code",
   "execution_count": 12,
   "metadata": {
    "scrolled": true
   },
   "outputs": [
    {
     "name": "stdout",
     "output_type": "stream",
     "text": [
      "g1f3\n",
      "{'g1h3': [0.5001886, (6, 0, 58)], 'g1f3': [0.5008512, (6, 0, 57)], 'b1c3': [0.5005626, (1, 0, 58)], 'b1a3': [0.5003201, (1, 0, 57)], 'h2h3': [0.5000309, (7, 1, 1)], 'g2g3': [0.5001399, (6, 1, 1)], 'f2f3': [0.5000927, (5, 1, 1)], 'e2e3': [0.5006475, (4, 1, 1)], 'd2d3': [0.50002503, (3, 1, 1)], 'c2c3': [0.49992576, (2, 1, 1)], 'b2b3': [0.49996966, (1, 1, 1)], 'a2a3': [0.49971575, (0, 1, 1)], 'h2h4': [0.5003801, (7, 1, 2)], 'g2g4': [0.5004841, (6, 1, 2)], 'f2f4': [0.49991295, (5, 1, 2)], 'e2e4': [0.49979472, (4, 1, 2)], 'd2d4': [0.49992776, (3, 1, 2)], 'c2c4': [0.49966356, (2, 1, 2)], 'b2b4': [0.49942294, (1, 1, 2)], 'a2a4': [0.49952796, (0, 1, 2)]}\n"
     ]
    }
   ],
   "source": [
    "leg = list(b.legal_moves)\n",
    "decoded = decode(temp_out[0],leg)\n",
    "print(max(decoded,key = decoded.get))\n",
    "print(decoded)"
   ]
  },
  {
   "cell_type": "code",
   "execution_count": null,
   "metadata": {},
   "outputs": [],
   "source": []
  },
  {
   "cell_type": "code",
   "execution_count": 13,
   "metadata": {},
   "outputs": [
    {
     "data": {
      "text/plain": [
       "'c2c3'"
      ]
     },
     "execution_count": 13,
     "metadata": {},
     "output_type": "execute_result"
    }
   ],
   "source": [
    "random.choice(list(decoded.keys()))"
   ]
  },
  {
   "cell_type": "code",
   "execution_count": 14,
   "metadata": {},
   "outputs": [],
   "source": [
    "optimizer = tf.keras.optimizers.Adam(learning_rate = 1e-4)"
   ]
  },
  {
   "cell_type": "code",
   "execution_count": 15,
   "metadata": {},
   "outputs": [],
   "source": [
    "#@tf.function\n",
    "def create_y_true(current_q,current_r,lamb):\n",
    "    return tf.math.multiply(current_q,lamb) + current_r\n",
    "#@tf.function\n",
    "def custom_loss(y_true,y_pred):\n",
    "    return tf.keras.losses.MSE(y_true,y_pred)\n",
    "def update_target_network():\n",
    "    model_2.set_weights(model_1.get_weights())"
   ]
  },
  {
   "cell_type": "code",
   "execution_count": 16,
   "metadata": {},
   "outputs": [],
   "source": [
    "#@tf.function\n",
    "\n",
    "def train_step_keras(model_1,model_2,gamma,batch_size,epsilon):\n",
    "    #decaying the exploration\n",
    "    if epsilon['epsilon'] > epsilon['epsilon_min']:\n",
    "         epsilon['epsilon'] =  epsilon['epsilon'] * epsilon['epsilon_decay']\n",
    "    \n",
    "    batch = random.sample(replay,batch_size)\n",
    "    batch_reward = []\n",
    "    batch_action = []\n",
    "    batch_done = []\n",
    "    batch_next_legal = []\n",
    "    \n",
    "    batch_current_state = np.zeros((batch_size, 8, 8, 12))\n",
    "    batch_next_state = np.zeros((batch_size, 8, 8, 12))\n",
    "    \n",
    "    for i in range(batch_size):\n",
    "        batch_reward.append(batch[i][2])\n",
    "        batch_action.append(batch[i][1])\n",
    "        batch_current_state[i] = batch[i][0]\n",
    "        batch_next_state[i] = batch[i][3]\n",
    "        batch_next_legal.append(batch[i][4])\n",
    "        \n",
    "     #lets calculate the next state value as the current value will be calculated in \n",
    "    # in gradient tape\n",
    "    # also we need to form the target\n",
    "    \n",
    "    next_q = model_2.predict(batch_next_state)\n",
    "\n",
    "    target = []\n",
    "    for c,i in enumerate(next_q):\n",
    "        move_dict = decode(i,curr_legal_moves)\n",
    "        action = max(move_dict,key = move_dict.get)\n",
    "        temp = move_dict[action][0]*gamma + batch_reward[c]\n",
    "        target.append(temp)\n",
    "        \n",
    "    with tf.GradientTape() as tape:\n",
    "        # logits is the forward pass\n",
    "        logits = model_1(batch_current_state, training=True)\n",
    "        \n",
    "        q_target = np.array(logits)\n",
    "        \n",
    "        # VERY IMPORTANT NOTE, IF THE EPISODE ENDS THE DONE VALUE BECOMES TRUE\n",
    "        # IT IS VERY IMPORTANT THAT THE NN UPDATES TOWARDS THIS TRUE VALUE RATHER THAN\n",
    "        # ITS OWN THINKING VALUE (r + gamma*max(action)) THAT WE USE FOR ALL\n",
    "        # NON TERMINAL REWARDS \n",
    "        # THIS MAKES OR BREAKS THE NETWORK VERY VERY IMPORTANT\n",
    "        for i in range(batch_size):\n",
    "            nn_move_location = decode_specific_move(batch_action[i])\n",
    "            q_target[i][nn_move_location] = target[i]\n",
    "        \n",
    "        # calculating the loss\n",
    "        loss_value = custom_loss(q_target,logits)\n",
    "    \n",
    "    #we retrieve the gradients\n",
    "    grads = tape.gradient(loss_value, model_1.trainable_weights)\n",
    "    \n",
    "    #THIS IS ONE STEP OF GRAD DESCENT (Minimizes the loss)\n",
    "    optimizer.apply_gradients(zip(grads, model_1.trainable_weights))\n"
   ]
  },
  {
   "cell_type": "code",
   "execution_count": null,
   "metadata": {
    "scrolled": true
   },
   "outputs": [],
   "source": []
  },
  {
   "cell_type": "code",
   "execution_count": 17,
   "metadata": {},
   "outputs": [
    {
     "data": {
      "text/plain": [
       "True"
      ]
     },
     "execution_count": 17,
     "metadata": {},
     "output_type": "execute_result"
    }
   ],
   "source": [
    "b.turn"
   ]
  },
  {
   "cell_type": "code",
   "execution_count": null,
   "metadata": {},
   "outputs": [],
   "source": [
    "\n",
    "\n"
   ]
  },
  {
   "cell_type": "code",
   "execution_count": 18,
   "metadata": {},
   "outputs": [],
   "source": [
    "#DEFINING THE CONSTANTS\n",
    "moves = 0\n",
    "# lets build some memory into the model to perform decorrelated batch updates\n",
    "# this is TD learning\n",
    "\n",
    "# so apparantly the NN has to be adjusted only according to the action taken by it\n",
    "# for example if action 2 is taken then only the weights for action 2 should be changed\n",
    "# for this reason we should only update the q_2 vector with regarding the chosen action\n",
    "# rewards will also be added to that action only\n",
    "# q_2 is what we thought the value of the state will be after doing action\n",
    "# we also add the reward and make this the target for the NN\n",
    "\n",
    "replay = deque(maxlen = 3000)\n",
    "gamma = 0.99\n",
    "warmup = 5 #will start training after these many episodes have passed\n",
    "batch_size = 64\n",
    "# to balance exploration\n",
    "epsilon = {\n",
    "\"epsilon\" : 1.0,\n",
    "\"epsilon_decay\": 0.999,\n",
    "\"epsilon_min\":0.01,\n",
    "}"
   ]
  },
  {
   "cell_type": "code",
   "execution_count": 22,
   "metadata": {
    "scrolled": true
   },
   "outputs": [
    {
     "name": "stderr",
     "output_type": "stream",
     "text": [
      "  1%|          | 1/100 [00:00<01:21,  1.22it/s]"
     ]
    },
    {
     "name": "stdout",
     "output_type": "stream",
     "text": [
      "1/2-1/2\n"
     ]
    },
    {
     "name": "stderr",
     "output_type": "stream",
     "text": [
      "\r",
      "  2%|▏         | 2/100 [00:01<01:20,  1.22it/s]"
     ]
    },
    {
     "name": "stdout",
     "output_type": "stream",
     "text": [
      "1/2-1/2\n"
     ]
    },
    {
     "name": "stderr",
     "output_type": "stream",
     "text": [
      "\r",
      "  3%|▎         | 3/100 [00:02<01:17,  1.25it/s]"
     ]
    },
    {
     "name": "stdout",
     "output_type": "stream",
     "text": [
      "1/2-1/2\n"
     ]
    },
    {
     "name": "stderr",
     "output_type": "stream",
     "text": [
      "\r",
      "  4%|▍         | 4/100 [00:03<01:17,  1.24it/s]"
     ]
    },
    {
     "name": "stdout",
     "output_type": "stream",
     "text": [
      "1/2-1/2\n"
     ]
    },
    {
     "name": "stderr",
     "output_type": "stream",
     "text": [
      "\r",
      "  5%|▌         | 5/100 [00:04<01:19,  1.19it/s]"
     ]
    },
    {
     "name": "stdout",
     "output_type": "stream",
     "text": [
      "1/2-1/2\n"
     ]
    },
    {
     "name": "stderr",
     "output_type": "stream",
     "text": [
      "\r",
      "  6%|▌         | 6/100 [00:04<01:18,  1.20it/s]"
     ]
    },
    {
     "name": "stdout",
     "output_type": "stream",
     "text": [
      "1/2-1/2\n"
     ]
    },
    {
     "name": "stderr",
     "output_type": "stream",
     "text": [
      "\r",
      "  7%|▋         | 7/100 [00:16<06:18,  4.07s/it]"
     ]
    },
    {
     "name": "stdout",
     "output_type": "stream",
     "text": [
      "1/2-1/2\n"
     ]
    },
    {
     "name": "stderr",
     "output_type": "stream",
     "text": [
      "\r",
      "  8%|▊         | 8/100 [00:38<14:38,  9.55s/it]"
     ]
    },
    {
     "name": "stdout",
     "output_type": "stream",
     "text": [
      "1/2-1/2\n"
     ]
    },
    {
     "name": "stderr",
     "output_type": "stream",
     "text": [
      "\r",
      "  9%|▉         | 9/100 [01:01<20:30, 13.53s/it]"
     ]
    },
    {
     "name": "stdout",
     "output_type": "stream",
     "text": [
      "1/2-1/2\n"
     ]
    },
    {
     "name": "stderr",
     "output_type": "stream",
     "text": [
      "\r",
      " 10%|█         | 10/100 [01:03<14:47,  9.86s/it]"
     ]
    },
    {
     "name": "stdout",
     "output_type": "stream",
     "text": [
      "1-0\n"
     ]
    },
    {
     "name": "stderr",
     "output_type": "stream",
     "text": [
      "\r",
      " 11%|█         | 11/100 [01:04<10:47,  7.28s/it]"
     ]
    },
    {
     "name": "stdout",
     "output_type": "stream",
     "text": [
      "1-0\n"
     ]
    },
    {
     "name": "stderr",
     "output_type": "stream",
     "text": [
      "\r",
      " 12%|█▏        | 12/100 [01:14<12:10,  8.30s/it]"
     ]
    },
    {
     "name": "stdout",
     "output_type": "stream",
     "text": [
      "1/2-1/2\n"
     ]
    },
    {
     "name": "stderr",
     "output_type": "stream",
     "text": [
      "\r",
      " 13%|█▎        | 13/100 [01:48<23:05, 15.93s/it]"
     ]
    },
    {
     "name": "stdout",
     "output_type": "stream",
     "text": [
      "1/2-1/2\n"
     ]
    },
    {
     "name": "stderr",
     "output_type": "stream",
     "text": [
      "\r",
      " 14%|█▍        | 14/100 [01:49<16:29, 11.51s/it]"
     ]
    },
    {
     "name": "stdout",
     "output_type": "stream",
     "text": [
      "1-0\n"
     ]
    },
    {
     "name": "stderr",
     "output_type": "stream",
     "text": [
      "\r",
      " 15%|█▌        | 15/100 [01:51<11:53,  8.40s/it]"
     ]
    },
    {
     "name": "stdout",
     "output_type": "stream",
     "text": [
      "1-0\n"
     ]
    },
    {
     "name": "stderr",
     "output_type": "stream",
     "text": [
      "\r",
      " 16%|█▌        | 16/100 [01:52<08:41,  6.21s/it]"
     ]
    },
    {
     "name": "stdout",
     "output_type": "stream",
     "text": [
      "1-0\n"
     ]
    },
    {
     "name": "stderr",
     "output_type": "stream",
     "text": [
      "\r",
      " 17%|█▋        | 17/100 [02:04<11:10,  8.07s/it]"
     ]
    },
    {
     "name": "stdout",
     "output_type": "stream",
     "text": [
      "1/2-1/2\n"
     ]
    },
    {
     "name": "stderr",
     "output_type": "stream",
     "text": [
      "\r",
      " 18%|█▊        | 18/100 [02:14<11:36,  8.50s/it]"
     ]
    },
    {
     "name": "stdout",
     "output_type": "stream",
     "text": [
      "1/2-1/2\n"
     ]
    },
    {
     "name": "stderr",
     "output_type": "stream",
     "text": [
      "\r",
      " 19%|█▉        | 19/100 [02:35<16:38, 12.33s/it]"
     ]
    },
    {
     "name": "stdout",
     "output_type": "stream",
     "text": [
      "1/2-1/2\n"
     ]
    },
    {
     "name": "stderr",
     "output_type": "stream",
     "text": [
      "\r",
      " 20%|██        | 20/100 [03:03<22:42, 17.03s/it]"
     ]
    },
    {
     "name": "stdout",
     "output_type": "stream",
     "text": [
      "1/2-1/2\n"
     ]
    },
    {
     "name": "stderr",
     "output_type": "stream",
     "text": [
      "\r",
      " 21%|██        | 21/100 [03:22<23:06, 17.56s/it]"
     ]
    },
    {
     "name": "stdout",
     "output_type": "stream",
     "text": [
      "1/2-1/2\n"
     ]
    },
    {
     "name": "stderr",
     "output_type": "stream",
     "text": [
      "\r",
      " 22%|██▏       | 22/100 [03:41<23:41, 18.22s/it]"
     ]
    },
    {
     "name": "stdout",
     "output_type": "stream",
     "text": [
      "1/2-1/2\n"
     ]
    },
    {
     "name": "stderr",
     "output_type": "stream",
     "text": [
      "\r",
      " 23%|██▎       | 23/100 [03:54<21:06, 16.45s/it]"
     ]
    },
    {
     "name": "stdout",
     "output_type": "stream",
     "text": [
      "1/2-1/2\n"
     ]
    },
    {
     "name": "stderr",
     "output_type": "stream",
     "text": [
      "\r",
      " 24%|██▍       | 24/100 [04:19<24:20, 19.22s/it]"
     ]
    },
    {
     "name": "stdout",
     "output_type": "stream",
     "text": [
      "1/2-1/2\n"
     ]
    },
    {
     "name": "stderr",
     "output_type": "stream",
     "text": [
      "\r",
      " 25%|██▌       | 25/100 [04:40<24:40, 19.74s/it]"
     ]
    },
    {
     "name": "stdout",
     "output_type": "stream",
     "text": [
      "1/2-1/2\n"
     ]
    },
    {
     "name": "stderr",
     "output_type": "stream",
     "text": [
      "\r",
      " 26%|██▌       | 26/100 [05:16<30:16, 24.55s/it]"
     ]
    },
    {
     "name": "stdout",
     "output_type": "stream",
     "text": [
      "1/2-1/2\n"
     ]
    },
    {
     "name": "stderr",
     "output_type": "stream",
     "text": [
      "\r",
      " 27%|██▋       | 27/100 [05:26<24:39, 20.27s/it]"
     ]
    },
    {
     "name": "stdout",
     "output_type": "stream",
     "text": [
      "1/2-1/2\n"
     ]
    },
    {
     "name": "stderr",
     "output_type": "stream",
     "text": [
      "\r",
      " 28%|██▊       | 28/100 [05:45<23:53, 19.91s/it]"
     ]
    },
    {
     "name": "stdout",
     "output_type": "stream",
     "text": [
      "1/2-1/2\n"
     ]
    },
    {
     "name": "stderr",
     "output_type": "stream",
     "text": [
      "\r",
      " 29%|██▉       | 29/100 [05:55<19:53, 16.81s/it]"
     ]
    },
    {
     "name": "stdout",
     "output_type": "stream",
     "text": [
      "1/2-1/2\n"
     ]
    },
    {
     "name": "stderr",
     "output_type": "stream",
     "text": [
      "\r",
      " 30%|███       | 30/100 [06:14<20:28, 17.56s/it]"
     ]
    },
    {
     "name": "stdout",
     "output_type": "stream",
     "text": [
      "1/2-1/2\n"
     ]
    },
    {
     "name": "stderr",
     "output_type": "stream",
     "text": [
      "\r",
      " 31%|███       | 31/100 [06:15<14:18, 12.44s/it]"
     ]
    },
    {
     "name": "stdout",
     "output_type": "stream",
     "text": [
      "1-0\n"
     ]
    },
    {
     "name": "stderr",
     "output_type": "stream",
     "text": [
      "\r",
      " 32%|███▏      | 32/100 [06:49<21:19, 18.82s/it]"
     ]
    },
    {
     "name": "stdout",
     "output_type": "stream",
     "text": [
      "1/2-1/2\n"
     ]
    },
    {
     "name": "stderr",
     "output_type": "stream",
     "text": [
      "\r",
      " 33%|███▎      | 33/100 [07:09<21:43, 19.45s/it]"
     ]
    },
    {
     "name": "stdout",
     "output_type": "stream",
     "text": [
      "1/2-1/2\n"
     ]
    },
    {
     "name": "stderr",
     "output_type": "stream",
     "text": [
      "\r",
      " 34%|███▍      | 34/100 [07:30<21:42, 19.74s/it]"
     ]
    },
    {
     "name": "stdout",
     "output_type": "stream",
     "text": [
      "1/2-1/2\n"
     ]
    },
    {
     "name": "stderr",
     "output_type": "stream",
     "text": [
      "\r",
      " 35%|███▌      | 35/100 [07:34<16:15, 15.00s/it]"
     ]
    },
    {
     "name": "stdout",
     "output_type": "stream",
     "text": [
      "1/2-1/2\n"
     ]
    },
    {
     "name": "stderr",
     "output_type": "stream",
     "text": [
      "\r",
      " 36%|███▌      | 36/100 [07:59<19:09, 17.96s/it]"
     ]
    },
    {
     "name": "stdout",
     "output_type": "stream",
     "text": [
      "1/2-1/2\n"
     ]
    },
    {
     "name": "stderr",
     "output_type": "stream",
     "text": [
      "\r",
      " 37%|███▋      | 37/100 [08:21<20:23, 19.42s/it]"
     ]
    },
    {
     "name": "stdout",
     "output_type": "stream",
     "text": [
      "0-1\n"
     ]
    },
    {
     "name": "stderr",
     "output_type": "stream",
     "text": [
      "\r",
      " 38%|███▊      | 38/100 [08:41<20:12, 19.56s/it]"
     ]
    },
    {
     "name": "stdout",
     "output_type": "stream",
     "text": [
      "1/2-1/2\n"
     ]
    },
    {
     "name": "stderr",
     "output_type": "stream",
     "text": [
      "\r",
      " 39%|███▉      | 39/100 [08:43<14:29, 14.26s/it]"
     ]
    },
    {
     "name": "stdout",
     "output_type": "stream",
     "text": [
      "1-0\n"
     ]
    },
    {
     "name": "stderr",
     "output_type": "stream",
     "text": [
      "\r",
      " 40%|████      | 40/100 [09:05<16:22, 16.37s/it]"
     ]
    },
    {
     "name": "stdout",
     "output_type": "stream",
     "text": [
      "1/2-1/2\n"
     ]
    },
    {
     "name": "stderr",
     "output_type": "stream",
     "text": [
      "\r",
      " 41%|████      | 41/100 [09:21<16:11, 16.47s/it]"
     ]
    },
    {
     "name": "stdout",
     "output_type": "stream",
     "text": [
      "1/2-1/2\n"
     ]
    },
    {
     "name": "stderr",
     "output_type": "stream",
     "text": [
      "\r",
      " 42%|████▏     | 42/100 [09:36<15:18, 15.83s/it]"
     ]
    },
    {
     "name": "stdout",
     "output_type": "stream",
     "text": [
      "1/2-1/2\n"
     ]
    },
    {
     "name": "stderr",
     "output_type": "stream",
     "text": [
      "\r",
      " 43%|████▎     | 43/100 [09:40<11:42, 12.33s/it]"
     ]
    },
    {
     "name": "stdout",
     "output_type": "stream",
     "text": [
      "1/2-1/2\n"
     ]
    },
    {
     "name": "stderr",
     "output_type": "stream",
     "text": [
      "\r",
      " 44%|████▍     | 44/100 [09:54<12:03, 12.92s/it]"
     ]
    },
    {
     "name": "stdout",
     "output_type": "stream",
     "text": [
      "1/2-1/2\n"
     ]
    },
    {
     "name": "stderr",
     "output_type": "stream",
     "text": [
      "\r",
      " 45%|████▌     | 45/100 [10:09<12:29, 13.63s/it]"
     ]
    },
    {
     "name": "stdout",
     "output_type": "stream",
     "text": [
      "1/2-1/2\n"
     ]
    },
    {
     "name": "stderr",
     "output_type": "stream",
     "text": [
      "\r",
      " 46%|████▌     | 46/100 [10:19<11:16, 12.54s/it]"
     ]
    },
    {
     "name": "stdout",
     "output_type": "stream",
     "text": [
      "1/2-1/2\n"
     ]
    },
    {
     "name": "stderr",
     "output_type": "stream",
     "text": [
      "\r",
      " 47%|████▋     | 47/100 [10:43<13:58, 15.82s/it]"
     ]
    },
    {
     "name": "stdout",
     "output_type": "stream",
     "text": [
      "1/2-1/2\n"
     ]
    },
    {
     "name": "stderr",
     "output_type": "stream",
     "text": [
      "\r",
      " 48%|████▊     | 48/100 [10:55<12:44, 14.70s/it]"
     ]
    },
    {
     "name": "stdout",
     "output_type": "stream",
     "text": [
      "1/2-1/2\n"
     ]
    },
    {
     "name": "stderr",
     "output_type": "stream",
     "text": [
      "\r",
      " 49%|████▉     | 49/100 [11:16<14:08, 16.64s/it]"
     ]
    },
    {
     "name": "stdout",
     "output_type": "stream",
     "text": [
      "1/2-1/2\n"
     ]
    },
    {
     "name": "stderr",
     "output_type": "stream",
     "text": [
      "\r",
      " 50%|█████     | 50/100 [11:45<16:59, 20.39s/it]"
     ]
    },
    {
     "name": "stdout",
     "output_type": "stream",
     "text": [
      "1/2-1/2\n"
     ]
    },
    {
     "name": "stderr",
     "output_type": "stream",
     "text": [
      "\r",
      " 51%|█████     | 51/100 [11:58<14:40, 17.97s/it]"
     ]
    },
    {
     "name": "stdout",
     "output_type": "stream",
     "text": [
      "1/2-1/2\n"
     ]
    },
    {
     "name": "stderr",
     "output_type": "stream",
     "text": [
      "\r",
      " 52%|█████▏    | 52/100 [12:16<14:25, 18.04s/it]"
     ]
    },
    {
     "name": "stdout",
     "output_type": "stream",
     "text": [
      "1/2-1/2\n"
     ]
    },
    {
     "name": "stderr",
     "output_type": "stream",
     "text": [
      "\r",
      " 53%|█████▎    | 53/100 [12:29<12:55, 16.50s/it]"
     ]
    },
    {
     "name": "stdout",
     "output_type": "stream",
     "text": [
      "1/2-1/2\n"
     ]
    },
    {
     "name": "stderr",
     "output_type": "stream",
     "text": [
      "\r",
      " 54%|█████▍    | 54/100 [12:30<09:15, 12.08s/it]"
     ]
    },
    {
     "name": "stdout",
     "output_type": "stream",
     "text": [
      "1-0\n"
     ]
    },
    {
     "name": "stderr",
     "output_type": "stream",
     "text": [
      "\r",
      " 55%|█████▌    | 55/100 [12:48<10:22, 13.83s/it]"
     ]
    },
    {
     "name": "stdout",
     "output_type": "stream",
     "text": [
      "1/2-1/2\n"
     ]
    },
    {
     "name": "stderr",
     "output_type": "stream",
     "text": [
      "\r",
      " 56%|█████▌    | 56/100 [12:59<09:31, 12.98s/it]"
     ]
    },
    {
     "name": "stdout",
     "output_type": "stream",
     "text": [
      "1/2-1/2\n"
     ]
    },
    {
     "name": "stderr",
     "output_type": "stream",
     "text": [
      "\r",
      " 57%|█████▋    | 57/100 [13:06<07:55, 11.05s/it]"
     ]
    },
    {
     "name": "stdout",
     "output_type": "stream",
     "text": [
      "1/2-1/2\n"
     ]
    },
    {
     "name": "stderr",
     "output_type": "stream",
     "text": [
      "\r",
      " 58%|█████▊    | 58/100 [13:12<06:36,  9.44s/it]"
     ]
    },
    {
     "name": "stdout",
     "output_type": "stream",
     "text": [
      "1/2-1/2\n"
     ]
    },
    {
     "name": "stderr",
     "output_type": "stream",
     "text": [
      "\r",
      " 59%|█████▉    | 59/100 [13:15<05:13,  7.65s/it]"
     ]
    },
    {
     "name": "stdout",
     "output_type": "stream",
     "text": [
      "1/2-1/2\n"
     ]
    },
    {
     "name": "stderr",
     "output_type": "stream",
     "text": [
      "\r",
      " 60%|██████    | 60/100 [13:21<04:51,  7.30s/it]"
     ]
    },
    {
     "name": "stdout",
     "output_type": "stream",
     "text": [
      "1/2-1/2\n"
     ]
    },
    {
     "name": "stderr",
     "output_type": "stream",
     "text": [
      "\r",
      " 61%|██████    | 61/100 [13:32<05:17,  8.15s/it]"
     ]
    },
    {
     "name": "stdout",
     "output_type": "stream",
     "text": [
      "1/2-1/2\n"
     ]
    },
    {
     "name": "stderr",
     "output_type": "stream",
     "text": [
      "\r",
      " 62%|██████▏   | 62/100 [13:48<06:38, 10.48s/it]"
     ]
    },
    {
     "name": "stdout",
     "output_type": "stream",
     "text": [
      "1/2-1/2\n"
     ]
    },
    {
     "name": "stderr",
     "output_type": "stream",
     "text": [
      "\r",
      " 63%|██████▎   | 63/100 [14:01<07:01, 11.40s/it]"
     ]
    },
    {
     "name": "stdout",
     "output_type": "stream",
     "text": [
      "1/2-1/2\n"
     ]
    },
    {
     "name": "stderr",
     "output_type": "stream",
     "text": [
      "\r",
      " 64%|██████▍   | 64/100 [14:05<05:29,  9.16s/it]"
     ]
    },
    {
     "name": "stdout",
     "output_type": "stream",
     "text": [
      "1/2-1/2\n"
     ]
    },
    {
     "name": "stderr",
     "output_type": "stream",
     "text": [
      "\r",
      " 65%|██████▌   | 65/100 [14:12<04:55,  8.44s/it]"
     ]
    },
    {
     "name": "stdout",
     "output_type": "stream",
     "text": [
      "1-0\n"
     ]
    },
    {
     "name": "stderr",
     "output_type": "stream",
     "text": [
      "\r",
      " 66%|██████▌   | 66/100 [14:20<04:42,  8.31s/it]"
     ]
    },
    {
     "name": "stdout",
     "output_type": "stream",
     "text": [
      "1/2-1/2\n"
     ]
    },
    {
     "name": "stderr",
     "output_type": "stream",
     "text": [
      "\r",
      " 67%|██████▋   | 67/100 [14:33<05:25,  9.87s/it]"
     ]
    },
    {
     "name": "stdout",
     "output_type": "stream",
     "text": [
      "1/2-1/2\n"
     ]
    },
    {
     "name": "stderr",
     "output_type": "stream",
     "text": [
      "\r",
      " 68%|██████▊   | 68/100 [14:47<05:51, 10.99s/it]"
     ]
    },
    {
     "name": "stdout",
     "output_type": "stream",
     "text": [
      "1/2-1/2\n"
     ]
    },
    {
     "name": "stderr",
     "output_type": "stream",
     "text": [
      "\r",
      " 69%|██████▉   | 69/100 [14:57<05:33, 10.76s/it]"
     ]
    },
    {
     "name": "stdout",
     "output_type": "stream",
     "text": [
      "1/2-1/2\n"
     ]
    },
    {
     "name": "stderr",
     "output_type": "stream",
     "text": [
      "\r",
      " 70%|███████   | 70/100 [15:06<05:04, 10.15s/it]"
     ]
    },
    {
     "name": "stdout",
     "output_type": "stream",
     "text": [
      "1/2-1/2\n"
     ]
    },
    {
     "name": "stderr",
     "output_type": "stream",
     "text": [
      "\r",
      " 71%|███████   | 71/100 [15:32<07:10, 14.85s/it]"
     ]
    },
    {
     "name": "stdout",
     "output_type": "stream",
     "text": [
      "1/2-1/2\n"
     ]
    },
    {
     "name": "stderr",
     "output_type": "stream",
     "text": [
      "\r",
      " 72%|███████▏  | 72/100 [15:42<06:15, 13.41s/it]"
     ]
    },
    {
     "name": "stdout",
     "output_type": "stream",
     "text": [
      "1/2-1/2\n"
     ]
    },
    {
     "name": "stderr",
     "output_type": "stream",
     "text": [
      "\r",
      " 73%|███████▎  | 73/100 [15:49<05:14, 11.66s/it]"
     ]
    },
    {
     "name": "stdout",
     "output_type": "stream",
     "text": [
      "1/2-1/2\n"
     ]
    },
    {
     "name": "stderr",
     "output_type": "stream",
     "text": [
      "\r",
      " 74%|███████▍  | 74/100 [16:10<06:11, 14.30s/it]"
     ]
    },
    {
     "name": "stdout",
     "output_type": "stream",
     "text": [
      "1/2-1/2\n"
     ]
    },
    {
     "name": "stderr",
     "output_type": "stream",
     "text": [
      "\r",
      " 75%|███████▌  | 75/100 [16:33<07:03, 16.92s/it]"
     ]
    },
    {
     "name": "stdout",
     "output_type": "stream",
     "text": [
      "1/2-1/2\n"
     ]
    },
    {
     "name": "stderr",
     "output_type": "stream",
     "text": [
      "\r",
      " 76%|███████▌  | 76/100 [16:43<05:59, 14.96s/it]"
     ]
    },
    {
     "name": "stdout",
     "output_type": "stream",
     "text": [
      "1/2-1/2\n"
     ]
    },
    {
     "name": "stderr",
     "output_type": "stream",
     "text": [
      "\r",
      " 77%|███████▋  | 77/100 [17:06<06:39, 17.36s/it]"
     ]
    },
    {
     "name": "stdout",
     "output_type": "stream",
     "text": [
      "1/2-1/2\n"
     ]
    },
    {
     "name": "stderr",
     "output_type": "stream",
     "text": [
      "\r",
      " 78%|███████▊  | 78/100 [17:25<06:31, 17.81s/it]"
     ]
    },
    {
     "name": "stdout",
     "output_type": "stream",
     "text": [
      "1/2-1/2\n"
     ]
    },
    {
     "name": "stderr",
     "output_type": "stream",
     "text": [
      "\r",
      " 79%|███████▉  | 79/100 [17:44<06:19, 18.07s/it]"
     ]
    },
    {
     "name": "stdout",
     "output_type": "stream",
     "text": [
      "1/2-1/2\n"
     ]
    },
    {
     "name": "stderr",
     "output_type": "stream",
     "text": [
      "\r",
      " 80%|████████  | 80/100 [18:03<06:06, 18.33s/it]"
     ]
    },
    {
     "name": "stdout",
     "output_type": "stream",
     "text": [
      "0-1\n"
     ]
    },
    {
     "name": "stderr",
     "output_type": "stream",
     "text": [
      "\r",
      " 81%|████████  | 81/100 [18:19<05:35, 17.68s/it]"
     ]
    },
    {
     "name": "stdout",
     "output_type": "stream",
     "text": [
      "1/2-1/2\n"
     ]
    },
    {
     "name": "stderr",
     "output_type": "stream",
     "text": [
      "\r",
      " 82%|████████▏ | 82/100 [18:31<04:48, 16.05s/it]"
     ]
    },
    {
     "name": "stdout",
     "output_type": "stream",
     "text": [
      "1/2-1/2\n"
     ]
    },
    {
     "name": "stderr",
     "output_type": "stream",
     "text": [
      "\r",
      " 83%|████████▎ | 83/100 [18:45<04:22, 15.47s/it]"
     ]
    },
    {
     "name": "stdout",
     "output_type": "stream",
     "text": [
      "1/2-1/2\n"
     ]
    },
    {
     "name": "stderr",
     "output_type": "stream",
     "text": [
      "\r",
      " 84%|████████▍ | 84/100 [18:58<03:55, 14.74s/it]"
     ]
    },
    {
     "name": "stdout",
     "output_type": "stream",
     "text": [
      "1/2-1/2\n"
     ]
    },
    {
     "name": "stderr",
     "output_type": "stream",
     "text": [
      "\r",
      " 85%|████████▌ | 85/100 [19:16<03:55, 15.71s/it]"
     ]
    },
    {
     "name": "stdout",
     "output_type": "stream",
     "text": [
      "1/2-1/2\n"
     ]
    },
    {
     "name": "stderr",
     "output_type": "stream",
     "text": [
      "\r",
      " 86%|████████▌ | 86/100 [19:23<03:01, 12.93s/it]"
     ]
    },
    {
     "name": "stdout",
     "output_type": "stream",
     "text": [
      "1-0\n"
     ]
    },
    {
     "name": "stderr",
     "output_type": "stream",
     "text": [
      "\r",
      " 87%|████████▋ | 87/100 [19:33<02:38, 12.22s/it]"
     ]
    },
    {
     "name": "stdout",
     "output_type": "stream",
     "text": [
      "1/2-1/2\n"
     ]
    },
    {
     "name": "stderr",
     "output_type": "stream",
     "text": [
      "\r",
      " 88%|████████▊ | 88/100 [19:46<02:30, 12.55s/it]"
     ]
    },
    {
     "name": "stdout",
     "output_type": "stream",
     "text": [
      "1/2-1/2\n"
     ]
    },
    {
     "name": "stderr",
     "output_type": "stream",
     "text": [
      "\r",
      " 89%|████████▉ | 89/100 [19:59<02:16, 12.45s/it]"
     ]
    },
    {
     "name": "stdout",
     "output_type": "stream",
     "text": [
      "1/2-1/2\n"
     ]
    },
    {
     "name": "stderr",
     "output_type": "stream",
     "text": [
      "\r",
      " 90%|█████████ | 90/100 [20:17<02:23, 14.33s/it]"
     ]
    },
    {
     "name": "stdout",
     "output_type": "stream",
     "text": [
      "1/2-1/2\n"
     ]
    },
    {
     "name": "stderr",
     "output_type": "stream",
     "text": [
      "\r",
      " 91%|█████████ | 91/100 [20:29<02:00, 13.44s/it]"
     ]
    },
    {
     "name": "stdout",
     "output_type": "stream",
     "text": [
      "1/2-1/2\n"
     ]
    },
    {
     "name": "stderr",
     "output_type": "stream",
     "text": [
      "\r",
      " 92%|█████████▏| 92/100 [20:33<01:24, 10.62s/it]"
     ]
    },
    {
     "name": "stdout",
     "output_type": "stream",
     "text": [
      "1/2-1/2\n"
     ]
    },
    {
     "name": "stderr",
     "output_type": "stream",
     "text": [
      "\r",
      " 93%|█████████▎| 93/100 [21:01<01:51, 15.92s/it]"
     ]
    },
    {
     "name": "stdout",
     "output_type": "stream",
     "text": [
      "1/2-1/2\n"
     ]
    },
    {
     "name": "stderr",
     "output_type": "stream",
     "text": [
      "\r",
      " 94%|█████████▍| 94/100 [21:17<01:34, 15.79s/it]"
     ]
    },
    {
     "name": "stdout",
     "output_type": "stream",
     "text": [
      "1/2-1/2\n"
     ]
    },
    {
     "name": "stderr",
     "output_type": "stream",
     "text": [
      "\r",
      " 95%|█████████▌| 95/100 [21:34<01:21, 16.39s/it]"
     ]
    },
    {
     "name": "stdout",
     "output_type": "stream",
     "text": [
      "1/2-1/2\n"
     ]
    },
    {
     "name": "stderr",
     "output_type": "stream",
     "text": [
      "\r",
      " 96%|█████████▌| 96/100 [22:03<01:20, 20.16s/it]"
     ]
    },
    {
     "name": "stdout",
     "output_type": "stream",
     "text": [
      "1/2-1/2\n"
     ]
    },
    {
     "name": "stderr",
     "output_type": "stream",
     "text": [
      "\r",
      " 97%|█████████▋| 97/100 [22:07<00:45, 15.27s/it]"
     ]
    },
    {
     "name": "stdout",
     "output_type": "stream",
     "text": [
      "1/2-1/2\n"
     ]
    },
    {
     "name": "stderr",
     "output_type": "stream",
     "text": [
      "\r",
      " 98%|█████████▊| 98/100 [22:24<00:31, 15.88s/it]"
     ]
    },
    {
     "name": "stdout",
     "output_type": "stream",
     "text": [
      "1/2-1/2\n"
     ]
    },
    {
     "name": "stderr",
     "output_type": "stream",
     "text": [
      "\r",
      " 99%|█████████▉| 99/100 [22:28<00:12, 12.23s/it]"
     ]
    },
    {
     "name": "stdout",
     "output_type": "stream",
     "text": [
      "1/2-1/2\n"
     ]
    },
    {
     "name": "stderr",
     "output_type": "stream",
     "text": [
      "100%|██████████| 100/100 [22:48<00:00, 13.68s/it]"
     ]
    },
    {
     "name": "stdout",
     "output_type": "stream",
     "text": [
      "1/2-1/2\n"
     ]
    },
    {
     "name": "stderr",
     "output_type": "stream",
     "text": [
      "\n"
     ]
    }
   ],
   "source": [
    "# SELF PLAY\n",
    "#%%time\n",
    "#%%svg\n",
    "\n",
    "def calculate_reward(board):\n",
    "    if board.result() == \"*\":\n",
    "        return 0\n",
    "    elif board.result() == \"0-1\":\n",
    "        return -1\n",
    "    elif board.result() == \"1-0\":\n",
    "        return 1\n",
    "    elif board.result() == \"1/2-1/2\":\n",
    "        return 0.5\n",
    "update_target_network()\n",
    "    \n",
    "    \n",
    "for i in tqdm(range(100)):\n",
    "    board = chess.Board()\n",
    "    done = False\n",
    "    while not done:\n",
    "        current_encoded_state = encode(board)\n",
    "        \n",
    "        # this is the current prediction for the current situation\n",
    "        nn_out = model_1.predict(current_encoded_state)\n",
    "        curr_legal_moves = list(board.legal_moves)\n",
    "        \n",
    "        decoded_moves = decode(nn_out[0],curr_legal_moves)\n",
    "        \n",
    "        #Epsilon greedy policy\n",
    "        action = policy(decoded_moves,epsilon['epsilon'],board.turn)\n",
    "\n",
    "        board.push(Move.from_uci(action))\n",
    "        # calculating reward from the current board position\n",
    "        reward = calculate_reward(board)\n",
    "        \n",
    "        #this is the new state\n",
    "        new_state_encoded = encode(board)\n",
    "        new_state_legal_moves = list(board.legal_moves)\n",
    "        # we can only record or make action replay for all white moves\n",
    "        # or moves that we want to maximize on as black automatically gets better\n",
    "        # when white gets better\n",
    "        \n",
    "        if board.turn == True:\n",
    "            replay.append((current_encoded_state,action,reward,new_state_encoded,new_state_legal_moves,i))\n",
    "            \n",
    "        if i>warmup:\n",
    "            train_step_keras(model_1,model_2,gamma,batch_size,epsilon)\n",
    "        \n",
    "        moves = moves + 1\n",
    "        \n",
    "        if board.result() != \"*\":\n",
    "            print(board.result())\n",
    "            done = True\n",
    "            update_target_network()"
   ]
  },
  {
   "cell_type": "code",
   "execution_count": 21,
   "metadata": {},
   "outputs": [
    {
     "name": "stderr",
     "output_type": "stream",
     "text": [
      "\r",
      "  0%|          | 0/100 [00:00<?, ?it/s]"
     ]
    },
    {
     "name": "stdout",
     "output_type": "stream",
     "text": [
      "{'g1h3': [1.0, (6, 0, 58)], 'g1f3': [1.0, (6, 0, 57)], 'b1c3': [1.0, (1, 0, 58)], 'b1a3': [1.0, (1, 0, 57)], 'h2h3': [1.0, (7, 1, 1)], 'g2g3': [1.0, (6, 1, 1)], 'f2f3': [1.0, (5, 1, 1)], 'e2e3': [1.0, (4, 1, 1)], 'd2d3': [1.0, (3, 1, 1)], 'c2c3': [1.0, (2, 1, 1)], 'b2b3': [1.0, (1, 1, 1)], 'a2a3': [1.0, (0, 1, 1)], 'h2h4': [1.0, (7, 1, 2)], 'g2g4': [1.0, (6, 1, 2)], 'f2f4': [1.0, (5, 1, 2)], 'e2e4': [1.0, (4, 1, 2)], 'd2d4': [1.0, (3, 1, 2)], 'c2c4': [1.0, (2, 1, 2)], 'b2b4': [1.0, (1, 1, 2)], 'a2a4': [1.0, (0, 1, 2)]}\n",
      "{'g8h6': [1.0, (6, 7, 61)], 'g8f6': [1.0, (6, 7, 62)], 'b8c6': [1.0, (1, 7, 61)], 'b8a6': [1.0, (1, 7, 62)], 'h7h6': [1.0, (7, 6, 8)], 'g7g6': [1.0, (6, 6, 8)], 'f7f6': [1.0, (5, 6, 8)], 'e7e6': [1.0, (4, 6, 8)], 'd7d6': [1.0, (3, 6, 8)], 'c7c6': [1.0, (2, 6, 8)], 'b7b6': [1.0, (1, 6, 8)], 'a7a6': [1.0, (0, 6, 8)], 'h7h5': [1.0, (7, 6, 9)], 'g7g5': [1.0, (6, 6, 9)], 'f7f5': [1.0, (5, 6, 9)], 'e7e5': [1.0, (4, 6, 9)], 'd7d5': [1.0, (3, 6, 9)], 'c7c5': [1.0, (2, 6, 9)], 'b7b5': [1.0, (1, 6, 9)], 'a7a5': [1.0, (0, 6, 9)]}\n",
      "{'h1h3': [1.0, (7, 0, 2)], 'h1h2': [1.0, (7, 0, 1)], 'g1h3': [1.0, (6, 0, 58)], 'g1f3': [1.0, (6, 0, 57)], 'b1c3': [1.0, (1, 0, 58)], 'b1a3': [1.0, (1, 0, 57)], 'h4h5': [1.0, (7, 3, 1)], 'g2g3': [1.0, (6, 1, 1)], 'f2f3': [1.0, (5, 1, 1)], 'e2e3': [1.0, (4, 1, 1)], 'd2d3': [1.0, (3, 1, 1)], 'c2c3': [1.0, (2, 1, 1)], 'b2b3': [1.0, (1, 1, 1)], 'a2a3': [1.0, (0, 1, 1)], 'g2g4': [1.0, (6, 1, 2)], 'f2f4': [1.0, (5, 1, 2)], 'e2e4': [1.0, (4, 1, 2)], 'd2d4': [1.0, (3, 1, 2)], 'c2c4': [1.0, (2, 1, 2)], 'b2b4': [1.0, (1, 1, 2)], 'a2a4': [1.0, (0, 1, 2)]}\n",
      "{'g8h6': [1.0, (6, 7, 61)], 'g8f6': [1.0, (6, 7, 62)], 'b8c6': [1.0, (1, 7, 61)], 'a8a7': [1.0, (0, 7, 8)], 'h7h6': [1.0, (7, 6, 8)], 'g7g6': [1.0, (6, 6, 8)], 'f7f6': [1.0, (5, 6, 8)], 'e7e6': [1.0, (4, 6, 8)], 'd7d6': [1.0, (3, 6, 8)], 'c7c6': [1.0, (2, 6, 8)], 'b7b6': [1.0, (1, 6, 8)], 'a6a5': [1.0, (0, 5, 8)], 'g7g5': [1.0, (6, 6, 9)], 'f7f5': [1.0, (5, 6, 9)], 'e7e5': [1.0, (4, 6, 9)], 'd7d5': [1.0, (3, 6, 9)], 'c7c5': [1.0, (2, 6, 9)], 'b7b5': [1.0, (1, 6, 9)]}\n",
      "{'h1h4': [1.0, (7, 0, 3)], 'h1h3': [1.0, (7, 0, 2)], 'h1h2': [1.0, (7, 0, 1)], 'g1h3': [1.0, (6, 0, 58)], 'g1f3': [1.0, (6, 0, 57)], 'b1c3': [1.0, (1, 0, 58)], 'b1a3': [1.0, (1, 0, 57)], 'h5h6': [1.0, (7, 4, 1)], 'g2g3': [1.0, (6, 1, 1)], 'f2f3': [1.0, (5, 1, 1)], 'e2e3': [1.0, (4, 1, 1)], 'd2d3': [1.0, (3, 1, 1)], 'c2c3': [1.0, (2, 1, 1)], 'b2b3': [1.0, (1, 1, 1)], 'a2a3': [1.0, (0, 1, 1)], 'g2g4': [1.0, (6, 1, 2)], 'f2f4': [1.0, (5, 1, 2)], 'e2e4': [1.0, (4, 1, 2)], 'd2d4': [1.0, (3, 1, 2)], 'c2c4': [1.0, (2, 1, 2)], 'b2b4': [1.0, (1, 1, 2)], 'a2a4': [1.0, (0, 1, 2)]}\n",
      "{'g8h6': [1.0, (6, 7, 61)], 'g8f6': [1.0, (6, 7, 62)], 'b8c6': [1.0, (1, 7, 61)], 'b8a6': [1.0, (1, 7, 62)], 'a8a7': [1.0, (0, 7, 8)], 'a8a6': [1.0, (0, 7, 9)], 'g7h6': [1.0, (6, 6, 50)], 'g7g6': [1.0, (6, 6, 8)], 'f7f6': [1.0, (5, 6, 8)], 'e7e6': [1.0, (4, 6, 8)], 'd7d6': [1.0, (3, 6, 8)], 'c7c6': [1.0, (2, 6, 8)], 'b7b6': [1.0, (1, 6, 8)], 'a5a4': [1.0, (0, 4, 8)], 'g7g5': [1.0, (6, 6, 9)], 'f7f5': [1.0, (5, 6, 9)], 'e7e5': [1.0, (4, 6, 9)], 'd7d5': [1.0, (3, 6, 9)], 'c7c5': [1.0, (2, 6, 9)], 'b7b5': [1.0, (1, 6, 9)]}\n",
      "{'h1h5': [1.0, (7, 0, 4)], 'h1h4': [1.0, (7, 0, 3)], 'h1h3': [1.0, (7, 0, 2)], 'h1h2': [1.0, (7, 0, 1)], 'g1h3': [1.0, (6, 0, 58)], 'g1f3': [1.0, (6, 0, 57)], 'b1c3': [1.0, (1, 0, 58)], 'b1a3': [1.0, (1, 0, 57)], 'h6g7': [1.0, (7, 5, 36)], 'g2g3': [1.0, (6, 1, 1)], 'f2f3': [1.0, (5, 1, 1)], 'e2e3': [1.0, (4, 1, 1)], 'd2d3': [1.0, (3, 1, 1)], 'c2c3': [1.0, (2, 1, 1)], 'b2b3': [1.0, (1, 1, 1)], 'a2a3': [1.0, (0, 1, 1)], 'g2g4': [1.0, (6, 1, 2)], 'f2f4': [1.0, (5, 1, 2)], 'e2e4': [1.0, (4, 1, 2)], 'd2d4': [1.0, (3, 1, 2)], 'c2c4': [1.0, (2, 1, 2)], 'b2b4': [1.0, (1, 1, 2)]}\n",
      "{'g8h6': [1.0, (6, 7, 61)], 'g8f6': [1.0, (6, 7, 62)], 'f8g7': [1.0, (5, 7, 50)], 'b8c6': [1.0, (1, 7, 61)], 'b8a6': [1.0, (1, 7, 62)], 'a8a7': [1.0, (0, 7, 8)], 'a8a6': [1.0, (0, 7, 9)], 'a8a5': [1.0, (0, 7, 10)], 'h7h6': [1.0, (7, 6, 8)], 'f7f6': [1.0, (5, 6, 8)], 'e7e6': [1.0, (4, 6, 8)], 'd7d6': [1.0, (3, 6, 8)], 'c7c6': [1.0, (2, 6, 8)], 'b7b6': [1.0, (1, 6, 8)], 'a4a3': [1.0, (0, 3, 8)], 'h7h5': [1.0, (7, 6, 9)], 'f7f5': [1.0, (5, 6, 9)], 'e7e5': [1.0, (4, 6, 9)], 'd7d5': [1.0, (3, 6, 9)], 'c7c5': [1.0, (2, 6, 9)], 'b7b5': [1.0, (1, 6, 9)]}\n",
      "{'h1h7': [1.0, (7, 0, 6)], 'h1h6': [1.0, (7, 0, 5)], 'h1h5': [1.0, (7, 0, 4)], 'h1h4': [1.0, (7, 0, 3)], 'h1h3': [1.0, (7, 0, 2)], 'h1h2': [1.0, (7, 0, 1)], 'g1h3': [1.0, (6, 0, 58)], 'g1f3': [1.0, (6, 0, 57)], 'b1c3': [1.0, (1, 0, 58)], 'b1a3': [1.0, (1, 0, 57)], 'g7h8q': [1.0, (6, 6, 29)], 'g7h8r': [1.0, (6, 6, 29)], 'g7h8b': [1.0, (6, 6, 29)], 'g7h8n': [1.0, (6, 6, 29)], 'g7f8q': [1.0, (6, 6, 36)], 'g7f8r': [1.0, (6, 6, 36)], 'g7f8b': [1.0, (6, 6, 36)], 'g7f8n': [1.0, (6, 6, 36)], 'b2a3': [1.0, (1, 1, 36)], 'g2g3': [1.0, (6, 1, 1)], 'f2f3': [1.0, (5, 1, 1)], 'e2e3': [1.0, (4, 1, 1)], 'd2d3': [1.0, (3, 1, 1)], 'c2c3': [1.0, (2, 1, 1)], 'b2b3': [1.0, (1, 1, 1)], 'g2g4': [1.0, (6, 1, 2)], 'f2f4': [1.0, (5, 1, 2)], 'e2e4': [1.0, (4, 1, 2)], 'd2d4': [1.0, (3, 1, 2)], 'c2c4': [1.0, (2, 1, 2)], 'b2b4': [1.0, (1, 1, 2)]}\n",
      "{'h8h7': [1.0, (7, 7, 8)], 'g8h6': [0.99999714, (6, 7, 61)], 'g8f6': [0.99998647, (6, 7, 62)], 'f8g7': [0.99999917, (5, 7, 50)], 'b8c6': [0.99999994, (1, 7, 61)], 'b8a6': [0.9999877, (1, 7, 62)], 'a8a7': [1.0, (0, 7, 8)], 'a8a6': [1.0, (0, 7, 9)], 'a8a5': [0.99999994, (0, 7, 10)], 'a8a4': [1.0, (0, 7, 11)], 'a3b2': [1.0, (0, 2, 50)], 'f7f6': [1.0, (5, 6, 8)], 'e7e6': [1.0, (4, 6, 8)], 'd7d6': [1.0, (3, 6, 8)], 'c7c6': [1.0, (2, 6, 8)], 'b7b6': [1.0, (1, 6, 8)], 'f7f5': [1.0, (5, 6, 9)], 'e7e5': [1.0, (4, 6, 9)], 'd7d5': [1.0, (3, 6, 9)], 'c7c5': [1.0, (2, 6, 9)], 'b7b5': [1.0, (1, 6, 9)]}\n",
      "{'h7h8': [0.99990237, (7, 6, 1)], 'h7h6': [1.0, (7, 6, 8)], 'h7h5': [1.0, (7, 6, 9)], 'h7h4': [1.0, (7, 6, 10)], 'h7h3': [0.99999726, (7, 6, 11)], 'h7h2': [0.99999964, (7, 6, 12)], 'h7h1': [1.0, (7, 6, 13)], 'g1h3': [1.0, (6, 0, 58)], 'g1f3': [1.0, (6, 0, 57)], 'b1c3': [1.0, (1, 0, 58)], 'b1a3': [1.0, (1, 0, 57)], 'g7h8q': [0.9999888, (6, 6, 29)], 'g7h8r': [0.9999888, (6, 6, 29)], 'g7h8b': [0.9999888, (6, 6, 29)], 'g7h8n': [0.9999888, (6, 6, 29)], 'g7f8q': [0.9999998, (6, 6, 36)], 'g7f8r': [0.9999998, (6, 6, 36)], 'g7f8b': [0.9999998, (6, 6, 36)], 'g7f8n': [0.9999998, (6, 6, 36)], 'b2a3': [1.0, (1, 1, 36)], 'g7g8q': [0.9999914, (6, 6, 1)], 'g7g8r': [0.9999914, (6, 6, 1)], 'g7g8b': [0.9999914, (6, 6, 1)], 'g7g8n': [0.9999914, (6, 6, 1)], 'g2g3': [1.0, (6, 1, 1)], 'f2f3': [1.0, (5, 1, 1)], 'e2e3': [1.0, (4, 1, 1)], 'd2d3': [1.0, (3, 1, 1)], 'c2c3': [1.0, (2, 1, 1)], 'b2b3': [1.0, (1, 1, 1)], 'g2g4': [1.0, (6, 1, 2)], 'f2f4': [1.0, (5, 1, 2)], 'e2e4': [1.0, (4, 1, 2)], 'd2d4': [1.0, (3, 1, 2)], 'c2c4': [1.0, (2, 1, 2)], 'b2b4': [1.0, (1, 1, 2)]}\n",
      "{'h8g8': [1.0, (7, 7, 22)], 'h8h7': [1.0, (7, 7, 8)], 'h8h6': [1.0, (7, 7, 9)], 'h8h5': [1.0, (7, 7, 10)], 'h8h4': [1.0, (7, 7, 11)], 'h8h3': [1.0, (7, 7, 12)], 'h8h2': [1.0, (7, 7, 13)], 'h8h1': [1.0, (7, 7, 14)], 'f8g7': [1.0, (5, 7, 50)], 'b8c6': [1.0, (1, 7, 61)], 'b8a6': [1.0, (1, 7, 62)], 'a8a7': [1.0, (0, 7, 8)], 'a8a6': [1.0, (0, 7, 9)], 'a8a5': [1.0, (0, 7, 10)], 'a8a4': [1.0, (0, 7, 11)], 'f6g8': [1.0, (5, 5, 58)], 'f6h7': [1.0, (5, 5, 59)], 'f6h5': [1.0, (5, 5, 60)], 'f6d5': [1.0, (5, 5, 63)], 'f6g4': [1.0, (5, 5, 61)], 'f6e4': [1.0, (5, 5, 62)], 'a3b2': [1.0, (0, 2, 50)], 'e7e6': [1.0, (4, 6, 8)], 'd7d6': [1.0, (3, 6, 8)], 'c7c6': [1.0, (2, 6, 8)], 'b7b6': [1.0, (1, 6, 8)], 'e7e5': [1.0, (4, 6, 9)], 'd7d5': [1.0, (3, 6, 9)], 'c7c5': [1.0, (2, 6, 9)], 'b7b5': [1.0, (1, 6, 9)]}\n",
      "{'h1h8': [1.0, (7, 0, 7)], 'h1h7': [1.0, (7, 0, 6)], 'h1h6': [1.0, (7, 0, 5)], 'h1h5': [1.0, (7, 0, 4)], 'h1h4': [1.0, (7, 0, 3)], 'h1h3': [1.0, (7, 0, 2)], 'h1h2': [1.0, (7, 0, 1)], 'g1h3': [1.0, (6, 0, 58)], 'g1f3': [1.0, (6, 0, 57)], 'c1b2': [1.0, (2, 0, 36)], 'b1c3': [1.0, (1, 0, 58)], 'b1a3': [1.0, (1, 0, 57)], 'g7h8q': [1.0, (6, 6, 29)], 'g7h8r': [1.0, (6, 6, 29)], 'g7h8b': [1.0, (6, 6, 29)], 'g7h8n': [1.0, (6, 6, 29)], 'g7f8q': [1.0, (6, 6, 36)], 'g7f8r': [1.0, (6, 6, 36)], 'g7f8b': [1.0, (6, 6, 36)], 'g7f8n': [1.0, (6, 6, 36)], 'g7g8q': [1.0, (6, 6, 1)], 'g7g8r': [1.0, (6, 6, 1)], 'g7g8b': [1.0, (6, 6, 1)], 'g7g8n': [1.0, (6, 6, 1)], 'g2g3': [1.0, (6, 1, 1)], 'f2f3': [1.0, (5, 1, 1)], 'e2e3': [1.0, (4, 1, 1)], 'd2d3': [1.0, (3, 1, 1)], 'c2c3': [1.0, (2, 1, 1)], 'a2a3': [1.0, (0, 1, 1)], 'g2g4': [1.0, (6, 1, 2)], 'f2f4': [1.0, (5, 1, 2)], 'e2e4': [1.0, (4, 1, 2)], 'd2d4': [1.0, (3, 1, 2)], 'c2c4': [1.0, (2, 1, 2)], 'a2a4': [1.0, (0, 1, 2)]}\n",
      "{'b8c6': [0.9999999, (1, 7, 61)], 'b8a6': [0.99998283, (1, 7, 62)], 'a8a7': [0.9999999, (0, 7, 8)], 'a8a6': [1.0, (0, 7, 9)], 'a8a5': [0.99999976, (0, 7, 10)], 'a8a4': [1.0, (0, 7, 11)], 'a8a3': [0.99999654, (0, 7, 12)], 'a8a2': [0.9999913, (0, 7, 13)], 'f6g8': [1.0, (5, 5, 58)], 'f6h7': [1.0, (5, 5, 59)], 'f6h5': [1.0, (5, 5, 60)], 'f6d5': [0.9999999, (5, 5, 63)], 'f6g4': [1.0, (5, 5, 61)], 'f6e4': [1.0, (5, 5, 62)], 'b2c1q': [1.0, (1, 1, 50)], 'b2c1r': [1.0, (1, 1, 50)], 'b2c1b': [1.0, (1, 1, 50)], 'b2c1n': [1.0, (1, 1, 50)], 'b2a1q': [1.0, (1, 1, 43)], 'b2a1r': [1.0, (1, 1, 43)], 'b2a1b': [1.0, (1, 1, 43)], 'b2a1n': [1.0, (1, 1, 43)], 'e7e6': [1.0, (4, 6, 8)], 'd7d6': [1.0, (3, 6, 8)], 'c7c6': [1.0, (2, 6, 8)], 'b7b6': [1.0, (1, 6, 8)], 'e7e5': [1.0, (4, 6, 9)], 'd7d5': [1.0, (3, 6, 9)], 'c7c5': [1.0, (2, 6, 9)], 'b7b5': [1.0, (1, 6, 9)]}\n",
      "{'h8g8': [0.9983869, (7, 7, 22)], 'h8f8': [0.9992937, (7, 7, 23)], 'h8h7': [0.99988544, (7, 7, 8)], 'h8h6': [0.99683285, (7, 7, 9)], 'h8h5': [0.9982927, (7, 7, 10)], 'h8h4': [0.9982405, (7, 7, 11)], 'h8h3': [0.99679065, (7, 7, 12)], 'h8h2': [0.9981532, (7, 7, 13)], 'h8h1': [0.9947165, (7, 7, 14)], 'g1h3': [0.9986323, (6, 0, 58)], 'g1f3': [0.9999999, (6, 0, 57)], 'c1b2': [0.99999815, (2, 0, 36)], 'b1c3': [0.99999917, (1, 0, 58)], 'b1a3': [0.9999952, (1, 0, 57)], 'g7f8q': [0.9996377, (6, 6, 36)], 'g7f8r': [0.9996377, (6, 6, 36)], 'g7f8b': [0.9996377, (6, 6, 36)], 'g7f8n': [0.9996377, (6, 6, 36)], 'g7g8q': [0.99787354, (6, 6, 1)], 'g7g8r': [0.99787354, (6, 6, 1)], 'g7g8b': [0.99787354, (6, 6, 1)], 'g7g8n': [0.99787354, (6, 6, 1)], 'g2g3': [0.9999992, (6, 1, 1)], 'f2f3': [1.0, (5, 1, 1)], 'e2e3': [1.0, (4, 1, 1)], 'd2d3': [1.0, (3, 1, 1)], 'c2c3': [1.0, (2, 1, 1)], 'a2a3': [0.99998975, (0, 1, 1)], 'g2g4': [0.9999999, (6, 1, 2)], 'f2f4': [1.0, (5, 1, 2)], 'e2e4': [1.0, (4, 1, 2)], 'd2d4': [1.0, (3, 1, 2)], 'c2c4': [1.0, (2, 1, 2)], 'a2a4': [0.99999815, (0, 1, 2)]}\n",
      "{'a8b8': [0.9858283, (0, 7, 15)], 'a8a7': [0.994066, (0, 7, 8)], 'f6g8': [0.9996494, (5, 5, 58)], 'f6h7': [0.98779696, (5, 5, 59)], 'f6h5': [0.98859775, (5, 5, 60)], 'f6d5': [0.9894258, (5, 5, 63)], 'f6g4': [0.9880369, (5, 5, 61)], 'f6e4': [0.98938173, (5, 5, 62)], 'a6b8': [0.98904145, (0, 5, 58)], 'a6c5': [0.98880076, (0, 5, 60)], 'a6b4': [0.98889995, (0, 5, 61)], 'b2c1q': [0.9891621, (1, 1, 50)], 'b2c1r': [0.9891621, (1, 1, 50)], 'b2c1b': [0.9891621, (1, 1, 50)], 'b2c1n': [0.9891621, (1, 1, 50)], 'b2a1q': [0.98812413, (1, 1, 43)], 'b2a1r': [0.98812413, (1, 1, 43)], 'b2a1b': [0.98812413, (1, 1, 43)], 'b2a1n': [0.98812413, (1, 1, 43)], 'e7e6': [0.9890206, (4, 6, 8)], 'd7d6': [0.9926899, (3, 6, 8)], 'c7c6': [0.98965466, (2, 6, 8)], 'b7b6': [0.9853405, (1, 6, 8)], 'e7e5': [0.9894031, (4, 6, 9)], 'd7d5': [0.9886768, (3, 6, 9)], 'c7c5': [0.9884279, (2, 6, 9)], 'b7b5': [0.98820305, (1, 6, 9)]}\n",
      "{'h8g8': [0.9887686, (7, 7, 22)], 'h8f8': [0.99842733, (7, 7, 23)], 'h8h7': [0.9996121, (7, 7, 8)], 'h8h6': [0.9884281, (7, 7, 9)], 'h8h5': [0.98884475, (7, 7, 10)], 'h8h4': [0.98820925, (7, 7, 11)], 'h8h3': [0.9931964, (7, 7, 12)], 'h8h2': [0.98663485, (7, 7, 13)], 'h8h1': [0.99189425, (7, 7, 14)], 'g1h3': [0.9883038, (6, 0, 58)], 'g1f3': [0.9921652, (6, 0, 57)], 'e1f2': [0.99989283, (4, 0, 29)], 'c1b2': [0.9967934, (2, 0, 36)], 'b1c3': [0.9892806, (1, 0, 58)], 'b1a3': [0.9891583, (1, 0, 57)], 'g7f8q': [0.9882271, (6, 6, 36)], 'g7f8r': [0.9882271, (6, 6, 36)], 'g7f8b': [0.9882271, (6, 6, 36)], 'g7f8n': [0.9882271, (6, 6, 36)], 'g7g8q': [0.98958445, (6, 6, 1)], 'g7g8r': [0.98958445, (6, 6, 1)], 'g7g8b': [0.98958445, (6, 6, 1)], 'g7g8n': [0.98958445, (6, 6, 1)], 'f4f5': [0.9986148, (5, 3, 1)], 'g2g3': [0.98776877, (6, 1, 1)], 'e2e3': [0.9962146, (4, 1, 1)], 'd2d3': [0.99417347, (3, 1, 1)], 'c2c3': [0.9900688, (2, 1, 1)], 'a2a3': [0.9907918, (0, 1, 1)], 'g2g4': [0.9901866, (6, 1, 2)], 'e2e4': [0.9958837, (4, 1, 2)], 'd2d4': [0.9922507, (3, 1, 2)], 'c2c4': [0.9906331, (2, 1, 2)], 'a2a4': [0.9882673, (0, 1, 2)]}\n",
      "{'c8b7': [0.9884728, (2, 7, 43)], 'a8b8': [0.98573536, (0, 7, 15)], 'a8a7': [0.99394, (0, 7, 8)], 'f6g8': [0.9996493, (5, 5, 58)], 'f6h7': [0.98781514, (5, 5, 59)], 'f6h5': [0.98859215, (5, 5, 60)], 'f6d5': [0.9894269, (5, 5, 63)], 'f6g4': [0.9880245, (5, 5, 61)], 'f6e4': [0.9893737, (5, 5, 62)], 'a6b8': [0.988974, (0, 5, 58)], 'a6c5': [0.9888396, (0, 5, 60)], 'a6b4': [0.98889434, (0, 5, 61)], 'b2c1q': [0.98911536, (1, 1, 50)], 'b2c1r': [0.98911536, (1, 1, 50)], 'b2c1b': [0.98911536, (1, 1, 50)], 'b2c1n': [0.98911536, (1, 1, 50)], 'b2a1q': [0.9882008, (1, 1, 43)], 'b2a1r': [0.9882008, (1, 1, 43)], 'b2a1b': [0.9882008, (1, 1, 43)], 'b2a1n': [0.9882008, (1, 1, 43)], 'e7e6': [0.98911816, (4, 6, 8)], 'd7d6': [0.99268353, (3, 6, 8)], 'c7c6': [0.9895842, (2, 6, 8)], 'b6b5': [0.99016273, (1, 5, 8)], 'e7e5': [0.98938274, (4, 6, 9)], 'd7d5': [0.9886358, (3, 6, 9)], 'c7c5': [0.98838323, (2, 6, 9)]}\n",
      "{'h8g8': [0.98854256, (7, 7, 22)], 'h8f8': [0.9983972, (7, 7, 23)], 'h8h7': [0.99959755, (7, 7, 8)], 'h8h6': [0.98825383, (7, 7, 9)], 'h8h5': [0.98871255, (7, 7, 10)], 'h8h4': [0.9881691, (7, 7, 11)], 'h8h3': [0.9930872, (7, 7, 12)], 'h8h2': [0.9866114, (7, 7, 13)], 'h8h1': [0.9916862, (7, 7, 14)], 'f2g3': [0.99986625, (5, 1, 29)], 'f2f3': [0.99538124, (5, 1, 1)], 'f2e3': [0.9958433, (5, 1, 36)], 'f2e1': [0.99302626, (5, 1, 43)], 'g1h3': [0.9883783, (6, 0, 58)], 'g1f3': [0.9922564, (6, 0, 57)], 'd1e1': [0.99519396, (3, 0, 15)], 'c1b2': [0.99689496, (2, 0, 36)], 'b1c3': [0.9894469, (1, 0, 58)], 'b1a3': [0.98937035, (1, 0, 57)], 'g7f8q': [0.98810613, (6, 6, 36)], 'g7f8r': [0.98810613, (6, 6, 36)], 'g7f8b': [0.98810613, (6, 6, 36)], 'g7f8n': [0.98810613, (6, 6, 36)], 'g7g8q': [0.9894949, (6, 6, 1)], 'g7g8r': [0.9894949, (6, 6, 1)], 'g7g8b': [0.9894949, (6, 6, 1)], 'g7g8n': [0.9894949, (6, 6, 1)], 'f4f5': [0.9986185, (5, 3, 1)], 'g2g3': [0.98799574, (6, 1, 1)], 'e2e3': [0.9962477, (4, 1, 1)], 'd2d3': [0.9942092, (3, 1, 1)], 'c2c3': [0.99010795, (2, 1, 1)], 'a2a3': [0.9910144, (0, 1, 1)], 'g2g4': [0.99038076, (6, 1, 2)], 'e2e4': [0.99597317, (4, 1, 2)], 'd2d4': [0.99242496, (3, 1, 2)], 'c2c4': [0.9907889, (2, 1, 2)], 'a2a4': [0.9884616, (0, 1, 2)]}\n",
      "{'c8b7': [0.9883882, (2, 7, 43)], 'b8a8': [0.99247587, (1, 7, 22)], 'b8b7': [0.9870918, (1, 7, 8)], 'f6g8': [0.9996418, (5, 5, 58)], 'f6h7': [0.9876256, (5, 5, 59)], 'f6h5': [0.98851204, (5, 5, 60)], 'f6d5': [0.9893162, (5, 5, 63)], 'f6g4': [0.98789394, (5, 5, 61)], 'f6e4': [0.98924315, (5, 5, 62)], 'a6c5': [0.9886704, (0, 5, 60)], 'a6b4': [0.98884386, (0, 5, 61)], 'b2c1q': [0.9890138, (1, 1, 50)], 'b2c1r': [0.9890138, (1, 1, 50)], 'b2c1b': [0.9890138, (1, 1, 50)], 'b2c1n': [0.9890138, (1, 1, 50)], 'b2a1q': [0.9879563, (1, 1, 43)], 'b2a1r': [0.9879563, (1, 1, 43)], 'b2a1b': [0.9879563, (1, 1, 43)], 'b2a1n': [0.9879563, (1, 1, 43)], 'e7e6': [0.9887301, (4, 6, 8)], 'd7d6': [0.9925183, (3, 6, 8)], 'c7c6': [0.9894667, (2, 6, 8)], 'b6b5': [0.99009323, (1, 5, 8)], 'e7e5': [0.98926806, (4, 6, 9)], 'd7d5': [0.98853815, (3, 6, 9)], 'c7c5': [0.98826563, (2, 6, 9)]}\n",
      "{'h8g8': [0.98875755, (7, 7, 22)], 'h8f8': [0.9984383, (7, 7, 23)], 'h8h7': [0.9996115, (7, 7, 8)], 'h8h6': [0.9884566, (7, 7, 9)], 'h8h5': [0.988904, (7, 7, 10)], 'h8h4': [0.9883324, (7, 7, 11)], 'h8h3': [0.99322796, (7, 7, 12)], 'h8h2': [0.98681295, (7, 7, 13)], 'h8h1': [0.991896, (7, 7, 14)], 'g3h4': [0.99246836, (6, 2, 29)], 'g3h3': [0.9966316, (6, 2, 15)], 'g3f3': [0.98786926, (6, 2, 22)], 'g3h2': [0.98932546, (6, 2, 50)], 'g3f2': [0.9887733, (6, 2, 43)], 'g1h3': [0.9885438, (6, 0, 58)], 'g1f3': [0.9924886, (6, 0, 57)], 'd1e1': [0.99530876, (3, 0, 15)], 'c1b2': [0.9969282, (2, 0, 36)], 'b1c3': [0.98958296, (1, 0, 58)], 'b1a3': [0.9894383, (1, 0, 57)], 'g7f8q': [0.9883666, (6, 6, 36)], 'g7f8r': [0.9883666, (6, 6, 36)], 'g7f8b': [0.9883666, (6, 6, 36)], 'g7f8n': [0.9883666, (6, 6, 36)], 'g7g8q': [0.98970187, (6, 6, 1)], 'g7g8r': [0.98970187, (6, 6, 1)], 'g7g8b': [0.98970187, (6, 6, 1)], 'g7g8n': [0.98970187, (6, 6, 1)], 'f4f5': [0.9986432, (5, 3, 1)], 'e2e3': [0.996343, (4, 1, 1)], 'd2d3': [0.9943569, (3, 1, 1)], 'c2c3': [0.99029803, (2, 1, 1)], 'a2a3': [0.99107385, (0, 1, 1)], 'e2e4': [0.9960652, (4, 1, 2)], 'd2d4': [0.99256814, (3, 1, 2)], 'c2c4': [0.9909123, (2, 1, 2)], 'a2a4': [0.9885099, (0, 1, 2)]}\n",
      "{'f8g7': [0.98757017, (5, 7, 50)], 'b7b8': [0.98931605, (1, 6, 1)], 'b7a7': [0.99937105, (1, 6, 22)], 'f6g8': [0.99965966, (5, 5, 58)], 'f6h7': [0.98806185, (5, 5, 59)], 'f6h5': [0.98869663, (5, 5, 60)], 'f6d5': [0.98955345, (5, 5, 63)], 'f6g4': [0.9882562, (5, 5, 61)], 'f6e4': [0.9895874, (5, 5, 62)], 'a6b8': [0.9889996, (0, 5, 58)], 'a6c5': [0.9888481, (0, 5, 60)], 'a6b4': [0.98891175, (0, 5, 61)], 'b2c1q': [0.98932594, (1, 1, 50)], 'b2c1r': [0.98932594, (1, 1, 50)], 'b2c1b': [0.98932594, (1, 1, 50)], 'b2c1n': [0.98932594, (1, 1, 50)], 'b2a1q': [0.9883818, (1, 1, 43)], 'b2a1r': [0.9883818, (1, 1, 43)], 'b2a1b': [0.9883818, (1, 1, 43)], 'b2a1n': [0.9883818, (1, 1, 43)], 'e7e6': [0.9893289, (4, 6, 8)], 'd7d6': [0.9928161, (3, 6, 8)], 'c7c6': [0.98972714, (2, 6, 8)], 'b6b5': [0.99024904, (1, 5, 8)], 'e7e5': [0.9895977, (4, 6, 9)], 'd7d5': [0.98881304, (3, 6, 9)], 'c7c5': [0.9885055, (2, 6, 9)]}\n",
      "{'h7h8': [0.9898466, (7, 6, 1)], 'h7g7': [0.98753, (7, 6, 22)], 'h7h6': [0.99410486, (7, 6, 8)], 'h7h5': [0.9888871, (7, 6, 9)], 'h7h4': [0.98936486, (7, 6, 10)], 'h7h3': [0.98823667, (7, 6, 11)], 'h7h2': [0.99027634, (7, 6, 12)], 'h7h1': [0.9929514, (7, 6, 13)], 'g3h4': [0.99424595, (6, 2, 29)], 'g3h3': [0.99712515, (6, 2, 15)], 'g3f3': [0.98961484, (6, 2, 22)], 'g3h2': [0.9902681, (6, 2, 50)], 'g3f2': [0.99018663, (6, 2, 43)], 'g1h3': [0.9901637, (6, 0, 58)], 'g1f3': [0.9937346, (6, 0, 57)], 'd1e1': [0.9958391, (3, 0, 15)], 'c1b2': [0.9973213, (2, 0, 36)], 'b1c3': [0.9912375, (1, 0, 58)], 'b1a3': [0.9903072, (1, 0, 57)], 'f4f5': [0.9987813, (5, 3, 1)], 'e2e3': [0.9970561, (4, 1, 1)], 'd2d3': [0.9953896, (3, 1, 1)], 'c2c3': [0.9919409, (2, 1, 1)], 'a2a3': [0.9918603, (0, 1, 1)], 'e2e4': [0.9968116, (4, 1, 2)], 'd2d4': [0.99386483, (3, 1, 2)], 'c2c4': [0.992098, (2, 1, 2)], 'a2a4': [0.9894804, (0, 1, 2)]}\n",
      "{'e8f8': [0.9979689, (4, 7, 15)], 'g7h8': [0.98744845, (6, 6, 29)], 'g7f8': [0.9888748, (6, 6, 36)], 'g7h6': [0.98942554, (6, 6, 50)], 'b7b8': [0.9895723, (1, 6, 1)], 'b7a7': [0.9993366, (1, 6, 22)], 'f6g8': [0.99967337, (5, 5, 58)], 'f6h7': [0.98883355, (5, 5, 59)], 'f6h5': [0.9889538, (5, 5, 60)], 'f6d5': [0.9900485, (5, 5, 63)], 'f6g4': [0.98876905, (5, 5, 61)], 'f6e4': [0.99000454, (5, 5, 62)], 'a6b8': [0.9893228, (0, 5, 58)], 'a6c5': [0.9892274, (0, 5, 60)], 'a6b4': [0.989218, (0, 5, 61)], 'b2c1q': [0.9897369, (1, 1, 50)], 'b2c1r': [0.9897369, (1, 1, 50)], 'b2c1b': [0.9897369, (1, 1, 50)], 'b2c1n': [0.9897369, (1, 1, 50)], 'b2a1q': [0.9892707, (1, 1, 43)], 'b2a1r': [0.9892707, (1, 1, 43)], 'b2a1b': [0.9892707, (1, 1, 43)], 'b2a1n': [0.9892707, (1, 1, 43)], 'e7e6': [0.99078786, (4, 6, 8)], 'd7d6': [0.9936752, (3, 6, 8)], 'c7c6': [0.99087495, (2, 6, 8)], 'b6b5': [0.99133354, (1, 5, 8)], 'e7e5': [0.98996586, (4, 6, 9)], 'd7d5': [0.98921514, (3, 6, 9)], 'c7c5': [0.98898685, (2, 6, 9)]}\n",
      "{'h7h8': [0.9897225, (7, 6, 1)], 'h7g7': [0.98739326, (7, 6, 22)], 'h7f7': [0.9999305, (7, 6, 23)], 'h7h6': [0.99379086, (7, 6, 8)], 'h7h5': [0.98873675, (7, 6, 9)], 'h7h4': [0.9893329, (7, 6, 10)], 'h7h3': [0.98725927, (7, 6, 11)], 'h7h2': [0.9900382, (7, 6, 12)], 'h7h1': [0.99260855, (7, 6, 13)], 'g3h4': [0.99264324, (6, 2, 29)], 'g3f4': [0.9960088, (6, 2, 36)], 'g3h3': [0.9967035, (6, 2, 15)], 'g3f3': [0.9881104, (6, 2, 22)], 'g3h2': [0.98926497, (6, 2, 50)], 'g3f2': [0.9889231, (6, 2, 43)], 'g1h3': [0.9887525, (6, 0, 58)], 'g1f3': [0.99258906, (6, 0, 57)], 'd1e1': [0.9953843, (3, 0, 15)], 'c1b2': [0.9970281, (2, 0, 36)], 'b1c3': [0.99002874, (1, 0, 58)], 'b1a3': [0.9896458, (1, 0, 57)], 'e2e3': [0.9964982, (4, 1, 1)], 'd2d3': [0.9945885, (3, 1, 1)], 'c2c3': [0.99079067, (2, 1, 1)], 'a2a3': [0.9912045, (0, 1, 1)], 'e2e4': [0.9961933, (4, 1, 2)], 'd2d4': [0.9928268, (3, 1, 2)], 'c2c4': [0.9912543, (2, 1, 2)], 'a2a4': [0.988617, (0, 1, 2)]}\n"
     ]
    },
    {
     "name": "stdout",
     "output_type": "stream",
     "text": [
      "{'h8g7': [0.9916089, (7, 7, 43)], 'e8f7': [0.9891088, (4, 7, 50)], 'b7b8': [0.9894211, (1, 6, 1)], 'b7a7': [0.99934065, (1, 6, 22)], 'f6g8': [0.9996564, (5, 5, 58)], 'f6h7': [0.9883551, (5, 5, 59)], 'f6h5': [0.98873997, (5, 5, 60)], 'f6d5': [0.98972756, (5, 5, 63)], 'f6g4': [0.9884565, (5, 5, 61)], 'f6e4': [0.9896481, (5, 5, 62)], 'a6b8': [0.98906195, (0, 5, 58)], 'a6c5': [0.9889665, (0, 5, 60)], 'a6b4': [0.98895204, (0, 5, 61)], 'b2c1q': [0.98955864, (1, 1, 50)], 'b2c1r': [0.98955864, (1, 1, 50)], 'b2c1b': [0.98955864, (1, 1, 50)], 'b2c1n': [0.98955864, (1, 1, 50)], 'b2a1q': [0.9887942, (1, 1, 43)], 'b2a1r': [0.9887942, (1, 1, 43)], 'b2a1b': [0.9887942, (1, 1, 43)], 'b2a1n': [0.9887942, (1, 1, 43)], 'e7e6': [0.98964, (4, 6, 8)], 'd7d6': [0.99307346, (3, 6, 8)], 'c7c6': [0.99016654, (2, 6, 8)], 'b6b5': [0.99082106, (1, 5, 8)], 'e7e5': [0.9896637, (4, 6, 9)], 'd7d5': [0.98880976, (3, 6, 9)], 'c7c5': [0.9886097, (2, 6, 9)]}\n",
      "{'f7f8': [0.9900951, (5, 6, 1)], 'f7h7': [0.9896116, (5, 6, 16)], 'f7g7': [0.9895779, (5, 6, 15)], 'f7e7': [0.99217135, (5, 6, 22)], 'f7f6': [0.9929372, (5, 6, 8)], 'g3h4': [0.9929727, (6, 2, 29)], 'g3g4': [0.9889332, (6, 2, 1)], 'g3f4': [0.99617857, (6, 2, 36)], 'g3h3': [0.9967567, (6, 2, 15)], 'g3f3': [0.98840666, (6, 2, 22)], 'g3h2': [0.989262, (6, 2, 50)], 'g3f2': [0.9890325, (6, 2, 43)], 'g1h3': [0.9889609, (6, 0, 58)], 'g1f3': [0.9925972, (6, 0, 57)], 'd1e1': [0.9953761, (3, 0, 15)], 'c1b2': [0.9970846, (2, 0, 36)], 'b1c3': [0.9903693, (1, 0, 58)], 'b1a3': [0.9897903, (1, 0, 57)], 'f5f6': [0.99925697, (5, 4, 1)], 'e2e3': [0.9965872, (4, 1, 1)], 'd2d3': [0.9947234, (3, 1, 1)], 'c2c3': [0.99110234, (2, 1, 1)], 'a2a3': [0.99134296, (0, 1, 1)], 'e2e4': [0.9962847, (4, 1, 2)], 'd2d4': [0.9929976, (3, 1, 2)], 'c2c4': [0.99145496, (2, 1, 2)], 'a2a4': [0.9888025, (0, 1, 2)]}\n",
      "{'h8g7': [0.9916802, (7, 7, 43)], 'h8f6': [0.98920506, (7, 7, 44)], 'e8f7': [0.98925734, (4, 7, 50)], 'h7f8': [0.98879755, (7, 6, 56)], 'h7f6': [0.9886625, (7, 6, 63)], 'h7g5': [0.9881594, (7, 6, 62)], 'b7b8': [0.98946416, (1, 6, 1)], 'b7a7': [0.9993397, (1, 6, 22)], 'a6b8': [0.989092, (0, 5, 58)], 'a6c5': [0.9890059, (0, 5, 60)], 'a6b4': [0.9889866, (0, 5, 61)], 'e7f6': [0.9886495, (4, 6, 50)], 'b2c1q': [0.9896141, (1, 1, 50)], 'b2c1r': [0.9896141, (1, 1, 50)], 'b2c1b': [0.9896141, (1, 1, 50)], 'b2c1n': [0.9896141, (1, 1, 50)], 'b2a1q': [0.98893523, (1, 1, 43)], 'b2a1r': [0.98893523, (1, 1, 43)], 'b2a1b': [0.98893523, (1, 1, 43)], 'b2a1n': [0.98893523, (1, 1, 43)], 'e7e6': [0.99007034, (4, 6, 8)], 'd7d6': [0.9932494, (3, 6, 8)], 'c7c6': [0.99032104, (2, 6, 8)], 'b6b5': [0.990911, (1, 5, 8)], 'e7e5': [0.9898052, (4, 6, 9)], 'd7d5': [0.98894453, (3, 6, 9)], 'c7c5': [0.9886874, (2, 6, 9)]}\n",
      "{'f7f8': [0.99042195, (5, 6, 1)], 'f7h7': [0.98964286, (5, 6, 16)], 'f7g7': [0.98976225, (5, 6, 15)], 'f7e7': [0.99233544, (5, 6, 22)], 'g3h4': [0.99350965, (6, 2, 29)], 'g3g4': [0.9893137, (6, 2, 1)], 'g3f4': [0.9964556, (6, 2, 36)], 'g3h2': [0.989696, (6, 2, 50)], 'g3f2': [0.9895005, (6, 2, 43)], 'g1h3': [0.989411, (6, 0, 58)], 'g1f3': [0.9930903, (6, 0, 57)], 'd1e1': [0.9955595, (3, 0, 15)], 'c1b2': [0.9971625, (2, 0, 36)], 'b1c3': [0.99065876, (1, 0, 58)], 'b1a3': [0.98993504, (1, 0, 57)], 'f6e7': [0.9920157, (5, 5, 36)], 'e2e3': [0.9967811, (4, 1, 1)], 'd2d3': [0.9949917, (3, 1, 1)], 'c2c3': [0.99143296, (2, 1, 1)], 'a2a3': [0.9915105, (0, 1, 1)], 'e2e4': [0.99650604, (4, 1, 2)], 'd2d4': [0.9933523, (3, 1, 2)], 'c2c4': [0.991688, (2, 1, 2)], 'a2a4': [0.9890101, (0, 1, 2)]}\n",
      "{'h8g7': [0.99165106, (7, 7, 43)], 'h8f6': [0.98939025, (7, 7, 44)], 'e8f7': [0.9891585, (4, 7, 50)], 'b7b8': [0.98947936, (1, 6, 1)], 'b7a7': [0.999328, (1, 6, 22)], 'a6b8': [0.98916984, (0, 5, 58)], 'a6c5': [0.989158, (0, 5, 60)], 'a6b4': [0.9891124, (0, 5, 61)], 'g5h7': [0.9999149, (6, 4, 58)], 'g5f7': [0.99767584, (6, 4, 57)], 'g5e6': [0.99613726, (6, 4, 56)], 'g5e4': [0.9888482, (6, 4, 63)], 'g5h3': [0.9881848, (6, 4, 61)], 'g5f3': [0.99195623, (6, 4, 62)], 'e7f6': [0.9888724, (4, 6, 50)], 'e7e6': [0.99084187, (4, 6, 8)], 'd7d6': [0.99363935, (3, 6, 8)], 'c7c6': [0.99075186, (2, 6, 8)], 'b6b5': [0.991133, (1, 5, 8)], 'e7e5': [0.98995054, (4, 6, 9)], 'd7d5': [0.9891918, (3, 6, 9)], 'c7c5': [0.98890734, (2, 6, 9)]}\n",
      "{'f7f8': [0.99055076, (5, 6, 1)], 'f7h7': [0.9897164, (5, 6, 16)], 'f7g7': [0.98983884, (5, 6, 15)], 'f7e7': [0.99241674, (5, 6, 22)], 'g3h4': [0.99359876, (6, 2, 29)], 'g3g4': [0.9892427, (6, 2, 1)], 'g3h3': [0.9969828, (6, 2, 15)], 'g3f3': [0.9890462, (6, 2, 22)], 'g3h2': [0.9899992, (6, 2, 50)], 'b2e5': [0.9896853, (1, 1, 31)], 'b2d4': [0.98744404, (1, 1, 30)], 'b2c3': [0.9966296, (1, 1, 29)], 'b2a3': [0.9919721, (1, 1, 36)], 'b2c1': [0.98972964, (1, 1, 50)], 'g1h3': [0.9896999, (6, 0, 58)], 'g1f3': [0.993484, (6, 0, 57)], 'd1e1': [0.9957881, (3, 0, 15)], 'd1c1': [0.9902278, (3, 0, 22)], 'b1c3': [0.9906666, (1, 0, 58)], 'b1a3': [0.99009454, (1, 0, 57)], 'f6e7': [0.9921547, (5, 5, 36)], 'g2h3': [0.9998926, (6, 1, 29)], 'e2e3': [0.9968322, (4, 1, 1)], 'd2d3': [0.9950526, (3, 1, 1)], 'c2c3': [0.99143577, (2, 1, 1)], 'a2a3': [0.9916134, (0, 1, 1)], 'e2e4': [0.99659187, (4, 1, 2)], 'd2d4': [0.993503, (3, 1, 2)], 'c2c4': [0.9917782, (2, 1, 2)], 'a2a4': [0.9890563, (0, 1, 2)]}\n",
      "{'h8g7': [0.9918847, (7, 7, 43)], 'h8f6': [0.99009764, (7, 7, 44)], 'e8f7': [0.9894798, (4, 7, 50)], 'b7b8': [0.98978674, (1, 6, 1)], 'b7a7': [0.9993267, (1, 6, 22)], 'a6b8': [0.9896119, (0, 5, 58)], 'a6c5': [0.98942566, (0, 5, 60)], 'a6b4': [0.98936987, (0, 5, 61)], 'e7f6': [0.98937845, (4, 6, 50)], 'e7e6': [0.9923319, (4, 6, 8)], 'd7d6': [0.99454284, (3, 6, 8)], 'c7c6': [0.9918746, (2, 6, 8)], 'b6b5': [0.99206495, (1, 5, 8)], 'e7e5': [0.99047536, (4, 6, 9)], 'd7d5': [0.98985314, (3, 6, 9)], 'c7c5': [0.98953533, (2, 6, 9)]}\n",
      "{'f7f8': [0.9917246, (5, 6, 1)], 'f7h7': [0.9901779, (5, 6, 16)], 'f7g7': [0.9910557, (5, 6, 15)], 'f7e7': [0.9933377, (5, 6, 22)], 'g3h4': [0.9955606, (6, 2, 29)], 'g3g4': [0.9913459, (6, 2, 1)], 'g3f4': [0.9976157, (6, 2, 36)], 'g3f3': [0.99108195, (6, 2, 22)], 'g3h2': [0.99141777, (6, 2, 50)], 'g3g2': [0.99934196, (6, 2, 8)], 'g3f2': [0.9918459, (6, 2, 43)], 'b2e5': [0.9910943, (1, 1, 31)], 'b2d4': [0.9893409, (1, 1, 30)], 'b2c3': [0.9975514, (1, 1, 29)], 'b2a3': [0.9925478, (1, 1, 36)], 'b2c1': [0.9907604, (1, 1, 50)], 'g1f3': [0.99507, (6, 0, 57)], 'f1g2': [0.9999579, (5, 0, 29)], 'd1e1': [0.9964869, (3, 0, 15)], 'd1c1': [0.9911831, (3, 0, 22)], 'b1c3': [0.99268275, (1, 0, 58)], 'b1a3': [0.9911028, (1, 0, 57)], 'f6e7': [0.9931278, (5, 5, 36)], 'h3h4': [0.99165076, (7, 2, 1)], 'e2e3': [0.99758756, (4, 1, 1)], 'd2d3': [0.9963101, (3, 1, 1)], 'c2c3': [0.9931952, (2, 1, 1)], 'a2a3': [0.9926226, (0, 1, 1)], 'e2e4': [0.9974339, (4, 1, 2)], 'd2d4': [0.99500155, (3, 1, 2)], 'c2c4': [0.9930854, (2, 1, 2)], 'a2a4': [0.9904366, (0, 1, 2)]}\n",
      "{'h8g7': [0.9918779, (7, 7, 43)], 'h8f6': [0.9901806, (7, 7, 44)], 'e8f7': [0.98945594, (4, 7, 50)], 'b7b8': [0.9898052, (1, 6, 1)], 'b7a7': [0.9993222, (1, 6, 22)], 'b4c6': [0.9918554, (1, 3, 58)], 'b4a6': [0.99665964, (1, 3, 57)], 'b4d5': [0.9905704, (1, 3, 59)], 'b4d3': [0.98926044, (1, 3, 60)], 'b4c2': [0.9893547, (1, 3, 61)], 'b4a2': [0.9949572, (1, 3, 62)], 'e7f6': [0.9894552, (4, 6, 50)], 'e7e6': [0.9926522, (4, 6, 8)], 'd7d6': [0.9947349, (3, 6, 8)], 'c7c6': [0.99209595, (2, 6, 8)], 'b6b5': [0.992255, (1, 5, 8)], 'e7e5': [0.99054277, (4, 6, 9)], 'd7d5': [0.98998976, (3, 6, 9)], 'c7c5': [0.98967403, (2, 6, 9)]}\n",
      "{'f7f8': [0.9913085, (5, 6, 1)], 'f7h7': [0.98998773, (5, 6, 16)], 'f7g7': [0.9906501, (5, 6, 15)], 'f7e7': [0.9930438, (5, 6, 22)], 'g3h4': [0.994921, (6, 2, 29)], 'g3g4': [0.99065316, (6, 2, 1)], 'g3f3': [0.9903938, (6, 2, 22)], 'g3h2': [0.9908825, (6, 2, 50)], 'g2b7': [0.9946401, (6, 1, 40)], 'g2c6': [0.9902687, (6, 1, 39)], 'g2d5': [0.9900492, (6, 1, 38)], 'g2e4': [0.99104863, (6, 1, 37)], 'g2f3': [0.99922174, (6, 1, 36)], 'g2h1': [0.991325, (6, 1, 50)], 'g2f1': [0.99153644, (6, 1, 43)], 'b2e5': [0.990633, (1, 1, 31)], 'b2d4': [0.98871154, (1, 1, 30)], 'b2c3': [0.997288, (1, 1, 29)], 'b2a3': [0.9923998, (1, 1, 36)], 'b2c1': [0.9903538, (1, 1, 50)], 'g1f3': [0.994534, (6, 0, 57)], 'd1f1': [0.99142456, (3, 0, 16)], 'd1e1': [0.9962419, (3, 0, 15)], 'd1c1': [0.99084437, (3, 0, 22)], 'b1c3': [0.9920423, (1, 0, 58)], 'b1a3': [0.99077547, (1, 0, 57)], 'f6e7': [0.99278164, (5, 5, 36)], 'e2d3': [0.99660826, (4, 1, 36)], 'c2d3': [0.99953556, (2, 1, 29)], 'h3h4': [0.99102867, (7, 2, 1)], 'e2e3': [0.9973451, (4, 1, 1)], 'c2c3': [0.99262667, (2, 1, 1)], 'a2a3': [0.992309, (0, 1, 1)], 'e2e4': [0.9971539, (4, 1, 2)], 'c2c4': [0.9926458, (2, 1, 2)], 'a2a4': [0.9899863, (0, 1, 2)]}\n",
      "{'h8g7': [0.9919206, (7, 7, 43)], 'h8f6': [0.9901833, (7, 7, 44)], 'e8f7': [0.9894936, (4, 7, 50)], 'b7b8': [0.9897464, (1, 6, 1)], 'b7a7': [0.9993218, (1, 6, 22)], 'e7f6': [0.98945856, (4, 6, 50)], 'e7e6': [0.9925567, (4, 6, 8)], 'd7d6': [0.99463356, (3, 6, 8)], 'c7c6': [0.9919214, (2, 6, 8)], 'b6b5': [0.9920808, (1, 5, 8)], 'e7e5': [0.9904964, (4, 6, 9)], 'd7d5': [0.9899012, (3, 6, 9)], 'c7c5': [0.9895476, (2, 6, 9)]}\n",
      "{'f7f8': [0.99133086, (5, 6, 1)], 'f7h7': [0.9900533, (5, 6, 16)], 'f7g7': [0.99067646, (5, 6, 15)], 'f7e7': [0.99306417, (5, 6, 22)], 'f7d7': [0.9974694, (5, 6, 23)], 'f7f6': [0.9945252, (5, 6, 8)], 'g3h4': [0.99490106, (6, 2, 29)], 'g3g4': [0.9906454, (6, 2, 1)], 'g3f4': [0.9972438, (6, 2, 36)], 'g3f3': [0.9903946, (6, 2, 22)], 'g3h2': [0.99094236, (6, 2, 50)], 'g3f2': [0.99112165, (6, 2, 43)], 'g2b7': [0.9946672, (6, 1, 40)], 'g2c6': [0.9902976, (6, 1, 39)], 'g2d5': [0.9900774, (6, 1, 38)], 'g2e4': [0.99112856, (6, 1, 37)], 'g2f3': [0.9992279, (6, 1, 36)], 'g2h1': [0.9914062, (6, 1, 50)], 'g2f1': [0.99164534, (6, 1, 43)], 'b2f6': [0.9894077, (1, 1, 32)], 'b2e5': [0.99065065, (1, 1, 31)], 'b2d4': [0.9887142, (1, 1, 30)], 'b2c3': [0.9972841, (1, 1, 29)], 'b2a3': [0.99240327, (1, 1, 36)], 'b2c1': [0.9903741, (1, 1, 50)], 'g1f3': [0.99461424, (6, 0, 57)], 'd1a4': [0.9882127, (3, 0, 38)], 'd1b3': [0.99228907, (3, 0, 37)], 'd1c2': [0.9985491, (3, 0, 36)], 'd1f1': [0.9914907, (3, 0, 16)], 'd1e1': [0.9962903, (3, 0, 15)], 'd1c1': [0.9909219, (3, 0, 22)], 'b1c3': [0.9920383, (1, 0, 58)], 'b1a3': [0.99077225, (1, 0, 57)], 'h3h4': [0.9910254, (7, 2, 1)], 'd3d4': [0.9953315, (3, 2, 1)], 'e2e3': [0.9973459, (4, 1, 1)], 'a2a3': [0.99232525, (0, 1, 1)], 'e2e4': [0.99716055, (4, 1, 2)], 'a2a4': [0.9899621, (0, 1, 2)]}\n",
      "{'h8g7': [0.99203014, (7, 7, 43)], 'e8f7': [0.9896847, (4, 7, 50)], 'd8e7': [0.99240077, (3, 7, 50)], 'b7b8': [0.989879, (1, 6, 1)], 'b7a7': [0.9993241, (1, 6, 22)], 'd7d6': [0.99499345, (3, 6, 8)], 'c7c6': [0.9923637, (2, 6, 8)], 'f6f5': [0.99578816, (5, 5, 8)], 'b6b5': [0.9924379, (1, 5, 8)], 'd7d5': [0.9902027, (3, 6, 9)], 'c7c5': [0.98985004, (2, 6, 9)]}\n",
      "{'f7f8': [0.99181086, (5, 6, 1)], 'f7h7': [0.99030757, (5, 6, 16)], 'f7g7': [0.9911554, (5, 6, 15)], 'f7e7': [0.9933996, (5, 6, 22)], 'f7f6': [0.995101, (5, 6, 8)], 'g3h4': [0.9956418, (6, 2, 29)], 'g3g4': [0.9914686, (6, 2, 1)], 'g3f4': [0.9976806, (6, 2, 36)], 'g3h2': [0.99161494, (6, 2, 50)], 'g3g2': [0.99935365, (6, 2, 8)], 'g3f2': [0.99205756, (6, 2, 43)], 'f3b7': [0.9893804, (5, 2, 39)], 'f3c6': [0.9898052, (5, 2, 38)], 'f3h5': [0.9941292, (5, 2, 30)], 'f3d5': [0.9917052, (5, 2, 37)], 'f3g4': [0.9943838, (5, 2, 29)], 'f3e4': [0.99406874, (5, 2, 36)], 'f3g2': [0.99331796, (5, 2, 50)], 'f3h1': [0.99171364, (5, 2, 51)], 'b2f6': [0.98967105, (1, 1, 32)], 'b2e5': [0.99118996, (1, 1, 31)], 'b2d4': [0.98941004, (1, 1, 30)], 'b2c3': [0.99754757, (1, 1, 29)], 'b2a3': [0.9925171, (1, 1, 36)], 'b2c1': [0.99084383, (1, 1, 50)], 'd1a4': [0.9882753, (3, 0, 38)], 'd1b3': [0.9928417, (3, 0, 37)], 'd1c2': [0.9986661, (3, 0, 36)], 'd1f1': [0.99240804, (3, 0, 16)], 'd1e1': [0.9965955, (3, 0, 15)], 'd1c1': [0.99130696, (3, 0, 22)], 'b1c3': [0.99272054, (1, 0, 58)], 'b1a3': [0.9911262, (1, 0, 57)], 'h3h4': [0.99177897, (7, 2, 1)], 'd3d4': [0.9958735, (3, 2, 1)], 'e2e3': [0.99761677, (4, 1, 1)], 'a2a3': [0.9926567, (0, 1, 1)], 'e2e4': [0.9974796, (4, 1, 2)], 'a2a4': [0.990414, (0, 1, 2)]}\n",
      "{'h8g7': [0.9920081, (7, 7, 43)], 'e8d8': [0.9898008, (4, 7, 22)], 'e8f7': [0.9896891, (4, 7, 50)], 'e7f8': [0.9889332, (4, 6, 29)], 'e7d8': [0.9954553, (4, 6, 36)], 'e7f7': [0.9897757, (4, 6, 15)], 'e7e6': [0.9927304, (4, 6, 8)], 'e7d6': [0.9936056, (4, 6, 43)], 'e7e5': [0.99065006, (4, 6, 9)], 'e7c5': [0.9925059, (4, 6, 44)], 'e7e4': [0.9926577, (4, 6, 10)], 'e7b4': [0.99278677, (4, 6, 45)], 'e7e3': [0.99040765, (4, 6, 11)], 'e7a3': [0.9894623, (4, 6, 46)], 'e7e2': [0.9927173, (4, 6, 12)], 'b7b8': [0.98987913, (1, 6, 1)], 'b7a7': [0.99932975, (1, 6, 22)], 'd7d6': [0.9947891, (3, 6, 8)], 'c7c6': [0.99215424, (2, 6, 8)], 'f6f5': [0.9955746, (5, 5, 8)], 'b6b5': [0.99229413, (1, 5, 8)], 'd7d5': [0.99007857, (3, 6, 9)], 'c7c5': [0.9897401, (2, 6, 9)]}\n",
      "{'f7f8': [0.9915509, (5, 6, 1)], 'f7h7': [0.99014986, (5, 6, 16)], 'f7g7': [0.9909455, (5, 6, 15)], 'f7e7': [0.99326146, (5, 6, 22)], 'f7d7': [0.997488, (5, 6, 23)], 'f7f6': [0.9948013, (5, 6, 8)], 'f3b7': [0.98919415, (5, 2, 39)], 'f3c6': [0.9898398, (5, 2, 38)], 'f3h5': [0.993766, (5, 2, 30)], 'f3d5': [0.99133825, (5, 2, 37)], 'f3g4': [0.9939268, (5, 2, 29)], 'f3e4': [0.9937585, (5, 2, 36)], 'g2g3': [0.9915401, (6, 1, 1)], 'g2h2': [0.99927175, (6, 1, 15)], 'g2f2': [0.9906555, (6, 1, 22)], 'g2h1': [0.99156755, (6, 1, 50)], 'g2f1': [0.99187374, (6, 1, 43)], 'b2f6': [0.9895763, (1, 1, 32)], 'b2e5': [0.9909321, (1, 1, 31)], 'b2d4': [0.98915684, (1, 1, 30)], 'b2c3': [0.99749845, (1, 1, 29)], 'b2a3': [0.99252725, (1, 1, 36)], 'b2c1': [0.99067545, (1, 1, 50)], 'd1a4': [0.98840463, (3, 0, 38)], 'd1b3': [0.99261105, (3, 0, 37)], 'd1c2': [0.9986261, (3, 0, 36)], 'd1f1': [0.991955, (3, 0, 16)], 'd1e1': [0.9964131, (3, 0, 15)], 'd1c1': [0.9911583, (3, 0, 22)], 'b1c3': [0.99251354, (1, 0, 58)], 'b1a3': [0.9910133, (1, 0, 57)], 'h3h4': [0.99132043, (7, 2, 1)], 'd3d4': [0.9955985, (3, 2, 1)], 'e2e3': [0.9974941, (4, 1, 1)], 'a2a3': [0.99251956, (0, 1, 1)], 'e2e4': [0.9973191, (4, 1, 2)], 'a2a4': [0.99026334, (0, 1, 2)]}\n",
      "{'h8g7': [0.99201673, (7, 7, 43)], 'f8g8': [0.99906754, (5, 7, 15)], 'f8g7': [0.98824894, (5, 7, 50)], 'f8f7': [0.99825394, (5, 7, 8)], 'f8e7': [0.9896326, (5, 7, 43)], 'f8h6': [0.98948026, (5, 7, 51)], 'f8d6': [0.9997753, (5, 7, 44)], 'f8c5': [0.98859, (5, 7, 45)], 'f8b4': [0.9898752, (5, 7, 46)], 'f8a3': [0.9906681, (5, 7, 47)], 'e8d8': [0.98988557, (4, 7, 22)], 'e8f7': [0.98965883, (4, 7, 50)], 'b7b8': [0.9899422, (1, 6, 1)], 'b7a7': [0.99932194, (1, 6, 22)], 'd7d6': [0.99511683, (3, 6, 8)], 'c7c6': [0.9925736, (2, 6, 8)], 'f6f5': [0.99583614, (5, 5, 8)], 'b6b5': [0.99266243, (1, 5, 8)], 'd7d5': [0.99031264, (3, 6, 9)], 'c7c5': [0.9899982, (2, 6, 9)]}\n",
      "{'f7f8': [0.99223834, (5, 6, 1)], 'f7g7': [0.9915576, (5, 6, 15)], 'f7e7': [0.9936851, (5, 6, 22)], 'f7d7': [0.9975369, (5, 6, 23)], 'f7f6': [0.99561906, (5, 6, 8)], 'f3b7': [0.98968625, (5, 2, 39)], 'f3c6': [0.98989165, (5, 2, 38)], 'f3h5': [0.9946948, (5, 2, 30)], 'f3d5': [0.9925022, (5, 2, 37)], 'f3g4': [0.99492365, (5, 2, 29)], 'f3e4': [0.9947246, (5, 2, 36)], 'f3g2': [0.99385405, (5, 2, 50)], 'f3h1': [0.9922162, (5, 2, 51)], 'h2h1': [0.9980673, (7, 1, 8)], 'b2f6': [0.98994607, (1, 1, 32)], 'b2e5': [0.99188775, (1, 1, 31)], 'b2d4': [0.9901774, (1, 1, 30)], 'b2c3': [0.99781513, (1, 1, 29)], 'b2a3': [0.9927403, (1, 1, 36)], 'b2c1': [0.99168074, (1, 1, 50)], 'd1a4': [0.9890189, (3, 0, 38)], 'd1b3': [0.99353695, (3, 0, 37)], 'd1c2': [0.9988452, (3, 0, 36)], 'd1f1': [0.9934925, (3, 0, 16)], 'd1e1': [0.99700284, (3, 0, 15)], 'd1c1': [0.99205077, (3, 0, 22)], 'b1c3': [0.9936159, (1, 0, 58)], 'b1a3': [0.9917447, (1, 0, 57)], 'h3h4': [0.992393, (7, 2, 1)], 'd3d4': [0.9963668, (3, 2, 1)], 'e2e3': [0.9978574, (4, 1, 1)], 'a2a3': [0.993101, (0, 1, 1)], 'e2e4': [0.9977417, (4, 1, 2)], 'a2a4': [0.9909245, (0, 1, 2)]}\n",
      "{'e8d8': [0.9900906, (4, 7, 22)], 'e8f7': [0.98967373, (4, 7, 50)], 'g7g8': [0.9906769, (6, 6, 1)], 'g7f8': [0.9902222, (6, 6, 36)], 'g7h7': [0.9892152, (6, 6, 15)], 'g7f7': [0.9911139, (6, 6, 22)], 'g7h6': [0.9900265, (6, 6, 50)], 'g7g6': [0.99451, (6, 6, 8)], 'g7g5': [0.9867978, (6, 6, 9)], 'g7g4': [0.98931247, (6, 6, 10)], 'g7g3': [0.98890185, (6, 6, 11)], 'g7g2': [0.99477243, (6, 6, 12)], 'g7g1': [0.99730337, (6, 6, 13)], 'b7b8': [0.9899665, (1, 6, 1)], 'b7a7': [0.99931, (1, 6, 22)], 'd7d6': [0.995494, (3, 6, 8)], 'c7c6': [0.99298376, (2, 6, 8)], 'f6f5': [0.9961964, (5, 5, 8)], 'b6b5': [0.99301076, (1, 5, 8)], 'd7d5': [0.9905331, (3, 6, 9)], 'c7c5': [0.9902452, (2, 6, 9)]}\n",
      "{'f7f8': [0.9923019, (5, 6, 1)], 'f7h7': [0.99054205, (5, 6, 16)], 'f7g7': [0.991665, (5, 6, 15)], 'f7e7': [0.9937776, (5, 6, 22)], 'f7d7': [0.9975666, (5, 6, 23)], 'f7f6': [0.9956852, (5, 6, 8)], 'f3b7': [0.9897778, (5, 2, 39)], 'f3c6': [0.9899527, (5, 2, 38)], 'f3h5': [0.99477386, (5, 2, 30)], 'f3d5': [0.9926293, (5, 2, 37)], 'f3g4': [0.9950229, (5, 2, 29)], 'f3e4': [0.994867, (5, 2, 36)], 'f3g2': [0.9939159, (5, 2, 50)], 'f3h1': [0.9922695, (5, 2, 51)], 'h2h1': [0.9980842, (7, 1, 8)], 'c2c7': [0.99219084, (2, 1, 5)], 'c2c6': [0.99976707, (2, 1, 4)], 'c2c5': [0.99227417, (2, 1, 3)], 'c2c4': [0.9938993, (2, 1, 2)], 'c2a4': [0.992419, (2, 1, 37)], 'c2c3': [0.99402577, (2, 1, 1)], 'c2b3': [0.9949945, (2, 1, 36)], 'c2d1': [0.992232, (2, 1, 50)], 'c2c1': [0.9992733, (2, 1, 8)], 'b2f6': [0.99003124, (1, 1, 32)], 'b2e5': [0.9920335, (1, 1, 31)], 'b2d4': [0.99034786, (1, 1, 30)], 'b2c3': [0.99789584, (1, 1, 29)], 'b2a3': [0.9928063, (1, 1, 36)], 'b2c1': [0.9918788, (1, 1, 50)], 'b1c3': [0.9938521, (1, 0, 58)], 'b1a3': [0.9918779, (1, 0, 57)], 'h3h4': [0.99248207, (7, 2, 1)], 'd3d4': [0.99648416, (3, 2, 1)], 'e2e3': [0.997916, (4, 1, 1)], 'a2a3': [0.99319243, (0, 1, 1)], 'e2e4': [0.99779135, (4, 1, 2)], 'a2a4': [0.99108416, (0, 1, 2)]}\n",
      "{'h8g7': [0.9922336, (7, 7, 43)], 'e8d8': [0.99033153, (4, 7, 22)], 'e8f7': [0.9896768, (4, 7, 50)], 'b7b8': [0.99001074, (1, 6, 1)], 'b7a7': [0.999299, (1, 6, 22)], 'g5g8': [0.99054325, (6, 4, 3)], 'g5g7': [0.99277914, (6, 4, 2)], 'g5h6': [0.99284965, (6, 4, 29)], 'g5g6': [0.9979197, (6, 4, 1)], 'g5h5': [0.9986099, (6, 4, 15)], 'g5f5': [0.99226546, (6, 4, 22)], 'g5e5': [0.9955058, (6, 4, 23)], 'g5d5': [0.9948602, (6, 4, 24)], 'g5c5': [0.9937836, (6, 4, 25)], 'g5b5': [0.9998637, (6, 4, 26)], 'g5a5': [0.9956156, (6, 4, 27)], 'g5h4': [0.99265194, (6, 4, 50)], 'g5g4': [0.9996378, (6, 4, 8)], 'g5f4': [0.99153525, (6, 4, 43)], 'g5g3': [0.9980971, (6, 4, 9)], 'g5e3': [0.9886333, (6, 4, 44)], 'g5g2': [0.99224013, (6, 4, 10)], 'g5d2': [0.9939654, (6, 4, 45)], 'g5g1': [0.9997345, (6, 4, 11)], 'd7c6': [0.9931507, (3, 6, 43)], 'f6f5': [0.9966632, (5, 5, 8)], 'b6b5': [0.9936955, (1, 5, 8)]}\n",
      "{'f7f8': [0.9923024, (5, 6, 1)], 'f7h7': [0.9905115, (5, 6, 16)], 'f7g7': [0.99160254, (5, 6, 15)], 'f7e7': [0.993729, (5, 6, 22)], 'f7d7': [0.9975648, (5, 6, 23)], 'f7f6': [0.99568224, (5, 6, 8)], 'c6d7': [0.9893122, (2, 5, 29)], 'c6c7': [0.99244076, (2, 5, 1)], 'c6b7': [0.99086565, (2, 5, 36)], 'c6f6': [0.99162424, (2, 5, 17)], 'c6e6': [0.99436164, (2, 5, 16)], 'c6d6': [0.9902967, (2, 5, 15)], 'c6b6': [0.991685, (2, 5, 22)], 'c6d5': [0.99980557, (2, 5, 50)], 'c6c5': [0.9969685, (2, 5, 8)], 'c6b5': [0.9878651, (2, 5, 43)], 'c6e4': [0.9890137, (2, 5, 51)], 'c6c4': [0.9919832, (2, 5, 9)], 'c6a4': [0.9887428, (2, 5, 44)], 'c6c3': [0.9889492, (2, 5, 10)], 'c6c2': [0.9956633, (2, 5, 11)], 'c6c1': [0.994643, (2, 5, 12)], 'f3h5': [0.99476683, (5, 2, 30)], 'f3d5': [0.9925778, (5, 2, 37)], 'f3g4': [0.9949706, (5, 2, 29)], 'f3e4': [0.99478835, (5, 2, 36)], 'f3g2': [0.99396247, (5, 2, 50)], 'f3h1': [0.99232554, (5, 2, 51)], 'h2g3': [0.99862397, (7, 1, 36)], 'h2g2': [0.9920656, (7, 1, 22)], 'h2h1': [0.998096, (7, 1, 8)], 'b2f6': [0.9899807, (1, 1, 32)], 'b2e5': [0.99196434, (1, 1, 31)], 'b2d4': [0.9902372, (1, 1, 30)], 'b2c3': [0.9978324, (1, 1, 29)], 'b2a3': [0.9927505, (1, 1, 36)], 'b2c1': [0.9917804, (1, 1, 50)], 'b1c3': [0.9937054, (1, 0, 58)], 'b1a3': [0.99179757, (1, 0, 57)], 'd2e3': [0.9998983, (3, 1, 29)], 'h3h4': [0.9924445, (7, 2, 1)], 'd3d4': [0.99641657, (3, 2, 1)], 'a2a3': [0.99313974, (0, 1, 1)], 'a2a4': [0.9909599, (0, 1, 2)]}\n",
      "{'h8g7': [0.99212146, (7, 7, 43)], 'e8d8': [0.99007344, (4, 7, 22)], 'e8f7': [0.98968434, (4, 7, 50)], 'b7b8': [0.9899361, (1, 6, 1)], 'b7a7': [0.9993107, (1, 6, 22)], 'd7c6': [0.99310994, (3, 6, 43)], 'f6f5': [0.9960998, (5, 5, 8)], 'b6b5': [0.992851, (1, 5, 8)]}\n",
      "{'c6d7': [0.98927313, (2, 5, 29)], 'c6c7': [0.9922762, (2, 5, 1)], 'c6b7': [0.99064434, (2, 5, 36)], 'c6f6': [0.9916014, (2, 5, 17)], 'c6e6': [0.99421096, (2, 5, 16)], 'c6d6': [0.99009556, (2, 5, 15)], 'c6b6': [0.99136907, (2, 5, 22)], 'c6d5': [0.9998106, (2, 5, 50)], 'c6c5': [0.99678886, (2, 5, 8)], 'c6b5': [0.98789895, (2, 5, 43)], 'c6e4': [0.9889878, (2, 5, 51)], 'c6c4': [0.99178237, (2, 5, 9)], 'c6a4': [0.98855793, (2, 5, 44)], 'c6c3': [0.9886185, (2, 5, 10)], 'c6c2': [0.9954365, (2, 5, 11)], 'c6c1': [0.9944876, (2, 5, 12)], 'f3h5': [0.9944304, (5, 2, 30)], 'f3d5': [0.9921239, (5, 2, 37)], 'f3g4': [0.99460775, (5, 2, 29)], 'f3e4': [0.9943558, (5, 2, 36)], 'f3g2': [0.9936242, (5, 2, 50)], 'f3h1': [0.9920143, (5, 2, 51)], 'h2g3': [0.9985352, (7, 1, 36)], 'h2g2': [0.9917092, (7, 1, 22)], 'h2h1': [0.99796975, (7, 1, 8)], 'b2f6': [0.98981214, (1, 1, 32)], 'b2e5': [0.9915216, (1, 1, 31)], 'b2d4': [0.9897851, (1, 1, 30)], 'b2c3': [0.9976883, (1, 1, 29)], 'b2a3': [0.9925957, (1, 1, 36)], 'b2c1': [0.99130356, (1, 1, 50)], 'b1c3': [0.9931884, (1, 0, 58)], 'b1a3': [0.9914063, (1, 0, 57)], 'b1d2': [0.991622, (1, 0, 59)], 'h3h4': [0.9920964, (7, 2, 1)], 'e3e4': [0.9976866, (4, 2, 1)], 'd3d4': [0.9961318, (3, 2, 1)], 'a2a3': [0.99284935, (0, 1, 1)], 'a2a4': [0.99065053, (0, 1, 2)]}\n",
      "{'f7f8': [0.9920468, (5, 6, 1)], 'f7e8': [0.9925133, (5, 6, 36)], 'f7g7': [0.9913965, (5, 6, 15)], 'f7e7': [0.9935628, (5, 6, 22)], 'f7g6': [0.98955965, (5, 6, 50)]}\n",
      "{'d5g8': [0.9896625, (3, 4, 31)], 'd5f7': [0.9942184, (3, 4, 30)], 'd5d7': [0.9945008, (3, 4, 2)], 'd5b7': [0.9900502, (3, 4, 37)], 'd5e6': [0.9911095, (3, 4, 29)], 'd5d6': [0.9990294, (3, 4, 1)], 'd5c6': [0.990921, (3, 4, 36)], 'd5h5': [0.98965853, (3, 4, 18)], 'd5g5': [0.9902171, (3, 4, 17)], 'd5f5': [0.9932487, (3, 4, 16)], 'd5e5': [0.99928313, (3, 4, 15)], 'd5c5': [0.9907635, (3, 4, 22)], 'd5b5': [0.99231184, (3, 4, 23)], 'd5a5': [0.99161375, (3, 4, 24)], 'd5e4': [0.9926934, (3, 4, 50)], 'd5d4': [0.99982536, (3, 4, 8)], 'd5c4': [0.99142843, (3, 4, 43)], 'd5b3': [0.9897976, (3, 4, 44)], 'f3h5': [0.9946109, (5, 2, 30)], 'f3g4': [0.99474317, (5, 2, 29)], 'f3e4': [0.99460566, (5, 2, 36)], 'f3g2': [0.9937778, (5, 2, 50)], 'f3h1': [0.9922249, (5, 2, 51)], 'h2g3': [0.99858093, (7, 1, 36)], 'h2g2': [0.9919286, (7, 1, 22)], 'h2h1': [0.9980484, (7, 1, 8)], 'b2f6': [0.98994625, (1, 1, 32)], 'b2e5': [0.9918473, (1, 1, 31)], 'b2d4': [0.9901278, (1, 1, 30)], 'b2c3': [0.9978032, (1, 1, 29)], 'b2a3': [0.9927455, (1, 1, 36)], 'b2c1': [0.9917048, (1, 1, 50)], 'b1c3': [0.99358225, (1, 0, 58)], 'b1a3': [0.9917335, (1, 0, 57)], 'b1d2': [0.9920399, (1, 0, 59)], 'h3h4': [0.99223214, (7, 2, 1)], 'e3e4': [0.9977485, (4, 2, 1)], 'd3d4': [0.9963101, (3, 2, 1)], 'a2a3': [0.9930833, (0, 1, 1)], 'a2a4': [0.99087024, (0, 1, 2)]}\n"
     ]
    },
    {
     "name": "stdout",
     "output_type": "stream",
     "text": [
      "{'h8g7': [0.99208593, (7, 7, 43)], 'b7b8': [0.98998606, (1, 6, 1)], 'b7a7': [0.99932563, (1, 6, 22)], 'g6h7': [0.98948604, (6, 5, 29)], 'g6g7': [0.99030054, (6, 5, 1)], 'g6f7': [0.99449, (6, 5, 36)], 'g6h6': [0.99047816, (6, 5, 15)], 'g6g5': [0.99405754, (6, 5, 8)], 'g6f5': [0.9908246, (6, 5, 43)], 'd7d6': [0.9951587, (3, 6, 8)], 'c7c6': [0.9926058, (2, 6, 8)], 'f6f5': [0.99591494, (5, 5, 8)], 'b6b5': [0.9927007, (1, 5, 8)], 'd7d5': [0.9903681, (3, 6, 9)], 'c7c5': [0.99003375, (2, 6, 9)]}\n",
      "{'d4d7': [0.9899602, (3, 3, 3)], 'd4f6': [0.99318665, (3, 3, 30)], 'd4d6': [0.9928372, (3, 3, 2)], 'd4b6': [0.99072385, (3, 3, 37)], 'd4e5': [0.9934072, (3, 3, 29)], 'd4d5': [0.9981625, (3, 3, 1)], 'd4c5': [0.9892481, (3, 3, 36)], 'd4h4': [0.9919764, (3, 3, 18)], 'd4g4': [0.99077153, (3, 3, 17)], 'd4f4': [0.99194574, (3, 3, 16)], 'd4e4': [0.9980556, (3, 3, 15)], 'd4c4': [0.9919025, (3, 3, 22)], 'd4b4': [0.99164987, (3, 3, 23)], 'd4a4': [0.9914735, (3, 3, 24)], 'd4c3': [0.99051493, (3, 3, 43)], 'f3b7': [0.9893395, (5, 2, 39)], 'f3c6': [0.989911, (5, 2, 38)], 'f3h5': [0.9941431, (5, 2, 30)], 'f3d5': [0.99183494, (5, 2, 37)], 'f3g4': [0.9942951, (5, 2, 29)], 'f3e4': [0.9940792, (5, 2, 36)], 'f3g2': [0.99332917, (5, 2, 50)], 'f3h1': [0.99179983, (5, 2, 51)], 'h2g3': [0.9984721, (7, 1, 36)], 'h2g2': [0.99148375, (7, 1, 22)], 'h2h1': [0.9978751, (7, 1, 8)], 'b2c3': [0.9976096, (1, 1, 29)], 'b2a3': [0.99258244, (1, 1, 36)], 'b2c1': [0.9910851, (1, 1, 50)], 'b1c3': [0.9929011, (1, 0, 58)], 'b1a3': [0.9912491, (1, 0, 57)], 'b1d2': [0.9914185, (1, 0, 59)], 'h3h4': [0.9916908, (7, 2, 1)], 'e3e4': [0.997569, (4, 2, 1)], 'a2a3': [0.992736, (0, 1, 1)], 'a2a4': [0.9904901, (0, 1, 2)]}\n",
      "{'h8g7': [0.99205625, (7, 7, 43)], 'h7g8': [0.9897087, (7, 6, 36)], 'h7g7': [0.9880219, (7, 6, 22)], 'h7h6': [0.99448967, (7, 6, 8)], 'h7g6': [0.9893711, (7, 6, 43)], 'b7b8': [0.98996043, (1, 6, 1)], 'b7a7': [0.99933505, (1, 6, 22)], 'd7d6': [0.994878, (3, 6, 8)], 'c7c6': [0.99227977, (2, 6, 8)], 'f6f5': [0.9956602, (5, 5, 8)], 'b6b5': [0.99242353, (1, 5, 8)], 'd7d5': [0.9901771, (3, 6, 9)], 'c7c5': [0.9898416, (2, 6, 9)]}\n",
      "{'d4d7': [0.98958665, (3, 3, 3)], 'd4f6': [0.99300086, (3, 3, 30)], 'd4d6': [0.9924568, (3, 3, 2)], 'd4b6': [0.99059975, (3, 3, 37)], 'd4e5': [0.9930905, (3, 3, 29)], 'd4d5': [0.9980962, (3, 3, 1)], 'd4c5': [0.98890173, (3, 3, 36)], 'd4h4': [0.9917346, (3, 3, 18)], 'd4g4': [0.99048686, (3, 3, 17)], 'd4f4': [0.99164855, (3, 3, 16)], 'd4e4': [0.99796534, (3, 3, 15)], 'd4c4': [0.99162817, (3, 3, 22)], 'd4b4': [0.9914396, (3, 3, 23)], 'd4a4': [0.9913517, (3, 3, 24)], 'd4c3': [0.99024224, (3, 3, 43)], 'g3h4': [0.9953001, (6, 2, 29)], 'g3g4': [0.9910917, (6, 2, 1)], 'g3f4': [0.99749076, (6, 2, 36)], 'g3h2': [0.99132335, (6, 2, 50)], 'g3g2': [0.99932694, (6, 2, 8)], 'g3f2': [0.99167794, (6, 2, 43)], 'f3b7': [0.98918813, (5, 2, 39)], 'f3c6': [0.9898703, (5, 2, 38)], 'f3h5': [0.99388564, (5, 2, 30)], 'f3d5': [0.9914924, (5, 2, 37)], 'f3g4': [0.9939852, (5, 2, 29)], 'f3e4': [0.9938117, (5, 2, 36)], 'f3g2': [0.99306834, (5, 2, 50)], 'f3h1': [0.9915589, (5, 2, 51)], 'b2c3': [0.9975042, (1, 1, 29)], 'b2a3': [0.9925082, (1, 1, 36)], 'b2c1': [0.9907993, (1, 1, 50)], 'b1c3': [0.9925817, (1, 0, 58)], 'b1a3': [0.99104166, (1, 0, 57)], 'b1d2': [0.99113077, (1, 0, 59)], 'h3h4': [0.99139106, (7, 2, 1)], 'e3e4': [0.9974445, (4, 2, 1)], 'a2a3': [0.99257034, (0, 1, 1)], 'a2a4': [0.99030685, (0, 1, 2)]}\n",
      "{'g7g8': [0.99045897, (6, 6, 1)], 'g7f8': [0.9897208, (6, 6, 36)], 'g7h7': [0.98842907, (6, 6, 15)], 'g7f7': [0.9907234, (6, 6, 22)], 'g7h6': [0.9898931, (6, 6, 50)], 'g7g6': [0.99392855, (6, 6, 8)], 'b7b8': [0.98996454, (1, 6, 1)], 'b7a7': [0.99934304, (1, 6, 22)], 'd7d6': [0.99466455, (3, 6, 8)], 'c7c6': [0.9920579, (2, 6, 8)], 'b6b5': [0.99225986, (1, 5, 8)], 'd7d5': [0.99003744, (3, 6, 9)], 'c7c5': [0.9897295, (2, 6, 9)]}\n",
      "{'d4d7': [0.98951566, (3, 3, 3)], 'd4f6': [0.99295634, (3, 3, 30)], 'd4d6': [0.9923506, (3, 3, 2)], 'd4b6': [0.9905782, (3, 3, 37)], 'd4e5': [0.99301654, (3, 3, 29)], 'd4d5': [0.9980819, (3, 3, 1)], 'd4c5': [0.98885983, (3, 3, 36)], 'd4h4': [0.9916507, (3, 3, 18)], 'd4g4': [0.99038655, (3, 3, 17)], 'd4f4': [0.99155587, (3, 3, 16)], 'd4e4': [0.9979389, (3, 3, 15)], 'd4c4': [0.9915588, (3, 3, 22)], 'd4b4': [0.99141425, (3, 3, 23)], 'd4a4': [0.99135256, (3, 3, 24)], 'd4c3': [0.9901814, (3, 3, 43)], 'f3b7': [0.9891639, (5, 2, 39)], 'f3c6': [0.98986167, (5, 2, 38)], 'f3h5': [0.99377483, (5, 2, 30)], 'f3d5': [0.99135673, (5, 2, 37)], 'f3g4': [0.99386764, (5, 2, 29)], 'f3e4': [0.99371505, (5, 2, 36)], 'g2g3': [0.9915149, (6, 1, 1)], 'g2h2': [0.9992833, (6, 1, 15)], 'g2f2': [0.990691, (6, 1, 22)], 'g2h1': [0.9916293, (6, 1, 50)], 'g2f1': [0.9919493, (6, 1, 43)], 'b2c3': [0.9974688, (1, 1, 29)], 'b2a3': [0.9924789, (1, 1, 36)], 'b2c1': [0.99068016, (1, 1, 50)], 'b1c3': [0.99246264, (1, 0, 58)], 'b1a3': [0.99095786, (1, 0, 57)], 'b1d2': [0.9910103, (1, 0, 59)], 'h3h4': [0.99129426, (7, 2, 1)], 'e3e4': [0.9973899, (4, 2, 1)], 'a2a3': [0.99248874, (0, 1, 1)], 'a2a4': [0.99021006, (0, 1, 2)]}\n",
      "{'h8g7': [0.9920765, (7, 7, 43)], 'h7g8': [0.98974866, (7, 6, 36)], 'h7g7': [0.9880562, (7, 6, 22)], 'h7h6': [0.9945543, (7, 6, 8)], 'h7g6': [0.9894322, (7, 6, 43)], 'b7b8': [0.9899828, (1, 6, 1)], 'b7a7': [0.99932826, (1, 6, 22)], 'd7d6': [0.995065, (3, 6, 8)], 'c7c6': [0.9924937, (2, 6, 8)], 'f6f5': [0.99581873, (5, 5, 8)], 'b6b5': [0.9926026, (1, 5, 8)], 'd7d5': [0.9903079, (3, 6, 9)], 'c7c5': [0.9899701, (2, 6, 9)]}\n",
      "{'d4d7': [0.9899277, (3, 3, 3)], 'd4f6': [0.9931786, (3, 3, 30)], 'd4d6': [0.99281156, (3, 3, 2)], 'd4b6': [0.9907267, (3, 3, 37)], 'd4e5': [0.99337596, (3, 3, 29)], 'd4d5': [0.99815786, (3, 3, 1)], 'd4c5': [0.98922354, (3, 3, 36)], 'd4h4': [0.9919653, (3, 3, 18)], 'd4g4': [0.9907608, (3, 3, 17)], 'd4f4': [0.99192774, (3, 3, 16)], 'd4e4': [0.998051, (3, 3, 15)], 'd4c4': [0.9918886, (3, 3, 22)], 'd4b4': [0.99163777, (3, 3, 23)], 'd4a4': [0.9914814, (3, 3, 24)], 'd4c3': [0.9904952, (3, 3, 43)], 'f3b7': [0.9893321, (5, 2, 39)], 'f3c6': [0.9899235, (5, 2, 38)], 'f3h5': [0.9941137, (5, 2, 30)], 'f3d5': [0.99179983, (5, 2, 37)], 'f3g4': [0.9942678, (5, 2, 29)], 'f3e4': [0.99405694, (5, 2, 36)], 'f3g2': [0.9932922, (5, 2, 50)], 'f3h1': [0.991766, (5, 2, 51)], 'h2g3': [0.99846315, (7, 1, 36)], 'h2g2': [0.99144185, (7, 1, 22)], 'h2h1': [0.99786013, (7, 1, 8)], 'b2c3': [0.9976102, (1, 1, 29)], 'b2a3': [0.9925788, (1, 1, 36)], 'b2c1': [0.99106956, (1, 1, 50)], 'b1c3': [0.9928906, (1, 0, 58)], 'b1a3': [0.99123156, (1, 0, 57)], 'b1d2': [0.99140024, (1, 0, 59)], 'h3h4': [0.9916574, (7, 2, 1)], 'e3e4': [0.9975617, (4, 2, 1)], 'a2a3': [0.99272037, (0, 1, 1)], 'a2a4': [0.9904859, (0, 1, 2)]}\n",
      "{'g7g8': [0.99050283, (6, 6, 1)], 'g7f8': [0.9898236, (6, 6, 36)], 'g7h7': [0.98859334, (6, 6, 15)], 'g7f7': [0.99080634, (6, 6, 22)], 'g7h6': [0.9899051, (6, 6, 50)], 'g7g6': [0.99403775, (6, 6, 8)], 'b7b8': [0.9899689, (1, 6, 1)], 'b7a7': [0.9993386, (1, 6, 22)], 'd7d6': [0.994827, (3, 6, 8)], 'c7c6': [0.9922286, (2, 6, 8)], 'b6b5': [0.9923873, (1, 5, 8)], 'd7d5': [0.99014604, (3, 6, 9)], 'c7c5': [0.98981327, (2, 6, 9)]}\n",
      "{'d4d7': [0.9896755, (3, 3, 3)], 'd4f6': [0.9930404, (3, 3, 30)], 'd4d6': [0.99254906, (3, 3, 2)], 'd4b6': [0.99062, (3, 3, 37)], 'd4e5': [0.99315846, (3, 3, 29)], 'd4d5': [0.99811244, (3, 3, 1)], 'd4c5': [0.98898745, (3, 3, 36)], 'd4h4': [0.9917919, (3, 3, 18)], 'd4g4': [0.99055284, (3, 3, 17)], 'd4f4': [0.9917184, (3, 3, 16)], 'd4e4': [0.99798787, (3, 3, 15)], 'd4c4': [0.99168426, (3, 3, 22)], 'd4b4': [0.9914897, (3, 3, 23)], 'd4a4': [0.9913814, (3, 3, 24)], 'd4c3': [0.99030066, (3, 3, 43)], 'g3h4': [0.99537814, (6, 2, 29)], 'g3g4': [0.9911809, (6, 2, 1)], 'g3f4': [0.9975368, (6, 2, 36)], 'g3h2': [0.9913948, (6, 2, 50)], 'g3g2': [0.9993339, (6, 2, 8)], 'g3f2': [0.9917722, (6, 2, 43)], 'f3b7': [0.9892339, (5, 2, 39)], 'f3c6': [0.98987234, (5, 2, 38)], 'f3h5': [0.99394655, (5, 2, 30)], 'f3d5': [0.99155533, (5, 2, 37)], 'f3g4': [0.9940797, (5, 2, 29)], 'f3e4': [0.99387705, (5, 2, 36)], 'f3g2': [0.9931319, (5, 2, 50)], 'f3h1': [0.99160326, (5, 2, 51)], 'b2c3': [0.9975227, (1, 1, 29)], 'b2a3': [0.9925157, (1, 1, 36)], 'b2c1': [0.9908333, (1, 1, 50)], 'b1c3': [0.9926351, (1, 0, 58)], 'b1a3': [0.9910737, (1, 0, 57)], 'b1d2': [0.9911722, (1, 0, 59)], 'h3h4': [0.9914797, (7, 2, 1)], 'e3e4': [0.99747443, (4, 2, 1)], 'a2a3': [0.992599, (0, 1, 1)], 'a2a4': [0.9903416, (0, 1, 2)]}\n",
      "{'h8g7': [0.9920398, (7, 7, 43)], 'h7g8': [0.98968387, (7, 6, 36)], 'h7g7': [0.9880135, (7, 6, 22)], 'h7h6': [0.9944385, (7, 6, 8)], 'h7g6': [0.98932564, (7, 6, 43)], 'b7b8': [0.9899576, (1, 6, 1)], 'b7a7': [0.99933827, (1, 6, 22)], 'd7d6': [0.9947459, (3, 6, 8)], 'c7c6': [0.9921477, (2, 6, 8)], 'f6f5': [0.99551916, (5, 5, 8)], 'b6b5': [0.9923184, (1, 5, 8)], 'd7d5': [0.99008834, (3, 6, 9)], 'c7c5': [0.98976994, (2, 6, 9)]}\n",
      "{'d4d7': [0.9894046, (3, 3, 3)], 'd4f6': [0.9929036, (3, 3, 30)], 'd4d6': [0.9922072, (3, 3, 2)], 'd4b6': [0.9905448, (3, 3, 37)], 'd4e5': [0.99291277, (3, 3, 29)], 'd4d5': [0.99805856, (3, 3, 1)], 'd4c5': [0.9887434, (3, 3, 36)], 'd4h4': [0.9915813, (3, 3, 18)], 'd4g4': [0.99029183, (3, 3, 17)], 'd4f4': [0.9914527, (3, 3, 16)], 'd4e4': [0.9979076, (3, 3, 15)], 'd4c4': [0.9914694, (3, 3, 22)], 'd4b4': [0.99135494, (3, 3, 23)], 'd4a4': [0.9913166, (3, 3, 24)], 'd4c3': [0.99008733, (3, 3, 43)], 'f3b7': [0.98911715, (5, 2, 39)], 'f3c6': [0.9898484, (5, 2, 38)], 'f3h5': [0.9936735, (5, 2, 30)], 'f3d5': [0.9912466, (5, 2, 37)], 'f3g4': [0.9937403, (5, 2, 29)], 'f3e4': [0.99361813, (5, 2, 36)], 'g2g3': [0.99137294, (6, 1, 1)], 'g2h2': [0.99927187, (6, 1, 15)], 'g2f2': [0.9905412, (6, 1, 22)], 'g2h1': [0.99152064, (6, 1, 50)], 'g2f1': [0.99180675, (6, 1, 43)], 'b2c3': [0.99743336, (1, 1, 29)], 'b2a3': [0.9924561, (1, 1, 36)], 'b2c1': [0.9906101, (1, 1, 50)], 'b1c3': [0.9923704, (1, 0, 58)], 'b1a3': [0.99089503, (1, 0, 57)], 'b1d2': [0.9909308, (1, 0, 59)], 'h3h4': [0.99117845, (7, 2, 1)], 'e3e4': [0.9973404, (4, 2, 1)], 'a2a3': [0.99243253, (0, 1, 1)], 'a2a4': [0.99015033, (0, 1, 2)]}\n",
      "{'g7g8': [0.99055505, (6, 6, 1)], 'g7f8': [0.989954, (6, 6, 36)], 'g7h7': [0.9887867, (6, 6, 15)], 'g7f7': [0.99091196, (6, 6, 22)], 'g7h6': [0.9899531, (6, 6, 50)], 'g7g6': [0.9941734, (6, 6, 8)], 'b7b8': [0.9900031, (1, 6, 1)], 'b7a7': [0.99933183, (1, 6, 22)], 'd7d6': [0.9950473, (3, 6, 8)], 'c7c6': [0.992484, (2, 6, 8)], 'b6b5': [0.99260646, (1, 5, 8)], 'd7d5': [0.9903084, (3, 6, 9)], 'c7c5': [0.98997545, (2, 6, 9)]}\n",
      "{'d4d7': [0.9899602, (3, 3, 3)], 'd4f6': [0.99318665, (3, 3, 30)], 'd4d6': [0.9928372, (3, 3, 2)], 'd4b6': [0.99072385, (3, 3, 37)], 'd4e5': [0.9934072, (3, 3, 29)], 'd4d5': [0.9981625, (3, 3, 1)], 'd4c5': [0.9892481, (3, 3, 36)], 'd4h4': [0.9919764, (3, 3, 18)], 'd4g4': [0.99077153, (3, 3, 17)], 'd4f4': [0.99194574, (3, 3, 16)], 'd4e4': [0.9980556, (3, 3, 15)], 'd4c4': [0.9919025, (3, 3, 22)], 'd4b4': [0.99164987, (3, 3, 23)], 'd4a4': [0.9914735, (3, 3, 24)], 'd4c3': [0.99051493, (3, 3, 43)], 'f3b7': [0.9893395, (5, 2, 39)], 'f3c6': [0.989911, (5, 2, 38)], 'f3h5': [0.9941431, (5, 2, 30)], 'f3d5': [0.99183494, (5, 2, 37)], 'f3g4': [0.9942951, (5, 2, 29)], 'f3e4': [0.9940792, (5, 2, 36)], 'f3g2': [0.99332917, (5, 2, 50)], 'f3h1': [0.99179983, (5, 2, 51)], 'h2g3': [0.9984721, (7, 1, 36)], 'h2g2': [0.99148375, (7, 1, 22)], 'h2h1': [0.9978751, (7, 1, 8)], 'b2c3': [0.9976096, (1, 1, 29)], 'b2a3': [0.99258244, (1, 1, 36)], 'b2c1': [0.9910851, (1, 1, 50)], 'b1c3': [0.9929011, (1, 0, 58)], 'b1a3': [0.9912491, (1, 0, 57)], 'b1d2': [0.9914185, (1, 0, 59)], 'h3h4': [0.9916908, (7, 2, 1)], 'e3e4': [0.997569, (4, 2, 1)], 'a2a3': [0.992736, (0, 1, 1)], 'a2a4': [0.9904901, (0, 1, 2)]}\n",
      "{'h8g7': [0.99205625, (7, 7, 43)], 'h7g8': [0.9897087, (7, 6, 36)], 'h7g7': [0.9880219, (7, 6, 22)], 'h7h6': [0.99448967, (7, 6, 8)], 'h7g6': [0.9893711, (7, 6, 43)], 'b7b8': [0.98996043, (1, 6, 1)], 'b7a7': [0.99933505, (1, 6, 22)], 'd7d6': [0.994878, (3, 6, 8)], 'c7c6': [0.99227977, (2, 6, 8)], 'f6f5': [0.9956602, (5, 5, 8)], 'b6b5': [0.99242353, (1, 5, 8)], 'd7d5': [0.9901771, (3, 6, 9)], 'c7c5': [0.9898416, (2, 6, 9)]}\n",
      "{'d4d7': [0.98958665, (3, 3, 3)], 'd4f6': [0.99300086, (3, 3, 30)], 'd4d6': [0.9924568, (3, 3, 2)], 'd4b6': [0.99059975, (3, 3, 37)], 'd4e5': [0.9930905, (3, 3, 29)], 'd4d5': [0.9980962, (3, 3, 1)], 'd4c5': [0.98890173, (3, 3, 36)], 'd4h4': [0.9917346, (3, 3, 18)], 'd4g4': [0.99048686, (3, 3, 17)], 'd4f4': [0.99164855, (3, 3, 16)], 'd4e4': [0.99796534, (3, 3, 15)], 'd4c4': [0.99162817, (3, 3, 22)], 'd4b4': [0.9914396, (3, 3, 23)], 'd4a4': [0.9913517, (3, 3, 24)], 'd4c3': [0.99024224, (3, 3, 43)], 'g3h4': [0.9953001, (6, 2, 29)], 'g3g4': [0.9910917, (6, 2, 1)], 'g3f4': [0.99749076, (6, 2, 36)], 'g3h2': [0.99132335, (6, 2, 50)], 'g3g2': [0.99932694, (6, 2, 8)], 'g3f2': [0.99167794, (6, 2, 43)], 'f3b7': [0.98918813, (5, 2, 39)], 'f3c6': [0.9898703, (5, 2, 38)], 'f3h5': [0.99388564, (5, 2, 30)], 'f3d5': [0.9914924, (5, 2, 37)], 'f3g4': [0.9939852, (5, 2, 29)], 'f3e4': [0.9938117, (5, 2, 36)], 'f3g2': [0.99306834, (5, 2, 50)], 'f3h1': [0.9915589, (5, 2, 51)], 'b2c3': [0.9975042, (1, 1, 29)], 'b2a3': [0.9925082, (1, 1, 36)], 'b2c1': [0.9907993, (1, 1, 50)], 'b1c3': [0.9925817, (1, 0, 58)], 'b1a3': [0.99104166, (1, 0, 57)], 'b1d2': [0.99113077, (1, 0, 59)], 'h3h4': [0.99139106, (7, 2, 1)], 'e3e4': [0.9974445, (4, 2, 1)], 'a2a3': [0.99257034, (0, 1, 1)], 'a2a4': [0.99030685, (0, 1, 2)]}\n",
      "{'g7g8': [0.99045897, (6, 6, 1)], 'g7f8': [0.9897208, (6, 6, 36)], 'g7h7': [0.98842907, (6, 6, 15)], 'g7f7': [0.9907234, (6, 6, 22)], 'g7h6': [0.9898931, (6, 6, 50)], 'g7g6': [0.99392855, (6, 6, 8)], 'b7b8': [0.98996454, (1, 6, 1)], 'b7a7': [0.99934304, (1, 6, 22)], 'd7d6': [0.99466455, (3, 6, 8)], 'c7c6': [0.9920579, (2, 6, 8)], 'b6b5': [0.99225986, (1, 5, 8)], 'd7d5': [0.99003744, (3, 6, 9)], 'c7c5': [0.9897295, (2, 6, 9)]}\n",
      "{'d4d7': [0.98951566, (3, 3, 3)], 'd4f6': [0.99295634, (3, 3, 30)], 'd4d6': [0.9923506, (3, 3, 2)], 'd4b6': [0.9905782, (3, 3, 37)], 'd4e5': [0.99301654, (3, 3, 29)], 'd4d5': [0.9980819, (3, 3, 1)], 'd4c5': [0.98885983, (3, 3, 36)], 'd4h4': [0.9916507, (3, 3, 18)], 'd4g4': [0.99038655, (3, 3, 17)], 'd4f4': [0.99155587, (3, 3, 16)], 'd4e4': [0.9979389, (3, 3, 15)], 'd4c4': [0.9915588, (3, 3, 22)], 'd4b4': [0.99141425, (3, 3, 23)], 'd4a4': [0.99135256, (3, 3, 24)], 'd4c3': [0.9901814, (3, 3, 43)], 'f3b7': [0.9891639, (5, 2, 39)], 'f3c6': [0.98986167, (5, 2, 38)], 'f3h5': [0.99377483, (5, 2, 30)], 'f3d5': [0.99135673, (5, 2, 37)], 'f3g4': [0.99386764, (5, 2, 29)], 'f3e4': [0.99371505, (5, 2, 36)], 'g2g3': [0.9915149, (6, 1, 1)], 'g2h2': [0.9992833, (6, 1, 15)], 'g2f2': [0.990691, (6, 1, 22)], 'g2h1': [0.9916293, (6, 1, 50)], 'g2f1': [0.9919493, (6, 1, 43)], 'b2c3': [0.9974688, (1, 1, 29)], 'b2a3': [0.9924789, (1, 1, 36)], 'b2c1': [0.99068016, (1, 1, 50)], 'b1c3': [0.99246264, (1, 0, 58)], 'b1a3': [0.99095786, (1, 0, 57)], 'b1d2': [0.9910103, (1, 0, 59)], 'h3h4': [0.99129426, (7, 2, 1)], 'e3e4': [0.9973899, (4, 2, 1)], 'a2a3': [0.99248874, (0, 1, 1)], 'a2a4': [0.99021006, (0, 1, 2)]}\n",
      "{'h8g7': [0.9920765, (7, 7, 43)], 'h7g8': [0.98974866, (7, 6, 36)], 'h7g7': [0.9880562, (7, 6, 22)], 'h7h6': [0.9945543, (7, 6, 8)], 'h7g6': [0.9894322, (7, 6, 43)], 'b7b8': [0.9899828, (1, 6, 1)], 'b7a7': [0.99932826, (1, 6, 22)], 'd7d6': [0.995065, (3, 6, 8)], 'c7c6': [0.9924937, (2, 6, 8)], 'f6f5': [0.99581873, (5, 5, 8)], 'b6b5': [0.9926026, (1, 5, 8)], 'd7d5': [0.9903079, (3, 6, 9)], 'c7c5': [0.9899701, (2, 6, 9)]}\n",
      "{'d4d7': [0.9899277, (3, 3, 3)], 'd4f6': [0.9931786, (3, 3, 30)], 'd4d6': [0.99281156, (3, 3, 2)], 'd4b6': [0.9907267, (3, 3, 37)], 'd4e5': [0.99337596, (3, 3, 29)], 'd4d5': [0.99815786, (3, 3, 1)], 'd4c5': [0.98922354, (3, 3, 36)], 'd4h4': [0.9919653, (3, 3, 18)], 'd4g4': [0.9907608, (3, 3, 17)], 'd4f4': [0.99192774, (3, 3, 16)], 'd4e4': [0.998051, (3, 3, 15)], 'd4c4': [0.9918886, (3, 3, 22)], 'd4b4': [0.99163777, (3, 3, 23)], 'd4a4': [0.9914814, (3, 3, 24)], 'd4c3': [0.9904952, (3, 3, 43)], 'f3b7': [0.9893321, (5, 2, 39)], 'f3c6': [0.9899235, (5, 2, 38)], 'f3h5': [0.9941137, (5, 2, 30)], 'f3d5': [0.99179983, (5, 2, 37)], 'f3g4': [0.9942678, (5, 2, 29)], 'f3e4': [0.99405694, (5, 2, 36)], 'f3g2': [0.9932922, (5, 2, 50)], 'f3h1': [0.991766, (5, 2, 51)], 'h2g3': [0.99846315, (7, 1, 36)], 'h2g2': [0.99144185, (7, 1, 22)], 'h2h1': [0.99786013, (7, 1, 8)], 'b2c3': [0.9976102, (1, 1, 29)], 'b2a3': [0.9925788, (1, 1, 36)], 'b2c1': [0.99106956, (1, 1, 50)], 'b1c3': [0.9928906, (1, 0, 58)], 'b1a3': [0.99123156, (1, 0, 57)], 'b1d2': [0.99140024, (1, 0, 59)], 'h3h4': [0.9916574, (7, 2, 1)], 'e3e4': [0.9975617, (4, 2, 1)], 'a2a3': [0.99272037, (0, 1, 1)], 'a2a4': [0.9904859, (0, 1, 2)]}\n",
      "{'g7g8': [0.99050283, (6, 6, 1)], 'g7f8': [0.9898236, (6, 6, 36)], 'g7h7': [0.98859334, (6, 6, 15)], 'g7f7': [0.99080634, (6, 6, 22)], 'g7h6': [0.9899051, (6, 6, 50)], 'g7g6': [0.99403775, (6, 6, 8)], 'b7b8': [0.9899689, (1, 6, 1)], 'b7a7': [0.9993386, (1, 6, 22)], 'd7d6': [0.994827, (3, 6, 8)], 'c7c6': [0.9922286, (2, 6, 8)], 'b6b5': [0.9923873, (1, 5, 8)], 'd7d5': [0.99014604, (3, 6, 9)], 'c7c5': [0.98981327, (2, 6, 9)]}\n",
      "{'d4d7': [0.9896755, (3, 3, 3)], 'd4f6': [0.9930404, (3, 3, 30)], 'd4d6': [0.99254906, (3, 3, 2)], 'd4b6': [0.99062, (3, 3, 37)], 'd4e5': [0.99315846, (3, 3, 29)], 'd4d5': [0.99811244, (3, 3, 1)], 'd4c5': [0.98898745, (3, 3, 36)], 'd4h4': [0.9917919, (3, 3, 18)], 'd4g4': [0.99055284, (3, 3, 17)], 'd4f4': [0.9917184, (3, 3, 16)], 'd4e4': [0.99798787, (3, 3, 15)], 'd4c4': [0.99168426, (3, 3, 22)], 'd4b4': [0.9914897, (3, 3, 23)], 'd4a4': [0.9913814, (3, 3, 24)], 'd4c3': [0.99030066, (3, 3, 43)], 'g3h4': [0.99537814, (6, 2, 29)], 'g3g4': [0.9911809, (6, 2, 1)], 'g3f4': [0.9975368, (6, 2, 36)], 'g3h2': [0.9913948, (6, 2, 50)], 'g3g2': [0.9993339, (6, 2, 8)], 'g3f2': [0.9917722, (6, 2, 43)], 'f3b7': [0.9892339, (5, 2, 39)], 'f3c6': [0.98987234, (5, 2, 38)], 'f3h5': [0.99394655, (5, 2, 30)], 'f3d5': [0.99155533, (5, 2, 37)], 'f3g4': [0.9940797, (5, 2, 29)], 'f3e4': [0.99387705, (5, 2, 36)], 'f3g2': [0.9931319, (5, 2, 50)], 'f3h1': [0.99160326, (5, 2, 51)], 'b2c3': [0.9975227, (1, 1, 29)], 'b2a3': [0.9925157, (1, 1, 36)], 'b2c1': [0.9908333, (1, 1, 50)], 'b1c3': [0.9926351, (1, 0, 58)], 'b1a3': [0.9910737, (1, 0, 57)], 'b1d2': [0.9911722, (1, 0, 59)], 'h3h4': [0.9914797, (7, 2, 1)], 'e3e4': [0.99747443, (4, 2, 1)], 'a2a3': [0.992599, (0, 1, 1)], 'a2a4': [0.9903416, (0, 1, 2)]}\n",
      "{'h8g7': [0.9920398, (7, 7, 43)], 'h7g8': [0.98968387, (7, 6, 36)], 'h7g7': [0.9880135, (7, 6, 22)], 'h7h6': [0.9944385, (7, 6, 8)], 'h7g6': [0.98932564, (7, 6, 43)], 'b7b8': [0.9899576, (1, 6, 1)], 'b7a7': [0.99933827, (1, 6, 22)], 'd7d6': [0.9947459, (3, 6, 8)], 'c7c6': [0.9921477, (2, 6, 8)], 'f6f5': [0.99551916, (5, 5, 8)], 'b6b5': [0.9923184, (1, 5, 8)], 'd7d5': [0.99008834, (3, 6, 9)], 'c7c5': [0.98976994, (2, 6, 9)]}\n",
      "{'d4d7': [0.9894046, (3, 3, 3)], 'd4f6': [0.9929036, (3, 3, 30)], 'd4d6': [0.9922072, (3, 3, 2)], 'd4b6': [0.9905448, (3, 3, 37)], 'd4e5': [0.99291277, (3, 3, 29)], 'd4d5': [0.99805856, (3, 3, 1)], 'd4c5': [0.9887434, (3, 3, 36)], 'd4h4': [0.9915813, (3, 3, 18)], 'd4g4': [0.99029183, (3, 3, 17)], 'd4f4': [0.9914527, (3, 3, 16)], 'd4e4': [0.9979076, (3, 3, 15)], 'd4c4': [0.9914694, (3, 3, 22)], 'd4b4': [0.99135494, (3, 3, 23)], 'd4a4': [0.9913166, (3, 3, 24)], 'd4c3': [0.99008733, (3, 3, 43)], 'f3b7': [0.98911715, (5, 2, 39)], 'f3c6': [0.9898484, (5, 2, 38)], 'f3h5': [0.9936735, (5, 2, 30)], 'f3d5': [0.9912466, (5, 2, 37)], 'f3g4': [0.9937403, (5, 2, 29)], 'f3e4': [0.99361813, (5, 2, 36)], 'g2g3': [0.99137294, (6, 1, 1)], 'g2h2': [0.99927187, (6, 1, 15)], 'g2f2': [0.9905412, (6, 1, 22)], 'g2h1': [0.99152064, (6, 1, 50)], 'g2f1': [0.99180675, (6, 1, 43)], 'b2c3': [0.99743336, (1, 1, 29)], 'b2a3': [0.9924561, (1, 1, 36)], 'b2c1': [0.9906101, (1, 1, 50)], 'b1c3': [0.9923704, (1, 0, 58)], 'b1a3': [0.99089503, (1, 0, 57)], 'b1d2': [0.9909308, (1, 0, 59)], 'h3h4': [0.99117845, (7, 2, 1)], 'e3e4': [0.9973404, (4, 2, 1)], 'a2a3': [0.99243253, (0, 1, 1)], 'a2a4': [0.99015033, (0, 1, 2)]}\n",
      "{'g7g8': [0.99055505, (6, 6, 1)], 'g7f8': [0.989954, (6, 6, 36)], 'g7h7': [0.9887867, (6, 6, 15)], 'g7f7': [0.99091196, (6, 6, 22)], 'g7h6': [0.9899531, (6, 6, 50)], 'g7g6': [0.9941734, (6, 6, 8)], 'b7b8': [0.9900031, (1, 6, 1)], 'b7a7': [0.99933183, (1, 6, 22)], 'd7d6': [0.9950473, (3, 6, 8)], 'c7c6': [0.992484, (2, 6, 8)], 'b6b5': [0.99260646, (1, 5, 8)], 'd7d5': [0.9903084, (3, 6, 9)], 'c7c5': [0.98997545, (2, 6, 9)]}\n",
      "{'d4d7': [0.9899602, (3, 3, 3)], 'd4f6': [0.99318665, (3, 3, 30)], 'd4d6': [0.9928372, (3, 3, 2)], 'd4b6': [0.99072385, (3, 3, 37)], 'd4e5': [0.9934072, (3, 3, 29)], 'd4d5': [0.9981625, (3, 3, 1)], 'd4c5': [0.9892481, (3, 3, 36)], 'd4h4': [0.9919764, (3, 3, 18)], 'd4g4': [0.99077153, (3, 3, 17)], 'd4f4': [0.99194574, (3, 3, 16)], 'd4e4': [0.9980556, (3, 3, 15)], 'd4c4': [0.9919025, (3, 3, 22)], 'd4b4': [0.99164987, (3, 3, 23)], 'd4a4': [0.9914735, (3, 3, 24)], 'd4c3': [0.99051493, (3, 3, 43)], 'f3b7': [0.9893395, (5, 2, 39)], 'f3c6': [0.989911, (5, 2, 38)], 'f3h5': [0.9941431, (5, 2, 30)], 'f3d5': [0.99183494, (5, 2, 37)], 'f3g4': [0.9942951, (5, 2, 29)], 'f3e4': [0.9940792, (5, 2, 36)], 'f3g2': [0.99332917, (5, 2, 50)], 'f3h1': [0.99179983, (5, 2, 51)], 'h2g3': [0.9984721, (7, 1, 36)], 'h2g2': [0.99148375, (7, 1, 22)], 'h2h1': [0.9978751, (7, 1, 8)], 'b2c3': [0.9976096, (1, 1, 29)], 'b2a3': [0.99258244, (1, 1, 36)], 'b2c1': [0.9910851, (1, 1, 50)], 'b1c3': [0.9929011, (1, 0, 58)], 'b1a3': [0.9912491, (1, 0, 57)], 'b1d2': [0.9914185, (1, 0, 59)], 'h3h4': [0.9916908, (7, 2, 1)], 'e3e4': [0.997569, (4, 2, 1)], 'a2a3': [0.992736, (0, 1, 1)], 'a2a4': [0.9904901, (0, 1, 2)]}\n"
     ]
    },
    {
     "name": "stdout",
     "output_type": "stream",
     "text": [
      "{'h8g7': [0.99205625, (7, 7, 43)], 'h7g8': [0.9897087, (7, 6, 36)], 'h7g7': [0.9880219, (7, 6, 22)], 'h7h6': [0.99448967, (7, 6, 8)], 'h7g6': [0.9893711, (7, 6, 43)], 'b7b8': [0.98996043, (1, 6, 1)], 'b7a7': [0.99933505, (1, 6, 22)], 'd7d6': [0.994878, (3, 6, 8)], 'c7c6': [0.99227977, (2, 6, 8)], 'f6f5': [0.9956602, (5, 5, 8)], 'b6b5': [0.99242353, (1, 5, 8)], 'd7d5': [0.9901771, (3, 6, 9)], 'c7c5': [0.9898416, (2, 6, 9)]}\n",
      "{'d4d7': [0.98958665, (3, 3, 3)], 'd4f6': [0.99300086, (3, 3, 30)], 'd4d6': [0.9924568, (3, 3, 2)], 'd4b6': [0.99059975, (3, 3, 37)], 'd4e5': [0.9930905, (3, 3, 29)], 'd4d5': [0.9980962, (3, 3, 1)], 'd4c5': [0.98890173, (3, 3, 36)], 'd4h4': [0.9917346, (3, 3, 18)], 'd4g4': [0.99048686, (3, 3, 17)], 'd4f4': [0.99164855, (3, 3, 16)], 'd4e4': [0.99796534, (3, 3, 15)], 'd4c4': [0.99162817, (3, 3, 22)], 'd4b4': [0.9914396, (3, 3, 23)], 'd4a4': [0.9913517, (3, 3, 24)], 'd4c3': [0.99024224, (3, 3, 43)], 'g3h4': [0.9953001, (6, 2, 29)], 'g3g4': [0.9910917, (6, 2, 1)], 'g3f4': [0.99749076, (6, 2, 36)], 'g3h2': [0.99132335, (6, 2, 50)], 'g3g2': [0.99932694, (6, 2, 8)], 'g3f2': [0.99167794, (6, 2, 43)], 'f3b7': [0.98918813, (5, 2, 39)], 'f3c6': [0.9898703, (5, 2, 38)], 'f3h5': [0.99388564, (5, 2, 30)], 'f3d5': [0.9914924, (5, 2, 37)], 'f3g4': [0.9939852, (5, 2, 29)], 'f3e4': [0.9938117, (5, 2, 36)], 'f3g2': [0.99306834, (5, 2, 50)], 'f3h1': [0.9915589, (5, 2, 51)], 'b2c3': [0.9975042, (1, 1, 29)], 'b2a3': [0.9925082, (1, 1, 36)], 'b2c1': [0.9907993, (1, 1, 50)], 'b1c3': [0.9925817, (1, 0, 58)], 'b1a3': [0.99104166, (1, 0, 57)], 'b1d2': [0.99113077, (1, 0, 59)], 'h3h4': [0.99139106, (7, 2, 1)], 'e3e4': [0.9974445, (4, 2, 1)], 'a2a3': [0.99257034, (0, 1, 1)], 'a2a4': [0.99030685, (0, 1, 2)]}\n",
      "{'g7g8': [0.99045897, (6, 6, 1)], 'g7f8': [0.9897208, (6, 6, 36)], 'g7h7': [0.98842907, (6, 6, 15)], 'g7f7': [0.9907234, (6, 6, 22)], 'g7h6': [0.9898931, (6, 6, 50)], 'g7g6': [0.99392855, (6, 6, 8)], 'b7b8': [0.98996454, (1, 6, 1)], 'b7a7': [0.99934304, (1, 6, 22)], 'd7d6': [0.99466455, (3, 6, 8)], 'c7c6': [0.9920579, (2, 6, 8)], 'b6b5': [0.99225986, (1, 5, 8)], 'd7d5': [0.99003744, (3, 6, 9)], 'c7c5': [0.9897295, (2, 6, 9)]}\n",
      "{'d4d7': [0.98951566, (3, 3, 3)], 'd4f6': [0.99295634, (3, 3, 30)], 'd4d6': [0.9923506, (3, 3, 2)], 'd4b6': [0.9905782, (3, 3, 37)], 'd4e5': [0.99301654, (3, 3, 29)], 'd4d5': [0.9980819, (3, 3, 1)], 'd4c5': [0.98885983, (3, 3, 36)], 'd4h4': [0.9916507, (3, 3, 18)], 'd4g4': [0.99038655, (3, 3, 17)], 'd4f4': [0.99155587, (3, 3, 16)], 'd4e4': [0.9979389, (3, 3, 15)], 'd4c4': [0.9915588, (3, 3, 22)], 'd4b4': [0.99141425, (3, 3, 23)], 'd4a4': [0.99135256, (3, 3, 24)], 'd4c3': [0.9901814, (3, 3, 43)], 'f3b7': [0.9891639, (5, 2, 39)], 'f3c6': [0.98986167, (5, 2, 38)], 'f3h5': [0.99377483, (5, 2, 30)], 'f3d5': [0.99135673, (5, 2, 37)], 'f3g4': [0.99386764, (5, 2, 29)], 'f3e4': [0.99371505, (5, 2, 36)], 'g2g3': [0.9915149, (6, 1, 1)], 'g2h2': [0.9992833, (6, 1, 15)], 'g2f2': [0.990691, (6, 1, 22)], 'g2h1': [0.9916293, (6, 1, 50)], 'g2f1': [0.9919493, (6, 1, 43)], 'b2c3': [0.9974688, (1, 1, 29)], 'b2a3': [0.9924789, (1, 1, 36)], 'b2c1': [0.99068016, (1, 1, 50)], 'b1c3': [0.99246264, (1, 0, 58)], 'b1a3': [0.99095786, (1, 0, 57)], 'b1d2': [0.9910103, (1, 0, 59)], 'h3h4': [0.99129426, (7, 2, 1)], 'e3e4': [0.9973899, (4, 2, 1)], 'a2a3': [0.99248874, (0, 1, 1)], 'a2a4': [0.99021006, (0, 1, 2)]}\n",
      "{'h8g7': [0.9920765, (7, 7, 43)], 'h7g8': [0.98974866, (7, 6, 36)], 'h7g7': [0.9880562, (7, 6, 22)], 'h7h6': [0.9945543, (7, 6, 8)], 'h7g6': [0.9894322, (7, 6, 43)], 'b7b8': [0.9899828, (1, 6, 1)], 'b7a7': [0.99932826, (1, 6, 22)], 'd7d6': [0.995065, (3, 6, 8)], 'c7c6': [0.9924937, (2, 6, 8)], 'f6f5': [0.99581873, (5, 5, 8)], 'b6b5': [0.9926026, (1, 5, 8)], 'd7d5': [0.9903079, (3, 6, 9)], 'c7c5': [0.9899701, (2, 6, 9)]}\n",
      "{'d4d7': [0.9899277, (3, 3, 3)], 'd4f6': [0.9931786, (3, 3, 30)], 'd4d6': [0.99281156, (3, 3, 2)], 'd4b6': [0.9907267, (3, 3, 37)], 'd4e5': [0.99337596, (3, 3, 29)], 'd4d5': [0.99815786, (3, 3, 1)], 'd4c5': [0.98922354, (3, 3, 36)], 'd4h4': [0.9919653, (3, 3, 18)], 'd4g4': [0.9907608, (3, 3, 17)], 'd4f4': [0.99192774, (3, 3, 16)], 'd4e4': [0.998051, (3, 3, 15)], 'd4c4': [0.9918886, (3, 3, 22)], 'd4b4': [0.99163777, (3, 3, 23)], 'd4a4': [0.9914814, (3, 3, 24)], 'd4c3': [0.9904952, (3, 3, 43)], 'f3b7': [0.9893321, (5, 2, 39)], 'f3c6': [0.9899235, (5, 2, 38)], 'f3h5': [0.9941137, (5, 2, 30)], 'f3d5': [0.99179983, (5, 2, 37)], 'f3g4': [0.9942678, (5, 2, 29)], 'f3e4': [0.99405694, (5, 2, 36)], 'f3g2': [0.9932922, (5, 2, 50)], 'f3h1': [0.991766, (5, 2, 51)], 'h2g3': [0.99846315, (7, 1, 36)], 'h2g2': [0.99144185, (7, 1, 22)], 'h2h1': [0.99786013, (7, 1, 8)], 'b2c3': [0.9976102, (1, 1, 29)], 'b2a3': [0.9925788, (1, 1, 36)], 'b2c1': [0.99106956, (1, 1, 50)], 'b1c3': [0.9928906, (1, 0, 58)], 'b1a3': [0.99123156, (1, 0, 57)], 'b1d2': [0.99140024, (1, 0, 59)], 'h3h4': [0.9916574, (7, 2, 1)], 'e3e4': [0.9975617, (4, 2, 1)], 'a2a3': [0.99272037, (0, 1, 1)], 'a2a4': [0.9904859, (0, 1, 2)]}\n",
      "{'g7g8': [0.99050283, (6, 6, 1)], 'g7f8': [0.9898236, (6, 6, 36)], 'g7h7': [0.98859334, (6, 6, 15)], 'g7f7': [0.99080634, (6, 6, 22)], 'g7h6': [0.9899051, (6, 6, 50)], 'g7g6': [0.99403775, (6, 6, 8)], 'b7b8': [0.9899689, (1, 6, 1)], 'b7a7': [0.9993386, (1, 6, 22)], 'd7d6': [0.994827, (3, 6, 8)], 'c7c6': [0.9922286, (2, 6, 8)], 'b6b5': [0.9923873, (1, 5, 8)], 'd7d5': [0.99014604, (3, 6, 9)], 'c7c5': [0.98981327, (2, 6, 9)]}\n",
      "{'d4d7': [0.9896755, (3, 3, 3)], 'd4f6': [0.9930404, (3, 3, 30)], 'd4d6': [0.99254906, (3, 3, 2)], 'd4b6': [0.99062, (3, 3, 37)], 'd4e5': [0.99315846, (3, 3, 29)], 'd4d5': [0.99811244, (3, 3, 1)], 'd4c5': [0.98898745, (3, 3, 36)], 'd4h4': [0.9917919, (3, 3, 18)], 'd4g4': [0.99055284, (3, 3, 17)], 'd4f4': [0.9917184, (3, 3, 16)], 'd4e4': [0.99798787, (3, 3, 15)], 'd4c4': [0.99168426, (3, 3, 22)], 'd4b4': [0.9914897, (3, 3, 23)], 'd4a4': [0.9913814, (3, 3, 24)], 'd4c3': [0.99030066, (3, 3, 43)], 'g3h4': [0.99537814, (6, 2, 29)], 'g3g4': [0.9911809, (6, 2, 1)], 'g3f4': [0.9975368, (6, 2, 36)], 'g3h2': [0.9913948, (6, 2, 50)], 'g3g2': [0.9993339, (6, 2, 8)], 'g3f2': [0.9917722, (6, 2, 43)], 'f3b7': [0.9892339, (5, 2, 39)], 'f3c6': [0.98987234, (5, 2, 38)], 'f3h5': [0.99394655, (5, 2, 30)], 'f3d5': [0.99155533, (5, 2, 37)], 'f3g4': [0.9940797, (5, 2, 29)], 'f3e4': [0.99387705, (5, 2, 36)], 'f3g2': [0.9931319, (5, 2, 50)], 'f3h1': [0.99160326, (5, 2, 51)], 'b2c3': [0.9975227, (1, 1, 29)], 'b2a3': [0.9925157, (1, 1, 36)], 'b2c1': [0.9908333, (1, 1, 50)], 'b1c3': [0.9926351, (1, 0, 58)], 'b1a3': [0.9910737, (1, 0, 57)], 'b1d2': [0.9911722, (1, 0, 59)], 'h3h4': [0.9914797, (7, 2, 1)], 'e3e4': [0.99747443, (4, 2, 1)], 'a2a3': [0.992599, (0, 1, 1)], 'a2a4': [0.9903416, (0, 1, 2)]}\n",
      "{'h8g7': [0.9920398, (7, 7, 43)], 'h7g8': [0.98968387, (7, 6, 36)], 'h7g7': [0.9880135, (7, 6, 22)], 'h7h6': [0.9944385, (7, 6, 8)], 'h7g6': [0.98932564, (7, 6, 43)], 'b7b8': [0.9899576, (1, 6, 1)], 'b7a7': [0.99933827, (1, 6, 22)], 'd7d6': [0.9947459, (3, 6, 8)], 'c7c6': [0.9921477, (2, 6, 8)], 'f6f5': [0.99551916, (5, 5, 8)], 'b6b5': [0.9923184, (1, 5, 8)], 'd7d5': [0.99008834, (3, 6, 9)], 'c7c5': [0.98976994, (2, 6, 9)]}\n",
      "{'d4d7': [0.9894046, (3, 3, 3)], 'd4f6': [0.9929036, (3, 3, 30)], 'd4d6': [0.9922072, (3, 3, 2)], 'd4b6': [0.9905448, (3, 3, 37)], 'd4e5': [0.99291277, (3, 3, 29)], 'd4d5': [0.99805856, (3, 3, 1)], 'd4c5': [0.9887434, (3, 3, 36)], 'd4h4': [0.9915813, (3, 3, 18)], 'd4g4': [0.99029183, (3, 3, 17)], 'd4f4': [0.9914527, (3, 3, 16)], 'd4e4': [0.9979076, (3, 3, 15)], 'd4c4': [0.9914694, (3, 3, 22)], 'd4b4': [0.99135494, (3, 3, 23)], 'd4a4': [0.9913166, (3, 3, 24)], 'd4c3': [0.99008733, (3, 3, 43)], 'f3b7': [0.98911715, (5, 2, 39)], 'f3c6': [0.9898484, (5, 2, 38)], 'f3h5': [0.9936735, (5, 2, 30)], 'f3d5': [0.9912466, (5, 2, 37)], 'f3g4': [0.9937403, (5, 2, 29)], 'f3e4': [0.99361813, (5, 2, 36)], 'g2g3': [0.99137294, (6, 1, 1)], 'g2h2': [0.99927187, (6, 1, 15)], 'g2f2': [0.9905412, (6, 1, 22)], 'g2h1': [0.99152064, (6, 1, 50)], 'g2f1': [0.99180675, (6, 1, 43)], 'b2c3': [0.99743336, (1, 1, 29)], 'b2a3': [0.9924561, (1, 1, 36)], 'b2c1': [0.9906101, (1, 1, 50)], 'b1c3': [0.9923704, (1, 0, 58)], 'b1a3': [0.99089503, (1, 0, 57)], 'b1d2': [0.9909308, (1, 0, 59)], 'h3h4': [0.99117845, (7, 2, 1)], 'e3e4': [0.9973404, (4, 2, 1)], 'a2a3': [0.99243253, (0, 1, 1)], 'a2a4': [0.99015033, (0, 1, 2)]}\n",
      "{'g7g8': [0.99055505, (6, 6, 1)], 'g7f8': [0.989954, (6, 6, 36)], 'g7h7': [0.9887867, (6, 6, 15)], 'g7f7': [0.99091196, (6, 6, 22)], 'g7h6': [0.9899531, (6, 6, 50)], 'g7g6': [0.9941734, (6, 6, 8)], 'b7b8': [0.9900031, (1, 6, 1)], 'b7a7': [0.99933183, (1, 6, 22)], 'd7d6': [0.9950473, (3, 6, 8)], 'c7c6': [0.992484, (2, 6, 8)], 'b6b5': [0.99260646, (1, 5, 8)], 'd7d5': [0.9903084, (3, 6, 9)], 'c7c5': [0.98997545, (2, 6, 9)]}\n",
      "{'d4d7': [0.9899602, (3, 3, 3)], 'd4f6': [0.99318665, (3, 3, 30)], 'd4d6': [0.9928372, (3, 3, 2)], 'd4b6': [0.99072385, (3, 3, 37)], 'd4e5': [0.9934072, (3, 3, 29)], 'd4d5': [0.9981625, (3, 3, 1)], 'd4c5': [0.9892481, (3, 3, 36)], 'd4h4': [0.9919764, (3, 3, 18)], 'd4g4': [0.99077153, (3, 3, 17)], 'd4f4': [0.99194574, (3, 3, 16)], 'd4e4': [0.9980556, (3, 3, 15)], 'd4c4': [0.9919025, (3, 3, 22)], 'd4b4': [0.99164987, (3, 3, 23)], 'd4a4': [0.9914735, (3, 3, 24)], 'd4c3': [0.99051493, (3, 3, 43)], 'f3b7': [0.9893395, (5, 2, 39)], 'f3c6': [0.989911, (5, 2, 38)], 'f3h5': [0.9941431, (5, 2, 30)], 'f3d5': [0.99183494, (5, 2, 37)], 'f3g4': [0.9942951, (5, 2, 29)], 'f3e4': [0.9940792, (5, 2, 36)], 'f3g2': [0.99332917, (5, 2, 50)], 'f3h1': [0.99179983, (5, 2, 51)], 'h2g3': [0.9984721, (7, 1, 36)], 'h2g2': [0.99148375, (7, 1, 22)], 'h2h1': [0.9978751, (7, 1, 8)], 'b2c3': [0.9976096, (1, 1, 29)], 'b2a3': [0.99258244, (1, 1, 36)], 'b2c1': [0.9910851, (1, 1, 50)], 'b1c3': [0.9929011, (1, 0, 58)], 'b1a3': [0.9912491, (1, 0, 57)], 'b1d2': [0.9914185, (1, 0, 59)], 'h3h4': [0.9916908, (7, 2, 1)], 'e3e4': [0.997569, (4, 2, 1)], 'a2a3': [0.992736, (0, 1, 1)], 'a2a4': [0.9904901, (0, 1, 2)]}\n",
      "{'h8g7': [0.99205625, (7, 7, 43)], 'h7g8': [0.9897087, (7, 6, 36)], 'h7g7': [0.9880219, (7, 6, 22)], 'h7h6': [0.99448967, (7, 6, 8)], 'h7g6': [0.9893711, (7, 6, 43)], 'b7b8': [0.98996043, (1, 6, 1)], 'b7a7': [0.99933505, (1, 6, 22)], 'd7d6': [0.994878, (3, 6, 8)], 'c7c6': [0.99227977, (2, 6, 8)], 'f6f5': [0.9956602, (5, 5, 8)], 'b6b5': [0.99242353, (1, 5, 8)], 'd7d5': [0.9901771, (3, 6, 9)], 'c7c5': [0.9898416, (2, 6, 9)]}\n",
      "{'d4d7': [0.98958665, (3, 3, 3)], 'd4f6': [0.99300086, (3, 3, 30)], 'd4d6': [0.9924568, (3, 3, 2)], 'd4b6': [0.99059975, (3, 3, 37)], 'd4e5': [0.9930905, (3, 3, 29)], 'd4d5': [0.9980962, (3, 3, 1)], 'd4c5': [0.98890173, (3, 3, 36)], 'd4h4': [0.9917346, (3, 3, 18)], 'd4g4': [0.99048686, (3, 3, 17)], 'd4f4': [0.99164855, (3, 3, 16)], 'd4e4': [0.99796534, (3, 3, 15)], 'd4c4': [0.99162817, (3, 3, 22)], 'd4b4': [0.9914396, (3, 3, 23)], 'd4a4': [0.9913517, (3, 3, 24)], 'd4c3': [0.99024224, (3, 3, 43)], 'g3h4': [0.9953001, (6, 2, 29)], 'g3g4': [0.9910917, (6, 2, 1)], 'g3f4': [0.99749076, (6, 2, 36)], 'g3h2': [0.99132335, (6, 2, 50)], 'g3g2': [0.99932694, (6, 2, 8)], 'g3f2': [0.99167794, (6, 2, 43)], 'f3b7': [0.98918813, (5, 2, 39)], 'f3c6': [0.9898703, (5, 2, 38)], 'f3h5': [0.99388564, (5, 2, 30)], 'f3d5': [0.9914924, (5, 2, 37)], 'f3g4': [0.9939852, (5, 2, 29)], 'f3e4': [0.9938117, (5, 2, 36)], 'f3g2': [0.99306834, (5, 2, 50)], 'f3h1': [0.9915589, (5, 2, 51)], 'b2c3': [0.9975042, (1, 1, 29)], 'b2a3': [0.9925082, (1, 1, 36)], 'b2c1': [0.9907993, (1, 1, 50)], 'b1c3': [0.9925817, (1, 0, 58)], 'b1a3': [0.99104166, (1, 0, 57)], 'b1d2': [0.99113077, (1, 0, 59)], 'h3h4': [0.99139106, (7, 2, 1)], 'e3e4': [0.9974445, (4, 2, 1)], 'a2a3': [0.99257034, (0, 1, 1)], 'a2a4': [0.99030685, (0, 1, 2)]}\n",
      "{'g7g8': [0.99045897, (6, 6, 1)], 'g7f8': [0.9897208, (6, 6, 36)], 'g7h7': [0.98842907, (6, 6, 15)], 'g7f7': [0.9907234, (6, 6, 22)], 'g7h6': [0.9898931, (6, 6, 50)], 'g7g6': [0.99392855, (6, 6, 8)], 'b7b8': [0.98996454, (1, 6, 1)], 'b7a7': [0.99934304, (1, 6, 22)], 'd7d6': [0.99466455, (3, 6, 8)], 'c7c6': [0.9920579, (2, 6, 8)], 'b6b5': [0.99225986, (1, 5, 8)], 'd7d5': [0.99003744, (3, 6, 9)], 'c7c5': [0.9897295, (2, 6, 9)]}\n",
      "{'d4d7': [0.98951566, (3, 3, 3)], 'd4f6': [0.99295634, (3, 3, 30)], 'd4d6': [0.9923506, (3, 3, 2)], 'd4b6': [0.9905782, (3, 3, 37)], 'd4e5': [0.99301654, (3, 3, 29)], 'd4d5': [0.9980819, (3, 3, 1)], 'd4c5': [0.98885983, (3, 3, 36)], 'd4h4': [0.9916507, (3, 3, 18)], 'd4g4': [0.99038655, (3, 3, 17)], 'd4f4': [0.99155587, (3, 3, 16)], 'd4e4': [0.9979389, (3, 3, 15)], 'd4c4': [0.9915588, (3, 3, 22)], 'd4b4': [0.99141425, (3, 3, 23)], 'd4a4': [0.99135256, (3, 3, 24)], 'd4c3': [0.9901814, (3, 3, 43)], 'f3b7': [0.9891639, (5, 2, 39)], 'f3c6': [0.98986167, (5, 2, 38)], 'f3h5': [0.99377483, (5, 2, 30)], 'f3d5': [0.99135673, (5, 2, 37)], 'f3g4': [0.99386764, (5, 2, 29)], 'f3e4': [0.99371505, (5, 2, 36)], 'g2g3': [0.9915149, (6, 1, 1)], 'g2h2': [0.9992833, (6, 1, 15)], 'g2f2': [0.990691, (6, 1, 22)], 'g2h1': [0.9916293, (6, 1, 50)], 'g2f1': [0.9919493, (6, 1, 43)], 'b2c3': [0.9974688, (1, 1, 29)], 'b2a3': [0.9924789, (1, 1, 36)], 'b2c1': [0.99068016, (1, 1, 50)], 'b1c3': [0.99246264, (1, 0, 58)], 'b1a3': [0.99095786, (1, 0, 57)], 'b1d2': [0.9910103, (1, 0, 59)], 'h3h4': [0.99129426, (7, 2, 1)], 'e3e4': [0.9973899, (4, 2, 1)], 'a2a3': [0.99248874, (0, 1, 1)], 'a2a4': [0.99021006, (0, 1, 2)]}\n",
      "{'h8g7': [0.9920765, (7, 7, 43)], 'h7g8': [0.98974866, (7, 6, 36)], 'h7g7': [0.9880562, (7, 6, 22)], 'h7h6': [0.9945543, (7, 6, 8)], 'h7g6': [0.9894322, (7, 6, 43)], 'b7b8': [0.9899828, (1, 6, 1)], 'b7a7': [0.99932826, (1, 6, 22)], 'd7d6': [0.995065, (3, 6, 8)], 'c7c6': [0.9924937, (2, 6, 8)], 'f6f5': [0.99581873, (5, 5, 8)], 'b6b5': [0.9926026, (1, 5, 8)], 'd7d5': [0.9903079, (3, 6, 9)], 'c7c5': [0.9899701, (2, 6, 9)]}\n",
      "{'d4d7': [0.9899277, (3, 3, 3)], 'd4f6': [0.9931786, (3, 3, 30)], 'd4d6': [0.99281156, (3, 3, 2)], 'd4b6': [0.9907267, (3, 3, 37)], 'd4e5': [0.99337596, (3, 3, 29)], 'd4d5': [0.99815786, (3, 3, 1)], 'd4c5': [0.98922354, (3, 3, 36)], 'd4h4': [0.9919653, (3, 3, 18)], 'd4g4': [0.9907608, (3, 3, 17)], 'd4f4': [0.99192774, (3, 3, 16)], 'd4e4': [0.998051, (3, 3, 15)], 'd4c4': [0.9918886, (3, 3, 22)], 'd4b4': [0.99163777, (3, 3, 23)], 'd4a4': [0.9914814, (3, 3, 24)], 'd4c3': [0.9904952, (3, 3, 43)], 'f3b7': [0.9893321, (5, 2, 39)], 'f3c6': [0.9899235, (5, 2, 38)], 'f3h5': [0.9941137, (5, 2, 30)], 'f3d5': [0.99179983, (5, 2, 37)], 'f3g4': [0.9942678, (5, 2, 29)], 'f3e4': [0.99405694, (5, 2, 36)], 'f3g2': [0.9932922, (5, 2, 50)], 'f3h1': [0.991766, (5, 2, 51)], 'h2g3': [0.99846315, (7, 1, 36)], 'h2g2': [0.99144185, (7, 1, 22)], 'h2h1': [0.99786013, (7, 1, 8)], 'b2c3': [0.9976102, (1, 1, 29)], 'b2a3': [0.9925788, (1, 1, 36)], 'b2c1': [0.99106956, (1, 1, 50)], 'b1c3': [0.9928906, (1, 0, 58)], 'b1a3': [0.99123156, (1, 0, 57)], 'b1d2': [0.99140024, (1, 0, 59)], 'h3h4': [0.9916574, (7, 2, 1)], 'e3e4': [0.9975617, (4, 2, 1)], 'a2a3': [0.99272037, (0, 1, 1)], 'a2a4': [0.9904859, (0, 1, 2)]}\n",
      "{'g7g8': [0.99050283, (6, 6, 1)], 'g7f8': [0.9898236, (6, 6, 36)], 'g7h7': [0.98859334, (6, 6, 15)], 'g7f7': [0.99080634, (6, 6, 22)], 'g7h6': [0.9899051, (6, 6, 50)], 'g7g6': [0.99403775, (6, 6, 8)], 'b7b8': [0.9899689, (1, 6, 1)], 'b7a7': [0.9993386, (1, 6, 22)], 'd7d6': [0.994827, (3, 6, 8)], 'c7c6': [0.9922286, (2, 6, 8)], 'b6b5': [0.9923873, (1, 5, 8)], 'd7d5': [0.99014604, (3, 6, 9)], 'c7c5': [0.98981327, (2, 6, 9)]}\n",
      "{'d4d7': [0.9896755, (3, 3, 3)], 'd4f6': [0.9930404, (3, 3, 30)], 'd4d6': [0.99254906, (3, 3, 2)], 'd4b6': [0.99062, (3, 3, 37)], 'd4e5': [0.99315846, (3, 3, 29)], 'd4d5': [0.99811244, (3, 3, 1)], 'd4c5': [0.98898745, (3, 3, 36)], 'd4h4': [0.9917919, (3, 3, 18)], 'd4g4': [0.99055284, (3, 3, 17)], 'd4f4': [0.9917184, (3, 3, 16)], 'd4e4': [0.99798787, (3, 3, 15)], 'd4c4': [0.99168426, (3, 3, 22)], 'd4b4': [0.9914897, (3, 3, 23)], 'd4a4': [0.9913814, (3, 3, 24)], 'd4c3': [0.99030066, (3, 3, 43)], 'g3h4': [0.99537814, (6, 2, 29)], 'g3g4': [0.9911809, (6, 2, 1)], 'g3f4': [0.9975368, (6, 2, 36)], 'g3h2': [0.9913948, (6, 2, 50)], 'g3g2': [0.9993339, (6, 2, 8)], 'g3f2': [0.9917722, (6, 2, 43)], 'f3b7': [0.9892339, (5, 2, 39)], 'f3c6': [0.98987234, (5, 2, 38)], 'f3h5': [0.99394655, (5, 2, 30)], 'f3d5': [0.99155533, (5, 2, 37)], 'f3g4': [0.9940797, (5, 2, 29)], 'f3e4': [0.99387705, (5, 2, 36)], 'f3g2': [0.9931319, (5, 2, 50)], 'f3h1': [0.99160326, (5, 2, 51)], 'b2c3': [0.9975227, (1, 1, 29)], 'b2a3': [0.9925157, (1, 1, 36)], 'b2c1': [0.9908333, (1, 1, 50)], 'b1c3': [0.9926351, (1, 0, 58)], 'b1a3': [0.9910737, (1, 0, 57)], 'b1d2': [0.9911722, (1, 0, 59)], 'h3h4': [0.9914797, (7, 2, 1)], 'e3e4': [0.99747443, (4, 2, 1)], 'a2a3': [0.992599, (0, 1, 1)], 'a2a4': [0.9903416, (0, 1, 2)]}\n",
      "{'h8g7': [0.9920398, (7, 7, 43)], 'h7g8': [0.98968387, (7, 6, 36)], 'h7g7': [0.9880135, (7, 6, 22)], 'h7h6': [0.9944385, (7, 6, 8)], 'h7g6': [0.98932564, (7, 6, 43)], 'b7b8': [0.9899576, (1, 6, 1)], 'b7a7': [0.99933827, (1, 6, 22)], 'd7d6': [0.9947459, (3, 6, 8)], 'c7c6': [0.9921477, (2, 6, 8)], 'f6f5': [0.99551916, (5, 5, 8)], 'b6b5': [0.9923184, (1, 5, 8)], 'd7d5': [0.99008834, (3, 6, 9)], 'c7c5': [0.98976994, (2, 6, 9)]}\n",
      "{'d4d7': [0.9894046, (3, 3, 3)], 'd4f6': [0.9929036, (3, 3, 30)], 'd4d6': [0.9922072, (3, 3, 2)], 'd4b6': [0.9905448, (3, 3, 37)], 'd4e5': [0.99291277, (3, 3, 29)], 'd4d5': [0.99805856, (3, 3, 1)], 'd4c5': [0.9887434, (3, 3, 36)], 'd4h4': [0.9915813, (3, 3, 18)], 'd4g4': [0.99029183, (3, 3, 17)], 'd4f4': [0.9914527, (3, 3, 16)], 'd4e4': [0.9979076, (3, 3, 15)], 'd4c4': [0.9914694, (3, 3, 22)], 'd4b4': [0.99135494, (3, 3, 23)], 'd4a4': [0.9913166, (3, 3, 24)], 'd4c3': [0.99008733, (3, 3, 43)], 'f3b7': [0.98911715, (5, 2, 39)], 'f3c6': [0.9898484, (5, 2, 38)], 'f3h5': [0.9936735, (5, 2, 30)], 'f3d5': [0.9912466, (5, 2, 37)], 'f3g4': [0.9937403, (5, 2, 29)], 'f3e4': [0.99361813, (5, 2, 36)], 'g2g3': [0.99137294, (6, 1, 1)], 'g2h2': [0.99927187, (6, 1, 15)], 'g2f2': [0.9905412, (6, 1, 22)], 'g2h1': [0.99152064, (6, 1, 50)], 'g2f1': [0.99180675, (6, 1, 43)], 'b2c3': [0.99743336, (1, 1, 29)], 'b2a3': [0.9924561, (1, 1, 36)], 'b2c1': [0.9906101, (1, 1, 50)], 'b1c3': [0.9923704, (1, 0, 58)], 'b1a3': [0.99089503, (1, 0, 57)], 'b1d2': [0.9909308, (1, 0, 59)], 'h3h4': [0.99117845, (7, 2, 1)], 'e3e4': [0.9973404, (4, 2, 1)], 'a2a3': [0.99243253, (0, 1, 1)], 'a2a4': [0.99015033, (0, 1, 2)]}\n"
     ]
    },
    {
     "name": "stderr",
     "output_type": "stream",
     "text": [
      "\r",
      "  1%|          | 1/100 [00:00<01:16,  1.30it/s]"
     ]
    },
    {
     "name": "stdout",
     "output_type": "stream",
     "text": [
      "{'g7g8': [0.99055505, (6, 6, 1)], 'g7f8': [0.989954, (6, 6, 36)], 'g7h7': [0.9887867, (6, 6, 15)], 'g7f7': [0.99091196, (6, 6, 22)], 'g7h6': [0.9899531, (6, 6, 50)], 'g7g6': [0.9941734, (6, 6, 8)], 'b7b8': [0.9900031, (1, 6, 1)], 'b7a7': [0.99933183, (1, 6, 22)], 'd7d6': [0.9950473, (3, 6, 8)], 'c7c6': [0.992484, (2, 6, 8)], 'b6b5': [0.99260646, (1, 5, 8)], 'd7d5': [0.9903084, (3, 6, 9)], 'c7c5': [0.98997545, (2, 6, 9)]}\n",
      "1/2-1/2\n",
      "{'g1h3': [1.0, (6, 0, 58)], 'g1f3': [1.0, (6, 0, 57)], 'b1c3': [1.0, (1, 0, 58)], 'b1a3': [1.0, (1, 0, 57)], 'h2h3': [1.0, (7, 1, 1)], 'g2g3': [1.0, (6, 1, 1)], 'f2f3': [1.0, (5, 1, 1)], 'e2e3': [1.0, (4, 1, 1)], 'd2d3': [1.0, (3, 1, 1)], 'c2c3': [1.0, (2, 1, 1)], 'b2b3': [1.0, (1, 1, 1)], 'a2a3': [1.0, (0, 1, 1)], 'h2h4': [1.0, (7, 1, 2)], 'g2g4': [1.0, (6, 1, 2)], 'f2f4': [1.0, (5, 1, 2)], 'e2e4': [1.0, (4, 1, 2)], 'd2d4': [1.0, (3, 1, 2)], 'c2c4': [1.0, (2, 1, 2)], 'b2b4': [1.0, (1, 1, 2)], 'a2a4': [1.0, (0, 1, 2)]}\n",
      "{'g8h6': [1.0, (6, 7, 61)], 'g8f6': [1.0, (6, 7, 62)], 'b8c6': [1.0, (1, 7, 61)], 'b8a6': [1.0, (1, 7, 62)], 'h7h6': [1.0, (7, 6, 8)], 'g7g6': [1.0, (6, 6, 8)], 'f7f6': [1.0, (5, 6, 8)], 'e7e6': [1.0, (4, 6, 8)], 'd7d6': [1.0, (3, 6, 8)], 'c7c6': [1.0, (2, 6, 8)], 'b7b6': [1.0, (1, 6, 8)], 'a7a6': [1.0, (0, 6, 8)], 'h7h5': [1.0, (7, 6, 9)], 'g7g5': [1.0, (6, 6, 9)], 'f7f5': [1.0, (5, 6, 9)], 'e7e5': [1.0, (4, 6, 9)], 'd7d5': [1.0, (3, 6, 9)], 'c7c5': [1.0, (2, 6, 9)], 'b7b5': [1.0, (1, 6, 9)], 'a7a5': [1.0, (0, 6, 9)]}\n",
      "{'h1h3': [1.0, (7, 0, 2)], 'h1h2': [1.0, (7, 0, 1)], 'g1h3': [1.0, (6, 0, 58)], 'g1f3': [1.0, (6, 0, 57)], 'b1c3': [1.0, (1, 0, 58)], 'b1a3': [1.0, (1, 0, 57)], 'h4h5': [1.0, (7, 3, 1)], 'g2g3': [1.0, (6, 1, 1)], 'f2f3': [1.0, (5, 1, 1)], 'e2e3': [1.0, (4, 1, 1)], 'd2d3': [1.0, (3, 1, 1)], 'c2c3': [1.0, (2, 1, 1)], 'b2b3': [1.0, (1, 1, 1)], 'a2a3': [1.0, (0, 1, 1)], 'g2g4': [1.0, (6, 1, 2)], 'f2f4': [1.0, (5, 1, 2)], 'e2e4': [1.0, (4, 1, 2)], 'd2d4': [1.0, (3, 1, 2)], 'c2c4': [1.0, (2, 1, 2)], 'b2b4': [1.0, (1, 1, 2)], 'a2a4': [1.0, (0, 1, 2)]}\n",
      "{'g8h6': [1.0, (6, 7, 61)], 'g8f6': [1.0, (6, 7, 62)], 'b8c6': [1.0, (1, 7, 61)], 'a8a7': [1.0, (0, 7, 8)], 'h7h6': [1.0, (7, 6, 8)], 'g7g6': [1.0, (6, 6, 8)], 'f7f6': [1.0, (5, 6, 8)], 'e7e6': [1.0, (4, 6, 8)], 'd7d6': [1.0, (3, 6, 8)], 'c7c6': [1.0, (2, 6, 8)], 'b7b6': [1.0, (1, 6, 8)], 'a6a5': [1.0, (0, 5, 8)], 'g7g5': [1.0, (6, 6, 9)], 'f7f5': [1.0, (5, 6, 9)], 'e7e5': [1.0, (4, 6, 9)], 'd7d5': [1.0, (3, 6, 9)], 'c7c5': [1.0, (2, 6, 9)], 'b7b5': [1.0, (1, 6, 9)]}\n",
      "{'h1h4': [1.0, (7, 0, 3)], 'h1h3': [1.0, (7, 0, 2)], 'h1h2': [1.0, (7, 0, 1)], 'g1h3': [1.0, (6, 0, 58)], 'g1f3': [1.0, (6, 0, 57)], 'b1c3': [1.0, (1, 0, 58)], 'b1a3': [1.0, (1, 0, 57)], 'h5h6': [1.0, (7, 4, 1)], 'g2g3': [1.0, (6, 1, 1)], 'f2f3': [1.0, (5, 1, 1)], 'e2e3': [1.0, (4, 1, 1)], 'd2d3': [1.0, (3, 1, 1)], 'c2c3': [1.0, (2, 1, 1)], 'b2b3': [1.0, (1, 1, 1)], 'a2a3': [1.0, (0, 1, 1)], 'g2g4': [1.0, (6, 1, 2)], 'f2f4': [1.0, (5, 1, 2)], 'e2e4': [1.0, (4, 1, 2)], 'd2d4': [1.0, (3, 1, 2)], 'c2c4': [1.0, (2, 1, 2)], 'b2b4': [1.0, (1, 1, 2)], 'a2a4': [1.0, (0, 1, 2)]}\n",
      "{'g8h6': [1.0, (6, 7, 61)], 'g8f6': [1.0, (6, 7, 62)], 'b8c6': [1.0, (1, 7, 61)], 'b8a6': [1.0, (1, 7, 62)], 'a8a7': [1.0, (0, 7, 8)], 'a8a6': [1.0, (0, 7, 9)], 'g7h6': [1.0, (6, 6, 50)], 'g7g6': [1.0, (6, 6, 8)], 'f7f6': [1.0, (5, 6, 8)], 'e7e6': [1.0, (4, 6, 8)], 'd7d6': [1.0, (3, 6, 8)], 'c7c6': [1.0, (2, 6, 8)], 'b7b6': [1.0, (1, 6, 8)], 'a5a4': [1.0, (0, 4, 8)], 'g7g5': [1.0, (6, 6, 9)], 'f7f5': [1.0, (5, 6, 9)], 'e7e5': [1.0, (4, 6, 9)], 'd7d5': [1.0, (3, 6, 9)], 'c7c5': [1.0, (2, 6, 9)], 'b7b5': [1.0, (1, 6, 9)]}\n",
      "{'h1h5': [1.0, (7, 0, 4)], 'h1h4': [1.0, (7, 0, 3)], 'h1h3': [1.0, (7, 0, 2)], 'h1h2': [1.0, (7, 0, 1)], 'g1h3': [1.0, (6, 0, 58)], 'g1f3': [1.0, (6, 0, 57)], 'b1c3': [1.0, (1, 0, 58)], 'b1a3': [1.0, (1, 0, 57)], 'h6g7': [1.0, (7, 5, 36)], 'g2g3': [1.0, (6, 1, 1)], 'f2f3': [1.0, (5, 1, 1)], 'e2e3': [1.0, (4, 1, 1)], 'd2d3': [1.0, (3, 1, 1)], 'c2c3': [1.0, (2, 1, 1)], 'b2b3': [1.0, (1, 1, 1)], 'a2a3': [1.0, (0, 1, 1)], 'g2g4': [1.0, (6, 1, 2)], 'f2f4': [1.0, (5, 1, 2)], 'e2e4': [1.0, (4, 1, 2)], 'd2d4': [1.0, (3, 1, 2)], 'c2c4': [1.0, (2, 1, 2)], 'b2b4': [1.0, (1, 1, 2)]}\n",
      "{'g8h6': [1.0, (6, 7, 61)], 'g8f6': [1.0, (6, 7, 62)], 'f8g7': [1.0, (5, 7, 50)], 'b8c6': [1.0, (1, 7, 61)], 'b8a6': [1.0, (1, 7, 62)], 'a8a7': [1.0, (0, 7, 8)], 'a8a6': [1.0, (0, 7, 9)], 'a8a5': [1.0, (0, 7, 10)], 'h7h6': [1.0, (7, 6, 8)], 'f7f6': [1.0, (5, 6, 8)], 'e7e6': [1.0, (4, 6, 8)], 'd7d6': [1.0, (3, 6, 8)], 'c7c6': [1.0, (2, 6, 8)], 'b7b6': [1.0, (1, 6, 8)], 'a4a3': [1.0, (0, 3, 8)], 'h7h5': [1.0, (7, 6, 9)], 'f7f5': [1.0, (5, 6, 9)], 'e7e5': [1.0, (4, 6, 9)], 'd7d5': [1.0, (3, 6, 9)], 'c7c5': [1.0, (2, 6, 9)], 'b7b5': [1.0, (1, 6, 9)]}\n",
      "{'h1h7': [1.0, (7, 0, 6)], 'h1h6': [1.0, (7, 0, 5)], 'h1h5': [1.0, (7, 0, 4)], 'h1h4': [1.0, (7, 0, 3)], 'h1h3': [1.0, (7, 0, 2)], 'h1h2': [1.0, (7, 0, 1)], 'g1h3': [1.0, (6, 0, 58)], 'g1f3': [1.0, (6, 0, 57)], 'b1c3': [1.0, (1, 0, 58)], 'b1a3': [1.0, (1, 0, 57)], 'g7h8q': [1.0, (6, 6, 29)], 'g7h8r': [1.0, (6, 6, 29)], 'g7h8b': [1.0, (6, 6, 29)], 'g7h8n': [1.0, (6, 6, 29)], 'g7f8q': [1.0, (6, 6, 36)], 'g7f8r': [1.0, (6, 6, 36)], 'g7f8b': [1.0, (6, 6, 36)], 'g7f8n': [1.0, (6, 6, 36)], 'b2a3': [1.0, (1, 1, 36)], 'g2g3': [1.0, (6, 1, 1)], 'f2f3': [1.0, (5, 1, 1)], 'e2e3': [1.0, (4, 1, 1)], 'd2d3': [1.0, (3, 1, 1)], 'c2c3': [1.0, (2, 1, 1)], 'b2b3': [1.0, (1, 1, 1)], 'g2g4': [1.0, (6, 1, 2)], 'f2f4': [1.0, (5, 1, 2)], 'e2e4': [1.0, (4, 1, 2)], 'd2d4': [1.0, (3, 1, 2)], 'c2c4': [1.0, (2, 1, 2)], 'b2b4': [1.0, (1, 1, 2)]}\n",
      "{'h8h7': [1.0, (7, 7, 8)], 'g8h6': [0.99999714, (6, 7, 61)], 'g8f6': [0.99998647, (6, 7, 62)], 'f8g7': [0.99999917, (5, 7, 50)], 'b8c6': [0.99999994, (1, 7, 61)], 'b8a6': [0.9999877, (1, 7, 62)], 'a8a7': [1.0, (0, 7, 8)], 'a8a6': [1.0, (0, 7, 9)], 'a8a5': [0.99999994, (0, 7, 10)], 'a8a4': [1.0, (0, 7, 11)], 'a3b2': [1.0, (0, 2, 50)], 'f7f6': [1.0, (5, 6, 8)], 'e7e6': [1.0, (4, 6, 8)], 'd7d6': [1.0, (3, 6, 8)], 'c7c6': [1.0, (2, 6, 8)], 'b7b6': [1.0, (1, 6, 8)], 'f7f5': [1.0, (5, 6, 9)], 'e7e5': [1.0, (4, 6, 9)], 'd7d5': [1.0, (3, 6, 9)], 'c7c5': [1.0, (2, 6, 9)], 'b7b5': [1.0, (1, 6, 9)]}\n",
      "{'h7h8': [0.99990237, (7, 6, 1)], 'h7h6': [1.0, (7, 6, 8)], 'h7h5': [1.0, (7, 6, 9)], 'h7h4': [1.0, (7, 6, 10)], 'h7h3': [0.99999726, (7, 6, 11)], 'h7h2': [0.99999964, (7, 6, 12)], 'h7h1': [1.0, (7, 6, 13)], 'g1h3': [1.0, (6, 0, 58)], 'g1f3': [1.0, (6, 0, 57)], 'b1c3': [1.0, (1, 0, 58)], 'b1a3': [1.0, (1, 0, 57)], 'g7h8q': [0.9999888, (6, 6, 29)], 'g7h8r': [0.9999888, (6, 6, 29)], 'g7h8b': [0.9999888, (6, 6, 29)], 'g7h8n': [0.9999888, (6, 6, 29)], 'g7f8q': [0.9999998, (6, 6, 36)], 'g7f8r': [0.9999998, (6, 6, 36)], 'g7f8b': [0.9999998, (6, 6, 36)], 'g7f8n': [0.9999998, (6, 6, 36)], 'b2a3': [1.0, (1, 1, 36)], 'g7g8q': [0.9999914, (6, 6, 1)], 'g7g8r': [0.9999914, (6, 6, 1)], 'g7g8b': [0.9999914, (6, 6, 1)], 'g7g8n': [0.9999914, (6, 6, 1)], 'g2g3': [1.0, (6, 1, 1)], 'f2f3': [1.0, (5, 1, 1)], 'e2e3': [1.0, (4, 1, 1)], 'd2d3': [1.0, (3, 1, 1)], 'c2c3': [1.0, (2, 1, 1)], 'b2b3': [1.0, (1, 1, 1)], 'g2g4': [1.0, (6, 1, 2)], 'f2f4': [1.0, (5, 1, 2)], 'e2e4': [1.0, (4, 1, 2)], 'd2d4': [1.0, (3, 1, 2)], 'c2c4': [1.0, (2, 1, 2)], 'b2b4': [1.0, (1, 1, 2)]}\n",
      "{'h8g8': [1.0, (7, 7, 22)], 'h8h7': [1.0, (7, 7, 8)], 'h8h6': [1.0, (7, 7, 9)], 'h8h5': [1.0, (7, 7, 10)], 'h8h4': [1.0, (7, 7, 11)], 'h8h3': [1.0, (7, 7, 12)], 'h8h2': [1.0, (7, 7, 13)], 'h8h1': [1.0, (7, 7, 14)], 'f8g7': [1.0, (5, 7, 50)], 'b8c6': [1.0, (1, 7, 61)], 'b8a6': [1.0, (1, 7, 62)], 'a8a7': [1.0, (0, 7, 8)], 'a8a6': [1.0, (0, 7, 9)], 'a8a5': [1.0, (0, 7, 10)], 'a8a4': [1.0, (0, 7, 11)], 'f6g8': [1.0, (5, 5, 58)], 'f6h7': [1.0, (5, 5, 59)], 'f6h5': [1.0, (5, 5, 60)], 'f6d5': [1.0, (5, 5, 63)], 'f6g4': [1.0, (5, 5, 61)], 'f6e4': [1.0, (5, 5, 62)], 'a3b2': [1.0, (0, 2, 50)], 'e7e6': [1.0, (4, 6, 8)], 'd7d6': [1.0, (3, 6, 8)], 'c7c6': [1.0, (2, 6, 8)], 'b7b6': [1.0, (1, 6, 8)], 'e7e5': [1.0, (4, 6, 9)], 'd7d5': [1.0, (3, 6, 9)], 'c7c5': [1.0, (2, 6, 9)], 'b7b5': [1.0, (1, 6, 9)]}\n",
      "{'h1h8': [1.0, (7, 0, 7)], 'h1h7': [1.0, (7, 0, 6)], 'h1h6': [1.0, (7, 0, 5)], 'h1h5': [1.0, (7, 0, 4)], 'h1h4': [1.0, (7, 0, 3)], 'h1h3': [1.0, (7, 0, 2)], 'h1h2': [1.0, (7, 0, 1)], 'g1h3': [1.0, (6, 0, 58)], 'g1f3': [1.0, (6, 0, 57)], 'c1b2': [1.0, (2, 0, 36)], 'b1c3': [1.0, (1, 0, 58)], 'b1a3': [1.0, (1, 0, 57)], 'g7h8q': [1.0, (6, 6, 29)], 'g7h8r': [1.0, (6, 6, 29)], 'g7h8b': [1.0, (6, 6, 29)], 'g7h8n': [1.0, (6, 6, 29)], 'g7f8q': [1.0, (6, 6, 36)], 'g7f8r': [1.0, (6, 6, 36)], 'g7f8b': [1.0, (6, 6, 36)], 'g7f8n': [1.0, (6, 6, 36)], 'g7g8q': [1.0, (6, 6, 1)], 'g7g8r': [1.0, (6, 6, 1)], 'g7g8b': [1.0, (6, 6, 1)], 'g7g8n': [1.0, (6, 6, 1)], 'g2g3': [1.0, (6, 1, 1)], 'f2f3': [1.0, (5, 1, 1)], 'e2e3': [1.0, (4, 1, 1)], 'd2d3': [1.0, (3, 1, 1)], 'c2c3': [1.0, (2, 1, 1)], 'a2a3': [1.0, (0, 1, 1)], 'g2g4': [1.0, (6, 1, 2)], 'f2f4': [1.0, (5, 1, 2)], 'e2e4': [1.0, (4, 1, 2)], 'd2d4': [1.0, (3, 1, 2)], 'c2c4': [1.0, (2, 1, 2)], 'a2a4': [1.0, (0, 1, 2)]}\n",
      "{'b8c6': [0.9999999, (1, 7, 61)], 'b8a6': [0.99998283, (1, 7, 62)], 'a8a7': [0.9999999, (0, 7, 8)], 'a8a6': [1.0, (0, 7, 9)], 'a8a5': [0.99999976, (0, 7, 10)], 'a8a4': [1.0, (0, 7, 11)], 'a8a3': [0.99999654, (0, 7, 12)], 'a8a2': [0.9999913, (0, 7, 13)], 'f6g8': [1.0, (5, 5, 58)], 'f6h7': [1.0, (5, 5, 59)], 'f6h5': [1.0, (5, 5, 60)], 'f6d5': [0.9999999, (5, 5, 63)], 'f6g4': [1.0, (5, 5, 61)], 'f6e4': [1.0, (5, 5, 62)], 'b2c1q': [1.0, (1, 1, 50)], 'b2c1r': [1.0, (1, 1, 50)], 'b2c1b': [1.0, (1, 1, 50)], 'b2c1n': [1.0, (1, 1, 50)], 'b2a1q': [1.0, (1, 1, 43)], 'b2a1r': [1.0, (1, 1, 43)], 'b2a1b': [1.0, (1, 1, 43)], 'b2a1n': [1.0, (1, 1, 43)], 'e7e6': [1.0, (4, 6, 8)], 'd7d6': [1.0, (3, 6, 8)], 'c7c6': [1.0, (2, 6, 8)], 'b7b6': [1.0, (1, 6, 8)], 'e7e5': [1.0, (4, 6, 9)], 'd7d5': [1.0, (3, 6, 9)], 'c7c5': [1.0, (2, 6, 9)], 'b7b5': [1.0, (1, 6, 9)]}\n",
      "{'h8g8': [0.9983869, (7, 7, 22)], 'h8f8': [0.9992937, (7, 7, 23)], 'h8h7': [0.99988544, (7, 7, 8)], 'h8h6': [0.99683285, (7, 7, 9)], 'h8h5': [0.9982927, (7, 7, 10)], 'h8h4': [0.9982405, (7, 7, 11)], 'h8h3': [0.99679065, (7, 7, 12)], 'h8h2': [0.9981532, (7, 7, 13)], 'h8h1': [0.9947165, (7, 7, 14)], 'g1h3': [0.9986323, (6, 0, 58)], 'g1f3': [0.9999999, (6, 0, 57)], 'c1b2': [0.99999815, (2, 0, 36)], 'b1c3': [0.99999917, (1, 0, 58)], 'b1a3': [0.9999952, (1, 0, 57)], 'g7f8q': [0.9996377, (6, 6, 36)], 'g7f8r': [0.9996377, (6, 6, 36)], 'g7f8b': [0.9996377, (6, 6, 36)], 'g7f8n': [0.9996377, (6, 6, 36)], 'g7g8q': [0.99787354, (6, 6, 1)], 'g7g8r': [0.99787354, (6, 6, 1)], 'g7g8b': [0.99787354, (6, 6, 1)], 'g7g8n': [0.99787354, (6, 6, 1)], 'g2g3': [0.9999992, (6, 1, 1)], 'f2f3': [1.0, (5, 1, 1)], 'e2e3': [1.0, (4, 1, 1)], 'd2d3': [1.0, (3, 1, 1)], 'c2c3': [1.0, (2, 1, 1)], 'a2a3': [0.99998975, (0, 1, 1)], 'g2g4': [0.9999999, (6, 1, 2)], 'f2f4': [1.0, (5, 1, 2)], 'e2e4': [1.0, (4, 1, 2)], 'd2d4': [1.0, (3, 1, 2)], 'c2c4': [1.0, (2, 1, 2)], 'a2a4': [0.99999815, (0, 1, 2)]}\n",
      "{'a8b8': [0.9858283, (0, 7, 15)], 'a8a7': [0.994066, (0, 7, 8)], 'f6g8': [0.9996494, (5, 5, 58)], 'f6h7': [0.98779696, (5, 5, 59)], 'f6h5': [0.98859775, (5, 5, 60)], 'f6d5': [0.9894258, (5, 5, 63)], 'f6g4': [0.9880369, (5, 5, 61)], 'f6e4': [0.98938173, (5, 5, 62)], 'a6b8': [0.98904145, (0, 5, 58)], 'a6c5': [0.98880076, (0, 5, 60)], 'a6b4': [0.98889995, (0, 5, 61)], 'b2c1q': [0.9891621, (1, 1, 50)], 'b2c1r': [0.9891621, (1, 1, 50)], 'b2c1b': [0.9891621, (1, 1, 50)], 'b2c1n': [0.9891621, (1, 1, 50)], 'b2a1q': [0.98812413, (1, 1, 43)], 'b2a1r': [0.98812413, (1, 1, 43)], 'b2a1b': [0.98812413, (1, 1, 43)], 'b2a1n': [0.98812413, (1, 1, 43)], 'e7e6': [0.9890206, (4, 6, 8)], 'd7d6': [0.9926899, (3, 6, 8)], 'c7c6': [0.98965466, (2, 6, 8)], 'b7b6': [0.9853405, (1, 6, 8)], 'e7e5': [0.9894031, (4, 6, 9)], 'd7d5': [0.9886768, (3, 6, 9)], 'c7c5': [0.9884279, (2, 6, 9)], 'b7b5': [0.98820305, (1, 6, 9)]}\n",
      "{'h8g8': [0.9887686, (7, 7, 22)], 'h8f8': [0.99842733, (7, 7, 23)], 'h8h7': [0.9996121, (7, 7, 8)], 'h8h6': [0.9884281, (7, 7, 9)], 'h8h5': [0.98884475, (7, 7, 10)], 'h8h4': [0.98820925, (7, 7, 11)], 'h8h3': [0.9931964, (7, 7, 12)], 'h8h2': [0.98663485, (7, 7, 13)], 'h8h1': [0.99189425, (7, 7, 14)], 'g1h3': [0.9883038, (6, 0, 58)], 'g1f3': [0.9921652, (6, 0, 57)], 'e1f2': [0.99989283, (4, 0, 29)], 'c1b2': [0.9967934, (2, 0, 36)], 'b1c3': [0.9892806, (1, 0, 58)], 'b1a3': [0.9891583, (1, 0, 57)], 'g7f8q': [0.9882271, (6, 6, 36)], 'g7f8r': [0.9882271, (6, 6, 36)], 'g7f8b': [0.9882271, (6, 6, 36)], 'g7f8n': [0.9882271, (6, 6, 36)], 'g7g8q': [0.98958445, (6, 6, 1)], 'g7g8r': [0.98958445, (6, 6, 1)], 'g7g8b': [0.98958445, (6, 6, 1)], 'g7g8n': [0.98958445, (6, 6, 1)], 'f4f5': [0.9986148, (5, 3, 1)], 'g2g3': [0.98776877, (6, 1, 1)], 'e2e3': [0.9962146, (4, 1, 1)], 'd2d3': [0.99417347, (3, 1, 1)], 'c2c3': [0.9900688, (2, 1, 1)], 'a2a3': [0.9907918, (0, 1, 1)], 'g2g4': [0.9901866, (6, 1, 2)], 'e2e4': [0.9958837, (4, 1, 2)], 'd2d4': [0.9922507, (3, 1, 2)], 'c2c4': [0.9906331, (2, 1, 2)], 'a2a4': [0.9882673, (0, 1, 2)]}\n",
      "{'c8b7': [0.9884728, (2, 7, 43)], 'a8b8': [0.98573536, (0, 7, 15)], 'a8a7': [0.99394, (0, 7, 8)], 'f6g8': [0.9996493, (5, 5, 58)], 'f6h7': [0.98781514, (5, 5, 59)], 'f6h5': [0.98859215, (5, 5, 60)], 'f6d5': [0.9894269, (5, 5, 63)], 'f6g4': [0.9880245, (5, 5, 61)], 'f6e4': [0.9893737, (5, 5, 62)], 'a6b8': [0.988974, (0, 5, 58)], 'a6c5': [0.9888396, (0, 5, 60)], 'a6b4': [0.98889434, (0, 5, 61)], 'b2c1q': [0.98911536, (1, 1, 50)], 'b2c1r': [0.98911536, (1, 1, 50)], 'b2c1b': [0.98911536, (1, 1, 50)], 'b2c1n': [0.98911536, (1, 1, 50)], 'b2a1q': [0.9882008, (1, 1, 43)], 'b2a1r': [0.9882008, (1, 1, 43)], 'b2a1b': [0.9882008, (1, 1, 43)], 'b2a1n': [0.9882008, (1, 1, 43)], 'e7e6': [0.98911816, (4, 6, 8)], 'd7d6': [0.99268353, (3, 6, 8)], 'c7c6': [0.9895842, (2, 6, 8)], 'b6b5': [0.99016273, (1, 5, 8)], 'e7e5': [0.98938274, (4, 6, 9)], 'd7d5': [0.9886358, (3, 6, 9)], 'c7c5': [0.98838323, (2, 6, 9)]}\n",
      "{'h8g8': [0.98854256, (7, 7, 22)], 'h8f8': [0.9983972, (7, 7, 23)], 'h8h7': [0.99959755, (7, 7, 8)], 'h8h6': [0.98825383, (7, 7, 9)], 'h8h5': [0.98871255, (7, 7, 10)], 'h8h4': [0.9881691, (7, 7, 11)], 'h8h3': [0.9930872, (7, 7, 12)], 'h8h2': [0.9866114, (7, 7, 13)], 'h8h1': [0.9916862, (7, 7, 14)], 'f2g3': [0.99986625, (5, 1, 29)], 'f2f3': [0.99538124, (5, 1, 1)], 'f2e3': [0.9958433, (5, 1, 36)], 'f2e1': [0.99302626, (5, 1, 43)], 'g1h3': [0.9883783, (6, 0, 58)], 'g1f3': [0.9922564, (6, 0, 57)], 'd1e1': [0.99519396, (3, 0, 15)], 'c1b2': [0.99689496, (2, 0, 36)], 'b1c3': [0.9894469, (1, 0, 58)], 'b1a3': [0.98937035, (1, 0, 57)], 'g7f8q': [0.98810613, (6, 6, 36)], 'g7f8r': [0.98810613, (6, 6, 36)], 'g7f8b': [0.98810613, (6, 6, 36)], 'g7f8n': [0.98810613, (6, 6, 36)], 'g7g8q': [0.9894949, (6, 6, 1)], 'g7g8r': [0.9894949, (6, 6, 1)], 'g7g8b': [0.9894949, (6, 6, 1)], 'g7g8n': [0.9894949, (6, 6, 1)], 'f4f5': [0.9986185, (5, 3, 1)], 'g2g3': [0.98799574, (6, 1, 1)], 'e2e3': [0.9962477, (4, 1, 1)], 'd2d3': [0.9942092, (3, 1, 1)], 'c2c3': [0.99010795, (2, 1, 1)], 'a2a3': [0.9910144, (0, 1, 1)], 'g2g4': [0.99038076, (6, 1, 2)], 'e2e4': [0.99597317, (4, 1, 2)], 'd2d4': [0.99242496, (3, 1, 2)], 'c2c4': [0.9907889, (2, 1, 2)], 'a2a4': [0.9884616, (0, 1, 2)]}\n",
      "{'c8b7': [0.9883882, (2, 7, 43)], 'b8a8': [0.99247587, (1, 7, 22)], 'b8b7': [0.9870918, (1, 7, 8)], 'f6g8': [0.9996418, (5, 5, 58)], 'f6h7': [0.9876256, (5, 5, 59)], 'f6h5': [0.98851204, (5, 5, 60)], 'f6d5': [0.9893162, (5, 5, 63)], 'f6g4': [0.98789394, (5, 5, 61)], 'f6e4': [0.98924315, (5, 5, 62)], 'a6c5': [0.9886704, (0, 5, 60)], 'a6b4': [0.98884386, (0, 5, 61)], 'b2c1q': [0.9890138, (1, 1, 50)], 'b2c1r': [0.9890138, (1, 1, 50)], 'b2c1b': [0.9890138, (1, 1, 50)], 'b2c1n': [0.9890138, (1, 1, 50)], 'b2a1q': [0.9879563, (1, 1, 43)], 'b2a1r': [0.9879563, (1, 1, 43)], 'b2a1b': [0.9879563, (1, 1, 43)], 'b2a1n': [0.9879563, (1, 1, 43)], 'e7e6': [0.9887301, (4, 6, 8)], 'd7d6': [0.9925183, (3, 6, 8)], 'c7c6': [0.9894667, (2, 6, 8)], 'b6b5': [0.99009323, (1, 5, 8)], 'e7e5': [0.98926806, (4, 6, 9)], 'd7d5': [0.98853815, (3, 6, 9)], 'c7c5': [0.98826563, (2, 6, 9)]}\n",
      "{'h8g8': [0.98875755, (7, 7, 22)], 'h8f8': [0.9984383, (7, 7, 23)], 'h8h7': [0.9996115, (7, 7, 8)], 'h8h6': [0.9884566, (7, 7, 9)], 'h8h5': [0.988904, (7, 7, 10)], 'h8h4': [0.9883324, (7, 7, 11)], 'h8h3': [0.99322796, (7, 7, 12)], 'h8h2': [0.98681295, (7, 7, 13)], 'h8h1': [0.991896, (7, 7, 14)], 'g3h4': [0.99246836, (6, 2, 29)], 'g3h3': [0.9966316, (6, 2, 15)], 'g3f3': [0.98786926, (6, 2, 22)], 'g3h2': [0.98932546, (6, 2, 50)], 'g3f2': [0.9887733, (6, 2, 43)], 'g1h3': [0.9885438, (6, 0, 58)], 'g1f3': [0.9924886, (6, 0, 57)], 'd1e1': [0.99530876, (3, 0, 15)], 'c1b2': [0.9969282, (2, 0, 36)], 'b1c3': [0.98958296, (1, 0, 58)], 'b1a3': [0.9894383, (1, 0, 57)], 'g7f8q': [0.9883666, (6, 6, 36)], 'g7f8r': [0.9883666, (6, 6, 36)], 'g7f8b': [0.9883666, (6, 6, 36)], 'g7f8n': [0.9883666, (6, 6, 36)], 'g7g8q': [0.98970187, (6, 6, 1)], 'g7g8r': [0.98970187, (6, 6, 1)], 'g7g8b': [0.98970187, (6, 6, 1)], 'g7g8n': [0.98970187, (6, 6, 1)], 'f4f5': [0.9986432, (5, 3, 1)], 'e2e3': [0.996343, (4, 1, 1)], 'd2d3': [0.9943569, (3, 1, 1)], 'c2c3': [0.99029803, (2, 1, 1)], 'a2a3': [0.99107385, (0, 1, 1)], 'e2e4': [0.9960652, (4, 1, 2)], 'd2d4': [0.99256814, (3, 1, 2)], 'c2c4': [0.9909123, (2, 1, 2)], 'a2a4': [0.9885099, (0, 1, 2)]}\n",
      "{'f8g7': [0.98757017, (5, 7, 50)], 'b7b8': [0.98931605, (1, 6, 1)], 'b7a7': [0.99937105, (1, 6, 22)], 'f6g8': [0.99965966, (5, 5, 58)], 'f6h7': [0.98806185, (5, 5, 59)], 'f6h5': [0.98869663, (5, 5, 60)], 'f6d5': [0.98955345, (5, 5, 63)], 'f6g4': [0.9882562, (5, 5, 61)], 'f6e4': [0.9895874, (5, 5, 62)], 'a6b8': [0.9889996, (0, 5, 58)], 'a6c5': [0.9888481, (0, 5, 60)], 'a6b4': [0.98891175, (0, 5, 61)], 'b2c1q': [0.98932594, (1, 1, 50)], 'b2c1r': [0.98932594, (1, 1, 50)], 'b2c1b': [0.98932594, (1, 1, 50)], 'b2c1n': [0.98932594, (1, 1, 50)], 'b2a1q': [0.9883818, (1, 1, 43)], 'b2a1r': [0.9883818, (1, 1, 43)], 'b2a1b': [0.9883818, (1, 1, 43)], 'b2a1n': [0.9883818, (1, 1, 43)], 'e7e6': [0.9893289, (4, 6, 8)], 'd7d6': [0.9928161, (3, 6, 8)], 'c7c6': [0.98972714, (2, 6, 8)], 'b6b5': [0.99024904, (1, 5, 8)], 'e7e5': [0.9895977, (4, 6, 9)], 'd7d5': [0.98881304, (3, 6, 9)], 'c7c5': [0.9885055, (2, 6, 9)]}\n",
      "{'h7h8': [0.9898466, (7, 6, 1)], 'h7g7': [0.98753, (7, 6, 22)], 'h7h6': [0.99410486, (7, 6, 8)], 'h7h5': [0.9888871, (7, 6, 9)], 'h7h4': [0.98936486, (7, 6, 10)], 'h7h3': [0.98823667, (7, 6, 11)], 'h7h2': [0.99027634, (7, 6, 12)], 'h7h1': [0.9929514, (7, 6, 13)], 'g3h4': [0.99424595, (6, 2, 29)], 'g3h3': [0.99712515, (6, 2, 15)], 'g3f3': [0.98961484, (6, 2, 22)], 'g3h2': [0.9902681, (6, 2, 50)], 'g3f2': [0.99018663, (6, 2, 43)], 'g1h3': [0.9901637, (6, 0, 58)], 'g1f3': [0.9937346, (6, 0, 57)], 'd1e1': [0.9958391, (3, 0, 15)], 'c1b2': [0.9973213, (2, 0, 36)], 'b1c3': [0.9912375, (1, 0, 58)], 'b1a3': [0.9903072, (1, 0, 57)], 'f4f5': [0.9987813, (5, 3, 1)], 'e2e3': [0.9970561, (4, 1, 1)], 'd2d3': [0.9953896, (3, 1, 1)], 'c2c3': [0.9919409, (2, 1, 1)], 'a2a3': [0.9918603, (0, 1, 1)], 'e2e4': [0.9968116, (4, 1, 2)], 'd2d4': [0.99386483, (3, 1, 2)], 'c2c4': [0.992098, (2, 1, 2)], 'a2a4': [0.9894804, (0, 1, 2)]}\n"
     ]
    },
    {
     "name": "stdout",
     "output_type": "stream",
     "text": [
      "{'e8f8': [0.9979689, (4, 7, 15)], 'g7h8': [0.98744845, (6, 6, 29)], 'g7f8': [0.9888748, (6, 6, 36)], 'g7h6': [0.98942554, (6, 6, 50)], 'b7b8': [0.9895723, (1, 6, 1)], 'b7a7': [0.9993366, (1, 6, 22)], 'f6g8': [0.99967337, (5, 5, 58)], 'f6h7': [0.98883355, (5, 5, 59)], 'f6h5': [0.9889538, (5, 5, 60)], 'f6d5': [0.9900485, (5, 5, 63)], 'f6g4': [0.98876905, (5, 5, 61)], 'f6e4': [0.99000454, (5, 5, 62)], 'a6b8': [0.9893228, (0, 5, 58)], 'a6c5': [0.9892274, (0, 5, 60)], 'a6b4': [0.989218, (0, 5, 61)], 'b2c1q': [0.9897369, (1, 1, 50)], 'b2c1r': [0.9897369, (1, 1, 50)], 'b2c1b': [0.9897369, (1, 1, 50)], 'b2c1n': [0.9897369, (1, 1, 50)], 'b2a1q': [0.9892707, (1, 1, 43)], 'b2a1r': [0.9892707, (1, 1, 43)], 'b2a1b': [0.9892707, (1, 1, 43)], 'b2a1n': [0.9892707, (1, 1, 43)], 'e7e6': [0.99078786, (4, 6, 8)], 'd7d6': [0.9936752, (3, 6, 8)], 'c7c6': [0.99087495, (2, 6, 8)], 'b6b5': [0.99133354, (1, 5, 8)], 'e7e5': [0.98996586, (4, 6, 9)], 'd7d5': [0.98921514, (3, 6, 9)], 'c7c5': [0.98898685, (2, 6, 9)]}\n",
      "{'h7h8': [0.9897225, (7, 6, 1)], 'h7g7': [0.98739326, (7, 6, 22)], 'h7f7': [0.9999305, (7, 6, 23)], 'h7h6': [0.99379086, (7, 6, 8)], 'h7h5': [0.98873675, (7, 6, 9)], 'h7h4': [0.9893329, (7, 6, 10)], 'h7h3': [0.98725927, (7, 6, 11)], 'h7h2': [0.9900382, (7, 6, 12)], 'h7h1': [0.99260855, (7, 6, 13)], 'g3h4': [0.99264324, (6, 2, 29)], 'g3f4': [0.9960088, (6, 2, 36)], 'g3h3': [0.9967035, (6, 2, 15)], 'g3f3': [0.9881104, (6, 2, 22)], 'g3h2': [0.98926497, (6, 2, 50)], 'g3f2': [0.9889231, (6, 2, 43)], 'g1h3': [0.9887525, (6, 0, 58)], 'g1f3': [0.99258906, (6, 0, 57)], 'd1e1': [0.9953843, (3, 0, 15)], 'c1b2': [0.9970281, (2, 0, 36)], 'b1c3': [0.99002874, (1, 0, 58)], 'b1a3': [0.9896458, (1, 0, 57)], 'e2e3': [0.9964982, (4, 1, 1)], 'd2d3': [0.9945885, (3, 1, 1)], 'c2c3': [0.99079067, (2, 1, 1)], 'a2a3': [0.9912045, (0, 1, 1)], 'e2e4': [0.9961933, (4, 1, 2)], 'd2d4': [0.9928268, (3, 1, 2)], 'c2c4': [0.9912543, (2, 1, 2)], 'a2a4': [0.988617, (0, 1, 2)]}\n",
      "{'h8g7': [0.9916089, (7, 7, 43)], 'e8f7': [0.9891088, (4, 7, 50)], 'b7b8': [0.9894211, (1, 6, 1)], 'b7a7': [0.99934065, (1, 6, 22)], 'f6g8': [0.9996564, (5, 5, 58)], 'f6h7': [0.9883551, (5, 5, 59)], 'f6h5': [0.98873997, (5, 5, 60)], 'f6d5': [0.98972756, (5, 5, 63)], 'f6g4': [0.9884565, (5, 5, 61)], 'f6e4': [0.9896481, (5, 5, 62)], 'a6b8': [0.98906195, (0, 5, 58)], 'a6c5': [0.9889665, (0, 5, 60)], 'a6b4': [0.98895204, (0, 5, 61)], 'b2c1q': [0.98955864, (1, 1, 50)], 'b2c1r': [0.98955864, (1, 1, 50)], 'b2c1b': [0.98955864, (1, 1, 50)], 'b2c1n': [0.98955864, (1, 1, 50)], 'b2a1q': [0.9887942, (1, 1, 43)], 'b2a1r': [0.9887942, (1, 1, 43)], 'b2a1b': [0.9887942, (1, 1, 43)], 'b2a1n': [0.9887942, (1, 1, 43)], 'e7e6': [0.98964, (4, 6, 8)], 'd7d6': [0.99307346, (3, 6, 8)], 'c7c6': [0.99016654, (2, 6, 8)], 'b6b5': [0.99082106, (1, 5, 8)], 'e7e5': [0.9896637, (4, 6, 9)], 'd7d5': [0.98880976, (3, 6, 9)], 'c7c5': [0.9886097, (2, 6, 9)]}\n",
      "{'f7f8': [0.9900951, (5, 6, 1)], 'f7h7': [0.9896116, (5, 6, 16)], 'f7g7': [0.9895779, (5, 6, 15)], 'f7e7': [0.99217135, (5, 6, 22)], 'f7f6': [0.9929372, (5, 6, 8)], 'g3h4': [0.9929727, (6, 2, 29)], 'g3g4': [0.9889332, (6, 2, 1)], 'g3f4': [0.99617857, (6, 2, 36)], 'g3h3': [0.9967567, (6, 2, 15)], 'g3f3': [0.98840666, (6, 2, 22)], 'g3h2': [0.989262, (6, 2, 50)], 'g3f2': [0.9890325, (6, 2, 43)], 'g1h3': [0.9889609, (6, 0, 58)], 'g1f3': [0.9925972, (6, 0, 57)], 'd1e1': [0.9953761, (3, 0, 15)], 'c1b2': [0.9970846, (2, 0, 36)], 'b1c3': [0.9903693, (1, 0, 58)], 'b1a3': [0.9897903, (1, 0, 57)], 'f5f6': [0.99925697, (5, 4, 1)], 'e2e3': [0.9965872, (4, 1, 1)], 'd2d3': [0.9947234, (3, 1, 1)], 'c2c3': [0.99110234, (2, 1, 1)], 'a2a3': [0.99134296, (0, 1, 1)], 'e2e4': [0.9962847, (4, 1, 2)], 'd2d4': [0.9929976, (3, 1, 2)], 'c2c4': [0.99145496, (2, 1, 2)], 'a2a4': [0.9888025, (0, 1, 2)]}\n",
      "{'h8g7': [0.9916802, (7, 7, 43)], 'h8f6': [0.98920506, (7, 7, 44)], 'e8f7': [0.98925734, (4, 7, 50)], 'h7f8': [0.98879755, (7, 6, 56)], 'h7f6': [0.9886625, (7, 6, 63)], 'h7g5': [0.9881594, (7, 6, 62)], 'b7b8': [0.98946416, (1, 6, 1)], 'b7a7': [0.9993397, (1, 6, 22)], 'a6b8': [0.989092, (0, 5, 58)], 'a6c5': [0.9890059, (0, 5, 60)], 'a6b4': [0.9889866, (0, 5, 61)], 'e7f6': [0.9886495, (4, 6, 50)], 'b2c1q': [0.9896141, (1, 1, 50)], 'b2c1r': [0.9896141, (1, 1, 50)], 'b2c1b': [0.9896141, (1, 1, 50)], 'b2c1n': [0.9896141, (1, 1, 50)], 'b2a1q': [0.98893523, (1, 1, 43)], 'b2a1r': [0.98893523, (1, 1, 43)], 'b2a1b': [0.98893523, (1, 1, 43)], 'b2a1n': [0.98893523, (1, 1, 43)], 'e7e6': [0.99007034, (4, 6, 8)], 'd7d6': [0.9932494, (3, 6, 8)], 'c7c6': [0.99032104, (2, 6, 8)], 'b6b5': [0.990911, (1, 5, 8)], 'e7e5': [0.9898052, (4, 6, 9)], 'd7d5': [0.98894453, (3, 6, 9)], 'c7c5': [0.9886874, (2, 6, 9)]}\n",
      "{'f7f8': [0.99042195, (5, 6, 1)], 'f7h7': [0.98964286, (5, 6, 16)], 'f7g7': [0.98976225, (5, 6, 15)], 'f7e7': [0.99233544, (5, 6, 22)], 'g3h4': [0.99350965, (6, 2, 29)], 'g3g4': [0.9893137, (6, 2, 1)], 'g3f4': [0.9964556, (6, 2, 36)], 'g3h2': [0.989696, (6, 2, 50)], 'g3f2': [0.9895005, (6, 2, 43)], 'g1h3': [0.989411, (6, 0, 58)], 'g1f3': [0.9930903, (6, 0, 57)], 'd1e1': [0.9955595, (3, 0, 15)], 'c1b2': [0.9971625, (2, 0, 36)], 'b1c3': [0.99065876, (1, 0, 58)], 'b1a3': [0.98993504, (1, 0, 57)], 'f6e7': [0.9920157, (5, 5, 36)], 'e2e3': [0.9967811, (4, 1, 1)], 'd2d3': [0.9949917, (3, 1, 1)], 'c2c3': [0.99143296, (2, 1, 1)], 'a2a3': [0.9915105, (0, 1, 1)], 'e2e4': [0.99650604, (4, 1, 2)], 'd2d4': [0.9933523, (3, 1, 2)], 'c2c4': [0.991688, (2, 1, 2)], 'a2a4': [0.9890101, (0, 1, 2)]}\n",
      "{'h8g7': [0.99165106, (7, 7, 43)], 'h8f6': [0.98939025, (7, 7, 44)], 'e8f7': [0.9891585, (4, 7, 50)], 'b7b8': [0.98947936, (1, 6, 1)], 'b7a7': [0.999328, (1, 6, 22)], 'a6b8': [0.98916984, (0, 5, 58)], 'a6c5': [0.989158, (0, 5, 60)], 'a6b4': [0.9891124, (0, 5, 61)], 'g5h7': [0.9999149, (6, 4, 58)], 'g5f7': [0.99767584, (6, 4, 57)], 'g5e6': [0.99613726, (6, 4, 56)], 'g5e4': [0.9888482, (6, 4, 63)], 'g5h3': [0.9881848, (6, 4, 61)], 'g5f3': [0.99195623, (6, 4, 62)], 'e7f6': [0.9888724, (4, 6, 50)], 'e7e6': [0.99084187, (4, 6, 8)], 'd7d6': [0.99363935, (3, 6, 8)], 'c7c6': [0.99075186, (2, 6, 8)], 'b6b5': [0.991133, (1, 5, 8)], 'e7e5': [0.98995054, (4, 6, 9)], 'd7d5': [0.9891918, (3, 6, 9)], 'c7c5': [0.98890734, (2, 6, 9)]}\n",
      "{'f7f8': [0.99055076, (5, 6, 1)], 'f7h7': [0.9897164, (5, 6, 16)], 'f7g7': [0.98983884, (5, 6, 15)], 'f7e7': [0.99241674, (5, 6, 22)], 'g3h4': [0.99359876, (6, 2, 29)], 'g3g4': [0.9892427, (6, 2, 1)], 'g3h3': [0.9969828, (6, 2, 15)], 'g3f3': [0.9890462, (6, 2, 22)], 'g3h2': [0.9899992, (6, 2, 50)], 'b2e5': [0.9896853, (1, 1, 31)], 'b2d4': [0.98744404, (1, 1, 30)], 'b2c3': [0.9966296, (1, 1, 29)], 'b2a3': [0.9919721, (1, 1, 36)], 'b2c1': [0.98972964, (1, 1, 50)], 'g1h3': [0.9896999, (6, 0, 58)], 'g1f3': [0.993484, (6, 0, 57)], 'd1e1': [0.9957881, (3, 0, 15)], 'd1c1': [0.9902278, (3, 0, 22)], 'b1c3': [0.9906666, (1, 0, 58)], 'b1a3': [0.99009454, (1, 0, 57)], 'f6e7': [0.9921547, (5, 5, 36)], 'g2h3': [0.9998926, (6, 1, 29)], 'e2e3': [0.9968322, (4, 1, 1)], 'd2d3': [0.9950526, (3, 1, 1)], 'c2c3': [0.99143577, (2, 1, 1)], 'a2a3': [0.9916134, (0, 1, 1)], 'e2e4': [0.99659187, (4, 1, 2)], 'd2d4': [0.993503, (3, 1, 2)], 'c2c4': [0.9917782, (2, 1, 2)], 'a2a4': [0.9890563, (0, 1, 2)]}\n",
      "{'h8g7': [0.9918847, (7, 7, 43)], 'h8f6': [0.99009764, (7, 7, 44)], 'e8f7': [0.9894798, (4, 7, 50)], 'b7b8': [0.98978674, (1, 6, 1)], 'b7a7': [0.9993267, (1, 6, 22)], 'a6b8': [0.9896119, (0, 5, 58)], 'a6c5': [0.98942566, (0, 5, 60)], 'a6b4': [0.98936987, (0, 5, 61)], 'e7f6': [0.98937845, (4, 6, 50)], 'e7e6': [0.9923319, (4, 6, 8)], 'd7d6': [0.99454284, (3, 6, 8)], 'c7c6': [0.9918746, (2, 6, 8)], 'b6b5': [0.99206495, (1, 5, 8)], 'e7e5': [0.99047536, (4, 6, 9)], 'd7d5': [0.98985314, (3, 6, 9)], 'c7c5': [0.98953533, (2, 6, 9)]}\n",
      "{'f7f8': [0.9917246, (5, 6, 1)], 'f7h7': [0.9901779, (5, 6, 16)], 'f7g7': [0.9910557, (5, 6, 15)], 'f7e7': [0.9933377, (5, 6, 22)], 'g3h4': [0.9955606, (6, 2, 29)], 'g3g4': [0.9913459, (6, 2, 1)], 'g3f4': [0.9976157, (6, 2, 36)], 'g3f3': [0.99108195, (6, 2, 22)], 'g3h2': [0.99141777, (6, 2, 50)], 'g3g2': [0.99934196, (6, 2, 8)], 'g3f2': [0.9918459, (6, 2, 43)], 'b2e5': [0.9910943, (1, 1, 31)], 'b2d4': [0.9893409, (1, 1, 30)], 'b2c3': [0.9975514, (1, 1, 29)], 'b2a3': [0.9925478, (1, 1, 36)], 'b2c1': [0.9907604, (1, 1, 50)], 'g1f3': [0.99507, (6, 0, 57)], 'f1g2': [0.9999579, (5, 0, 29)], 'd1e1': [0.9964869, (3, 0, 15)], 'd1c1': [0.9911831, (3, 0, 22)], 'b1c3': [0.99268275, (1, 0, 58)], 'b1a3': [0.9911028, (1, 0, 57)], 'f6e7': [0.9931278, (5, 5, 36)], 'h3h4': [0.99165076, (7, 2, 1)], 'e2e3': [0.99758756, (4, 1, 1)], 'd2d3': [0.9963101, (3, 1, 1)], 'c2c3': [0.9931952, (2, 1, 1)], 'a2a3': [0.9926226, (0, 1, 1)], 'e2e4': [0.9974339, (4, 1, 2)], 'd2d4': [0.99500155, (3, 1, 2)], 'c2c4': [0.9930854, (2, 1, 2)], 'a2a4': [0.9904366, (0, 1, 2)]}\n",
      "{'h8g7': [0.9918779, (7, 7, 43)], 'h8f6': [0.9901806, (7, 7, 44)], 'e8f7': [0.98945594, (4, 7, 50)], 'b7b8': [0.9898052, (1, 6, 1)], 'b7a7': [0.9993222, (1, 6, 22)], 'b4c6': [0.9918554, (1, 3, 58)], 'b4a6': [0.99665964, (1, 3, 57)], 'b4d5': [0.9905704, (1, 3, 59)], 'b4d3': [0.98926044, (1, 3, 60)], 'b4c2': [0.9893547, (1, 3, 61)], 'b4a2': [0.9949572, (1, 3, 62)], 'e7f6': [0.9894552, (4, 6, 50)], 'e7e6': [0.9926522, (4, 6, 8)], 'd7d6': [0.9947349, (3, 6, 8)], 'c7c6': [0.99209595, (2, 6, 8)], 'b6b5': [0.992255, (1, 5, 8)], 'e7e5': [0.99054277, (4, 6, 9)], 'd7d5': [0.98998976, (3, 6, 9)], 'c7c5': [0.98967403, (2, 6, 9)]}\n",
      "{'f7f8': [0.9913085, (5, 6, 1)], 'f7h7': [0.98998773, (5, 6, 16)], 'f7g7': [0.9906501, (5, 6, 15)], 'f7e7': [0.9930438, (5, 6, 22)], 'g3h4': [0.994921, (6, 2, 29)], 'g3g4': [0.99065316, (6, 2, 1)], 'g3f3': [0.9903938, (6, 2, 22)], 'g3h2': [0.9908825, (6, 2, 50)], 'g2b7': [0.9946401, (6, 1, 40)], 'g2c6': [0.9902687, (6, 1, 39)], 'g2d5': [0.9900492, (6, 1, 38)], 'g2e4': [0.99104863, (6, 1, 37)], 'g2f3': [0.99922174, (6, 1, 36)], 'g2h1': [0.991325, (6, 1, 50)], 'g2f1': [0.99153644, (6, 1, 43)], 'b2e5': [0.990633, (1, 1, 31)], 'b2d4': [0.98871154, (1, 1, 30)], 'b2c3': [0.997288, (1, 1, 29)], 'b2a3': [0.9923998, (1, 1, 36)], 'b2c1': [0.9903538, (1, 1, 50)], 'g1f3': [0.994534, (6, 0, 57)], 'd1f1': [0.99142456, (3, 0, 16)], 'd1e1': [0.9962419, (3, 0, 15)], 'd1c1': [0.99084437, (3, 0, 22)], 'b1c3': [0.9920423, (1, 0, 58)], 'b1a3': [0.99077547, (1, 0, 57)], 'f6e7': [0.99278164, (5, 5, 36)], 'e2d3': [0.99660826, (4, 1, 36)], 'c2d3': [0.99953556, (2, 1, 29)], 'h3h4': [0.99102867, (7, 2, 1)], 'e2e3': [0.9973451, (4, 1, 1)], 'c2c3': [0.99262667, (2, 1, 1)], 'a2a3': [0.992309, (0, 1, 1)], 'e2e4': [0.9971539, (4, 1, 2)], 'c2c4': [0.9926458, (2, 1, 2)], 'a2a4': [0.9899863, (0, 1, 2)]}\n",
      "{'h8g7': [0.9919206, (7, 7, 43)], 'h8f6': [0.9901833, (7, 7, 44)], 'e8f7': [0.9894936, (4, 7, 50)], 'b7b8': [0.9897464, (1, 6, 1)], 'b7a7': [0.9993218, (1, 6, 22)], 'e7f6': [0.98945856, (4, 6, 50)], 'e7e6': [0.9925567, (4, 6, 8)], 'd7d6': [0.99463356, (3, 6, 8)], 'c7c6': [0.9919214, (2, 6, 8)], 'b6b5': [0.9920808, (1, 5, 8)], 'e7e5': [0.9904964, (4, 6, 9)], 'd7d5': [0.9899012, (3, 6, 9)], 'c7c5': [0.9895476, (2, 6, 9)]}\n",
      "{'f7f8': [0.99133086, (5, 6, 1)], 'f7h7': [0.9900533, (5, 6, 16)], 'f7g7': [0.99067646, (5, 6, 15)], 'f7e7': [0.99306417, (5, 6, 22)], 'f7d7': [0.9974694, (5, 6, 23)], 'f7f6': [0.9945252, (5, 6, 8)], 'g3h4': [0.99490106, (6, 2, 29)], 'g3g4': [0.9906454, (6, 2, 1)], 'g3f4': [0.9972438, (6, 2, 36)], 'g3f3': [0.9903946, (6, 2, 22)], 'g3h2': [0.99094236, (6, 2, 50)], 'g3f2': [0.99112165, (6, 2, 43)], 'g2b7': [0.9946672, (6, 1, 40)], 'g2c6': [0.9902976, (6, 1, 39)], 'g2d5': [0.9900774, (6, 1, 38)], 'g2e4': [0.99112856, (6, 1, 37)], 'g2f3': [0.9992279, (6, 1, 36)], 'g2h1': [0.9914062, (6, 1, 50)], 'g2f1': [0.99164534, (6, 1, 43)], 'b2f6': [0.9894077, (1, 1, 32)], 'b2e5': [0.99065065, (1, 1, 31)], 'b2d4': [0.9887142, (1, 1, 30)], 'b2c3': [0.9972841, (1, 1, 29)], 'b2a3': [0.99240327, (1, 1, 36)], 'b2c1': [0.9903741, (1, 1, 50)], 'g1f3': [0.99461424, (6, 0, 57)], 'd1a4': [0.9882127, (3, 0, 38)], 'd1b3': [0.99228907, (3, 0, 37)], 'd1c2': [0.9985491, (3, 0, 36)], 'd1f1': [0.9914907, (3, 0, 16)], 'd1e1': [0.9962903, (3, 0, 15)], 'd1c1': [0.9909219, (3, 0, 22)], 'b1c3': [0.9920383, (1, 0, 58)], 'b1a3': [0.99077225, (1, 0, 57)], 'h3h4': [0.9910254, (7, 2, 1)], 'd3d4': [0.9953315, (3, 2, 1)], 'e2e3': [0.9973459, (4, 1, 1)], 'a2a3': [0.99232525, (0, 1, 1)], 'e2e4': [0.99716055, (4, 1, 2)], 'a2a4': [0.9899621, (0, 1, 2)]}\n",
      "{'h8g7': [0.99203014, (7, 7, 43)], 'e8f7': [0.9896847, (4, 7, 50)], 'd8e7': [0.99240077, (3, 7, 50)], 'b7b8': [0.989879, (1, 6, 1)], 'b7a7': [0.9993241, (1, 6, 22)], 'd7d6': [0.99499345, (3, 6, 8)], 'c7c6': [0.9923637, (2, 6, 8)], 'f6f5': [0.99578816, (5, 5, 8)], 'b6b5': [0.9924379, (1, 5, 8)], 'd7d5': [0.9902027, (3, 6, 9)], 'c7c5': [0.98985004, (2, 6, 9)]}\n",
      "{'g3h4': [0.99499977, (6, 2, 29)], 'g3g4': [0.9907484, (6, 2, 1)], 'g3f4': [0.9973308, (6, 2, 36)], 'g3h2': [0.9911351, (6, 2, 50)], 'g3g2': [0.9993025, (6, 2, 8)], 'g3f2': [0.9913775, (6, 2, 43)], 'f3b7': [0.9890176, (5, 2, 39)], 'f3c6': [0.9898602, (5, 2, 38)], 'f3h5': [0.99368674, (5, 2, 30)], 'f3d5': [0.9913101, (5, 2, 37)], 'f3g4': [0.99362123, (5, 2, 29)], 'f3e4': [0.9935455, (5, 2, 36)], 'f3g2': [0.9929022, (5, 2, 50)], 'f3h1': [0.9914818, (5, 2, 51)], 'b2f6': [0.9895511, (1, 1, 32)], 'b2e5': [0.99089384, (1, 1, 31)], 'b2d4': [0.9890163, (1, 1, 30)], 'b2c3': [0.9973992, (1, 1, 29)], 'b2a3': [0.9924996, (1, 1, 36)], 'b2c1': [0.99070156, (1, 1, 50)], 'd1a4': [0.98841876, (3, 0, 38)], 'd1b3': [0.99265885, (3, 0, 37)], 'd1c2': [0.9986268, (3, 0, 36)], 'd1f1': [0.9919027, (3, 0, 16)], 'd1e1': [0.99646497, (3, 0, 15)], 'd1c1': [0.9912537, (3, 0, 22)], 'b1c3': [0.99234223, (1, 0, 58)], 'b1a3': [0.99096316, (1, 0, 57)], 'h3h4': [0.9910773, (7, 2, 1)], 'd3d4': [0.99551356, (3, 2, 1)], 'e2e3': [0.9974257, (4, 1, 1)], 'a2a3': [0.9924946, (0, 1, 1)], 'e2e4': [0.9972498, (4, 1, 2)], 'a2a4': [0.9901519, (0, 1, 2)]}\n",
      "{'h8g7': [0.9920119, (7, 7, 43)], 'd8g8': [0.9888828, (3, 7, 17)], 'd8f8': [0.9914309, (3, 7, 16)], 'd8e8': [0.99770796, (3, 7, 15)], 'd8e7': [0.9925555, (3, 7, 50)], 'f7g8': [0.98923075, (5, 6, 29)], 'f7f8': [0.99139535, (5, 6, 1)], 'f7e8': [0.9918117, (5, 6, 36)], 'f7g7': [0.9907831, (5, 6, 15)], 'f7e7': [0.9931666, (5, 6, 22)], 'f7g6': [0.9889314, (5, 6, 50)], 'f7e6': [0.9919294, (5, 6, 43)], 'b7b8': [0.98991257, (1, 6, 1)], 'b7a7': [0.9993424, (1, 6, 22)], 'd7d6': [0.9945426, (3, 6, 8)], 'c7c6': [0.99189645, (2, 6, 8)], 'f6f5': [0.9953264, (5, 5, 8)], 'b6b5': [0.9921086, (1, 5, 8)], 'd7d5': [0.98992544, (3, 6, 9)], 'c7c5': [0.9896106, (2, 6, 9)]}\n",
      "{'g2h2': [0.99924624, (6, 1, 15)], 'g2f2': [0.9901295, (6, 1, 22)], 'g2h1': [0.9912425, (6, 1, 50)], 'g2f1': [0.9914334, (6, 1, 43)], 'f3g4': [0.99341893, (5, 2, 29)]}\n",
      "{'h8g7': [0.99200904, (7, 7, 43)], 'g8f8': [0.9894966, (6, 7, 22)], 'g8e8': [0.99597514, (6, 7, 23)], 'g8d8': [0.9999113, (6, 7, 24)], 'g8h7': [0.9886224, (6, 7, 50)], 'g8g7': [0.9996269, (6, 7, 8)], 'g8g6': [0.99616265, (6, 7, 9)], 'g8g5': [0.98891366, (6, 7, 10)], 'g8g4': [0.9893509, (6, 7, 11)], 'g8g3': [0.9957286, (6, 7, 12)], 'g8g2': [0.99469036, (6, 7, 13)], 'g8g1': [0.997389, (6, 7, 14)], 'f7f8': [0.9914923, (5, 6, 1)], 'f7e8': [0.99190396, (5, 6, 36)], 'f7g7': [0.9908669, (5, 6, 15)], 'f7e7': [0.99323165, (5, 6, 22)], 'f7g6': [0.9889955, (5, 6, 50)], 'f7e6': [0.99196756, (5, 6, 43)], 'b7b8': [0.98992276, (1, 6, 1)], 'b7a7': [0.99933934, (1, 6, 22)], 'd7d6': [0.99465615, (3, 6, 8)], 'c7c6': [0.99203265, (2, 6, 8)], 'f6f5': [0.99544585, (5, 5, 8)], 'b6b5': [0.99221337, (1, 5, 8)], 'd7d5': [0.99001616, (3, 6, 9)], 'c7c5': [0.9896914, (2, 6, 9)]}\n",
      "{'f3b7': [0.9894167, (5, 2, 39)], 'f3c6': [0.9899279, (5, 2, 38)], 'f3h5': [0.9942942, (5, 2, 30)], 'f3d5': [0.9920725, (5, 2, 37)], 'f3g4': [0.9944225, (5, 2, 29)], 'f3e4': [0.99425715, (5, 2, 36)], 'f3g2': [0.9934617, (5, 2, 50)], 'f3h1': [0.9919454, (5, 2, 51)], 'h2g3': [0.99850416, (7, 1, 36)], 'h2g2': [0.9916265, (7, 1, 22)], 'h2h1': [0.9979316, (7, 1, 8)], 'b2f6': [0.9898335, (1, 1, 32)], 'b2e5': [0.9915036, (1, 1, 31)], 'b2d4': [0.9897712, (1, 1, 30)], 'b2c3': [0.99768674, (1, 1, 29)], 'b2a3': [0.9926725, (1, 1, 36)], 'b2c1': [0.9913374, (1, 1, 50)], 'd1a4': [0.9887599, (3, 0, 38)], 'd1b3': [0.99325144, (3, 0, 37)], 'd1c2': [0.9987689, (3, 0, 36)], 'd1f1': [0.992906, (3, 0, 16)], 'd1e1': [0.99680424, (3, 0, 15)], 'd1c1': [0.99177855, (3, 0, 22)], 'b1c3': [0.99316067, (1, 0, 58)], 'b1a3': [0.99146014, (1, 0, 57)], 'h3h4': [0.9918455, (7, 2, 1)], 'd3d4': [0.9960546, (3, 2, 1)], 'e2e3': [0.9977025, (4, 1, 1)], 'a2a3': [0.99288213, (0, 1, 1)], 'e2e4': [0.9975585, (4, 1, 2)], 'a2a4': [0.9906571, (0, 1, 2)]}\n",
      "{'h8g7': [0.99209297, (7, 7, 43)], 'h7g8': [0.98976547, (7, 6, 36)], 'h7g7': [0.98806655, (7, 6, 22)], 'h7h6': [0.99455607, (7, 6, 8)], 'h7g6': [0.9894376, (7, 6, 43)], 'h7h5': [0.9894408, (7, 6, 9)], 'h7f5': [0.98811877, (7, 6, 44)], 'h7h4': [0.9897907, (7, 6, 10)], 'h7e4': [0.9918351, (7, 6, 45)], 'h7h3': [0.9897017, (7, 6, 11)], 'h7d3': [0.9831423, (7, 6, 46)], 'f7g8': [0.98935235, (5, 6, 29)], 'f7f8': [0.99185133, (5, 6, 1)], 'f7e8': [0.99230456, (5, 6, 36)], 'f7g7': [0.9912413, (5, 6, 15)], 'f7e7': [0.99350345, (5, 6, 22)], 'f7g6': [0.98934937, (5, 6, 50)], 'f7e6': [0.99214673, (5, 6, 43)], 'b7b8': [0.99001306, (1, 6, 1)], 'b7a7': [0.99933016, (1, 6, 22)], 'd7d6': [0.99511176, (3, 6, 8)], 'c7c6': [0.99256766, (2, 6, 8)], 'f6f5': [0.9958501, (5, 5, 8)], 'b6b5': [0.99268615, (1, 5, 8)], 'd7d5': [0.990336, (3, 6, 9)], 'c7c5': [0.9900129, (2, 6, 9)]}\n",
      "{'f3b7': [0.9889128, (5, 2, 39)], 'f3c6': [0.98981386, (5, 2, 38)], 'f3h5': [0.9933337, (5, 2, 30)], 'f3d5': [0.99093986, (5, 2, 37)], 'f3g4': [0.99325144, (5, 2, 29)], 'f3e4': [0.99323785, (5, 2, 36)], 'f3g2': [0.99254405, (5, 2, 50)], 'f3h1': [0.99110925, (5, 2, 51)], 'h2g3': [0.9982292, (7, 1, 36)], 'h2g2': [0.9907078, (7, 1, 22)], 'h2h1': [0.99755394, (7, 1, 8)], 'c2c7': [0.9907613, (2, 1, 5)], 'c2c6': [0.99971867, (2, 1, 4)], 'c2c5': [0.9908324, (2, 1, 3)], 'c2c4': [0.99259937, (2, 1, 2)], 'c2a4': [0.99196154, (2, 1, 37)], 'c2d3': [0.9995347, (2, 1, 29)], 'c2c3': [0.9926573, (2, 1, 1)], 'c2b3': [0.9944458, (2, 1, 36)], 'c2d1': [0.9905842, (2, 1, 50)], 'c2c1': [0.9991504, (2, 1, 8)], 'b2f6': [0.9894065, (1, 1, 32)], 'b2e5': [0.9905693, (1, 1, 31)], 'b2d4': [0.9886563, (1, 1, 30)], 'b2c3': [0.99728256, (1, 1, 29)], 'b2a3': [0.9924294, (1, 1, 36)], 'b2c1': [0.9904199, (1, 1, 50)], 'b1c3': [0.99202245, (1, 0, 58)], 'b1a3': [0.99074376, (1, 0, 57)], 'e2d3': [0.99659085, (4, 1, 36)], 'h3h4': [0.9907187, (7, 2, 1)], 'e2e3': [0.997301, (4, 1, 1)], 'a2a3': [0.99227434, (0, 1, 1)], 'e2e4': [0.9970852, (4, 1, 2)], 'a2a4': [0.98991334, (0, 1, 2)]}\n",
      "{'h8g7': [0.9920199, (7, 7, 43)], 'f7g8': [0.98929405, (5, 6, 29)], 'f7f8': [0.9916998, (5, 6, 1)], 'f7e8': [0.9921374, (5, 6, 36)], 'f7g7': [0.99103487, (5, 6, 15)], 'f7e7': [0.99331665, (5, 6, 22)], 'f7g6': [0.98920983, (5, 6, 50)], 'b7b8': [0.9899185, (1, 6, 1)], 'b7a7': [0.9993274, (1, 6, 22)], 'd3h7': [0.98652637, (3, 2, 32)], 'd3g6': [0.9889372, (3, 2, 31)], 'd3d6': [0.9901752, (3, 2, 3)], 'd3a6': [0.9876824, (3, 2, 38)], 'd3f5': [0.9913218, (3, 2, 30)], 'd3d5': [0.99227875, (3, 2, 2)], 'd3b5': [0.99128026, (3, 2, 37)], 'd3e4': [0.99572366, (3, 2, 29)], 'd3d4': [0.9957247, (3, 2, 1)], 'd3c4': [0.9925823, (3, 2, 36)], 'd3f3': [0.99095404, (3, 2, 16)], 'd3e3': [0.9987159, (3, 2, 15)], 'd3c3': [0.98912406, (3, 2, 22)], 'd3b3': [0.99695194, (3, 2, 23)], 'd3a3': [0.98955786, (3, 2, 24)], 'd3e2': [0.99407595, (3, 2, 50)], 'd3d2': [0.9997808, (3, 2, 8)], 'd3c2': [0.9914136, (3, 2, 43)], 'd3b1': [0.9889997, (3, 2, 44)], 'd7c6': [0.9931005, (3, 6, 43)], 'd7d6': [0.9948638, (3, 6, 8)], 'f6f5': [0.9955859, (5, 5, 8)], 'b6b5': [0.9923799, (1, 5, 8)], 'd7d5': [0.99015796, (3, 6, 9)]}\n",
      "{'c6d7': [0.98915124, (2, 5, 29)], 'c6c7': [0.99196965, (2, 5, 1)], 'c6b7': [0.9903495, (2, 5, 36)], 'c6f6': [0.9914534, (2, 5, 17)], 'c6e6': [0.9938985, (2, 5, 16)], 'c6d6': [0.9897536, (2, 5, 15)], 'c6b6': [0.9909195, (2, 5, 22)], 'c6d5': [0.99981254, (2, 5, 50)], 'c6c5': [0.9965287, (2, 5, 8)], 'c6b5': [0.98784995, (2, 5, 43)], 'c6e4': [0.98889524, (2, 5, 51)], 'c6c4': [0.99141634, (2, 5, 9)], 'c6a4': [0.98829174, (2, 5, 44)], 'c6c3': [0.988191, (2, 5, 10)], 'c6c2': [0.99507314, (2, 5, 11)], 'c6c1': [0.9942368, (2, 5, 12)], 'f3h5': [0.99401236, (5, 2, 30)], 'f3d5': [0.99163437, (5, 2, 37)], 'f3g4': [0.99403596, (5, 2, 29)], 'f3e4': [0.99385357, (5, 2, 36)], 'f3g2': [0.99323463, (5, 2, 50)], 'f3h1': [0.991727, (5, 2, 51)], 'h2g3': [0.9984251, (7, 1, 36)], 'h2g2': [0.99135625, (7, 1, 22)], 'h2h1': [0.997833, (7, 1, 8)], 'b2f6': [0.9896232, (1, 1, 32)], 'b2e5': [0.99110556, (1, 1, 31)], 'b2d4': [0.98927903, (1, 1, 30)], 'b2c3': [0.9974947, (1, 1, 29)], 'b2a3': [0.99248964, (1, 1, 36)], 'b2c1': [0.9908411, (1, 1, 50)], 'b1c3': [0.99259293, (1, 0, 58)], 'b1a3': [0.9910641, (1, 0, 57)], 'h3h4': [0.99151886, (7, 2, 1)], 'e2e3': [0.99754834, (4, 1, 1)], 'd2d3': [0.99627423, (3, 1, 1)], 'a2a3': [0.9925858, (0, 1, 1)], 'e2e4': [0.9974092, (4, 1, 2)], 'd2d4': [0.99497294, (3, 1, 2)], 'a2a4': [0.9902686, (0, 1, 2)]}\n",
      "{'f7f8': [0.9916477, (5, 6, 1)], 'f7e8': [0.99210024, (5, 6, 36)], 'f7g7': [0.99102104, (5, 6, 15)], 'f7e7': [0.9932947, (5, 6, 22)], 'f7g6': [0.9891876, (5, 6, 50)]}\n"
     ]
    },
    {
     "name": "stdout",
     "output_type": "stream",
     "text": [
      "{'d5g8': [0.98944306, (3, 4, 31)], 'd5f7': [0.99400806, (3, 4, 30)], 'd5d7': [0.9943247, (3, 4, 2)], 'd5b7': [0.9897368, (3, 4, 37)], 'd5e6': [0.99088454, (3, 4, 29)], 'd5d6': [0.99900985, (3, 4, 1)], 'd5c6': [0.99059486, (3, 4, 36)], 'd5h5': [0.98935837, (3, 4, 18)], 'd5g5': [0.9899346, (3, 4, 17)], 'd5f5': [0.99298835, (3, 4, 16)], 'd5e5': [0.9992285, (3, 4, 15)], 'd5c5': [0.9905517, (3, 4, 22)], 'd5b5': [0.9920349, (3, 4, 23)], 'd5a5': [0.99143624, (3, 4, 24)], 'd5e4': [0.99244595, (3, 4, 50)], 'd5d4': [0.9998045, (3, 4, 8)], 'd5c4': [0.9912341, (3, 4, 43)], 'd5d3': [0.9962271, (3, 4, 9)], 'd5b3': [0.9896129, (3, 4, 44)], 'f3h5': [0.99428904, (5, 2, 30)], 'f3g4': [0.9944538, (5, 2, 29)], 'f3e4': [0.9942434, (5, 2, 36)], 'f3g2': [0.99345577, (5, 2, 50)], 'f3h1': [0.99191225, (5, 2, 51)], 'h2g3': [0.99850863, (7, 1, 36)], 'h2g2': [0.99162894, (7, 1, 22)], 'h2h1': [0.99793047, (7, 1, 8)], 'b2f6': [0.98977554, (1, 1, 32)], 'b2e5': [0.9914355, (1, 1, 31)], 'b2d4': [0.9897041, (1, 1, 30)], 'b2c3': [0.99766266, (1, 1, 29)], 'b2a3': [0.99262565, (1, 1, 36)], 'b2c1': [0.99119914, (1, 1, 50)], 'b1c3': [0.9930608, (1, 0, 58)], 'b1a3': [0.9913676, (1, 0, 57)], 'h3h4': [0.9919003, (7, 2, 1)], 'e2e3': [0.9976932, (4, 1, 1)], 'd2d3': [0.9965062, (3, 1, 1)], 'a2a3': [0.9928206, (0, 1, 1)], 'e2e4': [0.9975591, (4, 1, 2)], 'd2d4': [0.99525666, (3, 1, 2)], 'a2a4': [0.9905484, (0, 1, 2)]}\n",
      "{'h8g7': [0.9920494, (7, 7, 43)], 'h7g8': [0.98970234, (7, 6, 36)], 'h7g7': [0.9880221, (7, 6, 22)], 'h7f7': [0.99992746, (7, 6, 23)], 'h7e7': [0.9986263, (7, 6, 24)], 'h7h6': [0.9945145, (7, 6, 8)], 'h7h5': [0.9893893, (7, 6, 9)], 'h7h4': [0.9897485, (7, 6, 10)], 'h7h3': [0.9895823, (7, 6, 11)], 'b7b8': [0.9899347, (1, 6, 1)], 'b7a7': [0.99932647, (1, 6, 22)], 'g6g7': [0.99016464, (6, 5, 1)], 'g6f7': [0.9944047, (6, 5, 36)], 'g6h6': [0.9902731, (6, 5, 15)], 'g6g5': [0.9939149, (6, 5, 8)], 'g6f5': [0.99081004, (6, 5, 43)], 'd7d6': [0.9949821, (3, 6, 8)], 'c7c6': [0.9923911, (2, 6, 8)], 'f6f5': [0.99575067, (5, 5, 8)], 'b6b5': [0.9924879, (1, 5, 8)], 'd7d5': [0.9902323, (3, 6, 9)], 'c7c5': [0.9898901, (2, 6, 9)]}\n",
      "{'d4d7': [0.9899018, (3, 3, 3)], 'd4f6': [0.99314237, (3, 3, 30)], 'd4d6': [0.99277556, (3, 3, 2)], 'd4b6': [0.99071735, (3, 3, 37)], 'd4e5': [0.9933739, (3, 3, 29)], 'd4d5': [0.9981475, (3, 3, 1)], 'd4c5': [0.989219, (3, 3, 36)], 'd4h4': [0.99189234, (3, 3, 18)], 'd4g4': [0.9906918, (3, 3, 17)], 'd4f4': [0.991851, (3, 3, 16)], 'd4e4': [0.9980359, (3, 3, 15)], 'd4c4': [0.9918753, (3, 3, 22)], 'd4b4': [0.9916339, (3, 3, 23)], 'd4a4': [0.99146765, (3, 3, 24)], 'd4e3': [0.99224615, (3, 3, 50)], 'd4d3': [0.999833, (3, 3, 8)], 'd4c3': [0.99048257, (3, 3, 43)], 'd4f2': [0.99165237, (3, 3, 51)], 'f3b7': [0.9892893, (5, 2, 39)], 'f3c6': [0.989936, (5, 2, 38)], 'f3h5': [0.9940666, (5, 2, 30)], 'f3d5': [0.99179494, (5, 2, 37)], 'f3g4': [0.99417186, (5, 2, 29)], 'f3e4': [0.9940069, (5, 2, 36)], 'f3g2': [0.9932276, (5, 2, 50)], 'f3h1': [0.99175245, (5, 2, 51)], 'h2g3': [0.9984466, (7, 1, 36)], 'h2g2': [0.9914176, (7, 1, 22)], 'h2h1': [0.9978501, (7, 1, 8)], 'b2c3': [0.99761003, (1, 1, 29)], 'b2a3': [0.992608, (1, 1, 36)], 'b2c1': [0.99108034, (1, 1, 50)], 'b1c3': [0.99288225, (1, 0, 58)], 'b1a3': [0.99125403, (1, 0, 57)], 'h3h4': [0.99156654, (7, 2, 1)], 'e2e3': [0.99760574, (4, 1, 1)], 'd2d3': [0.9963827, (3, 1, 1)], 'a2a3': [0.9927249, (0, 1, 1)], 'e2e4': [0.9974555, (4, 1, 2)], 'a2a4': [0.99044305, (0, 1, 2)]}\n",
      "{'g6f7': [0.99442136, (6, 5, 36)], 'g6h6': [0.9903316, (6, 5, 15)], 'g6g5': [0.9939607, (6, 5, 8)], 'f6f5': [0.995811, (5, 5, 8)]}\n",
      "{'f3b7': [0.98934126, (5, 2, 39)], 'f3c6': [0.98994565, (5, 2, 38)], 'f3h5': [0.9940852, (5, 2, 30)], 'f3d5': [0.9917862, (5, 2, 37)], 'f3g4': [0.9942417, (5, 2, 29)], 'f3e4': [0.99404526, (5, 2, 36)], 'f3g2': [0.9932297, (5, 2, 50)], 'f3h1': [0.9917119, (5, 2, 51)], 'd3h7': [0.9868601, (3, 2, 32)], 'd3d7': [0.9986952, (3, 2, 4)], 'd3g6': [0.9891825, (3, 2, 31)], 'd3d6': [0.99050057, (3, 2, 3)], 'd3a6': [0.9877114, (3, 2, 38)], 'd3f5': [0.99151814, (3, 2, 30)], 'd3d5': [0.9925991, (3, 2, 2)], 'd3b5': [0.9914738, (3, 2, 37)], 'd3e4': [0.99587, (3, 2, 29)], 'd3d4': [0.99588126, (3, 2, 1)], 'd3c4': [0.9928507, (3, 2, 36)], 'd3e3': [0.99875605, (3, 2, 15)], 'd3c3': [0.9894656, (3, 2, 22)], 'd3b3': [0.99705935, (3, 2, 23)], 'd3a3': [0.98977005, (3, 2, 24)], 'd3c2': [0.9917018, (3, 2, 43)], 'h2h1': [0.9978435, (7, 1, 8)], 'b2f6': [0.9897165, (1, 1, 32)], 'b2e5': [0.9912536, (1, 1, 31)], 'b2d4': [0.98953706, (1, 1, 30)], 'b2c3': [0.9976232, (1, 1, 29)], 'b2a3': [0.99258107, (1, 1, 36)], 'b2c1': [0.9910587, (1, 1, 50)], 'b1c3': [0.9928974, (1, 0, 58)], 'b1a3': [0.9912318, (1, 0, 57)], 'h3h4': [0.99163866, (7, 2, 1)], 'e2e3': [0.9976193, (4, 1, 1)], 'a2a3': [0.9927064, (0, 1, 1)], 'e2e4': [0.99747026, (4, 1, 2)], 'a2a4': [0.9904507, (0, 1, 2)]}\n",
      "{'h6h7': [0.9896301, (7, 5, 1)], 'h6g6': [0.98906434, (7, 5, 22)], 'g7g5': [0.98653036, (6, 6, 9)]}\n",
      "{'f3b7': [0.98967314, (5, 2, 39)], 'f3c6': [0.98996747, (5, 2, 38)], 'f3h5': [0.9945531, (5, 2, 30)], 'f3d5': [0.9923732, (5, 2, 37)], 'f3g4': [0.9947705, (5, 2, 29)], 'f3e4': [0.99459934, (5, 2, 36)], 'f3g2': [0.9936748, (5, 2, 50)], 'f3h1': [0.99208736, (5, 2, 51)], 'e3e8': [0.9862767, (4, 2, 5)], 'e3e7': [0.998462, (4, 2, 4)], 'e3e6': [0.994779, (4, 2, 3)], 'e3b6': [0.9898007, (4, 2, 38)], 'e3g5': [0.9938542, (4, 2, 30)], 'e3e5': [0.9965336, (4, 2, 2)], 'e3c5': [0.9918745, (4, 2, 37)], 'e3f4': [0.9959289, (4, 2, 29)], 'e3e4': [0.99775374, (4, 2, 1)], 'e3d4': [0.99582756, (4, 2, 36)], 'e3d3': [0.9912163, (4, 2, 22)], 'e3c3': [0.99771035, (4, 2, 23)], 'e3b3': [0.98879635, (4, 2, 24)], 'e3a3': [0.99141526, (4, 2, 25)], 'e3f2': [0.9949278, (4, 2, 50)], 'h2h1': [0.9980048, (7, 1, 8)], 'b2f6': [0.9899179, (1, 1, 32)], 'b2e5': [0.99176586, (1, 1, 31)], 'b2d4': [0.9900982, (1, 1, 30)], 'b2c3': [0.99782187, (1, 1, 29)], 'b2a3': [0.99271965, (1, 1, 36)], 'b2c1': [0.9915917, (1, 1, 50)], 'b1c3': [0.9935595, (1, 0, 58)], 'b1a3': [0.9916581, (1, 0, 57)], 'h3h4': [0.9922503, (7, 2, 1)], 'd2d3': [0.996722, (3, 1, 1)], 'a2a3': [0.9930288, (0, 1, 1)], 'd2d4': [0.99551654, (3, 1, 2)], 'a2a4': [0.99086034, (0, 1, 2)]}\n",
      "{'h8g7': [0.9921298, (7, 7, 43)], 'b7b8': [0.9900199, (1, 6, 1)], 'b7a7': [0.9993144, (1, 6, 22)], 'h6g6': [0.9894744, (7, 5, 22)], 'g5g8': [0.9901295, (6, 4, 3)], 'g5g7': [0.9919807, (6, 4, 2)], 'g5g6': [0.99781406, (6, 4, 1)], 'g5h5': [0.99840343, (6, 4, 15)], 'g5f5': [0.99158955, (6, 4, 22)], 'g5e5': [0.99503577, (6, 4, 23)], 'g5d5': [0.99448884, (6, 4, 24)], 'g5c5': [0.9933967, (6, 4, 25)], 'g5b5': [0.9998486, (6, 4, 26)], 'g5a5': [0.99536145, (6, 4, 27)], 'g5h4': [0.9920419, (6, 4, 50)], 'g5g4': [0.99960387, (6, 4, 8)], 'g5f4': [0.99102783, (6, 4, 43)], 'g5g3': [0.99792373, (6, 4, 9)], 'g5e3': [0.9884604, (6, 4, 44)], 'g5g2': [0.99160814, (6, 4, 10)], 'g5d2': [0.99378914, (6, 4, 45)], 'g5g1': [0.9997119, (6, 4, 11)], 'd7d6': [0.99553514, (3, 6, 8)], 'c7c6': [0.99306566, (2, 6, 8)], 'f6f5': [0.9962052, (5, 5, 8)], 'b6b5': [0.9931118, (1, 5, 8)], 'd7d5': [0.9905999, (3, 6, 9)], 'c7c5': [0.99033046, (2, 6, 9)]}\n",
      "{'e7f8': [0.98906994, (4, 6, 29)], 'e7e8': [0.99188864, (4, 6, 1)], 'e7d8': [0.99557793, (4, 6, 36)], 'e7h7': [0.9879803, (4, 6, 17)], 'e7g7': [0.9899179, (4, 6, 16)], 'e7f7': [0.98999447, (4, 6, 15)], 'e7d7': [0.9964255, (4, 6, 22)], 'e7f6': [0.98972064, (4, 6, 50)], 'e7e6': [0.99314576, (4, 6, 8)], 'e7d6': [0.9936369, (4, 6, 43)], 'e7e5': [0.9907745, (4, 6, 9)], 'e7c5': [0.9926574, (4, 6, 44)], 'e7e4': [0.99273825, (4, 6, 10)], 'e7b4': [0.99300617, (4, 6, 45)], 'e7e3': [0.99073786, (4, 6, 11)], 'e7a3': [0.9895669, (4, 6, 46)], 'f3b7': [0.98940146, (5, 2, 39)], 'f3c6': [0.9899004, (5, 2, 38)], 'f3h5': [0.99414456, (5, 2, 30)], 'f3d5': [0.9917618, (5, 2, 37)], 'f3g4': [0.99436104, (5, 2, 29)], 'f3e4': [0.9940794, (5, 2, 36)], 'f3g2': [0.9933176, (5, 2, 50)], 'f3h1': [0.991722, (5, 2, 51)], 'h2g3': [0.99847066, (7, 1, 36)], 'h2g2': [0.9914316, (7, 1, 22)], 'h2h1': [0.99786025, (7, 1, 8)], 'b2f6': [0.98968124, (1, 1, 32)], 'b2e5': [0.9912123, (1, 1, 31)], 'b2d4': [0.98947465, (1, 1, 30)], 'b2c3': [0.99759454, (1, 1, 29)], 'b2a3': [0.99251115, (1, 1, 36)], 'b2c1': [0.9909378, (1, 1, 50)], 'b1c3': [0.9928276, (1, 0, 58)], 'b1a3': [0.99114907, (1, 0, 57)], 'd2e3': [0.9998827, (3, 1, 29)], 'h3h4': [0.9917798, (7, 2, 1)], 'd2d3': [0.99640787, (3, 1, 1)], 'a2a3': [0.9926568, (0, 1, 1)], 'd2d4': [0.995131, (3, 1, 2)], 'a2a4': [0.9904238, (0, 1, 2)]}\n",
      "{'h8g7': [0.99202, (7, 7, 43)], 'b7b8': [0.9898976, (1, 6, 1)], 'b7a7': [0.99932003, (1, 6, 22)], 'h6g6': [0.98906165, (7, 5, 22)], 'h6g5': [0.99031675, (7, 5, 43)], 'd7d6': [0.9950069, (3, 6, 8)], 'c7c6': [0.9923973, (2, 6, 8)], 'f6f5': [0.9957913, (5, 5, 8)], 'b6b5': [0.9924898, (1, 5, 8)], 'd7d5': [0.9902278, (3, 6, 9)], 'c7c5': [0.9898815, (2, 6, 9)]}\n",
      "{'e7f8': [0.98904645, (4, 6, 29)], 'e7e8': [0.991864, (4, 6, 1)], 'e7d8': [0.9955643, (4, 6, 36)], 'e7h7': [0.9879681, (4, 6, 17)], 'e7g7': [0.9898534, (4, 6, 16)], 'e7f7': [0.9899765, (4, 6, 15)], 'e7d7': [0.99644136, (4, 6, 22)], 'e7f6': [0.98969555, (4, 6, 50)], 'e7e6': [0.9931592, (4, 6, 8)], 'e7d6': [0.9936285, (4, 6, 43)], 'e7e5': [0.99077654, (4, 6, 9)], 'e7c5': [0.9925996, (4, 6, 44)], 'e7e4': [0.99272877, (4, 6, 10)], 'e7b4': [0.99297357, (4, 6, 45)], 'e7a3': [0.9895178, (4, 6, 46)], 'f3b7': [0.9893129, (5, 2, 39)], 'f3c6': [0.9898777, (5, 2, 38)], 'f3h5': [0.99413764, (5, 2, 30)], 'f3d5': [0.99181306, (5, 2, 37)], 'f3g4': [0.99426824, (5, 2, 29)], 'f3e4': [0.99404395, (5, 2, 36)], 'f3g2': [0.993342, (5, 2, 50)], 'f3h1': [0.99181366, (5, 2, 51)], 'h2g3': [0.9984758, (7, 1, 36)], 'h2g2': [0.9915106, (7, 1, 22)], 'h2h1': [0.99788094, (7, 1, 8)], 'b2f6': [0.9896947, (1, 1, 32)], 'b2e5': [0.9912536, (1, 1, 31)], 'b2d4': [0.9894774, (1, 1, 30)], 'b2c3': [0.9975688, (1, 1, 29)], 'b2a3': [0.9925412, (1, 1, 36)], 'b2c1': [0.99099547, (1, 1, 50)], 'b1c3': [0.99279976, (1, 0, 58)], 'b1a3': [0.99119186, (1, 0, 57)], 'b1d2': [0.99134743, (1, 0, 59)], 'h3h4': [0.99169743, (7, 2, 1)], 'e3e4': [0.99755335, (4, 2, 1)], 'a2a3': [0.9926981, (0, 1, 1)], 'a2a4': [0.99040693, (0, 1, 2)]}\n",
      "{'h8g7': [0.9919803, (7, 7, 43)], 'b7b8': [0.9898816, (1, 6, 1)], 'b7a7': [0.9993353, (1, 6, 22)], 'g6h6': [0.9898447, (6, 5, 15)], 'g6g5': [0.9936046, (6, 5, 8)], 'g6f5': [0.9907851, (6, 5, 43)], 'd7d6': [0.9945953, (3, 6, 8)], 'c7c6': [0.9919567, (2, 6, 8)], 'f6f5': [0.995389, (5, 5, 8)], 'b6b5': [0.99215853, (1, 5, 8)], 'd7d5': [0.98995245, (3, 6, 9)], 'c7c5': [0.9896355, (2, 6, 9)]}\n",
      "{'e7f8': [0.9888599, (4, 6, 29)], 'e7e8': [0.9914999, (4, 6, 1)], 'e7d8': [0.99536574, (4, 6, 36)], 'e7h7': [0.98794365, (4, 6, 17)], 'e7g7': [0.9896996, (4, 6, 16)], 'e7f7': [0.9896146, (4, 6, 15)], 'e7d7': [0.99627954, (4, 6, 22)], 'e7f6': [0.9894941, (4, 6, 50)], 'e7e6': [0.9923656, (4, 6, 8)], 'e7d6': [0.9936012, (4, 6, 43)], 'e7e5': [0.9905609, (4, 6, 9)], 'e7c5': [0.9924288, (4, 6, 44)], 'e7e4': [0.99257505, (4, 6, 10)], 'g3h4': [0.99506867, (6, 2, 29)], 'g3g4': [0.99087024, (6, 2, 1)], 'g3f4': [0.9973339, (6, 2, 36)], 'g3h2': [0.99100894, (6, 2, 50)], 'g3g2': [0.9992969, (6, 2, 8)], 'g3f2': [0.9912772, (6, 2, 43)], 'f3b7': [0.9890999, (5, 2, 39)], 'f3c6': [0.98976827, (5, 2, 38)], 'f3h5': [0.99362016, (5, 2, 30)], 'f3d5': [0.9911272, (5, 2, 37)], 'f3g4': [0.99373764, (5, 2, 29)], 'f3e4': [0.99357224, (5, 2, 36)], 'f3g2': [0.9927834, (5, 2, 50)], 'f3h1': [0.9912339, (5, 2, 51)], 'b2f6': [0.98943, (1, 1, 32)], 'b2e5': [0.9907328, (1, 1, 31)], 'b2d4': [0.9888437, (1, 1, 30)], 'b2c3': [0.9973624, (1, 1, 29)], 'b2a3': [0.99237096, (1, 1, 36)], 'b2c1': [0.99044436, (1, 1, 50)], 'b1c3': [0.99221, (1, 0, 58)], 'b1a3': [0.99079555, (1, 0, 57)], 'b1d2': [0.9907601, (1, 0, 59)], 'h3h4': [0.99120843, (7, 2, 1)], 'e3e4': [0.99730664, (4, 2, 1)], 'a2a3': [0.99234176, (0, 1, 1)], 'a2a4': [0.99005115, (0, 1, 2)]}\n",
      "{'h8g7': [0.9919595, (7, 7, 43)], 'b7b8': [0.9898544, (1, 6, 1)], 'b7c7': [0.9891036, (1, 6, 15)], 'b7a7': [0.9993373, (1, 6, 22)], 'g6h6': [0.9897083, (6, 5, 15)], 'g6g5': [0.99349356, (6, 5, 8)], 'g6f5': [0.9907738, (6, 5, 43)], 'd7d6': [0.99445117, (3, 6, 8)], 'f6f5': [0.9952407, (5, 5, 8)], 'b6b5': [0.99203444, (1, 5, 8)], 'c5c4': [0.9995376, (2, 4, 8)], 'd7d5': [0.98984677, (3, 6, 9)]}\n",
      "{'e7f8': [0.98853385, (4, 6, 29)], 'e7e8': [0.99094635, (4, 6, 1)], 'e7d8': [0.99505293, (4, 6, 36)], 'e7h7': [0.9879, (4, 6, 17)], 'e7g7': [0.98940694, (4, 6, 16)], 'e7f7': [0.9890458, (4, 6, 15)], 'e7d7': [0.9959923, (4, 6, 22)], 'e7f6': [0.98920417, (4, 6, 50)], 'e7e6': [0.991162, (4, 6, 8)], 'e7d6': [0.99354804, (4, 6, 43)], 'e7e5': [0.99026084, (4, 6, 9)], 'e7c5': [0.99212027, (4, 6, 44)], 'e7e4': [0.9923325, (4, 6, 10)], 'f3a8': [0.99304795, (5, 2, 40)], 'f3b7': [0.9886478, (5, 2, 39)], 'f3c6': [0.98961824, (5, 2, 38)], 'f3h5': [0.99290454, (5, 2, 30)], 'f3d5': [0.990347, (5, 2, 37)], 'f3g4': [0.99271214, (5, 2, 29)], 'f3e4': [0.9927521, (5, 2, 36)], 'g2g3': [0.9902118, (6, 1, 1)], 'g2h2': [0.9991971, (6, 1, 15)], 'g2f2': [0.9893991, (6, 1, 22)], 'g2h1': [0.99079454, (6, 1, 50)], 'g2f1': [0.99080956, (6, 1, 43)], 'b2f6': [0.98901004, (1, 1, 32)], 'b2e5': [0.9900336, (1, 1, 31)], 'b2d4': [0.98789155, (1, 1, 30)], 'b2c3': [0.9969044, (1, 1, 29)], 'b2a3': [0.99205935, (1, 1, 36)], 'b2c1': [0.9899492, (1, 1, 50)], 'b1c3': [0.9912475, (1, 0, 58)], 'b1a3': [0.9902791, (1, 0, 57)], 'b1d2': [0.9900854, (1, 0, 59)], 'h3h4': [0.9904542, (7, 2, 1)], 'e3e4': [0.9969318, (4, 2, 1)], 'a2a3': [0.99179447, (0, 1, 1)], 'a2a4': [0.9893465, (0, 1, 2)]}\n",
      "{'h8g7': [0.99193156, (7, 7, 43)], 'c8b7': [0.98927724, (2, 7, 43)], 'c8a6': [0.98962253, (2, 7, 44)], 'c7b7': [0.99957705, (2, 6, 22)], 'c7a7': [0.9910097, (2, 6, 23)], 'c7c6': [0.99109995, (2, 6, 8)], 'g6h7': [0.9894796, (6, 5, 29)], 'g6g5': [0.99311876, (6, 5, 8)], 'g6f5': [0.9907115, (6, 5, 43)], 'd7d6': [0.993888, (3, 6, 8)], 'f6f5': [0.99472153, (5, 5, 8)], 'b6b5': [0.9914586, (1, 5, 8)], 'c5c4': [0.9994725, (2, 4, 8)], 'd7d5': [0.9895083, (3, 6, 9)]}\n",
      "{'f8h8': [0.9894929, (5, 7, 16)], 'f8g8': [0.99902534, (5, 7, 15)], 'f8e8': [0.98934835, (5, 7, 22)], 'f8d8': [0.99141824, (5, 7, 23)], 'f8c8': [0.9962952, (5, 7, 24)], 'f8b8': [0.9891728, (5, 7, 25)], 'f8a8': [0.9894164, (5, 7, 26)], 'f8g7': [0.98822284, (5, 7, 50)], 'f8f7': [0.99805397, (5, 7, 8)], 'f8e7': [0.98918164, (5, 7, 43)], 'f8h6': [0.9890562, (5, 7, 51)], 'f8f6': [0.999089, (5, 7, 9)], 'f8d6': [0.99977565, (5, 7, 44)], 'f8c5': [0.9878788, (5, 7, 45)], 'f3b7': [0.9886526, (5, 2, 39)], 'f3c6': [0.98969173, (5, 2, 38)], 'f3d5': [0.9904006, (5, 2, 37)], 'f3e4': [0.99273956, (5, 2, 36)], 'g2g3': [0.9901447, (6, 1, 1)], 'g2h2': [0.99920976, (6, 1, 15)], 'g2f2': [0.9894209, (6, 1, 22)], 'g2h1': [0.9908334, (6, 1, 50)], 'g2f1': [0.9908676, (6, 1, 43)], 'b2f6': [0.9891056, (1, 1, 32)], 'b2e5': [0.99010384, (1, 1, 31)], 'b2d4': [0.9880017, (1, 1, 30)], 'b2c3': [0.99694943, (1, 1, 29)], 'b2a3': [0.99216944, (1, 1, 36)], 'b2c1': [0.99006, (1, 1, 50)], 'b1c3': [0.9913544, (1, 0, 58)], 'b1a3': [0.9903718, (1, 0, 57)], 'b1d2': [0.9902222, (1, 0, 59)], 'h3h4': [0.9903426, (7, 2, 1)], 'e3e4': [0.9969177, (4, 2, 1)], 'a2a3': [0.99187773, (0, 1, 1)], 'a2a4': [0.98943007, (0, 1, 2)]}\n",
      "{'h8g7': [0.99193704, (7, 7, 43)], 'c7c8': [0.9900197, (2, 6, 1)], 'c7c6': [0.9913162, (2, 6, 8)], 'b7c8': [0.9892093, (1, 6, 29)], 'b7a8': [0.9998302, (1, 6, 36)], 'b7c6': [0.98989224, (1, 6, 50)], 'b7a6': [0.9992467, (1, 6, 43)], 'b7d5': [0.9950119, (1, 6, 51)], 'b7e4': [0.9895385, (1, 6, 52)], 'b7f3': [0.99299455, (1, 6, 53)], 'g6h7': [0.9894738, (6, 5, 29)], 'g6g7': [0.9896393, (6, 5, 1)], 'g6f7': [0.9940475, (6, 5, 36)], 'g6h6': [0.9893805, (6, 5, 15)], 'g6g5': [0.9932307, (6, 5, 8)], 'g6f5': [0.9907298, (6, 5, 43)], 'b6b5': [0.9916482, (1, 5, 8)], 'c5c4': [0.9994949, (2, 4, 8)]}\n",
      "{'d6f8': [0.9901707, (3, 5, 30)], 'd6e7': [0.98889804, (3, 5, 29)], 'd6d7': [0.993731, (3, 5, 1)], 'd6c7': [0.9904066, (3, 5, 36)], 'd6f6': [0.9931239, (3, 5, 16)], 'd6e6': [0.993292, (3, 5, 15)], 'd6c6': [0.99009144, (3, 5, 22)], 'd6b6': [0.98983, (3, 5, 23)], 'd6e5': [0.99951226, (3, 5, 50)], 'd6d5': [0.99517965, (3, 5, 8)], 'd6c5': [0.989514, (3, 5, 43)], 'd6f4': [0.98799074, (3, 5, 51)], 'd6d4': [0.98957264, (3, 5, 9)], 'd6g3': [0.9877939, (3, 5, 52)], 'd6d3': [0.98896146, (3, 5, 10)], 'd6h2': [0.9907519, (3, 5, 53)], 'd6d2': [0.9963536, (3, 5, 11)], 'd6d1': [0.99418646, (3, 5, 12)], 'f3a8': [0.9931339, (5, 2, 40)], 'f3b7': [0.98874366, (5, 2, 39)], 'f3c6': [0.98962927, (5, 2, 38)], 'f3h5': [0.9930141, (5, 2, 30)], 'f3d5': [0.9904584, (5, 2, 37)], 'f3g4': [0.99290824, (5, 2, 29)], 'f3e4': [0.99290633, (5, 2, 36)], 'g2g3': [0.99041104, (6, 1, 1)], 'g2h2': [0.9992057, (6, 1, 15)], 'g2f2': [0.9895694, (6, 1, 22)], 'g2h1': [0.9909045, (6, 1, 50)], 'g2f1': [0.99093854, (6, 1, 43)], 'b2f6': [0.9890863, (1, 1, 32)], 'b2e5': [0.99014425, (1, 1, 31)], 'b2d4': [0.9880376, (1, 1, 30)], 'b2c3': [0.9969884, (1, 1, 29)], 'b2a3': [0.99212956, (1, 1, 36)], 'b2c1': [0.98999316, (1, 1, 50)], 'b1c3': [0.99140966, (1, 0, 58)], 'b1a3': [0.99035954, (1, 0, 57)], 'b1d2': [0.9901741, (1, 0, 59)], 'h3h4': [0.9905782, (7, 2, 1)], 'e3e4': [0.99698764, (4, 2, 1)], 'a2a3': [0.9918802, (0, 1, 1)], 'a2a4': [0.98947877, (0, 1, 2)]}\n",
      "{'h8g7': [0.9919439, (7, 7, 43)], 'c8b7': [0.9893505, (2, 7, 43)], 'c8a6': [0.98977965, (2, 7, 44)], 'c7b7': [0.9995773, (2, 6, 22)], 'c7a7': [0.99106264, (2, 6, 23)], 'c7c6': [0.99125457, (2, 6, 8)], 'g6h7': [0.98947954, (6, 5, 29)], 'g6g7': [0.9896227, (6, 5, 1)], 'g6f7': [0.99403846, (6, 5, 36)], 'g6h6': [0.9893552, (6, 5, 15)], 'f6e5': [0.9905643, (5, 5, 43)], 'd7d6': [0.99402857, (3, 6, 8)], 'f6f5': [0.994864, (5, 5, 8)], 'b6b5': [0.9915855, (1, 5, 8)], 'c5c4': [0.9994887, (2, 4, 8)], 'd7d5': [0.98957586, (3, 6, 9)]}\n",
      "{'e5e8': [0.99093306, (4, 4, 3)], 'e5e7': [0.9949513, (4, 4, 2)], 'e5c7': [0.99103874, (4, 4, 37)], 'e5f6': [0.9901688, (4, 4, 29)], 'e5e6': [0.999517, (4, 4, 1)], 'e5d6': [0.9942603, (4, 4, 36)], 'e5h5': [0.989036, (4, 4, 17)], 'e5g5': [0.99104214, (4, 4, 16)], 'e5f5': [0.9985156, (4, 4, 15)], 'e5d5': [0.98981327, (4, 4, 22)], 'e5c5': [0.9893012, (4, 4, 23)], 'e5f4': [0.9923204, (4, 4, 50)], 'e5e4': [0.9997752, (4, 4, 8)], 'e5d4': [0.98930955, (4, 4, 43)], 'e5g3': [0.9920902, (4, 4, 51)], 'e5c3': [0.9893571, (4, 4, 44)], 'e5h2': [0.98874474, (4, 4, 52)], 'f3b7': [0.9888232, (5, 2, 39)], 'f3c6': [0.9896512, (5, 2, 38)], 'f3d5': [0.990628, (5, 2, 37)], 'f3e4': [0.9930651, (5, 2, 36)], 'g2g3': [0.99065924, (6, 1, 1)], 'g2h2': [0.99922097, (6, 1, 15)], 'g2f2': [0.98979974, (6, 1, 22)], 'g2h1': [0.9910594, (6, 1, 50)], 'g2f1': [0.9911414, (6, 1, 43)], 'b2d4': [0.98821974, (1, 1, 30)], 'b2c3': [0.9970802, (1, 1, 29)], 'b2a3': [0.9921862, (1, 1, 36)], 'b2c1': [0.99007976, (1, 1, 50)], 'b1c3': [0.9915983, (1, 0, 58)], 'b1a3': [0.990461, (1, 0, 57)], 'b1d2': [0.99030125, (1, 0, 59)], 'h3h4': [0.990738, (7, 2, 1)], 'e3e4': [0.99706733, (4, 2, 1)], 'a2a3': [0.99199563, (0, 1, 1)], 'a2a4': [0.98962057, (0, 1, 2)]}\n",
      "{'g6g7': [0.98965335, (6, 5, 1)]}\n",
      "{'h5h8': [0.98871213, (7, 4, 3)], 'h5e8': [0.98954564, (7, 4, 38)], 'h5h7': [0.98530453, (7, 4, 2)], 'h5f7': [0.99025035, (7, 4, 37)], 'h5h6': [0.99631286, (7, 4, 1)], 'h5g6': [0.99140406, (7, 4, 36)], 'h5g5': [0.98905385, (7, 4, 22)], 'h5f5': [0.99878645, (7, 4, 23)], 'h5e5': [0.9925617, (7, 4, 24)], 'h5d5': [0.99252045, (7, 4, 25)], 'h5c5': [0.99141216, (7, 4, 26)], 'h5h4': [0.99811745, (7, 4, 8)], 'h5g4': [0.98789775, (7, 4, 43)], 'f3b7': [0.9887929, (5, 2, 39)], 'f3c6': [0.98957384, (5, 2, 38)], 'f3d5': [0.9904624, (5, 2, 37)], 'f3e4': [0.99301386, (5, 2, 36)], 'g2g3': [0.9905338, (6, 1, 1)], 'g2h2': [0.9991901, (6, 1, 15)], 'g2f2': [0.9895883, (6, 1, 22)], 'g2h1': [0.99086124, (6, 1, 50)], 'g2f1': [0.99086976, (6, 1, 43)], 'b2f6': [0.989091, (1, 1, 32)], 'b2e5': [0.990148, (1, 1, 31)], 'b2d4': [0.9880627, (1, 1, 30)], 'b2c3': [0.9970482, (1, 1, 29)], 'b2a3': [0.9921243, (1, 1, 36)], 'b2c1': [0.9899523, (1, 1, 50)], 'b1c3': [0.99150074, (1, 0, 58)], 'b1a3': [0.9903635, (1, 0, 57)], 'b1d2': [0.9901516, (1, 0, 59)], 'h3h4': [0.99068224, (7, 2, 1)], 'e3e4': [0.9970256, (4, 2, 1)], 'a2a3': [0.9919057, (0, 1, 1)], 'a2a4': [0.98957, (0, 1, 2)]}\n",
      "{'g7g8': [0.9904044, (6, 6, 1)], 'g7f8': [0.9896329, (6, 6, 36)], 'c7c8': [0.99012494, (2, 6, 1)], 'c7c6': [0.9916996, (2, 6, 8)], 'b7c8': [0.989299, (1, 6, 29)], 'b7a8': [0.9998251, (1, 6, 36)], 'b7c6': [0.99006313, (1, 6, 50)], 'b7a6': [0.9992287, (1, 6, 43)], 'b7d5': [0.99493456, (1, 6, 51)], 'b7e4': [0.9896487, (1, 6, 52)], 'b7f3': [0.9929954, (1, 6, 53)], 'd7d6': [0.99441093, (3, 6, 8)], 'b6b5': [0.9919501, (1, 5, 8)], 'c5c4': [0.99953234, (2, 4, 8)], 'd7d5': [0.98982906, (3, 6, 9)]}\n",
      "{'h5h8': [0.9887906, (7, 4, 3)], 'h5e8': [0.9896209, (7, 4, 38)], 'h5h7': [0.9856121, (7, 4, 2)], 'h5f7': [0.9904041, (7, 4, 37)], 'h5h6': [0.9963908, (7, 4, 1)], 'h5g6': [0.991503, (7, 4, 36)], 'h5g5': [0.98921, (7, 4, 22)], 'h5f5': [0.9987936, (7, 4, 23)], 'h5e5': [0.99264055, (7, 4, 24)], 'h5d5': [0.9926317, (7, 4, 25)], 'h5c5': [0.9916091, (7, 4, 26)], 'h5h4': [0.9981829, (7, 4, 8)], 'h5g4': [0.9881402, (7, 4, 43)], 'f3a8': [0.99335283, (5, 2, 40)], 'f3b7': [0.98888445, (5, 2, 39)], 'f3c6': [0.98967874, (5, 2, 38)], 'f3d5': [0.9907806, (5, 2, 37)], 'f3g4': [0.9932963, (5, 2, 29)], 'f3e4': [0.99319327, (5, 2, 36)], 'f3g2': [0.99256706, (5, 2, 50)], 'f3h1': [0.9910264, (5, 2, 51)], 'h2g3': [0.9982343, (7, 1, 36)], 'h2g2': [0.9907008, (7, 1, 22)], 'h2h1': [0.9975375, (7, 1, 8)], 'b2f6': [0.98923266, (1, 1, 32)], 'b2e5': [0.9903959, (1, 1, 31)], 'b2d4': [0.9883666, (1, 1, 30)], 'b2c3': [0.9971336, (1, 1, 29)], 'b2a3': [0.9922141, (1, 1, 36)], 'b2c1': [0.99015594, (1, 1, 50)], 'b1c3': [0.9917306, (1, 0, 58)], 'b1a3': [0.9905298, (1, 0, 57)], 'b1d2': [0.9903934, (1, 0, 59)], 'h3h4': [0.9908757, (7, 2, 1)], 'e3e4': [0.99713814, (4, 2, 1)], 'a2a3': [0.9920813, (0, 1, 1)], 'a2a4': [0.9897199, (0, 1, 2)]}\n",
      "{'c8b7': [0.98930323, (2, 7, 43)], 'c8a6': [0.98966295, (2, 7, 44)], 'g7g8': [0.9902394, (6, 6, 1)], 'g7f8': [0.98930705, (6, 6, 36)], 'g7f7': [0.9903784, (6, 6, 22)], 'g7h6': [0.9897694, (6, 6, 50)], 'c7b7': [0.9995753, (2, 6, 22)], 'c7a7': [0.99102473, (2, 6, 23)], 'c7c6': [0.99116564, (2, 6, 8)], 'd7d6': [0.9939548, (3, 6, 8)], 'b6b5': [0.9915135, (1, 5, 8)], 'c5c4': [0.99947935, (2, 4, 8)], 'd7d5': [0.9895211, (3, 6, 9)]}"
     ]
    },
    {
     "name": "stderr",
     "output_type": "stream",
     "text": [
      "\r",
      "  2%|▏         | 2/100 [00:01<01:13,  1.34it/s]"
     ]
    },
    {
     "name": "stdout",
     "output_type": "stream",
     "text": [
      "\n",
      "{'f5h7': [0.9962872, (5, 4, 30)], 'f5d7': [0.9910693, (5, 4, 37)], 'f5g6': [0.98917437, (5, 4, 29)], 'f5f6': [0.99935365, (5, 4, 1)], 'f5e6': [0.9908884, (5, 4, 36)], 'f5h5': [0.9922197, (5, 4, 16)], 'f5g5': [0.99800056, (5, 4, 15)], 'f5e5': [0.9891749, (5, 4, 22)], 'f5d5': [0.98854244, (5, 4, 23)], 'f5c5': [0.99169433, (5, 4, 24)], 'f5g4': [0.99198234, (5, 4, 50)], 'f5f4': [0.99982953, (5, 4, 8)], 'f5e4': [0.9889451, (5, 4, 43)], 'f5d3': [0.9891167, (5, 4, 44)], 'f5c2': [0.9920312, (5, 4, 45)], 'f3b7': [0.98878306, (5, 2, 39)], 'f3c6': [0.9896696, (5, 2, 38)], 'f3h5': [0.9931439, (5, 2, 30)], 'f3d5': [0.99062353, (5, 2, 37)], 'f3g4': [0.9930167, (5, 2, 29)], 'f3e4': [0.9929912, (5, 2, 36)], 'f3g2': [0.9924218, (5, 2, 50)], 'f3h1': [0.9909425, (5, 2, 51)], 'h2g3': [0.9981785, (7, 1, 36)], 'h2g2': [0.9905592, (7, 1, 22)], 'h2h1': [0.99747795, (7, 1, 8)], 'b2f6': [0.9891888, (1, 1, 32)], 'b2e5': [0.9902708, (1, 1, 31)], 'b2d4': [0.98819184, (1, 1, 30)], 'b2c3': [0.9970468, (1, 1, 29)], 'b2a3': [0.9922004, (1, 1, 36)], 'b2c1': [0.9901013, (1, 1, 50)], 'b1c3': [0.99154437, (1, 0, 58)], 'b1a3': [0.99045926, (1, 0, 57)], 'b1d2': [0.9903126, (1, 0, 59)], 'h3h4': [0.9906492, (7, 2, 1)], 'e3e4': [0.99704266, (4, 2, 1)], 'a2a3': [0.9919981, (0, 1, 1)], 'a2a4': [0.9895892, (0, 1, 2)]}\n",
      "{'g7g8': [0.9903743, (6, 6, 1)], 'g7f8': [0.9895668, (6, 6, 36)], 'g7h7': [0.9881684, (6, 6, 15)], 'g7f7': [0.99058425, (6, 6, 22)], 'g7g6': [0.99378157, (6, 6, 8)], 'c7c8': [0.99014515, (2, 6, 1)], 'c7c6': [0.99168205, (2, 6, 8)], 'b7c8': [0.98930365, (1, 6, 29)], 'b7a8': [0.9998262, (1, 6, 36)], 'b7c6': [0.99003637, (1, 6, 50)], 'b7a6': [0.9992322, (1, 6, 43)], 'b7d5': [0.99494517, (1, 6, 51)], 'b7e4': [0.98965263, (1, 6, 52)], 'b7f3': [0.99301136, (1, 6, 53)], 'd7d6': [0.99438006, (3, 6, 8)], 'b6b5': [0.9919238, (1, 5, 8)], 'c5c4': [0.9995291, (2, 4, 8)], 'd7d5': [0.9898203, (3, 6, 9)]}\n",
      "{'f4b8': [0.98853576, (5, 3, 39)], 'f4c7': [0.99341923, (5, 3, 38)], 'f4h6': [0.99590516, (5, 3, 30)], 'f4f6': [0.99482757, (5, 3, 2)], 'f4d6': [0.99111396, (5, 3, 37)], 'f4g5': [0.9895122, (5, 3, 29)], 'f4f5': [0.998861, (5, 3, 1)], 'f4e5': [0.9924874, (5, 3, 36)], 'f4h4': [0.9900428, (5, 3, 16)], 'f4g4': [0.99681956, (5, 3, 15)], 'f4e4': [0.9908254, (5, 3, 22)], 'f4d4': [0.98917115, (5, 3, 23)], 'f4c4': [0.99061567, (5, 3, 24)], 'f4b4': [0.99044, (5, 3, 25)], 'f4a4': [0.99356365, (5, 3, 26)], 'f4g3': [0.9903626, (5, 3, 50)], 'f3c6': [0.98989546, (5, 2, 38)], 'f3h5': [0.9936595, (5, 2, 30)], 'f3d5': [0.99128085, (5, 2, 37)], 'f3g4': [0.9935764, (5, 2, 29)], 'f3e4': [0.9935043, (5, 2, 36)], 'f3g2': [0.9928796, (5, 2, 50)], 'f3h1': [0.9914737, (5, 2, 51)], 'h2g3': [0.9983251, (7, 1, 36)], 'h2g2': [0.99105805, (7, 1, 22)], 'h2h1': [0.99770486, (7, 1, 8)], 'b2f6': [0.9895226, (1, 1, 32)], 'b2e5': [0.99086183, (1, 1, 31)], 'b2d4': [0.98898506, (1, 1, 30)], 'b2c3': [0.99736935, (1, 1, 29)], 'b2a3': [0.9924613, (1, 1, 36)], 'b2c1': [0.990674, (1, 1, 50)], 'b1c3': [0.992277, (1, 0, 58)], 'b1a3': [0.9909321, (1, 0, 57)], 'b1d2': [0.9909873, (1, 0, 59)], 'h3h4': [0.9911015, (7, 2, 1)], 'e3e4': [0.9973041, (4, 2, 1)], 'a2a3': [0.9924518, (0, 1, 1)], 'a2a4': [0.99006236, (0, 1, 2)]}\n",
      "{'g7g8': [0.9903699, (6, 6, 1)], 'g7f8': [0.98954594, (6, 6, 36)], 'g7f7': [0.99056923, (6, 6, 22)], 'g7h6': [0.9898307, (6, 6, 50)], 'b7c8': [0.9892943, (1, 6, 29)], 'b7a8': [0.9998265, (1, 6, 36)], 'b7a6': [0.99923325, (1, 6, 43)], 'c6c8': [0.997042, (2, 5, 2)], 'c6c7': [0.9915552, (2, 5, 1)], 'c6e6': [0.99355286, (2, 5, 16)], 'c6d6': [0.98928195, (2, 5, 15)], 'd7d6': [0.9943441, (3, 6, 8)], 'b6b5': [0.9918773, (1, 5, 8)], 'c5c4': [0.9995244, (2, 4, 8)], 'd7d5': [0.98979855, (3, 6, 9)]}\n",
      "{'f5h7': [0.996423, (5, 4, 30)], 'f5d7': [0.9915187, (5, 4, 37)], 'f5g6': [0.98939073, (5, 4, 29)], 'f5f6': [0.99938583, (5, 4, 1)], 'f5e6': [0.99130815, (5, 4, 36)], 'f5h5': [0.992512, (5, 4, 16)], 'f5g5': [0.9982138, (5, 4, 15)], 'f5e5': [0.9896964, (5, 4, 22)], 'f5d5': [0.9893092, (5, 4, 23)], 'f5c5': [0.9919802, (5, 4, 24)], 'f5g4': [0.9925002, (5, 4, 50)], 'f5f4': [0.99984926, (5, 4, 8)], 'f5e4': [0.9895533, (5, 4, 43)], 'f5d3': [0.98939157, (5, 4, 44)], 'f5c2': [0.9922242, (5, 4, 45)], 'f3b7': [0.9890797, (5, 2, 39)], 'f3c6': [0.9898305, (5, 2, 38)], 'f3h5': [0.9936731, (5, 2, 30)], 'f3d5': [0.9912316, (5, 2, 37)], 'f3g4': [0.993695, (5, 2, 29)], 'f3e4': [0.99356747, (5, 2, 36)], 'f3g2': [0.9928693, (5, 2, 50)], 'f3h1': [0.99137354, (5, 2, 51)], 'h2g3': [0.99833703, (7, 1, 36)], 'h2g2': [0.99104166, (7, 1, 22)], 'h2h1': [0.99768865, (7, 1, 8)], 'b2f6': [0.98949397, (1, 1, 32)], 'b2e5': [0.9908081, (1, 1, 31)], 'b2d4': [0.98892397, (1, 1, 30)], 'b2c3': [0.9973842, (1, 1, 29)], 'b2a3': [0.9924252, (1, 1, 36)], 'b2c1': [0.99055696, (1, 1, 50)], 'b1c3': [0.9922737, (1, 0, 58)], 'b1a3': [0.9908587, (1, 0, 57)], 'b1d2': [0.9908765, (1, 0, 59)], 'h3h4': [0.99117684, (7, 2, 1)], 'e3e4': [0.99732685, (4, 2, 1)], 'a2a3': [0.9924067, (0, 1, 1)], 'a2a4': [0.99008864, (0, 1, 2)]}\n",
      "{'g7g8': [0.99051106, (6, 6, 1)], 'g7f8': [0.98986495, (6, 6, 36)], 'g7h7': [0.98866415, (6, 6, 15)], 'g7f7': [0.99083555, (6, 6, 22)], 'g7g6': [0.9940876, (6, 6, 8)], 'b7c8': [0.9894501, (1, 6, 29)], 'b7a8': [0.9998189, (1, 6, 36)], 'b7c6': [0.9903347, (1, 6, 50)], 'b7a6': [0.99919915, (1, 6, 43)], 'b7d5': [0.99479645, (1, 6, 51)], 'b7e4': [0.98986214, (1, 6, 52)], 'b7f3': [0.99304855, (1, 6, 53)], 'd6e6': [0.9937197, (3, 5, 15)], 'd6c6': [0.99076223, (3, 5, 22)], 'd6d5': [0.9960817, (3, 5, 8)], 'd6d4': [0.99045146, (3, 5, 9)], 'd6d3': [0.9898015, (3, 5, 10)], 'd6d2': [0.9968047, (3, 5, 11)], 'd6d1': [0.99479735, (3, 5, 12)], 'b6b5': [0.9924515, (1, 5, 8)], 'c5c4': [0.9995862, (2, 4, 8)]}\n",
      "{'f4h6': [0.9960542, (5, 3, 30)], 'f4f6': [0.99518955, (5, 3, 2)], 'f4d6': [0.9914421, (5, 3, 37)], 'f4g5': [0.9901173, (5, 3, 29)], 'f4f5': [0.99889636, (5, 3, 1)], 'f4e5': [0.99290055, (5, 3, 36)], 'f4h4': [0.99059045, (5, 3, 16)], 'f4g4': [0.9971318, (5, 3, 15)], 'f4e4': [0.9911925, (5, 3, 22)], 'f4d4': [0.98997307, (5, 3, 23)], 'f4c4': [0.99091136, (5, 3, 24)], 'f4b4': [0.99084634, (5, 3, 25)], 'f4a4': [0.9938943, (5, 3, 26)], 'f4g3': [0.9907893, (5, 3, 50)], 'f3b7': [0.9892481, (5, 2, 39)], 'f3c6': [0.9899198, (5, 2, 38)], 'f3h5': [0.9939971, (5, 2, 30)], 'f3d5': [0.9916406, (5, 2, 37)], 'f3g4': [0.9941039, (5, 2, 29)], 'f3e4': [0.99391127, (5, 2, 36)], 'f3g2': [0.99317694, (5, 2, 50)], 'f3h1': [0.99167085, (5, 2, 51)], 'h2g3': [0.9984277, (7, 1, 36)], 'h2g2': [0.9913252, (7, 1, 22)], 'h2h1': [0.9978167, (7, 1, 8)], 'b2f6': [0.9896716, (1, 1, 32)], 'b2e5': [0.9911431, (1, 1, 31)], 'b2d4': [0.9893637, (1, 1, 30)], 'b2c3': [0.99754405, (1, 1, 29)], 'b2a3': [0.9925299, (1, 1, 36)], 'b2c1': [0.9909209, (1, 1, 50)], 'b1c3': [0.99270177, (1, 0, 58)], 'b1a3': [0.991128, (1, 0, 57)], 'b1d2': [0.99125713, (1, 0, 59)], 'h3h4': [0.9915251, (7, 2, 1)], 'e3e4': [0.9974987, (4, 2, 1)], 'a2a3': [0.9926324, (0, 1, 1)], 'a2a4': [0.9903655, (0, 1, 2)]}\n",
      "{'h7g8': [0.9897269, (7, 6, 36)], 'h7g7': [0.9880602, (7, 6, 22)], 'h7h6': [0.99448204, (7, 6, 8)]}\n",
      "{'f5h7': [0.996423, (5, 4, 30)], 'f5d7': [0.9915187, (5, 4, 37)], 'f5g6': [0.98939073, (5, 4, 29)], 'f5f6': [0.99938583, (5, 4, 1)], 'f5e6': [0.99130815, (5, 4, 36)], 'f5h5': [0.992512, (5, 4, 16)], 'f5g5': [0.9982138, (5, 4, 15)], 'f5e5': [0.9896964, (5, 4, 22)], 'f5d5': [0.9893092, (5, 4, 23)], 'f5c5': [0.9919802, (5, 4, 24)], 'f5g4': [0.9925002, (5, 4, 50)], 'f5f4': [0.99984926, (5, 4, 8)], 'f5e4': [0.9895533, (5, 4, 43)], 'f5d3': [0.98939157, (5, 4, 44)], 'f5c2': [0.9922242, (5, 4, 45)], 'f3b7': [0.9890797, (5, 2, 39)], 'f3c6': [0.9898305, (5, 2, 38)], 'f3h5': [0.9936731, (5, 2, 30)], 'f3d5': [0.9912316, (5, 2, 37)], 'f3g4': [0.993695, (5, 2, 29)], 'f3e4': [0.99356747, (5, 2, 36)], 'f3g2': [0.9928693, (5, 2, 50)], 'f3h1': [0.99137354, (5, 2, 51)], 'h2g3': [0.99833703, (7, 1, 36)], 'h2g2': [0.99104166, (7, 1, 22)], 'h2h1': [0.99768865, (7, 1, 8)], 'b2f6': [0.98949397, (1, 1, 32)], 'b2e5': [0.9908081, (1, 1, 31)], 'b2d4': [0.98892397, (1, 1, 30)], 'b2c3': [0.9973842, (1, 1, 29)], 'b2a3': [0.9924252, (1, 1, 36)], 'b2c1': [0.99055696, (1, 1, 50)], 'b1c3': [0.9922737, (1, 0, 58)], 'b1a3': [0.9908587, (1, 0, 57)], 'b1d2': [0.9908765, (1, 0, 59)], 'h3h4': [0.99117684, (7, 2, 1)], 'e3e4': [0.99732685, (4, 2, 1)], 'a2a3': [0.9924067, (0, 1, 1)], 'a2a4': [0.99008864, (0, 1, 2)]}\n",
      "{'g7g8': [0.99051106, (6, 6, 1)], 'g7f8': [0.98986495, (6, 6, 36)], 'g7h7': [0.98866415, (6, 6, 15)], 'g7f7': [0.99083555, (6, 6, 22)], 'g7g6': [0.9940876, (6, 6, 8)], 'b7c8': [0.9894501, (1, 6, 29)], 'b7a8': [0.9998189, (1, 6, 36)], 'b7c6': [0.9903347, (1, 6, 50)], 'b7a6': [0.99919915, (1, 6, 43)], 'b7d5': [0.99479645, (1, 6, 51)], 'b7e4': [0.98986214, (1, 6, 52)], 'b7f3': [0.99304855, (1, 6, 53)], 'd6e6': [0.9937197, (3, 5, 15)], 'd6c6': [0.99076223, (3, 5, 22)], 'd6d5': [0.9960817, (3, 5, 8)], 'd6d4': [0.99045146, (3, 5, 9)], 'd6d3': [0.9898015, (3, 5, 10)], 'd6d2': [0.9968047, (3, 5, 11)], 'd6d1': [0.99479735, (3, 5, 12)], 'b6b5': [0.9924515, (1, 5, 8)], 'c5c4': [0.9995862, (2, 4, 8)]}\n",
      "{'f4h6': [0.9960542, (5, 3, 30)], 'f4f6': [0.99518955, (5, 3, 2)], 'f4d6': [0.9914421, (5, 3, 37)], 'f4g5': [0.9901173, (5, 3, 29)], 'f4f5': [0.99889636, (5, 3, 1)], 'f4e5': [0.99290055, (5, 3, 36)], 'f4h4': [0.99059045, (5, 3, 16)], 'f4g4': [0.9971318, (5, 3, 15)], 'f4e4': [0.9911925, (5, 3, 22)], 'f4d4': [0.98997307, (5, 3, 23)], 'f4c4': [0.99091136, (5, 3, 24)], 'f4b4': [0.99084634, (5, 3, 25)], 'f4a4': [0.9938943, (5, 3, 26)], 'f4g3': [0.9907893, (5, 3, 50)], 'f3b7': [0.9892481, (5, 2, 39)], 'f3c6': [0.9899198, (5, 2, 38)], 'f3h5': [0.9939971, (5, 2, 30)], 'f3d5': [0.9916406, (5, 2, 37)], 'f3g4': [0.9941039, (5, 2, 29)], 'f3e4': [0.99391127, (5, 2, 36)], 'f3g2': [0.99317694, (5, 2, 50)], 'f3h1': [0.99167085, (5, 2, 51)], 'h2g3': [0.9984277, (7, 1, 36)], 'h2g2': [0.9913252, (7, 1, 22)], 'h2h1': [0.9978167, (7, 1, 8)], 'b2f6': [0.9896716, (1, 1, 32)], 'b2e5': [0.9911431, (1, 1, 31)], 'b2d4': [0.9893637, (1, 1, 30)], 'b2c3': [0.99754405, (1, 1, 29)], 'b2a3': [0.9925299, (1, 1, 36)], 'b2c1': [0.9909209, (1, 1, 50)], 'b1c3': [0.99270177, (1, 0, 58)], 'b1a3': [0.991128, (1, 0, 57)], 'b1d2': [0.99125713, (1, 0, 59)], 'h3h4': [0.9915251, (7, 2, 1)], 'e3e4': [0.9974987, (4, 2, 1)], 'a2a3': [0.9926324, (0, 1, 1)], 'a2a4': [0.9903655, (0, 1, 2)]}\n",
      "{'h7g8': [0.9897269, (7, 6, 36)], 'h7g7': [0.9880602, (7, 6, 22)], 'h7h6': [0.99448204, (7, 6, 8)]}\n",
      "{'f5h7': [0.996423, (5, 4, 30)], 'f5d7': [0.9915187, (5, 4, 37)], 'f5g6': [0.98939073, (5, 4, 29)], 'f5f6': [0.99938583, (5, 4, 1)], 'f5e6': [0.99130815, (5, 4, 36)], 'f5h5': [0.992512, (5, 4, 16)], 'f5g5': [0.9982138, (5, 4, 15)], 'f5e5': [0.9896964, (5, 4, 22)], 'f5d5': [0.9893092, (5, 4, 23)], 'f5c5': [0.9919802, (5, 4, 24)], 'f5g4': [0.9925002, (5, 4, 50)], 'f5f4': [0.99984926, (5, 4, 8)], 'f5e4': [0.9895533, (5, 4, 43)], 'f5d3': [0.98939157, (5, 4, 44)], 'f5c2': [0.9922242, (5, 4, 45)], 'f3b7': [0.9890797, (5, 2, 39)], 'f3c6': [0.9898305, (5, 2, 38)], 'f3h5': [0.9936731, (5, 2, 30)], 'f3d5': [0.9912316, (5, 2, 37)], 'f3g4': [0.993695, (5, 2, 29)], 'f3e4': [0.99356747, (5, 2, 36)], 'f3g2': [0.9928693, (5, 2, 50)], 'f3h1': [0.99137354, (5, 2, 51)], 'h2g3': [0.99833703, (7, 1, 36)], 'h2g2': [0.99104166, (7, 1, 22)], 'h2h1': [0.99768865, (7, 1, 8)], 'b2f6': [0.98949397, (1, 1, 32)], 'b2e5': [0.9908081, (1, 1, 31)], 'b2d4': [0.98892397, (1, 1, 30)], 'b2c3': [0.9973842, (1, 1, 29)], 'b2a3': [0.9924252, (1, 1, 36)], 'b2c1': [0.99055696, (1, 1, 50)], 'b1c3': [0.9922737, (1, 0, 58)], 'b1a3': [0.9908587, (1, 0, 57)], 'b1d2': [0.9908765, (1, 0, 59)], 'h3h4': [0.99117684, (7, 2, 1)], 'e3e4': [0.99732685, (4, 2, 1)], 'a2a3': [0.9924067, (0, 1, 1)], 'a2a4': [0.99008864, (0, 1, 2)]}\n",
      "{'g7g8': [0.99051106, (6, 6, 1)], 'g7f8': [0.98986495, (6, 6, 36)], 'g7h7': [0.98866415, (6, 6, 15)], 'g7f7': [0.99083555, (6, 6, 22)], 'g7g6': [0.9940876, (6, 6, 8)], 'b7c8': [0.9894501, (1, 6, 29)], 'b7a8': [0.9998189, (1, 6, 36)], 'b7c6': [0.9903347, (1, 6, 50)], 'b7a6': [0.99919915, (1, 6, 43)], 'b7d5': [0.99479645, (1, 6, 51)], 'b7e4': [0.98986214, (1, 6, 52)], 'b7f3': [0.99304855, (1, 6, 53)], 'd6e6': [0.9937197, (3, 5, 15)], 'd6c6': [0.99076223, (3, 5, 22)], 'd6d5': [0.9960817, (3, 5, 8)], 'd6d4': [0.99045146, (3, 5, 9)], 'd6d3': [0.9898015, (3, 5, 10)], 'd6d2': [0.9968047, (3, 5, 11)], 'd6d1': [0.99479735, (3, 5, 12)], 'b6b5': [0.9924515, (1, 5, 8)], 'c5c4': [0.9995862, (2, 4, 8)]}\n",
      "{'f4h6': [0.9960542, (5, 3, 30)], 'f4f6': [0.99518955, (5, 3, 2)], 'f4d6': [0.9914421, (5, 3, 37)], 'f4g5': [0.9901173, (5, 3, 29)], 'f4f5': [0.99889636, (5, 3, 1)], 'f4e5': [0.99290055, (5, 3, 36)], 'f4h4': [0.99059045, (5, 3, 16)], 'f4g4': [0.9971318, (5, 3, 15)], 'f4e4': [0.9911925, (5, 3, 22)], 'f4d4': [0.98997307, (5, 3, 23)], 'f4c4': [0.99091136, (5, 3, 24)], 'f4b4': [0.99084634, (5, 3, 25)], 'f4a4': [0.9938943, (5, 3, 26)], 'f4g3': [0.9907893, (5, 3, 50)], 'f3b7': [0.9892481, (5, 2, 39)], 'f3c6': [0.9899198, (5, 2, 38)], 'f3h5': [0.9939971, (5, 2, 30)], 'f3d5': [0.9916406, (5, 2, 37)], 'f3g4': [0.9941039, (5, 2, 29)], 'f3e4': [0.99391127, (5, 2, 36)], 'f3g2': [0.99317694, (5, 2, 50)], 'f3h1': [0.99167085, (5, 2, 51)], 'h2g3': [0.9984277, (7, 1, 36)], 'h2g2': [0.9913252, (7, 1, 22)], 'h2h1': [0.9978167, (7, 1, 8)], 'b2f6': [0.9896716, (1, 1, 32)], 'b2e5': [0.9911431, (1, 1, 31)], 'b2d4': [0.9893637, (1, 1, 30)], 'b2c3': [0.99754405, (1, 1, 29)], 'b2a3': [0.9925299, (1, 1, 36)], 'b2c1': [0.9909209, (1, 1, 50)], 'b1c3': [0.99270177, (1, 0, 58)], 'b1a3': [0.991128, (1, 0, 57)], 'b1d2': [0.99125713, (1, 0, 59)], 'h3h4': [0.9915251, (7, 2, 1)], 'e3e4': [0.9974987, (4, 2, 1)], 'a2a3': [0.9926324, (0, 1, 1)], 'a2a4': [0.9903655, (0, 1, 2)]}\n",
      "{'h7g8': [0.9897269, (7, 6, 36)], 'h7g7': [0.9880602, (7, 6, 22)], 'h7h6': [0.99448204, (7, 6, 8)]}\n",
      "{'f5h7': [0.996423, (5, 4, 30)], 'f5d7': [0.9915187, (5, 4, 37)], 'f5g6': [0.98939073, (5, 4, 29)], 'f5f6': [0.99938583, (5, 4, 1)], 'f5e6': [0.99130815, (5, 4, 36)], 'f5h5': [0.992512, (5, 4, 16)], 'f5g5': [0.9982138, (5, 4, 15)], 'f5e5': [0.9896964, (5, 4, 22)], 'f5d5': [0.9893092, (5, 4, 23)], 'f5c5': [0.9919802, (5, 4, 24)], 'f5g4': [0.9925002, (5, 4, 50)], 'f5f4': [0.99984926, (5, 4, 8)], 'f5e4': [0.9895533, (5, 4, 43)], 'f5d3': [0.98939157, (5, 4, 44)], 'f5c2': [0.9922242, (5, 4, 45)], 'f3b7': [0.9890797, (5, 2, 39)], 'f3c6': [0.9898305, (5, 2, 38)], 'f3h5': [0.9936731, (5, 2, 30)], 'f3d5': [0.9912316, (5, 2, 37)], 'f3g4': [0.993695, (5, 2, 29)], 'f3e4': [0.99356747, (5, 2, 36)], 'f3g2': [0.9928693, (5, 2, 50)], 'f3h1': [0.99137354, (5, 2, 51)], 'h2g3': [0.99833703, (7, 1, 36)], 'h2g2': [0.99104166, (7, 1, 22)], 'h2h1': [0.99768865, (7, 1, 8)], 'b2f6': [0.98949397, (1, 1, 32)], 'b2e5': [0.9908081, (1, 1, 31)], 'b2d4': [0.98892397, (1, 1, 30)], 'b2c3': [0.9973842, (1, 1, 29)], 'b2a3': [0.9924252, (1, 1, 36)], 'b2c1': [0.99055696, (1, 1, 50)], 'b1c3': [0.9922737, (1, 0, 58)], 'b1a3': [0.9908587, (1, 0, 57)], 'b1d2': [0.9908765, (1, 0, 59)], 'h3h4': [0.99117684, (7, 2, 1)], 'e3e4': [0.99732685, (4, 2, 1)], 'a2a3': [0.9924067, (0, 1, 1)], 'a2a4': [0.99008864, (0, 1, 2)]}\n",
      "{'g7g8': [0.99051106, (6, 6, 1)], 'g7f8': [0.98986495, (6, 6, 36)], 'g7h7': [0.98866415, (6, 6, 15)], 'g7f7': [0.99083555, (6, 6, 22)], 'g7g6': [0.9940876, (6, 6, 8)], 'b7c8': [0.9894501, (1, 6, 29)], 'b7a8': [0.9998189, (1, 6, 36)], 'b7c6': [0.9903347, (1, 6, 50)], 'b7a6': [0.99919915, (1, 6, 43)], 'b7d5': [0.99479645, (1, 6, 51)], 'b7e4': [0.98986214, (1, 6, 52)], 'b7f3': [0.99304855, (1, 6, 53)], 'd6e6': [0.9937197, (3, 5, 15)], 'd6c6': [0.99076223, (3, 5, 22)], 'd6d5': [0.9960817, (3, 5, 8)], 'd6d4': [0.99045146, (3, 5, 9)], 'd6d3': [0.9898015, (3, 5, 10)], 'd6d2': [0.9968047, (3, 5, 11)], 'd6d1': [0.99479735, (3, 5, 12)], 'b6b5': [0.9924515, (1, 5, 8)], 'c5c4': [0.9995862, (2, 4, 8)]}\n",
      "{'f4h6': [0.9960542, (5, 3, 30)], 'f4f6': [0.99518955, (5, 3, 2)], 'f4d6': [0.9914421, (5, 3, 37)], 'f4g5': [0.9901173, (5, 3, 29)], 'f4f5': [0.99889636, (5, 3, 1)], 'f4e5': [0.99290055, (5, 3, 36)], 'f4h4': [0.99059045, (5, 3, 16)], 'f4g4': [0.9971318, (5, 3, 15)], 'f4e4': [0.9911925, (5, 3, 22)], 'f4d4': [0.98997307, (5, 3, 23)], 'f4c4': [0.99091136, (5, 3, 24)], 'f4b4': [0.99084634, (5, 3, 25)], 'f4a4': [0.9938943, (5, 3, 26)], 'f4g3': [0.9907893, (5, 3, 50)], 'f3b7': [0.9892481, (5, 2, 39)], 'f3c6': [0.9899198, (5, 2, 38)], 'f3h5': [0.9939971, (5, 2, 30)], 'f3d5': [0.9916406, (5, 2, 37)], 'f3g4': [0.9941039, (5, 2, 29)], 'f3e4': [0.99391127, (5, 2, 36)], 'f3g2': [0.99317694, (5, 2, 50)], 'f3h1': [0.99167085, (5, 2, 51)], 'h2g3': [0.9984277, (7, 1, 36)], 'h2g2': [0.9913252, (7, 1, 22)], 'h2h1': [0.9978167, (7, 1, 8)], 'b2f6': [0.9896716, (1, 1, 32)], 'b2e5': [0.9911431, (1, 1, 31)], 'b2d4': [0.9893637, (1, 1, 30)], 'b2c3': [0.99754405, (1, 1, 29)], 'b2a3': [0.9925299, (1, 1, 36)], 'b2c1': [0.9909209, (1, 1, 50)], 'b1c3': [0.99270177, (1, 0, 58)], 'b1a3': [0.991128, (1, 0, 57)], 'b1d2': [0.99125713, (1, 0, 59)], 'h3h4': [0.9915251, (7, 2, 1)], 'e3e4': [0.9974987, (4, 2, 1)], 'a2a3': [0.9926324, (0, 1, 1)], 'a2a4': [0.9903655, (0, 1, 2)]}\n",
      "{'h7g8': [0.9897269, (7, 6, 36)], 'h7g7': [0.9880602, (7, 6, 22)], 'h7h6': [0.99448204, (7, 6, 8)]}\n",
      "1/2-1/2\n",
      "{'g1h3': [1.0, (6, 0, 58)], 'g1f3': [1.0, (6, 0, 57)], 'b1c3': [1.0, (1, 0, 58)], 'b1a3': [1.0, (1, 0, 57)], 'h2h3': [1.0, (7, 1, 1)], 'g2g3': [1.0, (6, 1, 1)], 'f2f3': [1.0, (5, 1, 1)], 'e2e3': [1.0, (4, 1, 1)], 'd2d3': [1.0, (3, 1, 1)], 'c2c3': [1.0, (2, 1, 1)], 'b2b3': [1.0, (1, 1, 1)], 'a2a3': [1.0, (0, 1, 1)], 'h2h4': [1.0, (7, 1, 2)], 'g2g4': [1.0, (6, 1, 2)], 'f2f4': [1.0, (5, 1, 2)], 'e2e4': [1.0, (4, 1, 2)], 'd2d4': [1.0, (3, 1, 2)], 'c2c4': [1.0, (2, 1, 2)], 'b2b4': [1.0, (1, 1, 2)], 'a2a4': [1.0, (0, 1, 2)]}\n",
      "{'g8h6': [1.0, (6, 7, 61)], 'g8f6': [1.0, (6, 7, 62)], 'b8c6': [1.0, (1, 7, 61)], 'b8a6': [1.0, (1, 7, 62)], 'h7h6': [1.0, (7, 6, 8)], 'g7g6': [1.0, (6, 6, 8)], 'f7f6': [1.0, (5, 6, 8)], 'e7e6': [1.0, (4, 6, 8)], 'd7d6': [1.0, (3, 6, 8)], 'c7c6': [1.0, (2, 6, 8)], 'b7b6': [1.0, (1, 6, 8)], 'a7a6': [1.0, (0, 6, 8)], 'h7h5': [1.0, (7, 6, 9)], 'g7g5': [1.0, (6, 6, 9)], 'f7f5': [1.0, (5, 6, 9)], 'e7e5': [1.0, (4, 6, 9)], 'd7d5': [1.0, (3, 6, 9)], 'c7c5': [1.0, (2, 6, 9)], 'b7b5': [1.0, (1, 6, 9)], 'a7a5': [1.0, (0, 6, 9)]}\n",
      "{'h1h3': [1.0, (7, 0, 2)], 'h1h2': [1.0, (7, 0, 1)], 'g1h3': [1.0, (6, 0, 58)], 'g1f3': [1.0, (6, 0, 57)], 'b1c3': [1.0, (1, 0, 58)], 'b1a3': [1.0, (1, 0, 57)], 'h4h5': [1.0, (7, 3, 1)], 'g2g3': [1.0, (6, 1, 1)], 'f2f3': [1.0, (5, 1, 1)], 'e2e3': [1.0, (4, 1, 1)], 'd2d3': [1.0, (3, 1, 1)], 'c2c3': [1.0, (2, 1, 1)], 'b2b3': [1.0, (1, 1, 1)], 'a2a3': [1.0, (0, 1, 1)], 'g2g4': [1.0, (6, 1, 2)], 'f2f4': [1.0, (5, 1, 2)], 'e2e4': [1.0, (4, 1, 2)], 'd2d4': [1.0, (3, 1, 2)], 'c2c4': [1.0, (2, 1, 2)], 'b2b4': [1.0, (1, 1, 2)], 'a2a4': [1.0, (0, 1, 2)]}\n",
      "{'g8h6': [1.0, (6, 7, 61)], 'g8f6': [1.0, (6, 7, 62)], 'b8c6': [1.0, (1, 7, 61)], 'a8a7': [1.0, (0, 7, 8)], 'h7h6': [1.0, (7, 6, 8)], 'g7g6': [1.0, (6, 6, 8)], 'f7f6': [1.0, (5, 6, 8)], 'e7e6': [1.0, (4, 6, 8)], 'd7d6': [1.0, (3, 6, 8)], 'c7c6': [1.0, (2, 6, 8)], 'b7b6': [1.0, (1, 6, 8)], 'a6a5': [1.0, (0, 5, 8)], 'g7g5': [1.0, (6, 6, 9)], 'f7f5': [1.0, (5, 6, 9)], 'e7e5': [1.0, (4, 6, 9)], 'd7d5': [1.0, (3, 6, 9)], 'c7c5': [1.0, (2, 6, 9)], 'b7b5': [1.0, (1, 6, 9)]}\n",
      "{'h1h4': [1.0, (7, 0, 3)], 'h1h3': [1.0, (7, 0, 2)], 'h1h2': [1.0, (7, 0, 1)], 'g1h3': [1.0, (6, 0, 58)], 'g1f3': [1.0, (6, 0, 57)], 'b1c3': [1.0, (1, 0, 58)], 'b1a3': [1.0, (1, 0, 57)], 'h5h6': [1.0, (7, 4, 1)], 'g2g3': [1.0, (6, 1, 1)], 'f2f3': [1.0, (5, 1, 1)], 'e2e3': [1.0, (4, 1, 1)], 'd2d3': [1.0, (3, 1, 1)], 'c2c3': [1.0, (2, 1, 1)], 'b2b3': [1.0, (1, 1, 1)], 'a2a3': [1.0, (0, 1, 1)], 'g2g4': [1.0, (6, 1, 2)], 'f2f4': [1.0, (5, 1, 2)], 'e2e4': [1.0, (4, 1, 2)], 'd2d4': [1.0, (3, 1, 2)], 'c2c4': [1.0, (2, 1, 2)], 'b2b4': [1.0, (1, 1, 2)], 'a2a4': [1.0, (0, 1, 2)]}\n"
     ]
    },
    {
     "name": "stdout",
     "output_type": "stream",
     "text": [
      "{'g8h6': [1.0, (6, 7, 61)], 'g8f6': [1.0, (6, 7, 62)], 'b8c6': [1.0, (1, 7, 61)], 'b8a6': [1.0, (1, 7, 62)], 'a8a7': [1.0, (0, 7, 8)], 'a8a6': [1.0, (0, 7, 9)], 'g7h6': [1.0, (6, 6, 50)], 'g7g6': [1.0, (6, 6, 8)], 'f7f6': [1.0, (5, 6, 8)], 'e7e6': [1.0, (4, 6, 8)], 'd7d6': [1.0, (3, 6, 8)], 'c7c6': [1.0, (2, 6, 8)], 'b7b6': [1.0, (1, 6, 8)], 'a5a4': [1.0, (0, 4, 8)], 'g7g5': [1.0, (6, 6, 9)], 'f7f5': [1.0, (5, 6, 9)], 'e7e5': [1.0, (4, 6, 9)], 'd7d5': [1.0, (3, 6, 9)], 'c7c5': [1.0, (2, 6, 9)], 'b7b5': [1.0, (1, 6, 9)]}\n",
      "{'h1h5': [1.0, (7, 0, 4)], 'h1h4': [1.0, (7, 0, 3)], 'h1h3': [1.0, (7, 0, 2)], 'h1h2': [1.0, (7, 0, 1)], 'g1h3': [1.0, (6, 0, 58)], 'g1f3': [1.0, (6, 0, 57)], 'b1c3': [1.0, (1, 0, 58)], 'b1a3': [1.0, (1, 0, 57)], 'h6g7': [1.0, (7, 5, 36)], 'g2g3': [1.0, (6, 1, 1)], 'f2f3': [1.0, (5, 1, 1)], 'e2e3': [1.0, (4, 1, 1)], 'd2d3': [1.0, (3, 1, 1)], 'c2c3': [1.0, (2, 1, 1)], 'b2b3': [1.0, (1, 1, 1)], 'a2a3': [1.0, (0, 1, 1)], 'g2g4': [1.0, (6, 1, 2)], 'f2f4': [1.0, (5, 1, 2)], 'e2e4': [1.0, (4, 1, 2)], 'd2d4': [1.0, (3, 1, 2)], 'c2c4': [1.0, (2, 1, 2)], 'b2b4': [1.0, (1, 1, 2)]}\n",
      "{'g8h6': [1.0, (6, 7, 61)], 'g8f6': [1.0, (6, 7, 62)], 'f8g7': [1.0, (5, 7, 50)], 'b8c6': [1.0, (1, 7, 61)], 'b8a6': [1.0, (1, 7, 62)], 'a8a7': [1.0, (0, 7, 8)], 'a8a6': [1.0, (0, 7, 9)], 'a8a5': [1.0, (0, 7, 10)], 'h7h6': [1.0, (7, 6, 8)], 'f7f6': [1.0, (5, 6, 8)], 'e7e6': [1.0, (4, 6, 8)], 'd7d6': [1.0, (3, 6, 8)], 'c7c6': [1.0, (2, 6, 8)], 'b7b6': [1.0, (1, 6, 8)], 'a4a3': [1.0, (0, 3, 8)], 'h7h5': [1.0, (7, 6, 9)], 'f7f5': [1.0, (5, 6, 9)], 'e7e5': [1.0, (4, 6, 9)], 'd7d5': [1.0, (3, 6, 9)], 'c7c5': [1.0, (2, 6, 9)], 'b7b5': [1.0, (1, 6, 9)]}\n",
      "{'h1h7': [1.0, (7, 0, 6)], 'h1h6': [1.0, (7, 0, 5)], 'h1h5': [1.0, (7, 0, 4)], 'h1h4': [1.0, (7, 0, 3)], 'h1h3': [1.0, (7, 0, 2)], 'h1h2': [1.0, (7, 0, 1)], 'g1h3': [1.0, (6, 0, 58)], 'g1f3': [1.0, (6, 0, 57)], 'b1c3': [1.0, (1, 0, 58)], 'b1a3': [1.0, (1, 0, 57)], 'g7h8q': [1.0, (6, 6, 29)], 'g7h8r': [1.0, (6, 6, 29)], 'g7h8b': [1.0, (6, 6, 29)], 'g7h8n': [1.0, (6, 6, 29)], 'g7f8q': [1.0, (6, 6, 36)], 'g7f8r': [1.0, (6, 6, 36)], 'g7f8b': [1.0, (6, 6, 36)], 'g7f8n': [1.0, (6, 6, 36)], 'b2a3': [1.0, (1, 1, 36)], 'g2g3': [1.0, (6, 1, 1)], 'f2f3': [1.0, (5, 1, 1)], 'e2e3': [1.0, (4, 1, 1)], 'd2d3': [1.0, (3, 1, 1)], 'c2c3': [1.0, (2, 1, 1)], 'b2b3': [1.0, (1, 1, 1)], 'g2g4': [1.0, (6, 1, 2)], 'f2f4': [1.0, (5, 1, 2)], 'e2e4': [1.0, (4, 1, 2)], 'd2d4': [1.0, (3, 1, 2)], 'c2c4': [1.0, (2, 1, 2)], 'b2b4': [1.0, (1, 1, 2)]}\n",
      "{'h8h7': [1.0, (7, 7, 8)], 'g8h6': [0.99999714, (6, 7, 61)], 'g8f6': [0.99998647, (6, 7, 62)], 'f8g7': [0.99999917, (5, 7, 50)], 'b8c6': [0.99999994, (1, 7, 61)], 'b8a6': [0.9999877, (1, 7, 62)], 'a8a7': [1.0, (0, 7, 8)], 'a8a6': [1.0, (0, 7, 9)], 'a8a5': [0.99999994, (0, 7, 10)], 'a8a4': [1.0, (0, 7, 11)], 'a3b2': [1.0, (0, 2, 50)], 'f7f6': [1.0, (5, 6, 8)], 'e7e6': [1.0, (4, 6, 8)], 'd7d6': [1.0, (3, 6, 8)], 'c7c6': [1.0, (2, 6, 8)], 'b7b6': [1.0, (1, 6, 8)], 'f7f5': [1.0, (5, 6, 9)], 'e7e5': [1.0, (4, 6, 9)], 'd7d5': [1.0, (3, 6, 9)], 'c7c5': [1.0, (2, 6, 9)], 'b7b5': [1.0, (1, 6, 9)]}\n",
      "{'h7h8': [0.99990237, (7, 6, 1)], 'h7h6': [1.0, (7, 6, 8)], 'h7h5': [1.0, (7, 6, 9)], 'h7h4': [1.0, (7, 6, 10)], 'h7h3': [0.99999726, (7, 6, 11)], 'h7h2': [0.99999964, (7, 6, 12)], 'h7h1': [1.0, (7, 6, 13)], 'g1h3': [1.0, (6, 0, 58)], 'g1f3': [1.0, (6, 0, 57)], 'b1c3': [1.0, (1, 0, 58)], 'b1a3': [1.0, (1, 0, 57)], 'g7h8q': [0.9999888, (6, 6, 29)], 'g7h8r': [0.9999888, (6, 6, 29)], 'g7h8b': [0.9999888, (6, 6, 29)], 'g7h8n': [0.9999888, (6, 6, 29)], 'g7f8q': [0.9999998, (6, 6, 36)], 'g7f8r': [0.9999998, (6, 6, 36)], 'g7f8b': [0.9999998, (6, 6, 36)], 'g7f8n': [0.9999998, (6, 6, 36)], 'b2a3': [1.0, (1, 1, 36)], 'g7g8q': [0.9999914, (6, 6, 1)], 'g7g8r': [0.9999914, (6, 6, 1)], 'g7g8b': [0.9999914, (6, 6, 1)], 'g7g8n': [0.9999914, (6, 6, 1)], 'g2g3': [1.0, (6, 1, 1)], 'f2f3': [1.0, (5, 1, 1)], 'e2e3': [1.0, (4, 1, 1)], 'd2d3': [1.0, (3, 1, 1)], 'c2c3': [1.0, (2, 1, 1)], 'b2b3': [1.0, (1, 1, 1)], 'g2g4': [1.0, (6, 1, 2)], 'f2f4': [1.0, (5, 1, 2)], 'e2e4': [1.0, (4, 1, 2)], 'd2d4': [1.0, (3, 1, 2)], 'c2c4': [1.0, (2, 1, 2)], 'b2b4': [1.0, (1, 1, 2)]}\n",
      "{'h8g8': [1.0, (7, 7, 22)], 'h8h7': [1.0, (7, 7, 8)], 'h8h6': [1.0, (7, 7, 9)], 'h8h5': [1.0, (7, 7, 10)], 'h8h4': [1.0, (7, 7, 11)], 'h8h3': [1.0, (7, 7, 12)], 'h8h2': [1.0, (7, 7, 13)], 'h8h1': [1.0, (7, 7, 14)], 'f8g7': [1.0, (5, 7, 50)], 'b8c6': [1.0, (1, 7, 61)], 'b8a6': [1.0, (1, 7, 62)], 'a8a7': [1.0, (0, 7, 8)], 'a8a6': [1.0, (0, 7, 9)], 'a8a5': [1.0, (0, 7, 10)], 'a8a4': [1.0, (0, 7, 11)], 'f6g8': [1.0, (5, 5, 58)], 'f6h7': [1.0, (5, 5, 59)], 'f6h5': [1.0, (5, 5, 60)], 'f6d5': [1.0, (5, 5, 63)], 'f6g4': [1.0, (5, 5, 61)], 'f6e4': [1.0, (5, 5, 62)], 'a3b2': [1.0, (0, 2, 50)], 'e7e6': [1.0, (4, 6, 8)], 'd7d6': [1.0, (3, 6, 8)], 'c7c6': [1.0, (2, 6, 8)], 'b7b6': [1.0, (1, 6, 8)], 'e7e5': [1.0, (4, 6, 9)], 'd7d5': [1.0, (3, 6, 9)], 'c7c5': [1.0, (2, 6, 9)], 'b7b5': [1.0, (1, 6, 9)]}\n",
      "{'h1h8': [1.0, (7, 0, 7)], 'h1h7': [1.0, (7, 0, 6)], 'h1h6': [1.0, (7, 0, 5)], 'h1h5': [1.0, (7, 0, 4)], 'h1h4': [1.0, (7, 0, 3)], 'h1h3': [1.0, (7, 0, 2)], 'h1h2': [1.0, (7, 0, 1)], 'g1h3': [1.0, (6, 0, 58)], 'g1f3': [1.0, (6, 0, 57)], 'c1b2': [1.0, (2, 0, 36)], 'b1c3': [1.0, (1, 0, 58)], 'b1a3': [1.0, (1, 0, 57)], 'g7h8q': [1.0, (6, 6, 29)], 'g7h8r': [1.0, (6, 6, 29)], 'g7h8b': [1.0, (6, 6, 29)], 'g7h8n': [1.0, (6, 6, 29)], 'g7f8q': [1.0, (6, 6, 36)], 'g7f8r': [1.0, (6, 6, 36)], 'g7f8b': [1.0, (6, 6, 36)], 'g7f8n': [1.0, (6, 6, 36)], 'g7g8q': [1.0, (6, 6, 1)], 'g7g8r': [1.0, (6, 6, 1)], 'g7g8b': [1.0, (6, 6, 1)], 'g7g8n': [1.0, (6, 6, 1)], 'g2g3': [1.0, (6, 1, 1)], 'f2f3': [1.0, (5, 1, 1)], 'e2e3': [1.0, (4, 1, 1)], 'd2d3': [1.0, (3, 1, 1)], 'c2c3': [1.0, (2, 1, 1)], 'a2a3': [1.0, (0, 1, 1)], 'g2g4': [1.0, (6, 1, 2)], 'f2f4': [1.0, (5, 1, 2)], 'e2e4': [1.0, (4, 1, 2)], 'd2d4': [1.0, (3, 1, 2)], 'c2c4': [1.0, (2, 1, 2)], 'a2a4': [1.0, (0, 1, 2)]}\n",
      "{'b8c6': [0.9999999, (1, 7, 61)], 'b8a6': [0.99998283, (1, 7, 62)], 'a8a7': [0.9999999, (0, 7, 8)], 'a8a6': [1.0, (0, 7, 9)], 'a8a5': [0.99999976, (0, 7, 10)], 'a8a4': [1.0, (0, 7, 11)], 'a8a3': [0.99999654, (0, 7, 12)], 'a8a2': [0.9999913, (0, 7, 13)], 'f6g8': [1.0, (5, 5, 58)], 'f6h7': [1.0, (5, 5, 59)], 'f6h5': [1.0, (5, 5, 60)], 'f6d5': [0.9999999, (5, 5, 63)], 'f6g4': [1.0, (5, 5, 61)], 'f6e4': [1.0, (5, 5, 62)], 'b2c1q': [1.0, (1, 1, 50)], 'b2c1r': [1.0, (1, 1, 50)], 'b2c1b': [1.0, (1, 1, 50)], 'b2c1n': [1.0, (1, 1, 50)], 'b2a1q': [1.0, (1, 1, 43)], 'b2a1r': [1.0, (1, 1, 43)], 'b2a1b': [1.0, (1, 1, 43)], 'b2a1n': [1.0, (1, 1, 43)], 'e7e6': [1.0, (4, 6, 8)], 'd7d6': [1.0, (3, 6, 8)], 'c7c6': [1.0, (2, 6, 8)], 'b7b6': [1.0, (1, 6, 8)], 'e7e5': [1.0, (4, 6, 9)], 'd7d5': [1.0, (3, 6, 9)], 'c7c5': [1.0, (2, 6, 9)], 'b7b5': [1.0, (1, 6, 9)]}\n",
      "{'h8g8': [0.9983869, (7, 7, 22)], 'h8f8': [0.9992937, (7, 7, 23)], 'h8h7': [0.99988544, (7, 7, 8)], 'h8h6': [0.99683285, (7, 7, 9)], 'h8h5': [0.9982927, (7, 7, 10)], 'h8h4': [0.9982405, (7, 7, 11)], 'h8h3': [0.99679065, (7, 7, 12)], 'h8h2': [0.9981532, (7, 7, 13)], 'h8h1': [0.9947165, (7, 7, 14)], 'g1h3': [0.9986323, (6, 0, 58)], 'g1f3': [0.9999999, (6, 0, 57)], 'c1b2': [0.99999815, (2, 0, 36)], 'b1c3': [0.99999917, (1, 0, 58)], 'b1a3': [0.9999952, (1, 0, 57)], 'g7f8q': [0.9996377, (6, 6, 36)], 'g7f8r': [0.9996377, (6, 6, 36)], 'g7f8b': [0.9996377, (6, 6, 36)], 'g7f8n': [0.9996377, (6, 6, 36)], 'g7g8q': [0.99787354, (6, 6, 1)], 'g7g8r': [0.99787354, (6, 6, 1)], 'g7g8b': [0.99787354, (6, 6, 1)], 'g7g8n': [0.99787354, (6, 6, 1)], 'g2g3': [0.9999992, (6, 1, 1)], 'f2f3': [1.0, (5, 1, 1)], 'e2e3': [1.0, (4, 1, 1)], 'd2d3': [1.0, (3, 1, 1)], 'c2c3': [1.0, (2, 1, 1)], 'a2a3': [0.99998975, (0, 1, 1)], 'g2g4': [0.9999999, (6, 1, 2)], 'f2f4': [1.0, (5, 1, 2)], 'e2e4': [1.0, (4, 1, 2)], 'd2d4': [1.0, (3, 1, 2)], 'c2c4': [1.0, (2, 1, 2)], 'a2a4': [0.99999815, (0, 1, 2)]}\n",
      "{'a8b8': [0.9858283, (0, 7, 15)], 'a8a7': [0.994066, (0, 7, 8)], 'f6g8': [0.9996494, (5, 5, 58)], 'f6h7': [0.98779696, (5, 5, 59)], 'f6h5': [0.98859775, (5, 5, 60)], 'f6d5': [0.9894258, (5, 5, 63)], 'f6g4': [0.9880369, (5, 5, 61)], 'f6e4': [0.98938173, (5, 5, 62)], 'a6b8': [0.98904145, (0, 5, 58)], 'a6c5': [0.98880076, (0, 5, 60)], 'a6b4': [0.98889995, (0, 5, 61)], 'b2c1q': [0.9891621, (1, 1, 50)], 'b2c1r': [0.9891621, (1, 1, 50)], 'b2c1b': [0.9891621, (1, 1, 50)], 'b2c1n': [0.9891621, (1, 1, 50)], 'b2a1q': [0.98812413, (1, 1, 43)], 'b2a1r': [0.98812413, (1, 1, 43)], 'b2a1b': [0.98812413, (1, 1, 43)], 'b2a1n': [0.98812413, (1, 1, 43)], 'e7e6': [0.9890206, (4, 6, 8)], 'd7d6': [0.9926899, (3, 6, 8)], 'c7c6': [0.98965466, (2, 6, 8)], 'b7b6': [0.9853405, (1, 6, 8)], 'e7e5': [0.9894031, (4, 6, 9)], 'd7d5': [0.9886768, (3, 6, 9)], 'c7c5': [0.9884279, (2, 6, 9)], 'b7b5': [0.98820305, (1, 6, 9)]}\n",
      "{'h8g8': [0.9887686, (7, 7, 22)], 'h8f8': [0.99842733, (7, 7, 23)], 'h8h7': [0.9996121, (7, 7, 8)], 'h8h6': [0.9884281, (7, 7, 9)], 'h8h5': [0.98884475, (7, 7, 10)], 'h8h4': [0.98820925, (7, 7, 11)], 'h8h3': [0.9931964, (7, 7, 12)], 'h8h2': [0.98663485, (7, 7, 13)], 'h8h1': [0.99189425, (7, 7, 14)], 'g1h3': [0.9883038, (6, 0, 58)], 'g1f3': [0.9921652, (6, 0, 57)], 'e1f2': [0.99989283, (4, 0, 29)], 'c1b2': [0.9967934, (2, 0, 36)], 'b1c3': [0.9892806, (1, 0, 58)], 'b1a3': [0.9891583, (1, 0, 57)], 'g7f8q': [0.9882271, (6, 6, 36)], 'g7f8r': [0.9882271, (6, 6, 36)], 'g7f8b': [0.9882271, (6, 6, 36)], 'g7f8n': [0.9882271, (6, 6, 36)], 'g7g8q': [0.98958445, (6, 6, 1)], 'g7g8r': [0.98958445, (6, 6, 1)], 'g7g8b': [0.98958445, (6, 6, 1)], 'g7g8n': [0.98958445, (6, 6, 1)], 'f4f5': [0.9986148, (5, 3, 1)], 'g2g3': [0.98776877, (6, 1, 1)], 'e2e3': [0.9962146, (4, 1, 1)], 'd2d3': [0.99417347, (3, 1, 1)], 'c2c3': [0.9900688, (2, 1, 1)], 'a2a3': [0.9907918, (0, 1, 1)], 'g2g4': [0.9901866, (6, 1, 2)], 'e2e4': [0.9958837, (4, 1, 2)], 'd2d4': [0.9922507, (3, 1, 2)], 'c2c4': [0.9906331, (2, 1, 2)], 'a2a4': [0.9882673, (0, 1, 2)]}\n",
      "{'c8b7': [0.9884728, (2, 7, 43)], 'a8b8': [0.98573536, (0, 7, 15)], 'a8a7': [0.99394, (0, 7, 8)], 'f6g8': [0.9996493, (5, 5, 58)], 'f6h7': [0.98781514, (5, 5, 59)], 'f6h5': [0.98859215, (5, 5, 60)], 'f6d5': [0.9894269, (5, 5, 63)], 'f6g4': [0.9880245, (5, 5, 61)], 'f6e4': [0.9893737, (5, 5, 62)], 'a6b8': [0.988974, (0, 5, 58)], 'a6c5': [0.9888396, (0, 5, 60)], 'a6b4': [0.98889434, (0, 5, 61)], 'b2c1q': [0.98911536, (1, 1, 50)], 'b2c1r': [0.98911536, (1, 1, 50)], 'b2c1b': [0.98911536, (1, 1, 50)], 'b2c1n': [0.98911536, (1, 1, 50)], 'b2a1q': [0.9882008, (1, 1, 43)], 'b2a1r': [0.9882008, (1, 1, 43)], 'b2a1b': [0.9882008, (1, 1, 43)], 'b2a1n': [0.9882008, (1, 1, 43)], 'e7e6': [0.98911816, (4, 6, 8)], 'd7d6': [0.99268353, (3, 6, 8)], 'c7c6': [0.9895842, (2, 6, 8)], 'b6b5': [0.99016273, (1, 5, 8)], 'e7e5': [0.98938274, (4, 6, 9)], 'd7d5': [0.9886358, (3, 6, 9)], 'c7c5': [0.98838323, (2, 6, 9)]}\n",
      "{'h8g8': [0.98854256, (7, 7, 22)], 'h8f8': [0.9983972, (7, 7, 23)], 'h8h7': [0.99959755, (7, 7, 8)], 'h8h6': [0.98825383, (7, 7, 9)], 'h8h5': [0.98871255, (7, 7, 10)], 'h8h4': [0.9881691, (7, 7, 11)], 'h8h3': [0.9930872, (7, 7, 12)], 'h8h2': [0.9866114, (7, 7, 13)], 'h8h1': [0.9916862, (7, 7, 14)], 'f2g3': [0.99986625, (5, 1, 29)], 'f2f3': [0.99538124, (5, 1, 1)], 'f2e3': [0.9958433, (5, 1, 36)], 'f2e1': [0.99302626, (5, 1, 43)], 'g1h3': [0.9883783, (6, 0, 58)], 'g1f3': [0.9922564, (6, 0, 57)], 'd1e1': [0.99519396, (3, 0, 15)], 'c1b2': [0.99689496, (2, 0, 36)], 'b1c3': [0.9894469, (1, 0, 58)], 'b1a3': [0.98937035, (1, 0, 57)], 'g7f8q': [0.98810613, (6, 6, 36)], 'g7f8r': [0.98810613, (6, 6, 36)], 'g7f8b': [0.98810613, (6, 6, 36)], 'g7f8n': [0.98810613, (6, 6, 36)], 'g7g8q': [0.9894949, (6, 6, 1)], 'g7g8r': [0.9894949, (6, 6, 1)], 'g7g8b': [0.9894949, (6, 6, 1)], 'g7g8n': [0.9894949, (6, 6, 1)], 'f4f5': [0.9986185, (5, 3, 1)], 'g2g3': [0.98799574, (6, 1, 1)], 'e2e3': [0.9962477, (4, 1, 1)], 'd2d3': [0.9942092, (3, 1, 1)], 'c2c3': [0.99010795, (2, 1, 1)], 'a2a3': [0.9910144, (0, 1, 1)], 'g2g4': [0.99038076, (6, 1, 2)], 'e2e4': [0.99597317, (4, 1, 2)], 'd2d4': [0.99242496, (3, 1, 2)], 'c2c4': [0.9907889, (2, 1, 2)], 'a2a4': [0.9884616, (0, 1, 2)]}\n",
      "{'c8b7': [0.9883882, (2, 7, 43)], 'b8a8': [0.99247587, (1, 7, 22)], 'b8b7': [0.9870918, (1, 7, 8)], 'f6g8': [0.9996418, (5, 5, 58)], 'f6h7': [0.9876256, (5, 5, 59)], 'f6h5': [0.98851204, (5, 5, 60)], 'f6d5': [0.9893162, (5, 5, 63)], 'f6g4': [0.98789394, (5, 5, 61)], 'f6e4': [0.98924315, (5, 5, 62)], 'a6c5': [0.9886704, (0, 5, 60)], 'a6b4': [0.98884386, (0, 5, 61)], 'b2c1q': [0.9890138, (1, 1, 50)], 'b2c1r': [0.9890138, (1, 1, 50)], 'b2c1b': [0.9890138, (1, 1, 50)], 'b2c1n': [0.9890138, (1, 1, 50)], 'b2a1q': [0.9879563, (1, 1, 43)], 'b2a1r': [0.9879563, (1, 1, 43)], 'b2a1b': [0.9879563, (1, 1, 43)], 'b2a1n': [0.9879563, (1, 1, 43)], 'e7e6': [0.9887301, (4, 6, 8)], 'd7d6': [0.9925183, (3, 6, 8)], 'c7c6': [0.9894667, (2, 6, 8)], 'b6b5': [0.99009323, (1, 5, 8)], 'e7e5': [0.98926806, (4, 6, 9)], 'd7d5': [0.98853815, (3, 6, 9)], 'c7c5': [0.98826563, (2, 6, 9)]}\n",
      "{'h8g8': [0.98875755, (7, 7, 22)], 'h8f8': [0.9984383, (7, 7, 23)], 'h8h7': [0.9996115, (7, 7, 8)], 'h8h6': [0.9884566, (7, 7, 9)], 'h8h5': [0.988904, (7, 7, 10)], 'h8h4': [0.9883324, (7, 7, 11)], 'h8h3': [0.99322796, (7, 7, 12)], 'h8h2': [0.98681295, (7, 7, 13)], 'h8h1': [0.991896, (7, 7, 14)], 'g3h4': [0.99246836, (6, 2, 29)], 'g3h3': [0.9966316, (6, 2, 15)], 'g3f3': [0.98786926, (6, 2, 22)], 'g3h2': [0.98932546, (6, 2, 50)], 'g3f2': [0.9887733, (6, 2, 43)], 'g1h3': [0.9885438, (6, 0, 58)], 'g1f3': [0.9924886, (6, 0, 57)], 'd1e1': [0.99530876, (3, 0, 15)], 'c1b2': [0.9969282, (2, 0, 36)], 'b1c3': [0.98958296, (1, 0, 58)], 'b1a3': [0.9894383, (1, 0, 57)], 'g7f8q': [0.9883666, (6, 6, 36)], 'g7f8r': [0.9883666, (6, 6, 36)], 'g7f8b': [0.9883666, (6, 6, 36)], 'g7f8n': [0.9883666, (6, 6, 36)], 'g7g8q': [0.98970187, (6, 6, 1)], 'g7g8r': [0.98970187, (6, 6, 1)], 'g7g8b': [0.98970187, (6, 6, 1)], 'g7g8n': [0.98970187, (6, 6, 1)], 'f4f5': [0.9986432, (5, 3, 1)], 'e2e3': [0.996343, (4, 1, 1)], 'd2d3': [0.9943569, (3, 1, 1)], 'c2c3': [0.99029803, (2, 1, 1)], 'a2a3': [0.99107385, (0, 1, 1)], 'e2e4': [0.9960652, (4, 1, 2)], 'd2d4': [0.99256814, (3, 1, 2)], 'c2c4': [0.9909123, (2, 1, 2)], 'a2a4': [0.9885099, (0, 1, 2)]}\n",
      "{'f8g7': [0.98757017, (5, 7, 50)], 'b7b8': [0.98931605, (1, 6, 1)], 'b7a7': [0.99937105, (1, 6, 22)], 'f6g8': [0.99965966, (5, 5, 58)], 'f6h7': [0.98806185, (5, 5, 59)], 'f6h5': [0.98869663, (5, 5, 60)], 'f6d5': [0.98955345, (5, 5, 63)], 'f6g4': [0.9882562, (5, 5, 61)], 'f6e4': [0.9895874, (5, 5, 62)], 'a6b8': [0.9889996, (0, 5, 58)], 'a6c5': [0.9888481, (0, 5, 60)], 'a6b4': [0.98891175, (0, 5, 61)], 'b2c1q': [0.98932594, (1, 1, 50)], 'b2c1r': [0.98932594, (1, 1, 50)], 'b2c1b': [0.98932594, (1, 1, 50)], 'b2c1n': [0.98932594, (1, 1, 50)], 'b2a1q': [0.9883818, (1, 1, 43)], 'b2a1r': [0.9883818, (1, 1, 43)], 'b2a1b': [0.9883818, (1, 1, 43)], 'b2a1n': [0.9883818, (1, 1, 43)], 'e7e6': [0.9893289, (4, 6, 8)], 'd7d6': [0.9928161, (3, 6, 8)], 'c7c6': [0.98972714, (2, 6, 8)], 'b6b5': [0.99024904, (1, 5, 8)], 'e7e5': [0.9895977, (4, 6, 9)], 'd7d5': [0.98881304, (3, 6, 9)], 'c7c5': [0.9885055, (2, 6, 9)]}\n",
      "{'h7h8': [0.9898466, (7, 6, 1)], 'h7g7': [0.98753, (7, 6, 22)], 'h7h6': [0.99410486, (7, 6, 8)], 'h7h5': [0.9888871, (7, 6, 9)], 'h7h4': [0.98936486, (7, 6, 10)], 'h7h3': [0.98823667, (7, 6, 11)], 'h7h2': [0.99027634, (7, 6, 12)], 'h7h1': [0.9929514, (7, 6, 13)], 'g3h4': [0.99424595, (6, 2, 29)], 'g3h3': [0.99712515, (6, 2, 15)], 'g3f3': [0.98961484, (6, 2, 22)], 'g3h2': [0.9902681, (6, 2, 50)], 'g3f2': [0.99018663, (6, 2, 43)], 'g1h3': [0.9901637, (6, 0, 58)], 'g1f3': [0.9937346, (6, 0, 57)], 'd1e1': [0.9958391, (3, 0, 15)], 'c1b2': [0.9973213, (2, 0, 36)], 'b1c3': [0.9912375, (1, 0, 58)], 'b1a3': [0.9903072, (1, 0, 57)], 'f4f5': [0.9987813, (5, 3, 1)], 'e2e3': [0.9970561, (4, 1, 1)], 'd2d3': [0.9953896, (3, 1, 1)], 'c2c3': [0.9919409, (2, 1, 1)], 'a2a3': [0.9918603, (0, 1, 1)], 'e2e4': [0.9968116, (4, 1, 2)], 'd2d4': [0.99386483, (3, 1, 2)], 'c2c4': [0.992098, (2, 1, 2)], 'a2a4': [0.9894804, (0, 1, 2)]}\n",
      "{'e8f8': [0.9979689, (4, 7, 15)], 'g7h8': [0.98744845, (6, 6, 29)], 'g7f8': [0.9888748, (6, 6, 36)], 'g7h6': [0.98942554, (6, 6, 50)], 'b7b8': [0.9895723, (1, 6, 1)], 'b7a7': [0.9993366, (1, 6, 22)], 'f6g8': [0.99967337, (5, 5, 58)], 'f6h7': [0.98883355, (5, 5, 59)], 'f6h5': [0.9889538, (5, 5, 60)], 'f6d5': [0.9900485, (5, 5, 63)], 'f6g4': [0.98876905, (5, 5, 61)], 'f6e4': [0.99000454, (5, 5, 62)], 'a6b8': [0.9893228, (0, 5, 58)], 'a6c5': [0.9892274, (0, 5, 60)], 'a6b4': [0.989218, (0, 5, 61)], 'b2c1q': [0.9897369, (1, 1, 50)], 'b2c1r': [0.9897369, (1, 1, 50)], 'b2c1b': [0.9897369, (1, 1, 50)], 'b2c1n': [0.9897369, (1, 1, 50)], 'b2a1q': [0.9892707, (1, 1, 43)], 'b2a1r': [0.9892707, (1, 1, 43)], 'b2a1b': [0.9892707, (1, 1, 43)], 'b2a1n': [0.9892707, (1, 1, 43)], 'e7e6': [0.99078786, (4, 6, 8)], 'd7d6': [0.9936752, (3, 6, 8)], 'c7c6': [0.99087495, (2, 6, 8)], 'b6b5': [0.99133354, (1, 5, 8)], 'e7e5': [0.98996586, (4, 6, 9)], 'd7d5': [0.98921514, (3, 6, 9)], 'c7c5': [0.98898685, (2, 6, 9)]}\n",
      "{'h7h8': [0.9897225, (7, 6, 1)], 'h7g7': [0.98739326, (7, 6, 22)], 'h7f7': [0.9999305, (7, 6, 23)], 'h7h6': [0.99379086, (7, 6, 8)], 'h7h5': [0.98873675, (7, 6, 9)], 'h7h4': [0.9893329, (7, 6, 10)], 'h7h3': [0.98725927, (7, 6, 11)], 'h7h2': [0.9900382, (7, 6, 12)], 'h7h1': [0.99260855, (7, 6, 13)], 'g3h4': [0.99264324, (6, 2, 29)], 'g3f4': [0.9960088, (6, 2, 36)], 'g3h3': [0.9967035, (6, 2, 15)], 'g3f3': [0.9881104, (6, 2, 22)], 'g3h2': [0.98926497, (6, 2, 50)], 'g3f2': [0.9889231, (6, 2, 43)], 'g1h3': [0.9887525, (6, 0, 58)], 'g1f3': [0.99258906, (6, 0, 57)], 'd1e1': [0.9953843, (3, 0, 15)], 'c1b2': [0.9970281, (2, 0, 36)], 'b1c3': [0.99002874, (1, 0, 58)], 'b1a3': [0.9896458, (1, 0, 57)], 'e2e3': [0.9964982, (4, 1, 1)], 'd2d3': [0.9945885, (3, 1, 1)], 'c2c3': [0.99079067, (2, 1, 1)], 'a2a3': [0.9912045, (0, 1, 1)], 'e2e4': [0.9961933, (4, 1, 2)], 'd2d4': [0.9928268, (3, 1, 2)], 'c2c4': [0.9912543, (2, 1, 2)], 'a2a4': [0.988617, (0, 1, 2)]}\n",
      "{'h8g7': [0.9916089, (7, 7, 43)], 'e8f7': [0.9891088, (4, 7, 50)], 'b7b8': [0.9894211, (1, 6, 1)], 'b7a7': [0.99934065, (1, 6, 22)], 'f6g8': [0.9996564, (5, 5, 58)], 'f6h7': [0.9883551, (5, 5, 59)], 'f6h5': [0.98873997, (5, 5, 60)], 'f6d5': [0.98972756, (5, 5, 63)], 'f6g4': [0.9884565, (5, 5, 61)], 'f6e4': [0.9896481, (5, 5, 62)], 'a6b8': [0.98906195, (0, 5, 58)], 'a6c5': [0.9889665, (0, 5, 60)], 'a6b4': [0.98895204, (0, 5, 61)], 'b2c1q': [0.98955864, (1, 1, 50)], 'b2c1r': [0.98955864, (1, 1, 50)], 'b2c1b': [0.98955864, (1, 1, 50)], 'b2c1n': [0.98955864, (1, 1, 50)], 'b2a1q': [0.9887942, (1, 1, 43)], 'b2a1r': [0.9887942, (1, 1, 43)], 'b2a1b': [0.9887942, (1, 1, 43)], 'b2a1n': [0.9887942, (1, 1, 43)], 'e7e6': [0.98964, (4, 6, 8)], 'd7d6': [0.99307346, (3, 6, 8)], 'c7c6': [0.99016654, (2, 6, 8)], 'b6b5': [0.99082106, (1, 5, 8)], 'e7e5': [0.9896637, (4, 6, 9)], 'd7d5': [0.98880976, (3, 6, 9)], 'c7c5': [0.9886097, (2, 6, 9)]}\n",
      "{'f7f8': [0.9900951, (5, 6, 1)], 'f7h7': [0.9896116, (5, 6, 16)], 'f7g7': [0.9895779, (5, 6, 15)], 'f7e7': [0.99217135, (5, 6, 22)], 'f7f6': [0.9929372, (5, 6, 8)], 'g3h4': [0.9929727, (6, 2, 29)], 'g3g4': [0.9889332, (6, 2, 1)], 'g3f4': [0.99617857, (6, 2, 36)], 'g3h3': [0.9967567, (6, 2, 15)], 'g3f3': [0.98840666, (6, 2, 22)], 'g3h2': [0.989262, (6, 2, 50)], 'g3f2': [0.9890325, (6, 2, 43)], 'g1h3': [0.9889609, (6, 0, 58)], 'g1f3': [0.9925972, (6, 0, 57)], 'd1e1': [0.9953761, (3, 0, 15)], 'c1b2': [0.9970846, (2, 0, 36)], 'b1c3': [0.9903693, (1, 0, 58)], 'b1a3': [0.9897903, (1, 0, 57)], 'f5f6': [0.99925697, (5, 4, 1)], 'e2e3': [0.9965872, (4, 1, 1)], 'd2d3': [0.9947234, (3, 1, 1)], 'c2c3': [0.99110234, (2, 1, 1)], 'a2a3': [0.99134296, (0, 1, 1)], 'e2e4': [0.9962847, (4, 1, 2)], 'd2d4': [0.9929976, (3, 1, 2)], 'c2c4': [0.99145496, (2, 1, 2)], 'a2a4': [0.9888025, (0, 1, 2)]}\n",
      "{'h8g7': [0.9916802, (7, 7, 43)], 'h8f6': [0.98920506, (7, 7, 44)], 'e8f7': [0.98925734, (4, 7, 50)], 'h7f8': [0.98879755, (7, 6, 56)], 'h7f6': [0.9886625, (7, 6, 63)], 'h7g5': [0.9881594, (7, 6, 62)], 'b7b8': [0.98946416, (1, 6, 1)], 'b7a7': [0.9993397, (1, 6, 22)], 'a6b8': [0.989092, (0, 5, 58)], 'a6c5': [0.9890059, (0, 5, 60)], 'a6b4': [0.9889866, (0, 5, 61)], 'e7f6': [0.9886495, (4, 6, 50)], 'b2c1q': [0.9896141, (1, 1, 50)], 'b2c1r': [0.9896141, (1, 1, 50)], 'b2c1b': [0.9896141, (1, 1, 50)], 'b2c1n': [0.9896141, (1, 1, 50)], 'b2a1q': [0.98893523, (1, 1, 43)], 'b2a1r': [0.98893523, (1, 1, 43)], 'b2a1b': [0.98893523, (1, 1, 43)], 'b2a1n': [0.98893523, (1, 1, 43)], 'e7e6': [0.99007034, (4, 6, 8)], 'd7d6': [0.9932494, (3, 6, 8)], 'c7c6': [0.99032104, (2, 6, 8)], 'b6b5': [0.990911, (1, 5, 8)], 'e7e5': [0.9898052, (4, 6, 9)], 'd7d5': [0.98894453, (3, 6, 9)], 'c7c5': [0.9886874, (2, 6, 9)]}\n",
      "{'f7f8': [0.99042195, (5, 6, 1)], 'f7h7': [0.98964286, (5, 6, 16)], 'f7g7': [0.98976225, (5, 6, 15)], 'f7e7': [0.99233544, (5, 6, 22)], 'g3h4': [0.99350965, (6, 2, 29)], 'g3g4': [0.9893137, (6, 2, 1)], 'g3f4': [0.9964556, (6, 2, 36)], 'g3h2': [0.989696, (6, 2, 50)], 'g3f2': [0.9895005, (6, 2, 43)], 'g1h3': [0.989411, (6, 0, 58)], 'g1f3': [0.9930903, (6, 0, 57)], 'd1e1': [0.9955595, (3, 0, 15)], 'c1b2': [0.9971625, (2, 0, 36)], 'b1c3': [0.99065876, (1, 0, 58)], 'b1a3': [0.98993504, (1, 0, 57)], 'f6e7': [0.9920157, (5, 5, 36)], 'e2e3': [0.9967811, (4, 1, 1)], 'd2d3': [0.9949917, (3, 1, 1)], 'c2c3': [0.99143296, (2, 1, 1)], 'a2a3': [0.9915105, (0, 1, 1)], 'e2e4': [0.99650604, (4, 1, 2)], 'd2d4': [0.9933523, (3, 1, 2)], 'c2c4': [0.991688, (2, 1, 2)], 'a2a4': [0.9890101, (0, 1, 2)]}\n",
      "{'h8g7': [0.99165106, (7, 7, 43)], 'h8f6': [0.98939025, (7, 7, 44)], 'e8f7': [0.9891585, (4, 7, 50)], 'b7b8': [0.98947936, (1, 6, 1)], 'b7a7': [0.999328, (1, 6, 22)], 'a6b8': [0.98916984, (0, 5, 58)], 'a6c5': [0.989158, (0, 5, 60)], 'a6b4': [0.9891124, (0, 5, 61)], 'g5h7': [0.9999149, (6, 4, 58)], 'g5f7': [0.99767584, (6, 4, 57)], 'g5e6': [0.99613726, (6, 4, 56)], 'g5e4': [0.9888482, (6, 4, 63)], 'g5h3': [0.9881848, (6, 4, 61)], 'g5f3': [0.99195623, (6, 4, 62)], 'e7f6': [0.9888724, (4, 6, 50)], 'e7e6': [0.99084187, (4, 6, 8)], 'd7d6': [0.99363935, (3, 6, 8)], 'c7c6': [0.99075186, (2, 6, 8)], 'b6b5': [0.991133, (1, 5, 8)], 'e7e5': [0.98995054, (4, 6, 9)], 'd7d5': [0.9891918, (3, 6, 9)], 'c7c5': [0.98890734, (2, 6, 9)]}"
     ]
    },
    {
     "name": "stderr",
     "output_type": "stream",
     "text": [
      "\r",
      "  2%|▏         | 2/100 [00:01<01:27,  1.12it/s]"
     ]
    },
    {
     "name": "stdout",
     "output_type": "stream",
     "text": [
      "\n",
      "{'f7f8': [0.99055076, (5, 6, 1)], 'f7h7': [0.9897164, (5, 6, 16)], 'f7g7': [0.98983884, (5, 6, 15)], 'f7e7': [0.99241674, (5, 6, 22)], 'g3h4': [0.99359876, (6, 2, 29)], 'g3g4': [0.9892427, (6, 2, 1)], 'g3h3': [0.9969828, (6, 2, 15)], 'g3f3': [0.9890462, (6, 2, 22)], 'g3h2': [0.9899992, (6, 2, 50)], 'b2e5': [0.9896853, (1, 1, 31)], 'b2d4': [0.98744404, (1, 1, 30)], 'b2c3': [0.9966296, (1, 1, 29)], 'b2a3': [0.9919721, (1, 1, 36)], 'b2c1': [0.98972964, (1, 1, 50)], 'g1h3': [0.9896999, (6, 0, 58)], 'g1f3': [0.993484, (6, 0, 57)], 'd1e1': [0.9957881, (3, 0, 15)], 'd1c1': [0.9902278, (3, 0, 22)], 'b1c3': [0.9906666, (1, 0, 58)], 'b1a3': [0.99009454, (1, 0, 57)], 'f6e7': [0.9921547, (5, 5, 36)], 'g2h3': [0.9998926, (6, 1, 29)], 'e2e3': [0.9968322, (4, 1, 1)], 'd2d3': [0.9950526, (3, 1, 1)], 'c2c3': [0.99143577, (2, 1, 1)], 'a2a3': [0.9916134, (0, 1, 1)], 'e2e4': [0.99659187, (4, 1, 2)], 'd2d4': [0.993503, (3, 1, 2)], 'c2c4': [0.9917782, (2, 1, 2)], 'a2a4': [0.9890563, (0, 1, 2)]}\n",
      "{'h8g7': [0.9918847, (7, 7, 43)], 'h8f6': [0.99009764, (7, 7, 44)], 'e8f7': [0.9894798, (4, 7, 50)], 'b7b8': [0.98978674, (1, 6, 1)], 'b7a7': [0.9993267, (1, 6, 22)], 'a6b8': [0.9896119, (0, 5, 58)], 'a6c5': [0.98942566, (0, 5, 60)], 'a6b4': [0.98936987, (0, 5, 61)], 'e7f6': [0.98937845, (4, 6, 50)], 'e7e6': [0.9923319, (4, 6, 8)], 'd7d6': [0.99454284, (3, 6, 8)], 'c7c6': [0.9918746, (2, 6, 8)], 'b6b5': [0.99206495, (1, 5, 8)], 'e7e5': [0.99047536, (4, 6, 9)], 'd7d5': [0.98985314, (3, 6, 9)], 'c7c5': [0.98953533, (2, 6, 9)]}\n",
      "{'f7f8': [0.9917246, (5, 6, 1)], 'f7h7': [0.9901779, (5, 6, 16)], 'f7g7': [0.9910557, (5, 6, 15)], 'f7e7': [0.9933377, (5, 6, 22)], 'g3h4': [0.9955606, (6, 2, 29)], 'g3g4': [0.9913459, (6, 2, 1)], 'g3f4': [0.9976157, (6, 2, 36)], 'g3f3': [0.99108195, (6, 2, 22)], 'g3h2': [0.99141777, (6, 2, 50)], 'g3g2': [0.99934196, (6, 2, 8)], 'g3f2': [0.9918459, (6, 2, 43)], 'b2e5': [0.9910943, (1, 1, 31)], 'b2d4': [0.9893409, (1, 1, 30)], 'b2c3': [0.9975514, (1, 1, 29)], 'b2a3': [0.9925478, (1, 1, 36)], 'b2c1': [0.9907604, (1, 1, 50)], 'g1f3': [0.99507, (6, 0, 57)], 'f1g2': [0.9999579, (5, 0, 29)], 'd1e1': [0.9964869, (3, 0, 15)], 'd1c1': [0.9911831, (3, 0, 22)], 'b1c3': [0.99268275, (1, 0, 58)], 'b1a3': [0.9911028, (1, 0, 57)], 'f6e7': [0.9931278, (5, 5, 36)], 'h3h4': [0.99165076, (7, 2, 1)], 'e2e3': [0.99758756, (4, 1, 1)], 'd2d3': [0.9963101, (3, 1, 1)], 'c2c3': [0.9931952, (2, 1, 1)], 'a2a3': [0.9926226, (0, 1, 1)], 'e2e4': [0.9974339, (4, 1, 2)], 'd2d4': [0.99500155, (3, 1, 2)], 'c2c4': [0.9930854, (2, 1, 2)], 'a2a4': [0.9904366, (0, 1, 2)]}\n",
      "{'h8g7': [0.9918779, (7, 7, 43)], 'h8f6': [0.9901806, (7, 7, 44)], 'e8f7': [0.98945594, (4, 7, 50)], 'b7b8': [0.9898052, (1, 6, 1)], 'b7a7': [0.9993222, (1, 6, 22)], 'b4c6': [0.9918554, (1, 3, 58)], 'b4a6': [0.99665964, (1, 3, 57)], 'b4d5': [0.9905704, (1, 3, 59)], 'b4d3': [0.98926044, (1, 3, 60)], 'b4c2': [0.9893547, (1, 3, 61)], 'b4a2': [0.9949572, (1, 3, 62)], 'e7f6': [0.9894552, (4, 6, 50)], 'e7e6': [0.9926522, (4, 6, 8)], 'd7d6': [0.9947349, (3, 6, 8)], 'c7c6': [0.99209595, (2, 6, 8)], 'b6b5': [0.992255, (1, 5, 8)], 'e7e5': [0.99054277, (4, 6, 9)], 'd7d5': [0.98998976, (3, 6, 9)], 'c7c5': [0.98967403, (2, 6, 9)]}\n",
      "{'f7f8': [0.9913085, (5, 6, 1)], 'f7h7': [0.98998773, (5, 6, 16)], 'f7g7': [0.9906501, (5, 6, 15)], 'f7e7': [0.9930438, (5, 6, 22)], 'g3h4': [0.994921, (6, 2, 29)], 'g3g4': [0.99065316, (6, 2, 1)], 'g3f3': [0.9903938, (6, 2, 22)], 'g3h2': [0.9908825, (6, 2, 50)], 'g2b7': [0.9946401, (6, 1, 40)], 'g2c6': [0.9902687, (6, 1, 39)], 'g2d5': [0.9900492, (6, 1, 38)], 'g2e4': [0.99104863, (6, 1, 37)], 'g2f3': [0.99922174, (6, 1, 36)], 'g2h1': [0.991325, (6, 1, 50)], 'g2f1': [0.99153644, (6, 1, 43)], 'b2e5': [0.990633, (1, 1, 31)], 'b2d4': [0.98871154, (1, 1, 30)], 'b2c3': [0.997288, (1, 1, 29)], 'b2a3': [0.9923998, (1, 1, 36)], 'b2c1': [0.9903538, (1, 1, 50)], 'g1f3': [0.994534, (6, 0, 57)], 'd1f1': [0.99142456, (3, 0, 16)], 'd1e1': [0.9962419, (3, 0, 15)], 'd1c1': [0.99084437, (3, 0, 22)], 'b1c3': [0.9920423, (1, 0, 58)], 'b1a3': [0.99077547, (1, 0, 57)], 'f6e7': [0.99278164, (5, 5, 36)], 'e2d3': [0.99660826, (4, 1, 36)], 'c2d3': [0.99953556, (2, 1, 29)], 'h3h4': [0.99102867, (7, 2, 1)], 'e2e3': [0.9973451, (4, 1, 1)], 'c2c3': [0.99262667, (2, 1, 1)], 'a2a3': [0.992309, (0, 1, 1)], 'e2e4': [0.9971539, (4, 1, 2)], 'c2c4': [0.9926458, (2, 1, 2)], 'a2a4': [0.9899863, (0, 1, 2)]}\n",
      "{'h8g7': [0.9919206, (7, 7, 43)], 'h8f6': [0.9901833, (7, 7, 44)], 'e8f7': [0.9894936, (4, 7, 50)], 'b7b8': [0.9897464, (1, 6, 1)], 'b7a7': [0.9993218, (1, 6, 22)], 'e7f6': [0.98945856, (4, 6, 50)], 'e7e6': [0.9925567, (4, 6, 8)], 'd7d6': [0.99463356, (3, 6, 8)], 'c7c6': [0.9919214, (2, 6, 8)], 'b6b5': [0.9920808, (1, 5, 8)], 'e7e5': [0.9904964, (4, 6, 9)], 'd7d5': [0.9899012, (3, 6, 9)], 'c7c5': [0.9895476, (2, 6, 9)]}\n",
      "{'f7f8': [0.99133086, (5, 6, 1)], 'f7h7': [0.9900533, (5, 6, 16)], 'f7g7': [0.99067646, (5, 6, 15)], 'f7e7': [0.99306417, (5, 6, 22)], 'f7d7': [0.9974694, (5, 6, 23)], 'f7f6': [0.9945252, (5, 6, 8)], 'g3h4': [0.99490106, (6, 2, 29)], 'g3g4': [0.9906454, (6, 2, 1)], 'g3f4': [0.9972438, (6, 2, 36)], 'g3f3': [0.9903946, (6, 2, 22)], 'g3h2': [0.99094236, (6, 2, 50)], 'g3f2': [0.99112165, (6, 2, 43)], 'g2b7': [0.9946672, (6, 1, 40)], 'g2c6': [0.9902976, (6, 1, 39)], 'g2d5': [0.9900774, (6, 1, 38)], 'g2e4': [0.99112856, (6, 1, 37)], 'g2f3': [0.9992279, (6, 1, 36)], 'g2h1': [0.9914062, (6, 1, 50)], 'g2f1': [0.99164534, (6, 1, 43)], 'b2f6': [0.9894077, (1, 1, 32)], 'b2e5': [0.99065065, (1, 1, 31)], 'b2d4': [0.9887142, (1, 1, 30)], 'b2c3': [0.9972841, (1, 1, 29)], 'b2a3': [0.99240327, (1, 1, 36)], 'b2c1': [0.9903741, (1, 1, 50)], 'g1f3': [0.99461424, (6, 0, 57)], 'd1a4': [0.9882127, (3, 0, 38)], 'd1b3': [0.99228907, (3, 0, 37)], 'd1c2': [0.9985491, (3, 0, 36)], 'd1f1': [0.9914907, (3, 0, 16)], 'd1e1': [0.9962903, (3, 0, 15)], 'd1c1': [0.9909219, (3, 0, 22)], 'b1c3': [0.9920383, (1, 0, 58)], 'b1a3': [0.99077225, (1, 0, 57)], 'h3h4': [0.9910254, (7, 2, 1)], 'd3d4': [0.9953315, (3, 2, 1)], 'e2e3': [0.9973459, (4, 1, 1)], 'a2a3': [0.99232525, (0, 1, 1)], 'e2e4': [0.99716055, (4, 1, 2)], 'a2a4': [0.9899621, (0, 1, 2)]}\n",
      "{'h8g7': [0.99203014, (7, 7, 43)], 'e8f7': [0.9896847, (4, 7, 50)], 'd8e7': [0.99240077, (3, 7, 50)], 'b7b8': [0.989879, (1, 6, 1)], 'b7a7': [0.9993241, (1, 6, 22)], 'd7d6': [0.99499345, (3, 6, 8)], 'c7c6': [0.9923637, (2, 6, 8)], 'f6f5': [0.99578816, (5, 5, 8)], 'b6b5': [0.9924379, (1, 5, 8)], 'd7d5': [0.9902027, (3, 6, 9)], 'c7c5': [0.98985004, (2, 6, 9)]}\n",
      "{'g3h4': [0.99499977, (6, 2, 29)], 'g3g4': [0.9907484, (6, 2, 1)], 'g3f4': [0.9973308, (6, 2, 36)], 'g3h2': [0.9911351, (6, 2, 50)], 'g3g2': [0.9993025, (6, 2, 8)], 'g3f2': [0.9913775, (6, 2, 43)], 'f3b7': [0.9890176, (5, 2, 39)], 'f3c6': [0.9898602, (5, 2, 38)], 'f3h5': [0.99368674, (5, 2, 30)], 'f3d5': [0.9913101, (5, 2, 37)], 'f3g4': [0.99362123, (5, 2, 29)], 'f3e4': [0.9935455, (5, 2, 36)], 'f3g2': [0.9929022, (5, 2, 50)], 'f3h1': [0.9914818, (5, 2, 51)], 'b2f6': [0.9895511, (1, 1, 32)], 'b2e5': [0.99089384, (1, 1, 31)], 'b2d4': [0.9890163, (1, 1, 30)], 'b2c3': [0.9973992, (1, 1, 29)], 'b2a3': [0.9924996, (1, 1, 36)], 'b2c1': [0.99070156, (1, 1, 50)], 'd1a4': [0.98841876, (3, 0, 38)], 'd1b3': [0.99265885, (3, 0, 37)], 'd1c2': [0.9986268, (3, 0, 36)], 'd1f1': [0.9919027, (3, 0, 16)], 'd1e1': [0.99646497, (3, 0, 15)], 'd1c1': [0.9912537, (3, 0, 22)], 'b1c3': [0.99234223, (1, 0, 58)], 'b1a3': [0.99096316, (1, 0, 57)], 'h3h4': [0.9910773, (7, 2, 1)], 'd3d4': [0.99551356, (3, 2, 1)], 'e2e3': [0.9974257, (4, 1, 1)], 'a2a3': [0.9924946, (0, 1, 1)], 'e2e4': [0.9972498, (4, 1, 2)], 'a2a4': [0.9901519, (0, 1, 2)]}\n",
      "{'h8g7': [0.9920119, (7, 7, 43)], 'd8g8': [0.9888828, (3, 7, 17)], 'd8f8': [0.9914309, (3, 7, 16)], 'd8e8': [0.99770796, (3, 7, 15)], 'd8e7': [0.9925555, (3, 7, 50)], 'f7g8': [0.98923075, (5, 6, 29)], 'f7f8': [0.99139535, (5, 6, 1)], 'f7e8': [0.9918117, (5, 6, 36)], 'f7g7': [0.9907831, (5, 6, 15)], 'f7e7': [0.9931666, (5, 6, 22)], 'f7g6': [0.9889314, (5, 6, 50)], 'f7e6': [0.9919294, (5, 6, 43)], 'b7b8': [0.98991257, (1, 6, 1)], 'b7a7': [0.9993424, (1, 6, 22)], 'd7d6': [0.9945426, (3, 6, 8)], 'c7c6': [0.99189645, (2, 6, 8)], 'f6f5': [0.9953264, (5, 5, 8)], 'b6b5': [0.9921086, (1, 5, 8)], 'd7d5': [0.98992544, (3, 6, 9)], 'c7c5': [0.9896106, (2, 6, 9)]}\n",
      "{'g2h2': [0.99924624, (6, 1, 15)], 'g2f2': [0.9901295, (6, 1, 22)], 'g2h1': [0.9912425, (6, 1, 50)], 'g2f1': [0.9914334, (6, 1, 43)], 'f3g4': [0.99341893, (5, 2, 29)]}\n"
     ]
    },
    {
     "name": "stderr",
     "output_type": "stream",
     "text": [
      "\n"
     ]
    },
    {
     "ename": "KeyboardInterrupt",
     "evalue": "",
     "output_type": "error",
     "traceback": [
      "\u001b[1;31m---------------------------------------------------------------------------\u001b[0m",
      "\u001b[1;31mKeyboardInterrupt\u001b[0m                         Traceback (most recent call last)",
      "\u001b[1;32m<ipython-input-21-fc8cdbe58aed>\u001b[0m in \u001b[0;36m<module>\u001b[1;34m\u001b[0m\n\u001b[0;32m      8\u001b[0m \u001b[1;33m\u001b[0m\u001b[0m\n\u001b[0;32m      9\u001b[0m         \u001b[1;31m# this is the current prediction for the current situation\u001b[0m\u001b[1;33m\u001b[0m\u001b[1;33m\u001b[0m\u001b[1;33m\u001b[0m\u001b[0m\n\u001b[1;32m---> 10\u001b[1;33m         \u001b[0mnn_out\u001b[0m \u001b[1;33m=\u001b[0m \u001b[0mmodel_1\u001b[0m\u001b[1;33m.\u001b[0m\u001b[0mpredict\u001b[0m\u001b[1;33m(\u001b[0m\u001b[0mcurrent_encoded_state\u001b[0m\u001b[1;33m)\u001b[0m\u001b[1;33m\u001b[0m\u001b[1;33m\u001b[0m\u001b[0m\n\u001b[0m\u001b[0;32m     11\u001b[0m         \u001b[0mcurr_legal_moves\u001b[0m \u001b[1;33m=\u001b[0m \u001b[0mlist\u001b[0m\u001b[1;33m(\u001b[0m\u001b[0mboard\u001b[0m\u001b[1;33m.\u001b[0m\u001b[0mlegal_moves\u001b[0m\u001b[1;33m)\u001b[0m\u001b[1;33m\u001b[0m\u001b[1;33m\u001b[0m\u001b[0m\n\u001b[0;32m     12\u001b[0m \u001b[1;33m\u001b[0m\u001b[0m\n",
      "\u001b[1;32m~\\Anaconda3\\envs\\deeplearning\\lib\\site-packages\\tensorflow_core\\python\\keras\\engine\\training.py\u001b[0m in \u001b[0;36mpredict\u001b[1;34m(self, x, batch_size, verbose, steps, callbacks, max_queue_size, workers, use_multiprocessing)\u001b[0m\n\u001b[0;32m    907\u001b[0m         \u001b[0mmax_queue_size\u001b[0m\u001b[1;33m=\u001b[0m\u001b[0mmax_queue_size\u001b[0m\u001b[1;33m,\u001b[0m\u001b[1;33m\u001b[0m\u001b[1;33m\u001b[0m\u001b[0m\n\u001b[0;32m    908\u001b[0m         \u001b[0mworkers\u001b[0m\u001b[1;33m=\u001b[0m\u001b[0mworkers\u001b[0m\u001b[1;33m,\u001b[0m\u001b[1;33m\u001b[0m\u001b[1;33m\u001b[0m\u001b[0m\n\u001b[1;32m--> 909\u001b[1;33m         use_multiprocessing=use_multiprocessing)\n\u001b[0m\u001b[0;32m    910\u001b[0m \u001b[1;33m\u001b[0m\u001b[0m\n\u001b[0;32m    911\u001b[0m   \u001b[1;32mdef\u001b[0m \u001b[0mreset_metrics\u001b[0m\u001b[1;33m(\u001b[0m\u001b[0mself\u001b[0m\u001b[1;33m)\u001b[0m\u001b[1;33m:\u001b[0m\u001b[1;33m\u001b[0m\u001b[1;33m\u001b[0m\u001b[0m\n",
      "\u001b[1;32m~\\Anaconda3\\envs\\deeplearning\\lib\\site-packages\\tensorflow_core\\python\\keras\\engine\\training_arrays.py\u001b[0m in \u001b[0;36mpredict\u001b[1;34m(self, model, x, batch_size, verbose, steps, callbacks, **kwargs)\u001b[0m\n\u001b[0;32m    720\u001b[0m         \u001b[0mverbose\u001b[0m\u001b[1;33m=\u001b[0m\u001b[0mverbose\u001b[0m\u001b[1;33m,\u001b[0m\u001b[1;33m\u001b[0m\u001b[1;33m\u001b[0m\u001b[0m\n\u001b[0;32m    721\u001b[0m         \u001b[0msteps\u001b[0m\u001b[1;33m=\u001b[0m\u001b[0msteps\u001b[0m\u001b[1;33m,\u001b[0m\u001b[1;33m\u001b[0m\u001b[1;33m\u001b[0m\u001b[0m\n\u001b[1;32m--> 722\u001b[1;33m         callbacks=callbacks)\n\u001b[0m",
      "\u001b[1;32m~\\Anaconda3\\envs\\deeplearning\\lib\\site-packages\\tensorflow_core\\python\\keras\\engine\\training_arrays.py\u001b[0m in \u001b[0;36mmodel_iteration\u001b[1;34m(model, inputs, targets, sample_weights, batch_size, epochs, verbose, callbacks, val_inputs, val_targets, val_sample_weights, shuffle, initial_epoch, steps_per_epoch, validation_steps, validation_freq, mode, validation_in_fit, prepared_feed_values_from_dataset, steps_name, **kwargs)\u001b[0m\n\u001b[0;32m    391\u001b[0m \u001b[1;33m\u001b[0m\u001b[0m\n\u001b[0;32m    392\u001b[0m         \u001b[1;31m# Get outputs.\u001b[0m\u001b[1;33m\u001b[0m\u001b[1;33m\u001b[0m\u001b[1;33m\u001b[0m\u001b[0m\n\u001b[1;32m--> 393\u001b[1;33m         \u001b[0mbatch_outs\u001b[0m \u001b[1;33m=\u001b[0m \u001b[0mf\u001b[0m\u001b[1;33m(\u001b[0m\u001b[0mins_batch\u001b[0m\u001b[1;33m)\u001b[0m\u001b[1;33m\u001b[0m\u001b[1;33m\u001b[0m\u001b[0m\n\u001b[0m\u001b[0;32m    394\u001b[0m         \u001b[1;32mif\u001b[0m \u001b[1;32mnot\u001b[0m \u001b[0misinstance\u001b[0m\u001b[1;33m(\u001b[0m\u001b[0mbatch_outs\u001b[0m\u001b[1;33m,\u001b[0m \u001b[0mlist\u001b[0m\u001b[1;33m)\u001b[0m\u001b[1;33m:\u001b[0m\u001b[1;33m\u001b[0m\u001b[1;33m\u001b[0m\u001b[0m\n\u001b[0;32m    395\u001b[0m           \u001b[0mbatch_outs\u001b[0m \u001b[1;33m=\u001b[0m \u001b[1;33m[\u001b[0m\u001b[0mbatch_outs\u001b[0m\u001b[1;33m]\u001b[0m\u001b[1;33m\u001b[0m\u001b[1;33m\u001b[0m\u001b[0m\n",
      "\u001b[1;32m~\\Anaconda3\\envs\\deeplearning\\lib\\site-packages\\tensorflow_core\\python\\keras\\backend.py\u001b[0m in \u001b[0;36m__call__\u001b[1;34m(self, inputs)\u001b[0m\n\u001b[0;32m   3738\u001b[0m         \u001b[0mvalue\u001b[0m \u001b[1;33m=\u001b[0m \u001b[0mmath_ops\u001b[0m\u001b[1;33m.\u001b[0m\u001b[0mcast\u001b[0m\u001b[1;33m(\u001b[0m\u001b[0mvalue\u001b[0m\u001b[1;33m,\u001b[0m \u001b[0mtensor\u001b[0m\u001b[1;33m.\u001b[0m\u001b[0mdtype\u001b[0m\u001b[1;33m)\u001b[0m\u001b[1;33m\u001b[0m\u001b[1;33m\u001b[0m\u001b[0m\n\u001b[0;32m   3739\u001b[0m       \u001b[0mconverted_inputs\u001b[0m\u001b[1;33m.\u001b[0m\u001b[0mappend\u001b[0m\u001b[1;33m(\u001b[0m\u001b[0mvalue\u001b[0m\u001b[1;33m)\u001b[0m\u001b[1;33m\u001b[0m\u001b[1;33m\u001b[0m\u001b[0m\n\u001b[1;32m-> 3740\u001b[1;33m     \u001b[0moutputs\u001b[0m \u001b[1;33m=\u001b[0m \u001b[0mself\u001b[0m\u001b[1;33m.\u001b[0m\u001b[0m_graph_fn\u001b[0m\u001b[1;33m(\u001b[0m\u001b[1;33m*\u001b[0m\u001b[0mconverted_inputs\u001b[0m\u001b[1;33m)\u001b[0m\u001b[1;33m\u001b[0m\u001b[1;33m\u001b[0m\u001b[0m\n\u001b[0m\u001b[0;32m   3741\u001b[0m \u001b[1;33m\u001b[0m\u001b[0m\n\u001b[0;32m   3742\u001b[0m     \u001b[1;31m# EagerTensor.numpy() will often make a copy to ensure memory safety.\u001b[0m\u001b[1;33m\u001b[0m\u001b[1;33m\u001b[0m\u001b[1;33m\u001b[0m\u001b[0m\n",
      "\u001b[1;32m~\\Anaconda3\\envs\\deeplearning\\lib\\site-packages\\tensorflow_core\\python\\eager\\function.py\u001b[0m in \u001b[0;36m__call__\u001b[1;34m(self, *args, **kwargs)\u001b[0m\n\u001b[0;32m   1079\u001b[0m       \u001b[0mTypeError\u001b[0m\u001b[1;33m:\u001b[0m \u001b[0mFor\u001b[0m \u001b[0minvalid\u001b[0m \u001b[0mpositional\u001b[0m\u001b[1;33m/\u001b[0m\u001b[0mkeyword\u001b[0m \u001b[0margument\u001b[0m \u001b[0mcombinations\u001b[0m\u001b[1;33m.\u001b[0m\u001b[1;33m\u001b[0m\u001b[1;33m\u001b[0m\u001b[0m\n\u001b[0;32m   1080\u001b[0m     \"\"\"\n\u001b[1;32m-> 1081\u001b[1;33m     \u001b[1;32mreturn\u001b[0m \u001b[0mself\u001b[0m\u001b[1;33m.\u001b[0m\u001b[0m_call_impl\u001b[0m\u001b[1;33m(\u001b[0m\u001b[0margs\u001b[0m\u001b[1;33m,\u001b[0m \u001b[0mkwargs\u001b[0m\u001b[1;33m)\u001b[0m\u001b[1;33m\u001b[0m\u001b[1;33m\u001b[0m\u001b[0m\n\u001b[0m\u001b[0;32m   1082\u001b[0m \u001b[1;33m\u001b[0m\u001b[0m\n\u001b[0;32m   1083\u001b[0m   \u001b[1;32mdef\u001b[0m \u001b[0m_call_impl\u001b[0m\u001b[1;33m(\u001b[0m\u001b[0mself\u001b[0m\u001b[1;33m,\u001b[0m \u001b[0margs\u001b[0m\u001b[1;33m,\u001b[0m \u001b[0mkwargs\u001b[0m\u001b[1;33m,\u001b[0m \u001b[0mcancellation_manager\u001b[0m\u001b[1;33m=\u001b[0m\u001b[1;32mNone\u001b[0m\u001b[1;33m)\u001b[0m\u001b[1;33m:\u001b[0m\u001b[1;33m\u001b[0m\u001b[1;33m\u001b[0m\u001b[0m\n",
      "\u001b[1;32m~\\Anaconda3\\envs\\deeplearning\\lib\\site-packages\\tensorflow_core\\python\\eager\\function.py\u001b[0m in \u001b[0;36m_call_impl\u001b[1;34m(self, args, kwargs, cancellation_manager)\u001b[0m\n\u001b[0;32m   1119\u001b[0m       raise TypeError(\"Keyword arguments {} unknown. Expected {}.\".format(\n\u001b[0;32m   1120\u001b[0m           list(kwargs.keys()), list(self._arg_keywords)))\n\u001b[1;32m-> 1121\u001b[1;33m     \u001b[1;32mreturn\u001b[0m \u001b[0mself\u001b[0m\u001b[1;33m.\u001b[0m\u001b[0m_call_flat\u001b[0m\u001b[1;33m(\u001b[0m\u001b[0margs\u001b[0m\u001b[1;33m,\u001b[0m \u001b[0mself\u001b[0m\u001b[1;33m.\u001b[0m\u001b[0mcaptured_inputs\u001b[0m\u001b[1;33m,\u001b[0m \u001b[0mcancellation_manager\u001b[0m\u001b[1;33m)\u001b[0m\u001b[1;33m\u001b[0m\u001b[1;33m\u001b[0m\u001b[0m\n\u001b[0m\u001b[0;32m   1122\u001b[0m \u001b[1;33m\u001b[0m\u001b[0m\n\u001b[0;32m   1123\u001b[0m   \u001b[1;32mdef\u001b[0m \u001b[0m_filtered_call\u001b[0m\u001b[1;33m(\u001b[0m\u001b[0mself\u001b[0m\u001b[1;33m,\u001b[0m \u001b[0margs\u001b[0m\u001b[1;33m,\u001b[0m \u001b[0mkwargs\u001b[0m\u001b[1;33m)\u001b[0m\u001b[1;33m:\u001b[0m\u001b[1;33m\u001b[0m\u001b[1;33m\u001b[0m\u001b[0m\n",
      "\u001b[1;32m~\\Anaconda3\\envs\\deeplearning\\lib\\site-packages\\tensorflow_core\\python\\eager\\function.py\u001b[0m in \u001b[0;36m_call_flat\u001b[1;34m(self, args, captured_inputs, cancellation_manager)\u001b[0m\n\u001b[0;32m   1222\u001b[0m     \u001b[1;32mif\u001b[0m \u001b[0mexecuting_eagerly\u001b[0m\u001b[1;33m:\u001b[0m\u001b[1;33m\u001b[0m\u001b[1;33m\u001b[0m\u001b[0m\n\u001b[0;32m   1223\u001b[0m       flat_outputs = forward_function.call(\n\u001b[1;32m-> 1224\u001b[1;33m           ctx, args, cancellation_manager=cancellation_manager)\n\u001b[0m\u001b[0;32m   1225\u001b[0m     \u001b[1;32melse\u001b[0m\u001b[1;33m:\u001b[0m\u001b[1;33m\u001b[0m\u001b[1;33m\u001b[0m\u001b[0m\n\u001b[0;32m   1226\u001b[0m       \u001b[0mgradient_name\u001b[0m \u001b[1;33m=\u001b[0m \u001b[0mself\u001b[0m\u001b[1;33m.\u001b[0m\u001b[0m_delayed_rewrite_functions\u001b[0m\u001b[1;33m.\u001b[0m\u001b[0mregister\u001b[0m\u001b[1;33m(\u001b[0m\u001b[1;33m)\u001b[0m\u001b[1;33m\u001b[0m\u001b[1;33m\u001b[0m\u001b[0m\n",
      "\u001b[1;32m~\\Anaconda3\\envs\\deeplearning\\lib\\site-packages\\tensorflow_core\\python\\eager\\function.py\u001b[0m in \u001b[0;36mcall\u001b[1;34m(self, ctx, args, cancellation_manager)\u001b[0m\n\u001b[0;32m    509\u001b[0m               \u001b[0minputs\u001b[0m\u001b[1;33m=\u001b[0m\u001b[0margs\u001b[0m\u001b[1;33m,\u001b[0m\u001b[1;33m\u001b[0m\u001b[1;33m\u001b[0m\u001b[0m\n\u001b[0;32m    510\u001b[0m               \u001b[0mattrs\u001b[0m\u001b[1;33m=\u001b[0m\u001b[1;33m(\u001b[0m\u001b[1;34m\"executor_type\"\u001b[0m\u001b[1;33m,\u001b[0m \u001b[0mexecutor_type\u001b[0m\u001b[1;33m,\u001b[0m \u001b[1;34m\"config_proto\"\u001b[0m\u001b[1;33m,\u001b[0m \u001b[0mconfig\u001b[0m\u001b[1;33m)\u001b[0m\u001b[1;33m,\u001b[0m\u001b[1;33m\u001b[0m\u001b[1;33m\u001b[0m\u001b[0m\n\u001b[1;32m--> 511\u001b[1;33m               ctx=ctx)\n\u001b[0m\u001b[0;32m    512\u001b[0m         \u001b[1;32melse\u001b[0m\u001b[1;33m:\u001b[0m\u001b[1;33m\u001b[0m\u001b[1;33m\u001b[0m\u001b[0m\n\u001b[0;32m    513\u001b[0m           outputs = execute.execute_with_cancellation(\n",
      "\u001b[1;32m~\\Anaconda3\\envs\\deeplearning\\lib\\site-packages\\tensorflow_core\\python\\eager\\execute.py\u001b[0m in \u001b[0;36mquick_execute\u001b[1;34m(op_name, num_outputs, inputs, attrs, ctx, name)\u001b[0m\n\u001b[0;32m     59\u001b[0m     tensors = pywrap_tensorflow.TFE_Py_Execute(ctx._handle, device_name,\n\u001b[0;32m     60\u001b[0m                                                \u001b[0mop_name\u001b[0m\u001b[1;33m,\u001b[0m \u001b[0minputs\u001b[0m\u001b[1;33m,\u001b[0m \u001b[0mattrs\u001b[0m\u001b[1;33m,\u001b[0m\u001b[1;33m\u001b[0m\u001b[1;33m\u001b[0m\u001b[0m\n\u001b[1;32m---> 61\u001b[1;33m                                                num_outputs)\n\u001b[0m\u001b[0;32m     62\u001b[0m   \u001b[1;32mexcept\u001b[0m \u001b[0mcore\u001b[0m\u001b[1;33m.\u001b[0m\u001b[0m_NotOkStatusException\u001b[0m \u001b[1;32mas\u001b[0m \u001b[0me\u001b[0m\u001b[1;33m:\u001b[0m\u001b[1;33m\u001b[0m\u001b[1;33m\u001b[0m\u001b[0m\n\u001b[0;32m     63\u001b[0m     \u001b[1;32mif\u001b[0m \u001b[0mname\u001b[0m \u001b[1;32mis\u001b[0m \u001b[1;32mnot\u001b[0m \u001b[1;32mNone\u001b[0m\u001b[1;33m:\u001b[0m\u001b[1;33m\u001b[0m\u001b[1;33m\u001b[0m\u001b[0m\n",
      "\u001b[1;31mKeyboardInterrupt\u001b[0m: "
     ]
    }
   ],
   "source": [
    "# TESTING PART NO LEARNING\n",
    "\n",
    "for i in tqdm(range(100)):\n",
    "    board = chess.Board()\n",
    "    done = False\n",
    "    while not done:\n",
    "        current_encoded_state = encode(board)\n",
    "        \n",
    "        # this is the current prediction for the current situation\n",
    "        nn_out = model_1.predict(current_encoded_state)\n",
    "        curr_legal_moves = list(board.legal_moves)\n",
    "        \n",
    "        decoded_moves = decode(nn_out[0],curr_legal_moves)\n",
    "        print(decoded_moves)\n",
    "        #Epsilon greedy policy\n",
    "        action = policy(decoded_moves,epsilon['epsilon'],board.turn)\n",
    "\n",
    "        board.push(Move.from_uci(action))\n",
    "        # calculating reward from the current board position\n",
    "        reward = calculate_reward(board)\n",
    "        \n",
    "        #this is the new state\n",
    "        new_state_encoded = encode(board)\n",
    "        new_state_legal_moves = list(board.legal_moves)\n",
    "        # we can only record or make action replay for all white moves\n",
    "        # or moves that we want to maximize on as black automatically gets better\n",
    "        # when white gets better\n",
    "        moves = moves + 1\n",
    "        \n",
    "        if board.result() != \"*\":\n",
    "            print(board.result())\n",
    "            done = True"
   ]
  },
  {
   "cell_type": "code",
   "execution_count": null,
   "metadata": {},
   "outputs": [],
   "source": []
  },
  {
   "cell_type": "code",
   "execution_count": null,
   "metadata": {},
   "outputs": [],
   "source": []
  }
 ],
 "metadata": {
  "kernelspec": {
   "display_name": "Python 3",
   "language": "python",
   "name": "python3"
  },
  "language_info": {
   "codemirror_mode": {
    "name": "ipython",
    "version": 3
   },
   "file_extension": ".py",
   "mimetype": "text/x-python",
   "name": "python",
   "nbconvert_exporter": "python",
   "pygments_lexer": "ipython3",
   "version": "3.6.9"
  }
 },
 "nbformat": 4,
 "nbformat_minor": 1
}
