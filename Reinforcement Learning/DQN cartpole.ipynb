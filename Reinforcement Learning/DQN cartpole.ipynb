{
 "cells": [
  {
   "cell_type": "code",
   "execution_count": 1,
   "metadata": {},
   "outputs": [],
   "source": [
    "import gym\n",
    "import tensorflow as tf\n",
    "import numpy as np\n",
    "from tqdm import tqdm\n",
    "from collections import deque"
   ]
  },
  {
   "cell_type": "code",
   "execution_count": 2,
   "metadata": {},
   "outputs": [],
   "source": [
    "# keras model approach\n",
    "from tensorflow.keras import Model,Sequential\n",
    "from tensorflow.keras.layers import Conv2D,MaxPooling2D,Flatten,BatchNormalization,Dense, Input\n",
    "from tensorflow.keras.activations import relu"
   ]
  },
  {
   "cell_type": "code",
   "execution_count": 3,
   "metadata": {},
   "outputs": [],
   "source": [
    "# ADDING THE CODE SO THAT TENSORFLOW DOES NOT EAT THE WHOLE GPU MEMORY\n",
    "physical_devices = tf.config.experimental.list_physical_devices('GPU')\n",
    "tf.config.experimental.set_memory_growth(physical_devices[0], True)\n",
    "tf.keras.backend.set_floatx('float32')"
   ]
  },
  {
   "cell_type": "code",
   "execution_count": 4,
   "metadata": {},
   "outputs": [
    {
     "data": {
      "text/plain": [
       "Discrete(2)"
      ]
     },
     "execution_count": 4,
     "metadata": {},
     "output_type": "execute_result"
    }
   ],
   "source": [
    "env = gym.make('CartPole-v1')\n",
    "env.action_space"
   ]
  },
  {
   "cell_type": "code",
   "execution_count": 5,
   "metadata": {},
   "outputs": [],
   "source": [
    "adam = tf.keras.optimizers.Adam(learning_rate = 0.001)"
   ]
  },
  {
   "cell_type": "code",
   "execution_count": 6,
   "metadata": {
    "scrolled": true
   },
   "outputs": [
    {
     "name": "stdout",
     "output_type": "stream",
     "text": [
      "Model: \"sequential\"\n",
      "_________________________________________________________________\n",
      "Layer (type)                 Output Shape              Param #   \n",
      "=================================================================\n",
      "dense (Dense)                (None, 24)                120       \n",
      "_________________________________________________________________\n",
      "dense_1 (Dense)              (None, 24)                600       \n",
      "_________________________________________________________________\n",
      "dense_2 (Dense)              (None, 2)                 50        \n",
      "=================================================================\n",
      "Total params: 770\n",
      "Trainable params: 770\n",
      "Non-trainable params: 0\n",
      "_________________________________________________________________\n",
      "None\n",
      "Model: \"sequential_1\"\n",
      "_________________________________________________________________\n",
      "Layer (type)                 Output Shape              Param #   \n",
      "=================================================================\n",
      "dense_3 (Dense)              (None, 24)                120       \n",
      "_________________________________________________________________\n",
      "dense_4 (Dense)              (None, 24)                600       \n",
      "_________________________________________________________________\n",
      "dense_5 (Dense)              (None, 2)                 50        \n",
      "=================================================================\n",
      "Total params: 770\n",
      "Trainable params: 770\n",
      "Non-trainable params: 0\n",
      "_________________________________________________________________\n",
      "None\n"
     ]
    }
   ],
   "source": [
    "def model_keras():\n",
    "    \n",
    "    inputs = Input(shape=(4,))\n",
    "    \n",
    "    x = Dense(100,activation='relu',kernel_initializer=\"glorot_uniform\")(inputs)\n",
    "    x = BatchNormalization()(x)\n",
    "    x = Dense(100,activation='relu',kernel_initializer=\"glorot_uniform\")(x)\n",
    "    x = BatchNormalization()(x)\n",
    "    x = Dense(100,activation='relu',kernel_initializer=\"glorot_uniform\")(x)\n",
    "    x = BatchNormalization()(x)\n",
    "    x = Dense(100,activation='relu',kernel_initializer=\"glorot_uniform\")(x)\n",
    "    x = BatchNormalization()(x)\n",
    "    output = Dense(2,activation='linear',kernel_initializer=\"glorot_uniform\")(x)\n",
    "    model = Model(inputs=inputs, outputs=output, name=\"RL_Value_Function\")\n",
    "    \n",
    "    print(model.summary())\n",
    "    \n",
    "    model.compile(optimizer=adam,loss='mean_squared_error',metrics=['mean_squared_error'])\n",
    "    \n",
    "    return model\n",
    "def model_keras():    \n",
    "    model = Sequential()\n",
    "    model.add(Dense(24, input_dim=4, activation='relu',\n",
    "                    kernel_initializer='he_uniform'))\n",
    "    model.add(Dense(24, activation='relu',\n",
    "                    kernel_initializer='he_uniform'))\n",
    "    model.add(Dense(2, activation='linear',\n",
    "                    kernel_initializer='he_uniform'))\n",
    "    print(model.summary())\n",
    "    model.compile(loss='mse', optimizer='adam')\n",
    "    return model\n",
    "# model 2 is the target model\n",
    "model_1 = model_keras()\n",
    "model_2 = model_keras()"
   ]
  },
  {
   "cell_type": "code",
   "execution_count": null,
   "metadata": {},
   "outputs": [],
   "source": []
  },
  {
   "cell_type": "code",
   "execution_count": 7,
   "metadata": {},
   "outputs": [],
   "source": [
    "def custom_loss(y_true,y_pred):\n",
    "    return tf.keras.losses.mean_squared_error(y_true,y_pred)"
   ]
  },
  {
   "cell_type": "code",
   "execution_count": null,
   "metadata": {},
   "outputs": [],
   "source": []
  },
  {
   "cell_type": "code",
   "execution_count": 8,
   "metadata": {},
   "outputs": [],
   "source": [
    "# lets build some memory into the model to perform decorrelated batch updates\n",
    "# this is TD learning\n",
    "\n",
    "# so apparantly the NN has to be adjusted only according to the action taken by it\n",
    "# for example if action 2 is taken then only the weights for action 2 should be changed\n",
    "# for this reason we should only update the q_2 vector with regarding the chosen action\n",
    "# rewards will also be added to that action only\n",
    "# q_2 is what we thought the value of the state will be after doing action\n",
    "# we also add the reward and make this the target for the NN\n",
    "\n",
    "replay_batch = deque(maxlen = 3000)\n",
    "\n",
    "warmup = 10 #will start training after these many episodes have passed\n",
    "\n",
    "# to balance exploration\n",
    "epsilon = {\n",
    "\"epsilon\" : 1.0,\n",
    "\"epsilon_decay\": 0.999,\n",
    "\"epsilon_min\":0.01,\n",
    "}"
   ]
  },
  {
   "cell_type": "code",
   "execution_count": 9,
   "metadata": {},
   "outputs": [],
   "source": [
    "import random\n",
    "random.seed(2020)\n",
    "\n",
    "#@tf.function\n",
    "def batch_train(model_1,model_2,gamma,batch_size,epsilon):\n",
    "    \n",
    "    #decaying the exploration\n",
    "    if epsilon['epsilon'] > epsilon['epsilon_min']:\n",
    "         epsilon['epsilon'] =  epsilon['epsilon'] * epsilon['epsilon_decay']\n",
    "   \n",
    "    batch = random.sample(replay_batch,batch_size)\n",
    "    \n",
    "    batch_reward = []\n",
    "    batch_action = []\n",
    "    batch_done = []\n",
    "    \n",
    "    batch_current_state = np.zeros((batch_size, 4))\n",
    "    batch_next_state = np.zeros((batch_size, 4))\n",
    "\n",
    "    for i in range(batch_size):\n",
    "        batch_reward.append(batch[i][2])\n",
    "        batch_action.append(batch[i][1])\n",
    "        batch_current_state[i] = batch[i][0]\n",
    "        batch_next_state[i] = batch[i][3]\n",
    "        batch_done.append(batch[i][4])\n",
    "    #lets calculate the next state value as the current value will be calculated in \n",
    "    # in gradient tape\n",
    "    \n",
    "    next_q = model_2.predict(batch_next_state)\n",
    "    \n",
    "    max_q = []\n",
    "    for i in next_q:\n",
    "        max_q.append(max(i))\n",
    "    max_q = np.array(max_q,dtype = 'float32')\n",
    "    \n",
    "    target = batch_reward + gamma*max_q # this is the Q learning Target\n",
    "    \n",
    "    with tf.GradientTape() as tape:\n",
    "        # logits is the forward pass\n",
    "        logits = model_1(batch_current_state, training=True)\n",
    "        \n",
    "        q_target = np.array(logits)\n",
    "        \n",
    "        # VERY IMPORTANT NOTE, IF THE EPISODE ENDS THE DONE VALUE BECOMES TRUE\n",
    "        # IT IS VERY IMPORTANT THAT THE NN UPDATES TOWARDS THIS TRUE VALUE RATHER THAN\n",
    "        # ITS OWN THINKING VALUE (r + gamma*max(action)) THAT WE USE FOR ALL\n",
    "        # NON TERMINAL REWARDS \n",
    "        # THIS MAKES OR BREAKS THE NETWORK VERY VERY IMPORTANT\n",
    "        for i in range(batch_size):\n",
    "            q_target[i][batch_action[i]] = target[i]\n",
    "            if batch_done[i]:\n",
    "                q_target[i][batch_action[i]] = batch_reward[i]\n",
    "        \n",
    "        # calculating the loss\n",
    "        loss_value = custom_loss(q_target,logits)\n",
    "    \n",
    "    #we retrieve the gradients\n",
    "    grads = tape.gradient(loss_value, model_1.trainable_weights)\n",
    "    \n",
    "    #THIS IS ONE STEP OF GRAD DESCENT (Minimizes the loss)\n",
    "    adam.apply_gradients(zip(grads, model_1.trainable_weights))\n",
    "\n",
    "def policy(q_vals,eps):\n",
    "    # lets implement a policy which decays\n",
    "    if np.random.rand() <= eps:  \n",
    "        return random.randrange(2)\n",
    "    else:\n",
    "        action = np.argmax(q_vals[0])\n",
    "        return action\n",
    "def update_target_network():\n",
    "    model_2.set_weights(model_1.get_weights())"
   ]
  },
  {
   "cell_type": "code",
   "execution_count": null,
   "metadata": {},
   "outputs": [],
   "source": []
  },
  {
   "cell_type": "code",
   "execution_count": 10,
   "metadata": {
    "scrolled": true
   },
   "outputs": [
    {
     "name": "stderr",
     "output_type": "stream",
     "text": [
      "\r",
      "  0%|          | 0/150 [00:00<?, ?it/s]"
     ]
    },
    {
     "name": "stdout",
     "output_type": "stream",
     "text": [
      "WARNING:tensorflow:Layer dense is casting an input tensor from dtype float64 to the layer's dtype of float32, which is new behavior in TensorFlow 2.  The layer has dtype float32 because it's dtype defaults to floatx.\n",
      "\n",
      "If you intended to run this layer in float32, you can safely ignore this warning. If in doubt, this warning is likely only an issue if you are porting a TensorFlow 1.X model to TensorFlow 2.\n",
      "\n",
      "To change all layers to have dtype float64 by default, call `tf.keras.backend.set_floatx('float64')`. To change just this layer, pass dtype='float64' to the layer constructor. If you are the author of this layer, you can disable autocasting by passing autocast=False to the base Layer constructor.\n",
      "\n"
     ]
    },
    {
     "name": "stderr",
     "output_type": "stream",
     "text": [
      "  4%|▍         | 6/150 [00:00<00:23,  6.00it/s]"
     ]
    },
    {
     "name": "stdout",
     "output_type": "stream",
     "text": [
      "21.0\n",
      "21.0\n",
      "35.0\n",
      "15.0\n",
      "24.0\n",
      "17.0\n",
      "12.0\n",
      "13.0\n",
      "25.0\n",
      "24.0\n",
      "15.0\n"
     ]
    },
    {
     "name": "stderr",
     "output_type": "stream",
     "text": [
      "\r",
      "  8%|▊         | 12/150 [00:01<00:20,  6.65it/s]"
     ]
    },
    {
     "name": "stdout",
     "output_type": "stream",
     "text": [
      "16.0\n",
      "33.0\n"
     ]
    },
    {
     "name": "stderr",
     "output_type": "stream",
     "text": [
      "\r",
      "  9%|▉         | 14/150 [00:02<00:41,  3.30it/s]"
     ]
    },
    {
     "name": "stdout",
     "output_type": "stream",
     "text": [
      "11.0\n"
     ]
    },
    {
     "name": "stderr",
     "output_type": "stream",
     "text": [
      "\r",
      " 10%|█         | 15/150 [00:02<00:51,  2.60it/s]"
     ]
    },
    {
     "name": "stdout",
     "output_type": "stream",
     "text": [
      "21.0\n"
     ]
    },
    {
     "name": "stderr",
     "output_type": "stream",
     "text": [
      "\r",
      " 11%|█         | 16/150 [00:03<00:53,  2.50it/s]"
     ]
    },
    {
     "name": "stdout",
     "output_type": "stream",
     "text": [
      "11.0\n"
     ]
    },
    {
     "name": "stderr",
     "output_type": "stream",
     "text": [
      "\r",
      " 11%|█▏        | 17/150 [00:04<01:08,  1.95it/s]"
     ]
    },
    {
     "name": "stdout",
     "output_type": "stream",
     "text": [
      "28.0\n"
     ]
    },
    {
     "name": "stderr",
     "output_type": "stream",
     "text": [
      "\r",
      " 12%|█▏        | 18/150 [00:05<01:42,  1.28it/s]"
     ]
    },
    {
     "name": "stdout",
     "output_type": "stream",
     "text": [
      "46.0\n"
     ]
    },
    {
     "name": "stderr",
     "output_type": "stream",
     "text": [
      "\r",
      " 13%|█▎        | 19/150 [00:06<01:30,  1.44it/s]"
     ]
    },
    {
     "name": "stdout",
     "output_type": "stream",
     "text": [
      "17.0\n"
     ]
    },
    {
     "name": "stderr",
     "output_type": "stream",
     "text": [
      "\r",
      " 13%|█▎        | 20/150 [00:06<01:15,  1.72it/s]"
     ]
    },
    {
     "name": "stdout",
     "output_type": "stream",
     "text": [
      "11.0\n"
     ]
    },
    {
     "name": "stderr",
     "output_type": "stream",
     "text": [
      "\r",
      " 14%|█▍        | 21/150 [00:06<01:07,  1.90it/s]"
     ]
    },
    {
     "name": "stdout",
     "output_type": "stream",
     "text": [
      "14.0\n"
     ]
    },
    {
     "name": "stderr",
     "output_type": "stream",
     "text": [
      "\r",
      " 15%|█▍        | 22/150 [00:07<01:17,  1.66it/s]"
     ]
    },
    {
     "name": "stdout",
     "output_type": "stream",
     "text": [
      "20.0\n"
     ]
    },
    {
     "name": "stderr",
     "output_type": "stream",
     "text": [
      "\r",
      " 15%|█▌        | 23/150 [00:07<01:09,  1.83it/s]"
     ]
    },
    {
     "name": "stdout",
     "output_type": "stream",
     "text": [
      "14.0\n"
     ]
    },
    {
     "name": "stderr",
     "output_type": "stream",
     "text": [
      "\r",
      " 16%|█▌        | 24/150 [00:08<01:00,  2.07it/s]"
     ]
    },
    {
     "name": "stdout",
     "output_type": "stream",
     "text": [
      "12.0\n"
     ]
    },
    {
     "name": "stderr",
     "output_type": "stream",
     "text": [
      "\r",
      " 17%|█▋        | 25/150 [00:09<01:12,  1.71it/s]"
     ]
    },
    {
     "name": "stdout",
     "output_type": "stream",
     "text": [
      "29.0\n"
     ]
    },
    {
     "name": "stderr",
     "output_type": "stream",
     "text": [
      "\r",
      " 17%|█▋        | 26/150 [00:09<01:12,  1.71it/s]"
     ]
    },
    {
     "name": "stdout",
     "output_type": "stream",
     "text": [
      "21.0\n"
     ]
    },
    {
     "name": "stderr",
     "output_type": "stream",
     "text": [
      "\r",
      " 18%|█▊        | 27/150 [00:10<01:10,  1.75it/s]"
     ]
    },
    {
     "name": "stdout",
     "output_type": "stream",
     "text": [
      "11.0\n"
     ]
    },
    {
     "name": "stderr",
     "output_type": "stream",
     "text": [
      "\r",
      " 19%|█▊        | 28/150 [00:10<01:03,  1.93it/s]"
     ]
    },
    {
     "name": "stdout",
     "output_type": "stream",
     "text": [
      "14.0\n"
     ]
    },
    {
     "name": "stderr",
     "output_type": "stream",
     "text": [
      "\r",
      " 19%|█▉        | 29/150 [00:10<00:54,  2.24it/s]"
     ]
    },
    {
     "name": "stdout",
     "output_type": "stream",
     "text": [
      "9.0\n"
     ]
    },
    {
     "name": "stderr",
     "output_type": "stream",
     "text": [
      "\r",
      " 20%|██        | 30/150 [00:11<00:48,  2.47it/s]"
     ]
    },
    {
     "name": "stdout",
     "output_type": "stream",
     "text": [
      "11.0\n"
     ]
    },
    {
     "name": "stderr",
     "output_type": "stream",
     "text": [
      "\r",
      " 21%|██        | 31/150 [00:11<00:53,  2.20it/s]"
     ]
    },
    {
     "name": "stdout",
     "output_type": "stream",
     "text": [
      "20.0\n"
     ]
    },
    {
     "name": "stderr",
     "output_type": "stream",
     "text": [
      "\r",
      " 21%|██▏       | 32/150 [00:12<00:58,  2.03it/s]"
     ]
    },
    {
     "name": "stdout",
     "output_type": "stream",
     "text": [
      "21.0\n"
     ]
    },
    {
     "name": "stderr",
     "output_type": "stream",
     "text": [
      "\r",
      " 22%|██▏       | 33/150 [00:12<00:51,  2.28it/s]"
     ]
    },
    {
     "name": "stdout",
     "output_type": "stream",
     "text": [
      "10.0\n"
     ]
    },
    {
     "name": "stderr",
     "output_type": "stream",
     "text": [
      "\r",
      " 23%|██▎       | 34/150 [00:13<01:00,  1.93it/s]"
     ]
    },
    {
     "name": "stdout",
     "output_type": "stream",
     "text": [
      "15.0\n"
     ]
    },
    {
     "name": "stderr",
     "output_type": "stream",
     "text": [
      "\r",
      " 23%|██▎       | 35/150 [00:13<00:55,  2.06it/s]"
     ]
    },
    {
     "name": "stdout",
     "output_type": "stream",
     "text": [
      "15.0\n"
     ]
    },
    {
     "name": "stderr",
     "output_type": "stream",
     "text": [
      "\r",
      " 24%|██▍       | 36/150 [00:14<00:50,  2.25it/s]"
     ]
    },
    {
     "name": "stdout",
     "output_type": "stream",
     "text": [
      "12.0\n"
     ]
    },
    {
     "name": "stderr",
     "output_type": "stream",
     "text": [
      "\r",
      " 25%|██▍       | 37/150 [00:14<00:49,  2.30it/s]"
     ]
    },
    {
     "name": "stdout",
     "output_type": "stream",
     "text": [
      "15.0\n"
     ]
    },
    {
     "name": "stderr",
     "output_type": "stream",
     "text": [
      "\r",
      " 25%|██▌       | 38/150 [00:15<00:53,  2.10it/s]"
     ]
    },
    {
     "name": "stdout",
     "output_type": "stream",
     "text": [
      "21.0\n"
     ]
    },
    {
     "name": "stderr",
     "output_type": "stream",
     "text": [
      "\r",
      " 26%|██▌       | 39/150 [00:15<00:47,  2.36it/s]"
     ]
    },
    {
     "name": "stdout",
     "output_type": "stream",
     "text": [
      "11.0\n"
     ]
    },
    {
     "name": "stderr",
     "output_type": "stream",
     "text": [
      "\r",
      " 27%|██▋       | 40/150 [00:15<00:43,  2.54it/s]"
     ]
    },
    {
     "name": "stdout",
     "output_type": "stream",
     "text": [
      "12.0\n"
     ]
    },
    {
     "name": "stderr",
     "output_type": "stream",
     "text": [
      "\r",
      " 27%|██▋       | 41/150 [00:15<00:37,  2.94it/s]"
     ]
    },
    {
     "name": "stdout",
     "output_type": "stream",
     "text": [
      "8.0\n"
     ]
    },
    {
     "name": "stderr",
     "output_type": "stream",
     "text": [
      "\r",
      " 28%|██▊       | 42/150 [00:16<00:32,  3.29it/s]"
     ]
    },
    {
     "name": "stdout",
     "output_type": "stream",
     "text": [
      "8.0\n"
     ]
    },
    {
     "name": "stderr",
     "output_type": "stream",
     "text": [
      "\r",
      " 29%|██▊       | 43/150 [00:16<00:35,  3.04it/s]"
     ]
    },
    {
     "name": "stdout",
     "output_type": "stream",
     "text": [
      "14.0\n"
     ]
    },
    {
     "name": "stderr",
     "output_type": "stream",
     "text": [
      "\r",
      " 29%|██▉       | 44/150 [00:17<00:53,  1.98it/s]"
     ]
    },
    {
     "name": "stdout",
     "output_type": "stream",
     "text": [
      "21.0\n"
     ]
    },
    {
     "name": "stderr",
     "output_type": "stream",
     "text": [
      "\r",
      " 30%|███       | 45/150 [00:17<00:52,  2.00it/s]"
     ]
    },
    {
     "name": "stdout",
     "output_type": "stream",
     "text": [
      "18.0\n"
     ]
    },
    {
     "name": "stderr",
     "output_type": "stream",
     "text": [
      "\r",
      " 31%|███       | 46/150 [00:18<00:44,  2.36it/s]"
     ]
    },
    {
     "name": "stdout",
     "output_type": "stream",
     "text": [
      "9.0\n"
     ]
    },
    {
     "name": "stderr",
     "output_type": "stream",
     "text": [
      "\r",
      " 31%|███▏      | 47/150 [00:18<00:48,  2.11it/s]"
     ]
    },
    {
     "name": "stdout",
     "output_type": "stream",
     "text": [
      "22.0\n"
     ]
    },
    {
     "name": "stderr",
     "output_type": "stream",
     "text": [
      "\r",
      " 32%|███▏      | 48/150 [00:19<00:44,  2.27it/s]"
     ]
    },
    {
     "name": "stdout",
     "output_type": "stream",
     "text": [
      "13.0\n"
     ]
    },
    {
     "name": "stderr",
     "output_type": "stream",
     "text": [
      "\r",
      " 33%|███▎      | 49/150 [00:19<00:38,  2.62it/s]"
     ]
    },
    {
     "name": "stdout",
     "output_type": "stream",
     "text": [
      "9.0\n"
     ]
    },
    {
     "name": "stderr",
     "output_type": "stream",
     "text": [
      "\r",
      " 33%|███▎      | 50/150 [00:19<00:37,  2.68it/s]"
     ]
    },
    {
     "name": "stdout",
     "output_type": "stream",
     "text": [
      "13.0\n"
     ]
    },
    {
     "name": "stderr",
     "output_type": "stream",
     "text": [
      "\r",
      " 34%|███▍      | 51/150 [00:19<00:32,  3.07it/s]"
     ]
    },
    {
     "name": "stdout",
     "output_type": "stream",
     "text": [
      "8.0\n"
     ]
    },
    {
     "name": "stderr",
     "output_type": "stream",
     "text": [
      "\r",
      " 35%|███▍      | 52/150 [00:20<00:31,  3.07it/s]"
     ]
    },
    {
     "name": "stdout",
     "output_type": "stream",
     "text": [
      "12.0\n"
     ]
    },
    {
     "name": "stderr",
     "output_type": "stream",
     "text": [
      "\r",
      " 35%|███▌      | 53/150 [00:20<00:35,  2.77it/s]"
     ]
    },
    {
     "name": "stdout",
     "output_type": "stream",
     "text": [
      "16.0\n"
     ]
    },
    {
     "name": "stderr",
     "output_type": "stream",
     "text": [
      "\r",
      " 36%|███▌      | 54/150 [00:21<00:37,  2.59it/s]"
     ]
    },
    {
     "name": "stdout",
     "output_type": "stream",
     "text": [
      "16.0\n"
     ]
    },
    {
     "name": "stderr",
     "output_type": "stream",
     "text": [
      "\r",
      " 37%|███▋      | 55/150 [00:21<00:35,  2.65it/s]"
     ]
    },
    {
     "name": "stdout",
     "output_type": "stream",
     "text": [
      "13.0\n"
     ]
    },
    {
     "name": "stderr",
     "output_type": "stream",
     "text": [
      "\r",
      " 37%|███▋      | 56/150 [00:22<00:50,  1.86it/s]"
     ]
    },
    {
     "name": "stdout",
     "output_type": "stream",
     "text": [
      "18.0\n"
     ]
    },
    {
     "name": "stderr",
     "output_type": "stream",
     "text": [
      "\r",
      " 38%|███▊      | 57/150 [00:22<00:42,  2.18it/s]"
     ]
    },
    {
     "name": "stdout",
     "output_type": "stream",
     "text": [
      "10.0\n"
     ]
    },
    {
     "name": "stderr",
     "output_type": "stream",
     "text": [
      "\r",
      " 39%|███▊      | 58/150 [00:22<00:37,  2.47it/s]"
     ]
    },
    {
     "name": "stdout",
     "output_type": "stream",
     "text": [
      "10.0\n"
     ]
    },
    {
     "name": "stderr",
     "output_type": "stream",
     "text": [
      "\r",
      " 39%|███▉      | 59/150 [00:23<00:33,  2.72it/s]"
     ]
    },
    {
     "name": "stdout",
     "output_type": "stream",
     "text": [
      "10.0\n"
     ]
    },
    {
     "name": "stderr",
     "output_type": "stream",
     "text": [
      "\r",
      " 40%|████      | 60/150 [00:23<00:33,  2.67it/s]"
     ]
    },
    {
     "name": "stdout",
     "output_type": "stream",
     "text": [
      "13.0\n"
     ]
    },
    {
     "name": "stderr",
     "output_type": "stream",
     "text": [
      "\r",
      " 41%|████      | 61/150 [00:24<00:32,  2.71it/s]"
     ]
    },
    {
     "name": "stdout",
     "output_type": "stream",
     "text": [
      "13.0\n"
     ]
    },
    {
     "name": "stderr",
     "output_type": "stream",
     "text": [
      "\r",
      " 41%|████▏     | 62/150 [00:24<00:33,  2.63it/s]"
     ]
    },
    {
     "name": "stdout",
     "output_type": "stream",
     "text": [
      "15.0\n"
     ]
    },
    {
     "name": "stderr",
     "output_type": "stream",
     "text": [
      "\r",
      " 42%|████▏     | 63/150 [00:24<00:34,  2.51it/s]"
     ]
    },
    {
     "name": "stdout",
     "output_type": "stream",
     "text": [
      "16.0\n"
     ]
    },
    {
     "name": "stderr",
     "output_type": "stream",
     "text": [
      "\r",
      " 43%|████▎     | 64/150 [00:25<00:32,  2.66it/s]"
     ]
    },
    {
     "name": "stdout",
     "output_type": "stream",
     "text": [
      "12.0\n"
     ]
    },
    {
     "name": "stderr",
     "output_type": "stream",
     "text": [
      "\r",
      " 43%|████▎     | 65/150 [00:25<00:32,  2.64it/s]"
     ]
    },
    {
     "name": "stdout",
     "output_type": "stream",
     "text": [
      "14.0\n"
     ]
    },
    {
     "name": "stderr",
     "output_type": "stream",
     "text": [
      "\r",
      " 44%|████▍     | 66/150 [00:25<00:30,  2.76it/s]"
     ]
    },
    {
     "name": "stdout",
     "output_type": "stream",
     "text": [
      "12.0\n"
     ]
    },
    {
     "name": "stderr",
     "output_type": "stream",
     "text": [
      "\r",
      " 45%|████▍     | 67/150 [00:26<00:27,  3.06it/s]"
     ]
    },
    {
     "name": "stdout",
     "output_type": "stream",
     "text": [
      "9.0\n"
     ]
    },
    {
     "name": "stderr",
     "output_type": "stream",
     "text": [
      "\r",
      " 45%|████▌     | 68/150 [00:26<00:26,  3.05it/s]"
     ]
    },
    {
     "name": "stdout",
     "output_type": "stream",
     "text": [
      "12.0\n"
     ]
    },
    {
     "name": "stderr",
     "output_type": "stream",
     "text": [
      "\r",
      " 46%|████▌     | 69/150 [00:26<00:28,  2.88it/s]"
     ]
    },
    {
     "name": "stdout",
     "output_type": "stream",
     "text": [
      "14.0\n"
     ]
    },
    {
     "name": "stderr",
     "output_type": "stream",
     "text": [
      "\r",
      " 47%|████▋     | 70/150 [00:27<00:27,  2.89it/s]"
     ]
    },
    {
     "name": "stdout",
     "output_type": "stream",
     "text": [
      "12.0\n"
     ]
    },
    {
     "name": "stderr",
     "output_type": "stream",
     "text": [
      "\r",
      " 47%|████▋     | 71/150 [00:27<00:30,  2.62it/s]"
     ]
    },
    {
     "name": "stdout",
     "output_type": "stream",
     "text": [
      "16.0\n"
     ]
    },
    {
     "name": "stderr",
     "output_type": "stream",
     "text": [
      "\r",
      " 48%|████▊     | 72/150 [00:30<01:24,  1.09s/it]"
     ]
    },
    {
     "name": "stdout",
     "output_type": "stream",
     "text": [
      "81.0\n"
     ]
    },
    {
     "name": "stderr",
     "output_type": "stream",
     "text": [
      "\r",
      " 49%|████▊     | 73/150 [00:32<01:39,  1.29s/it]"
     ]
    },
    {
     "name": "stdout",
     "output_type": "stream",
     "text": [
      "65.0\n"
     ]
    },
    {
     "name": "stderr",
     "output_type": "stream",
     "text": [
      "\r",
      " 49%|████▉     | 74/150 [00:35<02:30,  1.98s/it]"
     ]
    },
    {
     "name": "stdout",
     "output_type": "stream",
     "text": [
      "110.0\n"
     ]
    },
    {
     "name": "stderr",
     "output_type": "stream",
     "text": [
      "\r",
      " 50%|█████     | 75/150 [00:37<02:17,  1.83s/it]"
     ]
    },
    {
     "name": "stdout",
     "output_type": "stream",
     "text": [
      "55.0\n"
     ]
    },
    {
     "name": "stderr",
     "output_type": "stream",
     "text": [
      "\r",
      " 51%|█████     | 76/150 [00:38<01:58,  1.60s/it]"
     ]
    },
    {
     "name": "stdout",
     "output_type": "stream",
     "text": [
      "39.0\n"
     ]
    },
    {
     "name": "stderr",
     "output_type": "stream",
     "text": [
      "\r",
      " 51%|█████▏    | 77/150 [00:39<01:57,  1.62s/it]"
     ]
    },
    {
     "name": "stdout",
     "output_type": "stream",
     "text": [
      "59.0\n"
     ]
    },
    {
     "name": "stderr",
     "output_type": "stream",
     "text": [
      "\r",
      " 52%|█████▏    | 78/150 [00:41<01:58,  1.65s/it]"
     ]
    },
    {
     "name": "stdout",
     "output_type": "stream",
     "text": [
      "64.0\n"
     ]
    },
    {
     "name": "stderr",
     "output_type": "stream",
     "text": [
      "\r",
      " 53%|█████▎    | 79/150 [00:42<01:48,  1.53s/it]"
     ]
    },
    {
     "name": "stdout",
     "output_type": "stream",
     "text": [
      "46.0\n"
     ]
    },
    {
     "name": "stderr",
     "output_type": "stream",
     "text": [
      "\r",
      " 53%|█████▎    | 80/150 [00:44<01:40,  1.43s/it]"
     ]
    },
    {
     "name": "stdout",
     "output_type": "stream",
     "text": [
      "44.0\n"
     ]
    },
    {
     "name": "stderr",
     "output_type": "stream",
     "text": [
      "\r",
      " 54%|█████▍    | 81/150 [00:45<01:41,  1.46s/it]"
     ]
    },
    {
     "name": "stdout",
     "output_type": "stream",
     "text": [
      "28.0\n"
     ]
    },
    {
     "name": "stderr",
     "output_type": "stream",
     "text": [
      "\r",
      " 55%|█████▍    | 82/150 [00:46<01:32,  1.37s/it]"
     ]
    },
    {
     "name": "stdout",
     "output_type": "stream",
     "text": [
      "42.0\n"
     ]
    },
    {
     "name": "stderr",
     "output_type": "stream",
     "text": [
      "\r",
      " 55%|█████▌    | 83/150 [00:47<01:27,  1.31s/it]"
     ]
    },
    {
     "name": "stdout",
     "output_type": "stream",
     "text": [
      "43.0\n"
     ]
    },
    {
     "name": "stderr",
     "output_type": "stream",
     "text": [
      "\r",
      " 56%|█████▌    | 84/150 [00:50<01:55,  1.75s/it]"
     ]
    },
    {
     "name": "stdout",
     "output_type": "stream",
     "text": [
      "101.0\n"
     ]
    },
    {
     "name": "stderr",
     "output_type": "stream",
     "text": [
      "\r",
      " 57%|█████▋    | 85/150 [00:51<01:36,  1.48s/it]"
     ]
    },
    {
     "name": "stdout",
     "output_type": "stream",
     "text": [
      "31.0\n"
     ]
    },
    {
     "name": "stderr",
     "output_type": "stream",
     "text": [
      "\r",
      " 57%|█████▋    | 86/150 [00:53<01:38,  1.55s/it]"
     ]
    },
    {
     "name": "stdout",
     "output_type": "stream",
     "text": [
      "64.0\n"
     ]
    },
    {
     "name": "stderr",
     "output_type": "stream",
     "text": [
      "\r",
      " 58%|█████▊    | 87/150 [00:57<02:19,  2.21s/it]"
     ]
    },
    {
     "name": "stdout",
     "output_type": "stream",
     "text": [
      "97.0\n"
     ]
    },
    {
     "name": "stderr",
     "output_type": "stream",
     "text": [
      "\r",
      " 59%|█████▊    | 88/150 [00:58<02:01,  1.96s/it]"
     ]
    },
    {
     "name": "stdout",
     "output_type": "stream",
     "text": [
      "49.0\n"
     ]
    },
    {
     "name": "stderr",
     "output_type": "stream",
     "text": [
      "\r",
      " 59%|█████▉    | 89/150 [00:59<01:43,  1.70s/it]"
     ]
    },
    {
     "name": "stdout",
     "output_type": "stream",
     "text": [
      "38.0\n"
     ]
    },
    {
     "name": "stderr",
     "output_type": "stream",
     "text": [
      "\r",
      " 60%|██████    | 90/150 [01:00<01:32,  1.54s/it]"
     ]
    },
    {
     "name": "stdout",
     "output_type": "stream",
     "text": [
      "43.0\n"
     ]
    },
    {
     "name": "stderr",
     "output_type": "stream",
     "text": [
      "\r",
      " 61%|██████    | 91/150 [01:01<01:22,  1.39s/it]"
     ]
    },
    {
     "name": "stdout",
     "output_type": "stream",
     "text": [
      "38.0\n"
     ]
    },
    {
     "name": "stderr",
     "output_type": "stream",
     "text": [
      "\r",
      " 61%|██████▏   | 92/150 [01:02<01:17,  1.33s/it]"
     ]
    },
    {
     "name": "stdout",
     "output_type": "stream",
     "text": [
      "43.0\n"
     ]
    },
    {
     "name": "stderr",
     "output_type": "stream",
     "text": [
      "\r",
      " 62%|██████▏   | 93/150 [01:05<01:30,  1.58s/it]"
     ]
    },
    {
     "name": "stdout",
     "output_type": "stream",
     "text": [
      "80.0\n"
     ]
    },
    {
     "name": "stderr",
     "output_type": "stream",
     "text": [
      "\r",
      " 63%|██████▎   | 94/150 [01:06<01:23,  1.49s/it]"
     ]
    },
    {
     "name": "stdout",
     "output_type": "stream",
     "text": [
      "47.0\n"
     ]
    },
    {
     "name": "stderr",
     "output_type": "stream",
     "text": [
      "\r",
      " 63%|██████▎   | 95/150 [01:07<01:15,  1.38s/it]"
     ]
    },
    {
     "name": "stdout",
     "output_type": "stream",
     "text": [
      "40.0\n"
     ]
    },
    {
     "name": "stderr",
     "output_type": "stream",
     "text": [
      "\r",
      " 64%|██████▍   | 96/150 [01:08<01:13,  1.37s/it]"
     ]
    },
    {
     "name": "stdout",
     "output_type": "stream",
     "text": [
      "48.0\n"
     ]
    },
    {
     "name": "stderr",
     "output_type": "stream",
     "text": [
      "\r",
      " 65%|██████▍   | 97/150 [01:11<01:33,  1.76s/it]"
     ]
    },
    {
     "name": "stdout",
     "output_type": "stream",
     "text": [
      "52.0\n"
     ]
    },
    {
     "name": "stderr",
     "output_type": "stream",
     "text": [
      "\r",
      " 65%|██████▌   | 98/150 [01:16<02:21,  2.72s/it]"
     ]
    },
    {
     "name": "stdout",
     "output_type": "stream",
     "text": [
      "177.0\n"
     ]
    },
    {
     "name": "stderr",
     "output_type": "stream",
     "text": [
      "\r",
      " 66%|██████▌   | 99/150 [01:18<02:06,  2.48s/it]"
     ]
    },
    {
     "name": "stdout",
     "output_type": "stream",
     "text": [
      "71.0\n"
     ]
    },
    {
     "name": "stderr",
     "output_type": "stream",
     "text": [
      "\r",
      " 67%|██████▋   | 100/150 [01:24<03:02,  3.65s/it]"
     ]
    },
    {
     "name": "stdout",
     "output_type": "stream",
     "text": [
      "235.0\n"
     ]
    },
    {
     "name": "stderr",
     "output_type": "stream",
     "text": [
      "\r",
      " 67%|██████▋   | 101/150 [01:28<02:57,  3.62s/it]"
     ]
    },
    {
     "name": "stdout",
     "output_type": "stream",
     "text": [
      "75.0\n"
     ]
    },
    {
     "name": "stderr",
     "output_type": "stream",
     "text": [
      "\r",
      " 68%|██████▊   | 102/150 [01:32<02:58,  3.72s/it]"
     ]
    },
    {
     "name": "stdout",
     "output_type": "stream",
     "text": [
      "143.0\n"
     ]
    },
    {
     "name": "stderr",
     "output_type": "stream",
     "text": [
      "\r",
      " 69%|██████▊   | 103/150 [01:34<02:30,  3.21s/it]"
     ]
    },
    {
     "name": "stdout",
     "output_type": "stream",
     "text": [
      "72.0\n"
     ]
    },
    {
     "name": "stderr",
     "output_type": "stream",
     "text": [
      "\r",
      " 69%|██████▉   | 104/150 [01:36<02:11,  2.85s/it]"
     ]
    },
    {
     "name": "stdout",
     "output_type": "stream",
     "text": [
      "69.0\n"
     ]
    },
    {
     "name": "stderr",
     "output_type": "stream",
     "text": [
      "\r",
      " 70%|███████   | 105/150 [01:38<02:03,  2.75s/it]"
     ]
    },
    {
     "name": "stdout",
     "output_type": "stream",
     "text": [
      "86.0\n"
     ]
    },
    {
     "name": "stderr",
     "output_type": "stream",
     "text": [
      "\r",
      " 71%|███████   | 106/150 [01:42<02:18,  3.15s/it]"
     ]
    },
    {
     "name": "stdout",
     "output_type": "stream",
     "text": [
      "135.0\n"
     ]
    },
    {
     "name": "stderr",
     "output_type": "stream",
     "text": [
      "\r",
      " 71%|███████▏  | 107/150 [01:44<01:59,  2.78s/it]"
     ]
    },
    {
     "name": "stdout",
     "output_type": "stream",
     "text": [
      "66.0\n"
     ]
    },
    {
     "name": "stderr",
     "output_type": "stream",
     "text": [
      "\r",
      " 72%|███████▏  | 108/150 [01:47<01:55,  2.75s/it]"
     ]
    },
    {
     "name": "stdout",
     "output_type": "stream",
     "text": [
      "96.0\n"
     ]
    },
    {
     "name": "stderr",
     "output_type": "stream",
     "text": [
      "\r",
      " 73%|███████▎  | 109/150 [01:51<02:08,  3.13s/it]"
     ]
    },
    {
     "name": "stdout",
     "output_type": "stream",
     "text": [
      "79.0\n"
     ]
    },
    {
     "name": "stderr",
     "output_type": "stream",
     "text": [
      "\r",
      " 73%|███████▎  | 110/150 [01:54<01:58,  2.97s/it]"
     ]
    },
    {
     "name": "stdout",
     "output_type": "stream",
     "text": [
      "93.0\n"
     ]
    },
    {
     "name": "stderr",
     "output_type": "stream",
     "text": [
      "\r",
      " 74%|███████▍  | 111/150 [01:56<01:52,  2.89s/it]"
     ]
    },
    {
     "name": "stdout",
     "output_type": "stream",
     "text": [
      "95.0\n"
     ]
    },
    {
     "name": "stderr",
     "output_type": "stream",
     "text": [
      "\r",
      " 75%|███████▍  | 112/150 [02:00<01:57,  3.08s/it]"
     ]
    },
    {
     "name": "stdout",
     "output_type": "stream",
     "text": [
      "121.0\n"
     ]
    },
    {
     "name": "stderr",
     "output_type": "stream",
     "text": [
      "\r",
      " 75%|███████▌  | 113/150 [02:06<02:27,  3.99s/it]"
     ]
    },
    {
     "name": "stdout",
     "output_type": "stream",
     "text": [
      "219.0\n"
     ]
    },
    {
     "name": "stderr",
     "output_type": "stream",
     "text": [
      "\r",
      " 76%|███████▌  | 114/150 [02:11<02:34,  4.28s/it]"
     ]
    },
    {
     "name": "stdout",
     "output_type": "stream",
     "text": [
      "179.0\n"
     ]
    },
    {
     "name": "stderr",
     "output_type": "stream",
     "text": [
      "\r",
      " 77%|███████▋  | 115/150 [02:19<03:04,  5.28s/it]"
     ]
    },
    {
     "name": "stdout",
     "output_type": "stream",
     "text": [
      "187.0\n"
     ]
    },
    {
     "name": "stderr",
     "output_type": "stream",
     "text": [
      "\r",
      " 77%|███████▋  | 116/150 [02:31<04:07,  7.28s/it]"
     ]
    },
    {
     "name": "stdout",
     "output_type": "stream",
     "text": [
      "435.0\n"
     ]
    },
    {
     "name": "stderr",
     "output_type": "stream",
     "text": [
      "\r",
      " 78%|███████▊  | 117/150 [02:41<04:32,  8.25s/it]"
     ]
    },
    {
     "name": "stdout",
     "output_type": "stream",
     "text": [
      "393.0\n"
     ]
    },
    {
     "name": "stderr",
     "output_type": "stream",
     "text": [
      "\r",
      " 79%|███████▊  | 118/150 [02:49<04:19,  8.12s/it]"
     ]
    },
    {
     "name": "stdout",
     "output_type": "stream",
     "text": [
      "184.0\n"
     ]
    },
    {
     "name": "stderr",
     "output_type": "stream",
     "text": [
      "\r",
      " 79%|███████▉  | 119/150 [02:55<03:56,  7.63s/it]"
     ]
    },
    {
     "name": "stdout",
     "output_type": "stream",
     "text": [
      "241.0\n"
     ]
    },
    {
     "name": "stderr",
     "output_type": "stream",
     "text": [
      "\r",
      " 80%|████████  | 120/150 [03:01<03:28,  6.95s/it]"
     ]
    },
    {
     "name": "stdout",
     "output_type": "stream",
     "text": [
      "200.0\n"
     ]
    },
    {
     "name": "stderr",
     "output_type": "stream",
     "text": [
      "\r",
      " 81%|████████  | 121/150 [03:14<04:17,  8.90s/it]"
     ]
    },
    {
     "name": "stdout",
     "output_type": "stream",
     "text": [
      "500.0\n"
     ]
    },
    {
     "name": "stderr",
     "output_type": "stream",
     "text": [
      "\r",
      " 81%|████████▏ | 122/150 [03:30<05:03, 10.85s/it]"
     ]
    },
    {
     "name": "stdout",
     "output_type": "stream",
     "text": [
      "443.0\n"
     ]
    },
    {
     "name": "stderr",
     "output_type": "stream",
     "text": [
      "\r",
      " 82%|████████▏ | 123/150 [03:36<04:20,  9.64s/it]"
     ]
    },
    {
     "name": "stdout",
     "output_type": "stream",
     "text": [
      "251.0\n"
     ]
    },
    {
     "name": "stderr",
     "output_type": "stream",
     "text": [
      "\r",
      " 83%|████████▎ | 124/150 [03:50<04:41, 10.81s/it]"
     ]
    },
    {
     "name": "stdout",
     "output_type": "stream",
     "text": [
      "500.0\n"
     ]
    },
    {
     "name": "stderr",
     "output_type": "stream",
     "text": [
      "\r",
      " 83%|████████▎ | 125/150 [04:02<04:43, 11.34s/it]"
     ]
    },
    {
     "name": "stdout",
     "output_type": "stream",
     "text": [
      "451.0\n"
     ]
    },
    {
     "name": "stderr",
     "output_type": "stream",
     "text": [
      "\r",
      " 84%|████████▍ | 126/150 [04:21<05:22, 13.43s/it]"
     ]
    },
    {
     "name": "stdout",
     "output_type": "stream",
     "text": [
      "500.0\n"
     ]
    },
    {
     "name": "stderr",
     "output_type": "stream",
     "text": [
      "\r",
      " 85%|████████▍ | 127/150 [04:30<04:36, 12.04s/it]"
     ]
    },
    {
     "name": "stdout",
     "output_type": "stream",
     "text": [
      "322.0\n"
     ]
    },
    {
     "name": "stderr",
     "output_type": "stream",
     "text": [
      "\r",
      " 85%|████████▌ | 128/150 [04:43<04:36, 12.58s/it]"
     ]
    },
    {
     "name": "stdout",
     "output_type": "stream",
     "text": [
      "500.0\n"
     ]
    },
    {
     "name": "stderr",
     "output_type": "stream",
     "text": [
      "\r",
      " 86%|████████▌ | 129/150 [04:58<04:36, 13.15s/it]"
     ]
    },
    {
     "name": "stdout",
     "output_type": "stream",
     "text": [
      "492.0\n"
     ]
    },
    {
     "name": "stderr",
     "output_type": "stream",
     "text": [
      "\r",
      " 87%|████████▋ | 130/150 [05:05<03:46, 11.34s/it]"
     ]
    },
    {
     "name": "stdout",
     "output_type": "stream",
     "text": [
      "249.0\n"
     ]
    },
    {
     "name": "stderr",
     "output_type": "stream",
     "text": [
      "\r",
      " 87%|████████▋ | 131/150 [05:12<03:09,  9.99s/it]"
     ]
    },
    {
     "name": "stdout",
     "output_type": "stream",
     "text": [
      "236.0\n"
     ]
    },
    {
     "name": "stderr",
     "output_type": "stream",
     "text": [
      "\r",
      " 88%|████████▊ | 132/150 [05:24<03:12, 10.68s/it]"
     ]
    },
    {
     "name": "stdout",
     "output_type": "stream",
     "text": [
      "243.0\n"
     ]
    },
    {
     "name": "stderr",
     "output_type": "stream",
     "text": [
      "\r",
      " 89%|████████▊ | 133/150 [05:30<02:37,  9.24s/it]"
     ]
    },
    {
     "name": "stdout",
     "output_type": "stream",
     "text": [
      "209.0\n"
     ]
    },
    {
     "name": "stderr",
     "output_type": "stream",
     "text": [
      "\r",
      " 89%|████████▉ | 134/150 [05:35<02:07,  7.99s/it]"
     ]
    },
    {
     "name": "stdout",
     "output_type": "stream",
     "text": [
      "184.0\n"
     ]
    },
    {
     "name": "stderr",
     "output_type": "stream",
     "text": [
      "\r",
      " 90%|█████████ | 135/150 [05:39<01:41,  6.78s/it]"
     ]
    },
    {
     "name": "stdout",
     "output_type": "stream",
     "text": [
      "146.0\n"
     ]
    },
    {
     "name": "stderr",
     "output_type": "stream",
     "text": [
      "\r",
      " 91%|█████████ | 136/150 [05:44<01:25,  6.12s/it]"
     ]
    },
    {
     "name": "stdout",
     "output_type": "stream",
     "text": [
      "168.0\n"
     ]
    },
    {
     "name": "stderr",
     "output_type": "stream",
     "text": [
      "\r",
      " 91%|█████████▏| 137/150 [05:47<01:08,  5.26s/it]"
     ]
    },
    {
     "name": "stdout",
     "output_type": "stream",
     "text": [
      "112.0\n"
     ]
    },
    {
     "name": "stderr",
     "output_type": "stream",
     "text": [
      "\r",
      " 92%|█████████▏| 138/150 [05:49<00:52,  4.34s/it]"
     ]
    },
    {
     "name": "stdout",
     "output_type": "stream",
     "text": [
      "71.0\n"
     ]
    },
    {
     "name": "stderr",
     "output_type": "stream",
     "text": [
      "\r",
      " 93%|█████████▎| 139/150 [05:52<00:41,  3.81s/it]"
     ]
    },
    {
     "name": "stdout",
     "output_type": "stream",
     "text": [
      "91.0\n"
     ]
    },
    {
     "name": "stderr",
     "output_type": "stream",
     "text": [
      "\r",
      " 93%|█████████▎| 140/150 [05:54<00:35,  3.51s/it]"
     ]
    },
    {
     "name": "stdout",
     "output_type": "stream",
     "text": [
      "98.0\n"
     ]
    },
    {
     "name": "stderr",
     "output_type": "stream",
     "text": [
      "\r",
      " 94%|█████████▍| 141/150 [06:00<00:35,  3.98s/it]"
     ]
    },
    {
     "name": "stdout",
     "output_type": "stream",
     "text": [
      "180.0\n"
     ]
    },
    {
     "name": "stderr",
     "output_type": "stream",
     "text": [
      "\r",
      " 95%|█████████▍| 142/150 [06:07<00:39,  4.91s/it]"
     ]
    },
    {
     "name": "stdout",
     "output_type": "stream",
     "text": [
      "255.0\n"
     ]
    },
    {
     "name": "stderr",
     "output_type": "stream",
     "text": [
      "\r",
      " 95%|█████████▌| 143/150 [06:14<00:39,  5.68s/it]"
     ]
    },
    {
     "name": "stdout",
     "output_type": "stream",
     "text": [
      "280.0\n"
     ]
    },
    {
     "name": "stderr",
     "output_type": "stream",
     "text": [
      "\r",
      " 96%|█████████▌| 144/150 [06:22<00:37,  6.23s/it]"
     ]
    },
    {
     "name": "stdout",
     "output_type": "stream",
     "text": [
      "279.0\n"
     ]
    },
    {
     "name": "stderr",
     "output_type": "stream",
     "text": [
      "\r",
      " 97%|█████████▋| 145/150 [06:35<00:42,  8.47s/it]"
     ]
    },
    {
     "name": "stdout",
     "output_type": "stream",
     "text": [
      "247.0\n"
     ]
    },
    {
     "name": "stderr",
     "output_type": "stream",
     "text": [
      "\r",
      " 97%|█████████▋| 146/150 [06:49<00:40, 10.07s/it]"
     ]
    },
    {
     "name": "stdout",
     "output_type": "stream",
     "text": [
      "500.0\n"
     ]
    },
    {
     "name": "stderr",
     "output_type": "stream",
     "text": [
      "\r",
      " 98%|█████████▊| 147/150 [07:03<00:33, 11.17s/it]"
     ]
    },
    {
     "name": "stdout",
     "output_type": "stream",
     "text": [
      "500.0\n"
     ]
    },
    {
     "name": "stderr",
     "output_type": "stream",
     "text": [
      "\r",
      " 99%|█████████▊| 148/150 [07:17<00:24, 12.03s/it]"
     ]
    },
    {
     "name": "stdout",
     "output_type": "stream",
     "text": [
      "500.0\n"
     ]
    },
    {
     "name": "stderr",
     "output_type": "stream",
     "text": [
      "\r",
      " 99%|█████████▉| 149/150 [07:19<00:09,  9.12s/it]"
     ]
    },
    {
     "name": "stdout",
     "output_type": "stream",
     "text": [
      "80.0\n"
     ]
    },
    {
     "name": "stderr",
     "output_type": "stream",
     "text": [
      "100%|██████████| 150/150 [07:22<00:00,  2.95s/it]"
     ]
    },
    {
     "name": "stdout",
     "output_type": "stream",
     "text": [
      "114.0\n"
     ]
    },
    {
     "name": "stderr",
     "output_type": "stream",
     "text": [
      "\n"
     ]
    }
   ],
   "source": [
    "global_steps = 0\n",
    "# to have same networks in the starting\n",
    "update_target_network()\n",
    "\n",
    "for i in tqdm(range(150)):\n",
    "    observation = env.reset()\n",
    "    observation = np.expand_dims(observation, axis=0)\n",
    "    done = False\n",
    "    total_reward = 0\n",
    "    while not done:        \n",
    "        #storing the current state\n",
    "        state_1 = observation\n",
    "        \n",
    "        # this is the current q values\n",
    "        q_state = model_1(observation)\n",
    "        \n",
    "        action = policy(q_state,epsilon[\"epsilon\"]) # current action\n",
    "        observation,reward,done,info = env.step(action)\n",
    "        \n",
    "        # calculating the total reward\n",
    "        total_reward = total_reward + reward\n",
    "\n",
    "        observation = np.expand_dims(observation, axis=0)\n",
    "        state_2 = observation\n",
    "        state_reward = reward\n",
    "        \n",
    "        replay_batch.append((state_1,action,state_reward,state_2,done))\n",
    "        \n",
    "        if i>warmup:\n",
    "            batch_train(model_1,model_2,0.99,64,epsilon)\n",
    "            global_steps = global_steps + 1\n",
    "            \n",
    "        if done:\n",
    "            update_target_network()\n",
    "            \n",
    "    print(total_reward)"
   ]
  },
  {
   "cell_type": "code",
   "execution_count": null,
   "metadata": {},
   "outputs": [],
   "source": [
    "env.close()"
   ]
  },
  {
   "cell_type": "code",
   "execution_count": 11,
   "metadata": {},
   "outputs": [
    {
     "name": "stderr",
     "output_type": "stream",
     "text": [
      "\n",
      "  0%|          | 0/500 [00:00<?, ?it/s]\u001b[A"
     ]
    },
    {
     "name": "stdout",
     "output_type": "stream",
     "text": [
      "[79.41802  80.228676]\n",
      "1\n",
      "[79.88904 77.98007]\n",
      "0\n",
      "[79.7922  80.12785]\n",
      "1\n",
      "[79.79381 77.46305]\n",
      "0\n",
      "[80.15454 79.97158]\n",
      "0\n",
      "[76.915276 79.88707 ]\n",
      "1\n",
      "[80.14157 79.75447]\n",
      "0\n",
      "[77.2135  79.88257]\n",
      "1\n",
      "[80.132355 79.553185]\n",
      "0\n",
      "[77.49714  79.878746]\n",
      "1\n",
      "[80.12646 79.3618 ]\n",
      "0\n",
      "[77.772896 79.87449 ]\n",
      "1\n",
      "[80.119484 79.18199 ]\n",
      "0\n",
      "[78.04724 79.86868]\n",
      "1\n",
      "[80.11024  79.010155]\n",
      "0\n",
      "[78.3265  79.86023]\n",
      "1\n",
      "[80.10439 78.83025]\n",
      "0\n",
      "[78.61708 79.84793]\n",
      "1\n",
      "[80.101654 78.6372  ]\n",
      "0\n",
      "[78.925575 79.830536]\n",
      "1\n",
      "[80.101776 78.425606]\n",
      "0\n",
      "[79.25896 79.80666]\n",
      "1\n",
      "[80.05612  78.105095]\n",
      "0\n",
      "[79.61746 79.76999]\n",
      "1\n",
      "[79.99204 77.71726]\n",
      "0\n",
      "[79.63201 79.47102]\n",
      "0\n",
      "[76.699646 79.40876 ]\n",
      "1\n",
      "[79.62061 79.35282]\n",
      "0\n",
      "[76.95575 79.51327]\n",
      "1\n",
      "[79.612595 79.26398 ]\n",
      "0\n",
      "[77.18036 79.6185 ]\n",
      "1\n",
      "[79.60743 79.20015]\n",
      "0\n",
      "[77.3781  79.72436]\n",
      "1\n",
      "[79.60468  79.157646]\n",
      "0\n",
      "[77.55287 79.83075]\n",
      "1\n",
      "[79.60397 79.13336]\n",
      "0\n",
      "[77.70793  79.937584]\n",
      "1\n",
      "[79.60499 79.12472]\n",
      "0\n",
      "[77.846054 80.04482 ]\n",
      "1\n",
      "[79.60745 79.12955]\n",
      "0\n",
      "[77.96952 80.15243]\n",
      "1\n",
      "[79.611115 79.14604 ]\n",
      "0\n",
      "[78.080246 80.260315]\n",
      "1\n",
      "[79.61579 79.17271]\n",
      "0\n",
      "[78.17977  80.368484]\n",
      "1\n",
      "[79.621315 79.20836 ]\n",
      "0\n",
      "[78.26939 80.4769 ]\n",
      "1\n",
      "[79.62753 79.25203]\n",
      "0\n",
      "[78.35006  80.585556]\n",
      "1\n",
      "[79.6343  79.30294]\n",
      "0\n",
      "[78.42219 80.68581]\n",
      "1\n",
      "[79.64154  79.360565]\n",
      "0\n",
      "[78.4866   80.784065]\n",
      "1\n",
      "[79.649124 79.42449 ]\n",
      "0\n",
      "[78.543785 80.88356 ]\n",
      "1\n",
      "[79.65695 79.49452]\n",
      "0\n",
      "[78.59388 80.98429]\n",
      "1\n",
      "[79.66498 79.57059]\n",
      "0\n",
      "[78.636894 81.08634 ]\n",
      "1\n",
      "[79.67309 79.65276]\n",
      "0\n",
      "[78.67259  81.189766]\n",
      "1\n",
      "[79.681244 79.74131 ]\n",
      "1\n",
      "[80.124435 78.09149 ]\n",
      "0\n",
      "[79.71835 79.61311]\n",
      "0\n",
      "[78.950096 81.26989 ]\n",
      "1\n",
      "[79.72628 79.63532]\n",
      "0\n",
      "[79.058205 81.359055]\n",
      "1\n",
      "[79.734924 79.659996]\n",
      "0\n",
      "[79.16413 81.44823]\n",
      "1\n",
      "[79.74419 79.68599]\n",
      "0\n",
      "[79.21079 81.49884]\n",
      "1\n",
      "[79.754036 79.71218 ]\n",
      "0\n",
      "[79.22092 81.52471]\n",
      "1\n",
      "[79.764435 79.73749 ]\n",
      "0\n",
      "[79.23158 81.54917]\n",
      "1\n",
      "[79.77536  79.760796]\n",
      "0\n",
      "[79.242744 81.57105 ]\n",
      "1\n",
      "[79.786804 79.78099 ]\n",
      "0\n",
      "[79.254456 81.58923 ]\n",
      "1\n",
      "[79.79875 79.79683]\n",
      "0\n",
      "[79.26668  81.602425]\n",
      "1\n",
      "[79.81123 79.80706]\n",
      "0\n",
      "[79.279465 81.6093  ]\n",
      "1\n",
      "[79.82431 79.81025]\n",
      "0\n",
      "[79.29281  81.608376]\n",
      "1\n",
      "[79.83798 79.80482]\n",
      "0\n",
      "[79.30682 81.59794]\n",
      "1\n",
      "[79.85234 79.78899]\n",
      "0\n",
      "[79.32155  81.576126]\n",
      "1\n",
      "[79.86744  79.760735]\n",
      "0\n",
      "[79.33704 81.54076]\n",
      "1\n",
      "[79.88339 79.71778]\n",
      "0\n",
      "[79.35346 81.4894 ]\n",
      "1\n",
      "[79.90028 79.65747]\n",
      "0\n",
      "[79.37088  81.419174]\n",
      "1\n",
      "[79.91829 79.57676]\n",
      "0\n",
      "[79.38949 81.32683]\n",
      "1\n",
      "[79.93754 79.47214]\n",
      "0\n",
      "[79.40945 81.20855]\n",
      "1\n",
      "[79.958244 79.33954 ]\n",
      "0\n",
      "[79.43096 81.05995]\n",
      "1\n",
      "[79.98061 79.17422]\n",
      "0\n",
      "[79.45426 80.8759 ]\n",
      "1\n",
      "[80.00492 78.97074]\n",
      "0\n",
      "[79.47967 80.65046]\n",
      "1\n",
      "[80.031494 78.72272 ]\n",
      "0\n",
      "[79.507484 80.37675 ]\n",
      "1\n",
      "[80.06066 78.42275]\n",
      "0\n",
      "[79.53812 80.04671]\n",
      "1\n",
      "[80.092865 78.06229 ]\n",
      "0\n",
      "[79.572014 79.651   ]\n",
      "1\n",
      "[80.12859 77.63133]\n",
      "0\n",
      "[79.60972 79.17877]\n",
      "0\n",
      "[79.067635 80.7967  ]\n",
      "1\n",
      "[79.62295  78.841415]\n",
      "0\n",
      "[79.09331 80.4565 ]\n",
      "1\n",
      "[79.64137 78.48065]\n",
      "0\n",
      "[79.11431 80.07948]\n",
      "1\n",
      "[79.66498 78.08499]\n",
      "0\n",
      "[79.140526 79.66113 ]\n",
      "1\n",
      "[79.693825 77.64219 ]\n",
      "0\n",
      "[79.172066 79.18866 ]\n",
      "1\n",
      "[79.28884 76.26929]\n",
      "0\n",
      "[79.209236 78.648125]\n",
      "0\n",
      "[77.45981 79.3264 ]\n",
      "1\n",
      "[79.2236  78.24755]\n",
      "0\n",
      "[77.627075 79.029625]\n",
      "1\n",
      "[79.24466 77.82648]\n",
      "0\n",
      "[77.81704 78.71675]\n",
      "1\n",
      "[78.80481  76.445404]\n",
      "0\n",
      "[78.0431  78.38352]\n",
      "1\n",
      "[78.26816  74.810455]\n",
      "0\n",
      "[78.31951 78.02518]\n",
      "0\n",
      "[75.48565 77.8953 ]\n",
      "1\n",
      "[78.349396 77.568375]\n",
      "0\n",
      "[75.580795 77.5607  ]\n",
      "1\n",
      "[78.02946 76.39351]\n",
      "0\n",
      "[75.690956 77.211754]\n",
      "1\n",
      "[77.69208 75.12595]\n",
      "0\n",
      "[75.83006 76.84417]\n",
      "1\n",
      "[77.3336  73.72599]\n",
      "0\n",
      "[75.95573  76.340744]\n",
      "1\n",
      "[76.885704 72.10314 ]\n",
      "0\n",
      "[75.55736 74.6565 ]\n",
      "0\n",
      "[73.345474 75.13011 ]\n",
      "1\n",
      "[75.18649 73.39216]\n",
      "0\n",
      "[73.42339 74.74994]\n",
      "1\n",
      "[74.79719  72.036835]\n",
      "0\n",
      "[73.34736 74.02002]\n",
      "1\n",
      "[74.38546 70.54666]\n",
      "0\n",
      "[72.93106 72.54091]\n",
      "0\n",
      "[70.6683   72.419624]\n",
      "1\n",
      "[72.531494 71.360016]\n",
      "0\n",
      "[70.62403  71.948456]\n",
      "1\n",
      "[72.11923 70.15486]\n",
      "0\n",
      "[70.59507 71.49144]\n",
      "1\n",
      "[71.69124 68.88925]\n",
      "0\n",
      "[70.158875 70.183266]\n",
      "1\n",
      "[71.24416  67.525955]\n",
      "0\n",
      "[69.70067  68.754295]\n",
      "0\n",
      "[67.5737 68.9685]\n",
      "1\n",
      "[69.25926 67.62352]\n",
      "0\n",
      "[67.42323  68.420105]\n",
      "1\n",
      "[68.80528 66.46866]\n",
      "0\n",
      "[67.261284 67.83306 ]\n",
      "1\n",
      "[68.335686 65.253815]\n",
      "0\n",
      "[66.78264 66.57413]\n",
      "0\n",
      "[64.02492 65.66184]\n",
      "1\n",
      "[66.32488 65.65325]\n",
      "0\n",
      "[63.692734 65.01555 ]\n",
      "1\n",
      "[65.85938 64.75375]\n",
      "0\n",
      "[63.355274 64.38038 ]\n",
      "1\n",
      "[65.38385 63.84452]\n",
      "0\n",
      "[63.025993 63.756992]\n",
      "1\n",
      "[64.8958   62.894638]\n",
      "0\n",
      "[62.718426 63.146378]\n",
      "1\n",
      "[64.39244  61.872528]\n",
      "0\n",
      "[62.44649  62.549744]\n",
      "1\n",
      "[63.87069  60.745277]\n",
      "0\n",
      "[62.224888 61.968723]\n",
      "0\n",
      "[59.01185  60.232925]\n",
      "1\n",
      "[61.77654  61.201946]\n",
      "0\n",
      "[58.590538 59.525997]\n",
      "1\n",
      "[61.250965 60.28354 ]\n",
      "0\n",
      "[58.182526 58.8315  ]\n",
      "1\n",
      "[60.71156 59.31201]\n",
      "0\n",
      "[57.80183  58.150543]\n",
      "1\n",
      "[60.15532  58.254482]\n",
      "0\n",
      "[57.463028 57.48453 ]\n",
      "1\n"
     ]
    },
    {
     "name": "stderr",
     "output_type": "stream",
     "text": [
      "\n",
      "  0%|          | 1/500 [00:09<1:18:40,  9.46s/it]\u001b[A"
     ]
    },
    {
     "name": "stdout",
     "output_type": "stream",
     "text": [
      "[59.57892 57.07643]\n",
      "0\n",
      "[57.181557 56.835228]\n",
      "0\n",
      "[53.943108 55.065994]\n",
      "1\n",
      "[56.70844 56.05567]\n",
      "0\n",
      "episode ended\n",
      "[79.69784 80.28251]\n",
      "1\n",
      "[79.76599  77.879166]\n",
      "0\n",
      "[79.91855 80.19908]\n",
      "1\n",
      "[79.708336 77.511795]\n",
      "0\n",
      "[80.1535  80.07321]\n",
      "0\n",
      "[76.818245 79.979546]\n",
      "1\n",
      "[80.14122 79.976  ]\n",
      "0\n",
      "[76.97207 79.99902]\n",
      "1\n",
      "[80.125854 79.90497 ]\n",
      "0\n",
      "[77.10804 80.01513]\n",
      "1\n",
      "[80.11358  79.845505]\n",
      "0\n",
      "[77.229546 80.03298 ]\n",
      "1\n",
      "[80.10392 79.79543]\n",
      "0\n",
      "[77.33937 80.05222]\n",
      "1\n",
      "[80.0965  79.75278]\n",
      "0\n",
      "[77.439926 80.07247 ]\n",
      "1\n",
      "[80.09099  79.715836]\n",
      "0\n",
      "[77.53343 80.09341]\n",
      "1\n",
      "[80.08713  79.683044]\n",
      "0\n",
      "[77.62183 80.11472]\n",
      "1\n",
      "[80.08468  79.652954]\n",
      "0\n",
      "[77.70699  80.136116]\n",
      "1\n",
      "[80.08346 79.62423]\n",
      "0\n",
      "[77.7906   80.157326]\n",
      "1\n",
      "[80.08333  79.595566]\n",
      "0\n",
      "[77.87436 80.17804]\n",
      "1\n",
      "[80.08415  79.565704]\n",
      "0\n",
      "[77.95988  80.197975]\n",
      "1\n",
      "[80.08583 79.53332]\n",
      "0\n",
      "[78.04885 80.21683]\n",
      "1\n",
      "[80.08828 79.4971 ]\n",
      "0\n",
      "[78.143005 80.234245]\n",
      "1\n",
      "[80.09146  79.455605]\n",
      "0\n",
      "[78.2442  80.24986]\n",
      "1\n",
      "[80.09532 79.40732]\n",
      "0\n",
      "[78.35444  80.263275]\n",
      "1\n",
      "[80.09986 79.35054]\n",
      "0\n",
      "[78.47591 80.27404]\n",
      "1\n",
      "[80.10505  79.283424]\n",
      "0\n",
      "[78.61108 80.28161]\n",
      "1\n",
      "[80.11095 79.20381]\n",
      "0\n",
      "[78.76271 80.28539]\n",
      "1\n",
      "[80.11753 79.10933]\n",
      "0\n",
      "[78.93398  80.284744]\n",
      "1\n",
      "[80.12488 78.99723]\n",
      "0\n",
      "[79.12847 80.27883]\n",
      "1\n",
      "[80.13306 78.86434]\n",
      "0\n",
      "[79.35034  80.266785]\n",
      "1\n",
      "[80.14215 78.70706]\n",
      "0\n",
      "[79.60438 80.24752]\n",
      "1\n",
      "[80.14645 78.51099]\n",
      "0\n",
      "[79.691154 80.085266]\n",
      "1\n",
      "[80.0986   78.188324]\n",
      "0\n",
      "[79.70783 79.83814]\n",
      "1\n",
      "[80.041016 77.807205]\n",
      "0\n",
      "[79.72674  79.547165]\n",
      "0\n",
      "[77.28651  79.927635]\n",
      "1\n",
      "[79.71925  79.428314]\n",
      "0\n",
      "[77.53912 80.0237 ]\n",
      "1\n",
      "[79.71482 79.33017]\n",
      "0\n",
      "[77.770355 80.1202  ]\n",
      "1\n",
      "[79.71303 79.24839]\n",
      "0\n",
      "[77.98495  80.216965]\n",
      "1\n",
      "[79.71356 79.17907]\n",
      "0\n",
      "[78.18648 80.29669]\n",
      "1\n",
      "[79.71613 79.11867]\n",
      "0\n",
      "[78.37911 80.3639 ]\n",
      "1\n",
      "[79.720535 79.06394 ]\n",
      "0\n",
      "[78.56703 80.43094]\n",
      "1\n",
      "[79.726585 79.01183 ]\n",
      "0\n",
      "[78.753784 80.49722 ]\n",
      "1\n",
      "[79.73418  78.959335]\n",
      "0\n",
      "[78.94278  80.562164]\n",
      "1\n",
      "[79.7432  78.90355]\n",
      "0\n",
      "[79.13749 80.62508]\n",
      "1\n",
      "[79.75363 78.84147]\n",
      "0\n",
      "[79.22111 80.60628]\n",
      "1\n",
      "[79.76545 78.76999]\n",
      "0\n",
      "[79.23363 80.52885]\n",
      "1\n",
      "[79.77868 78.68583]\n",
      "0\n",
      "[79.24758 80.43693]\n",
      "1\n",
      "[79.79338 78.58539]\n",
      "0\n",
      "[79.263054 80.326775]\n",
      "1\n",
      "[79.80964 78.46476]\n",
      "0\n",
      "[79.28015  80.194244]\n",
      "1\n",
      "[79.8276  78.31952]\n",
      "0\n",
      "[79.29903 80.03464]\n",
      "1\n",
      "[79.84743 78.14473]\n",
      "0\n",
      "[79.31986 79.84264]\n",
      "1\n",
      "[79.86935 77.93476]\n",
      "0\n",
      "[79.342926 79.612236]\n",
      "1\n",
      "[79.89362 77.6832 ]\n",
      "0\n",
      "[79.36849 79.33649]\n",
      "0\n",
      "[78.54334  80.809166]\n",
      "1\n",
      "[79.36796 79.2307 ]\n",
      "0\n",
      "[78.82922 80.94632]\n",
      "1\n",
      "[79.370766 79.14285 ]\n",
      "0\n",
      "[78.83506  80.901764]\n",
      "1\n",
      "[79.376526 79.067795]\n",
      "0\n",
      "[78.84216 80.83168]\n",
      "1\n",
      "[79.38491 79.00081]\n",
      "0\n",
      "[78.85178 80.7673 ]\n",
      "1\n",
      "[79.395706 78.93747 ]\n",
      "0\n",
      "[78.863686 80.70429 ]\n",
      "1\n",
      "[79.408714 78.87346 ]\n",
      "0\n",
      "[78.87776  80.638435]\n",
      "1\n",
      "[79.42381 78.80452]\n",
      "0\n",
      "[78.893875 80.56543 ]\n",
      "1\n",
      "[79.44093 78.72632]\n",
      "0\n",
      "[78.91201 80.48087]\n",
      "1\n",
      "[79.46008  78.634346]\n",
      "0\n",
      "[78.93217 80.38014]\n",
      "1\n",
      "[79.481255 78.52382 ]\n",
      "0\n",
      "[78.9544   80.258224]\n",
      "1\n",
      "[79.50458 78.38955]\n",
      "0\n",
      "[78.978836 80.10969 ]\n",
      "1\n",
      "[79.530174 78.22579 ]\n",
      "0\n",
      "[79.00563 79.92845]\n",
      "1\n",
      "[79.558235 78.02616 ]\n",
      "0\n",
      "[79.03502  79.707695]\n",
      "1\n",
      "[79.58901  77.783485]\n",
      "0\n",
      "[79.06728 79.43973]\n",
      "1\n",
      "[79.62283  77.489555]\n",
      "0\n",
      "[79.10276 79.1157 ]\n",
      "1\n",
      "[79.249626 76.322365]\n",
      "0\n",
      "[79.1419  78.72554]\n",
      "0\n",
      "[78.06394 79.98884]\n",
      "1\n",
      "[79.15628  78.481346]\n",
      "0\n",
      "[78.08868 79.74684]\n",
      "1\n",
      "[79.175514 78.22641 ]\n",
      "0\n",
      "[78.12577 79.49453]\n",
      "1\n",
      "[79.19942  77.950806]\n",
      "0\n",
      "[78.184715 79.22897 ]\n",
      "1\n",
      "[79.14233 77.47465]\n",
      "0\n",
      "[78.27541 78.94691]\n",
      "1\n",
      "[78.78812 76.3589 ]\n",
      "0\n",
      "[78.40847 78.64471]\n",
      "1\n",
      "[78.37049  75.054054]\n",
      "0\n",
      "[78.595375 78.31831 ]\n",
      "0\n",
      "[75.71204  78.206535]\n",
      "1\n",
      "[78.600815 78.02266 ]\n",
      "0\n",
      "[75.71817 77.90659]\n",
      "1\n",
      "[78.53545  77.565796]\n",
      "0\n",
      "[75.73624  77.595024]\n",
      "1\n",
      "[78.23129 76.5899 ]\n",
      "0\n",
      "[75.777664 77.268326]\n",
      "1\n",
      "[77.909966 75.50636 ]\n",
      "0\n",
      "[75.85433 76.92267]\n",
      "1\n",
      "[77.56814 74.28048]\n",
      "0\n",
      "[75.97886 76.5538 ]\n",
      "1\n",
      "[77.201965 72.874466]\n",
      "0\n",
      "[75.819336 75.47386 ]\n",
      "0\n",
      "[73.21402  75.139206]\n",
      "1\n",
      "[75.46803 74.38023]\n",
      "0\n",
      "[73.23542 74.76347]\n",
      "1\n",
      "[75.099945 73.20199 ]\n",
      "0\n",
      "[73.28554 74.40166]\n",
      "1\n",
      "[74.71155 71.89981]\n",
      "0\n",
      "[73.25358 73.80674]\n",
      "1\n",
      "[74.29885 70.43181]\n",
      "0\n",
      "[72.83667 72.3506 ]\n",
      "0\n",
      "[70.51315 72.11697]\n",
      "1\n",
      "[72.434906 71.168526]\n",
      "0\n",
      "[70.48311 71.66476]\n",
      "1\n",
      "[72.018456 69.93658 ]\n",
      "0\n",
      "[70.47949 71.22735]\n",
      "1\n",
      "[71.5841  68.61835]\n",
      "0\n",
      "[70.0476   69.875626]\n",
      "0\n",
      "[67.43657 69.15106]\n",
      "1\n",
      "[69.621056 68.809364]\n",
      "0\n",
      "[67.266396 68.604935]\n",
      "1\n",
      "[69.18357 67.73381]\n",
      "0\n",
      "[67.104706 68.07177 ]\n",
      "1\n",
      "[68.73245 66.61497]\n",
      "0\n",
      "[66.96632  67.552574]\n",
      "1\n",
      "[68.264626 65.41819 ]\n",
      "0\n",
      "[66.71223 66.74374]\n",
      "1\n",
      "[67.7767  64.10737]\n",
      "0\n",
      "[66.21256 65.35846]\n",
      "0\n",
      "[63.701984 64.87437 ]\n",
      "1\n",
      "[65.728745 64.25704 ]\n",
      "0\n",
      "[63.46674 64.26434]\n",
      "1\n",
      "[65.23109  63.116226]\n",
      "0\n",
      "[63.25334  63.668823]\n",
      "1\n",
      "[64.71646  61.899834]\n",
      "0\n",
      "[63.07776  63.089134]\n",
      "1\n",
      "[64.18138  60.570286]\n",
      "0\n",
      "[62.59324 61.80869]\n",
      "0\n",
      "[59.800865 60.80214 ]\n",
      "1\n",
      "[62.061447 60.68687 ]\n",
      "0\n",
      "[59.490543 60.117676]\n",
      "1\n",
      "[61.51518 59.52287]\n",
      "0\n",
      "[59.203514 59.44829 ]\n",
      "1\n",
      "[60.95115  58.279015]\n",
      "0\n",
      "[58.95639 58.79547]\n",
      "0\n",
      "[55.731956 57.024673]\n",
      "1\n",
      "[58.502003 58.011997]\n",
      "0\n",
      "[55.2726   56.247192]\n",
      "1\n",
      "[58.045853 57.241188]\n",
      "0\n",
      "[54.82015 55.48285]\n",
      "1\n",
      "[57.60322  56.483883]\n",
      "0\n",
      "[54.389713 54.732677]"
     ]
    },
    {
     "name": "stderr",
     "output_type": "stream",
     "text": [
      "\n",
      "  0%|          | 2/500 [00:17<1:15:56,  9.15s/it]\u001b[A"
     ]
    },
    {
     "name": "stdout",
     "output_type": "stream",
     "text": [
      "\n",
      "1\n",
      "episode ended\n",
      "[79.15304 80.16695]\n",
      "1\n",
      "[79.77528  78.412544]\n",
      "0\n",
      "[79.16611 80.13332]\n",
      "1\n",
      "[79.77285 78.30936]\n",
      "0\n",
      "[79.22415 80.09148]\n",
      "1\n",
      "[79.75895 78.15487]\n",
      "0\n",
      "[79.328316 80.040886]\n",
      "1\n",
      "[79.73356  77.946335]\n",
      "0\n",
      "[79.48089  79.980835]\n",
      "1\n",
      "[79.69636  77.679665]\n",
      "0\n",
      "[79.68532  79.910324]\n",
      "1\n",
      "[79.64673 77.34941]\n",
      "0\n",
      "[79.94636 79.82817]\n",
      "0\n",
      "[76.550316 79.629135]\n",
      "1\n",
      "[80.03464 79.82083]\n",
      "0\n",
      "[76.67871 79.67273]\n",
      "1\n",
      "[80.0266  79.76962]\n",
      "0\n",
      "[76.78438 79.71692]\n",
      "1\n",
      "[80.01999 79.73715]\n",
      "0\n",
      "[76.869644 79.76161 ]\n",
      "1\n",
      "[80.01026  79.729225]\n",
      "0\n",
      "[76.93633 79.80679]\n",
      "1\n",
      "[80.0026  79.73477]\n",
      "0\n",
      "[76.985756 79.85247 ]\n",
      "1\n",
      "[79.996635 79.75303 ]\n",
      "0\n",
      "[77.0188 79.8986]\n",
      "1\n",
      "[79.99205  79.783615]\n",
      "0\n",
      "[77.03592 79.9452 ]\n",
      "1\n",
      "[79.98857 79.82644]\n",
      "0\n",
      "[77.03716 79.99232]\n",
      "1\n",
      "[79.986   79.88174]\n",
      "0\n",
      "[77.02218 80.03993]\n",
      "1\n",
      "[79.98408 79.95002]\n",
      "0\n",
      "[76.99025 80.08812]\n",
      "1\n",
      "[79.98264  80.032166]\n",
      "1\n",
      "[79.65787 77.46147]\n",
      "0\n",
      "[80.01593 79.8961 ]\n",
      "0\n",
      "[77.10198 80.10908]\n",
      "1\n",
      "[80.01182 79.93501]\n",
      "0\n",
      "[77.108246 80.15604 ]\n",
      "1\n",
      "[80.0087  79.98667]\n",
      "0\n",
      "[77.09795 80.20355]\n",
      "1\n",
      "[80.00633  80.051506]\n",
      "1\n",
      "[79.69099 77.48887]\n",
      "0\n",
      "[80.03896 79.89701]\n",
      "0\n",
      "[77.25617 80.21376]\n",
      "1\n",
      "[80.0344  79.91596]\n",
      "0\n",
      "[77.28851 80.25699]\n",
      "1\n",
      "[80.031075 79.94561 ]\n",
      "0\n",
      "[77.30709 80.3026 ]\n",
      "1\n",
      "[80.02871 79.98589]\n",
      "0\n",
      "[77.31197 80.35069]\n",
      "1\n",
      "[80.02714 80.03699]\n",
      "1\n",
      "[79.71891 77.47818]\n",
      "0\n",
      "[80.06059 79.86602]\n",
      "0\n",
      "[77.50891  80.323586]\n",
      "1\n",
      "[80.0569  79.86545]\n",
      "0\n",
      "[77.56694 80.36099]\n",
      "1\n",
      "[80.05451 79.87206]\n",
      "0\n",
      "[77.615845 80.39979 ]\n",
      "1\n",
      "[80.05319 79.88524]\n",
      "0\n",
      "[77.65637 80.4399 ]\n",
      "1\n",
      "[80.05278 79.90453]\n",
      "0\n",
      "[77.68908  80.481285]\n",
      "1\n",
      "[80.05309 79.92963]\n",
      "0\n",
      "[77.71434 80.52395]\n",
      "1\n",
      "[80.054016 79.96042 ]\n",
      "0\n",
      "[77.73227 80.56789]\n",
      "1\n",
      "[80.05542 79.9969 ]\n",
      "0\n",
      "[77.742874 80.6132  ]\n",
      "1\n",
      "[80.05721 80.0392 ]\n",
      "0\n"
     ]
    },
    {
     "ename": "KeyboardInterrupt",
     "evalue": "",
     "output_type": "error",
     "traceback": [
      "\u001b[1;31m---------------------------------------------------------------------------\u001b[0m",
      "\u001b[1;31mKeyboardInterrupt\u001b[0m                         Traceback (most recent call last)",
      "\u001b[1;32m<ipython-input-11-03cbe196c766>\u001b[0m in \u001b[0;36m<module>\u001b[1;34m\u001b[0m\n\u001b[0;32m      5\u001b[0m     \u001b[0mtotal_reward\u001b[0m \u001b[1;33m=\u001b[0m \u001b[1;36m0\u001b[0m\u001b[1;33m\u001b[0m\u001b[1;33m\u001b[0m\u001b[0m\n\u001b[0;32m      6\u001b[0m     \u001b[1;32mfor\u001b[0m \u001b[0mj\u001b[0m \u001b[1;32min\u001b[0m \u001b[0mrange\u001b[0m\u001b[1;33m(\u001b[0m\u001b[1;36m1000\u001b[0m\u001b[1;33m)\u001b[0m\u001b[1;33m:\u001b[0m\u001b[1;33m\u001b[0m\u001b[1;33m\u001b[0m\u001b[0m\n\u001b[1;32m----> 7\u001b[1;33m         \u001b[0menv\u001b[0m\u001b[1;33m.\u001b[0m\u001b[0mrender\u001b[0m\u001b[1;33m(\u001b[0m\u001b[1;33m)\u001b[0m\u001b[1;33m\u001b[0m\u001b[1;33m\u001b[0m\u001b[0m\n\u001b[0m\u001b[0;32m      8\u001b[0m         \u001b[0mnn_out\u001b[0m \u001b[1;33m=\u001b[0m \u001b[0mmodel_2\u001b[0m\u001b[1;33m.\u001b[0m\u001b[0mpredict\u001b[0m\u001b[1;33m(\u001b[0m\u001b[0mobservation\u001b[0m\u001b[1;33m)\u001b[0m\u001b[1;33m\u001b[0m\u001b[1;33m\u001b[0m\u001b[0m\n\u001b[0;32m      9\u001b[0m         \u001b[0maction\u001b[0m \u001b[1;33m=\u001b[0m \u001b[0mpolicy\u001b[0m\u001b[1;33m(\u001b[0m\u001b[0mnn_out\u001b[0m\u001b[1;33m,\u001b[0m\u001b[1;36m0\u001b[0m\u001b[1;33m)\u001b[0m\u001b[1;33m\u001b[0m\u001b[1;33m\u001b[0m\u001b[0m\n",
      "\u001b[1;32m~\\Anaconda3\\envs\\deeplearning\\lib\\site-packages\\gym\\core.py\u001b[0m in \u001b[0;36mrender\u001b[1;34m(self, mode, **kwargs)\u001b[0m\n\u001b[0;32m    231\u001b[0m \u001b[1;33m\u001b[0m\u001b[0m\n\u001b[0;32m    232\u001b[0m     \u001b[1;32mdef\u001b[0m \u001b[0mrender\u001b[0m\u001b[1;33m(\u001b[0m\u001b[0mself\u001b[0m\u001b[1;33m,\u001b[0m \u001b[0mmode\u001b[0m\u001b[1;33m=\u001b[0m\u001b[1;34m'human'\u001b[0m\u001b[1;33m,\u001b[0m \u001b[1;33m**\u001b[0m\u001b[0mkwargs\u001b[0m\u001b[1;33m)\u001b[0m\u001b[1;33m:\u001b[0m\u001b[1;33m\u001b[0m\u001b[1;33m\u001b[0m\u001b[0m\n\u001b[1;32m--> 233\u001b[1;33m         \u001b[1;32mreturn\u001b[0m \u001b[0mself\u001b[0m\u001b[1;33m.\u001b[0m\u001b[0menv\u001b[0m\u001b[1;33m.\u001b[0m\u001b[0mrender\u001b[0m\u001b[1;33m(\u001b[0m\u001b[0mmode\u001b[0m\u001b[1;33m,\u001b[0m \u001b[1;33m**\u001b[0m\u001b[0mkwargs\u001b[0m\u001b[1;33m)\u001b[0m\u001b[1;33m\u001b[0m\u001b[1;33m\u001b[0m\u001b[0m\n\u001b[0m\u001b[0;32m    234\u001b[0m \u001b[1;33m\u001b[0m\u001b[0m\n\u001b[0;32m    235\u001b[0m     \u001b[1;32mdef\u001b[0m \u001b[0mclose\u001b[0m\u001b[1;33m(\u001b[0m\u001b[0mself\u001b[0m\u001b[1;33m)\u001b[0m\u001b[1;33m:\u001b[0m\u001b[1;33m\u001b[0m\u001b[1;33m\u001b[0m\u001b[0m\n",
      "\u001b[1;32m~\\Anaconda3\\envs\\deeplearning\\lib\\site-packages\\gym\\envs\\classic_control\\cartpole.py\u001b[0m in \u001b[0;36mrender\u001b[1;34m(self, mode)\u001b[0m\n\u001b[0;32m    211\u001b[0m         \u001b[0mself\u001b[0m\u001b[1;33m.\u001b[0m\u001b[0mpoletrans\u001b[0m\u001b[1;33m.\u001b[0m\u001b[0mset_rotation\u001b[0m\u001b[1;33m(\u001b[0m\u001b[1;33m-\u001b[0m\u001b[0mx\u001b[0m\u001b[1;33m[\u001b[0m\u001b[1;36m2\u001b[0m\u001b[1;33m]\u001b[0m\u001b[1;33m)\u001b[0m\u001b[1;33m\u001b[0m\u001b[1;33m\u001b[0m\u001b[0m\n\u001b[0;32m    212\u001b[0m \u001b[1;33m\u001b[0m\u001b[0m\n\u001b[1;32m--> 213\u001b[1;33m         \u001b[1;32mreturn\u001b[0m \u001b[0mself\u001b[0m\u001b[1;33m.\u001b[0m\u001b[0mviewer\u001b[0m\u001b[1;33m.\u001b[0m\u001b[0mrender\u001b[0m\u001b[1;33m(\u001b[0m\u001b[0mreturn_rgb_array\u001b[0m\u001b[1;33m=\u001b[0m\u001b[0mmode\u001b[0m \u001b[1;33m==\u001b[0m \u001b[1;34m'rgb_array'\u001b[0m\u001b[1;33m)\u001b[0m\u001b[1;33m\u001b[0m\u001b[1;33m\u001b[0m\u001b[0m\n\u001b[0m\u001b[0;32m    214\u001b[0m \u001b[1;33m\u001b[0m\u001b[0m\n\u001b[0;32m    215\u001b[0m     \u001b[1;32mdef\u001b[0m \u001b[0mclose\u001b[0m\u001b[1;33m(\u001b[0m\u001b[0mself\u001b[0m\u001b[1;33m)\u001b[0m\u001b[1;33m:\u001b[0m\u001b[1;33m\u001b[0m\u001b[1;33m\u001b[0m\u001b[0m\n",
      "\u001b[1;32m~\\Anaconda3\\envs\\deeplearning\\lib\\site-packages\\gym\\envs\\classic_control\\rendering.py\u001b[0m in \u001b[0;36mrender\u001b[1;34m(self, return_rgb_array)\u001b[0m\n\u001b[0;32m     99\u001b[0m \u001b[1;33m\u001b[0m\u001b[0m\n\u001b[0;32m    100\u001b[0m     \u001b[1;32mdef\u001b[0m \u001b[0mrender\u001b[0m\u001b[1;33m(\u001b[0m\u001b[0mself\u001b[0m\u001b[1;33m,\u001b[0m \u001b[0mreturn_rgb_array\u001b[0m\u001b[1;33m=\u001b[0m\u001b[1;32mFalse\u001b[0m\u001b[1;33m)\u001b[0m\u001b[1;33m:\u001b[0m\u001b[1;33m\u001b[0m\u001b[1;33m\u001b[0m\u001b[0m\n\u001b[1;32m--> 101\u001b[1;33m         \u001b[0mglClearColor\u001b[0m\u001b[1;33m(\u001b[0m\u001b[1;36m1\u001b[0m\u001b[1;33m,\u001b[0m\u001b[1;36m1\u001b[0m\u001b[1;33m,\u001b[0m\u001b[1;36m1\u001b[0m\u001b[1;33m,\u001b[0m\u001b[1;36m1\u001b[0m\u001b[1;33m)\u001b[0m\u001b[1;33m\u001b[0m\u001b[1;33m\u001b[0m\u001b[0m\n\u001b[0m\u001b[0;32m    102\u001b[0m         \u001b[0mself\u001b[0m\u001b[1;33m.\u001b[0m\u001b[0mwindow\u001b[0m\u001b[1;33m.\u001b[0m\u001b[0mclear\u001b[0m\u001b[1;33m(\u001b[0m\u001b[1;33m)\u001b[0m\u001b[1;33m\u001b[0m\u001b[1;33m\u001b[0m\u001b[0m\n\u001b[0;32m    103\u001b[0m         \u001b[0mself\u001b[0m\u001b[1;33m.\u001b[0m\u001b[0mwindow\u001b[0m\u001b[1;33m.\u001b[0m\u001b[0mswitch_to\u001b[0m\u001b[1;33m(\u001b[0m\u001b[1;33m)\u001b[0m\u001b[1;33m\u001b[0m\u001b[1;33m\u001b[0m\u001b[0m\n",
      "\u001b[1;32m~\\Anaconda3\\envs\\deeplearning\\lib\\site-packages\\pyglet\\gl\\lib.py\u001b[0m in \u001b[0;36merrcheck\u001b[1;34m(result, func, arguments)\u001b[0m\n\u001b[0;32m    102\u001b[0m         \u001b[1;32mraise\u001b[0m \u001b[0mGLException\u001b[0m\u001b[1;33m(\u001b[0m\u001b[1;34m'No GL context; create a Window first'\u001b[0m\u001b[1;33m)\u001b[0m\u001b[1;33m\u001b[0m\u001b[1;33m\u001b[0m\u001b[0m\n\u001b[0;32m    103\u001b[0m     \u001b[1;32mif\u001b[0m \u001b[1;32mnot\u001b[0m \u001b[0mcontext\u001b[0m\u001b[1;33m.\u001b[0m\u001b[0m_gl_begin\u001b[0m\u001b[1;33m:\u001b[0m\u001b[1;33m\u001b[0m\u001b[1;33m\u001b[0m\u001b[0m\n\u001b[1;32m--> 104\u001b[1;33m         \u001b[0merror\u001b[0m \u001b[1;33m=\u001b[0m \u001b[0mgl\u001b[0m\u001b[1;33m.\u001b[0m\u001b[0mglGetError\u001b[0m\u001b[1;33m(\u001b[0m\u001b[1;33m)\u001b[0m\u001b[1;33m\u001b[0m\u001b[1;33m\u001b[0m\u001b[0m\n\u001b[0m\u001b[0;32m    105\u001b[0m         \u001b[1;32mif\u001b[0m \u001b[0merror\u001b[0m\u001b[1;33m:\u001b[0m\u001b[1;33m\u001b[0m\u001b[1;33m\u001b[0m\u001b[0m\n\u001b[0;32m    106\u001b[0m             \u001b[0mmsg\u001b[0m \u001b[1;33m=\u001b[0m \u001b[0mctypes\u001b[0m\u001b[1;33m.\u001b[0m\u001b[0mcast\u001b[0m\u001b[1;33m(\u001b[0m\u001b[0mgl\u001b[0m\u001b[1;33m.\u001b[0m\u001b[0mgluErrorString\u001b[0m\u001b[1;33m(\u001b[0m\u001b[0merror\u001b[0m\u001b[1;33m)\u001b[0m\u001b[1;33m,\u001b[0m \u001b[0mctypes\u001b[0m\u001b[1;33m.\u001b[0m\u001b[0mc_char_p\u001b[0m\u001b[1;33m)\u001b[0m\u001b[1;33m.\u001b[0m\u001b[0mvalue\u001b[0m\u001b[1;33m\u001b[0m\u001b[1;33m\u001b[0m\u001b[0m\n",
      "\u001b[1;31mKeyboardInterrupt\u001b[0m: "
     ]
    }
   ],
   "source": [
    "#lets test the nn\n",
    "for i in tqdm(range(500)):\n",
    "    observation = env.reset()\n",
    "    observation = np.expand_dims(observation, axis=0)\n",
    "    total_reward = 0\n",
    "    for j in range(1000):\n",
    "        env.render()\n",
    "        nn_out = model_2.predict(observation)\n",
    "        action = policy(nn_out,0)\n",
    "        print(nn_out[0])\n",
    "        print(action)\n",
    "        observation,reward,done,info = env.step(action)\n",
    "        observation = np.expand_dims(observation, axis=0)\n",
    "        total_reward = total_reward + reward\n",
    "        if done:\n",
    "            print(\"episode ended\")\n",
    "            break\n",
    "env.close()"
   ]
  },
  {
   "cell_type": "code",
   "execution_count": 12,
   "metadata": {},
   "outputs": [],
   "source": [
    "env.close()"
   ]
  },
  {
   "cell_type": "code",
   "execution_count": null,
   "metadata": {},
   "outputs": [],
   "source": [
    "# random action\n",
    "for i in tqdm(range(50)):\n",
    "    observation = env.reset()\n",
    "    observation = np.expand_dims(observation, axis=0)\n",
    "    for j in range(1000):\n",
    "        env.render()\n",
    "        observation,reward,done,info = env.step(env.action_space.sample())\n",
    "        print(reward,done)\n",
    "        if done:\n",
    "            break"
   ]
  },
  {
   "cell_type": "code",
   "execution_count": null,
   "metadata": {},
   "outputs": [],
   "source": []
  }
 ],
 "metadata": {
  "kernelspec": {
   "display_name": "Python 3",
   "language": "python",
   "name": "python3"
  },
  "language_info": {
   "codemirror_mode": {
    "name": "ipython",
    "version": 3
   },
   "file_extension": ".py",
   "mimetype": "text/x-python",
   "name": "python",
   "nbconvert_exporter": "python",
   "pygments_lexer": "ipython3",
   "version": "3.6.9"
  }
 },
 "nbformat": 4,
 "nbformat_minor": 4
}
