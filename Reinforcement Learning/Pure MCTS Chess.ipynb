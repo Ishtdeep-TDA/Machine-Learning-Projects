{
 "cells": [
  {
   "cell_type": "code",
   "execution_count": 42,
   "metadata": {},
   "outputs": [],
   "source": [
    "import chess\n",
    "from copy import copy,deepcopy\n",
    "from tqdm import tqdm\n",
    "import random\n",
    "from random import choice\n",
    "import tensorflow as tf\n",
    "import numpy as np"
   ]
  },
  {
   "cell_type": "code",
   "execution_count": 71,
   "metadata": {},
   "outputs": [],
   "source": [
    "#from mcts import *\n",
    "\n",
    "import time\n",
    "import math\n",
    "import random\n",
    "\n",
    "\n",
    "def randomPolicy(state):\n",
    "    state_copy = State(state.board.copy(),state.player,not state.turn)\n",
    "    #time1 = time.time()\n",
    "    while not state_copy.isTerminal():\n",
    "        try:\n",
    "            action = random.choice(state_copy.getPossibleActions())\n",
    "        except IndexError:\n",
    "            raise Exception(\"Non-terminal state has no possible actions: \" + str(state))\n",
    "        state_copy.board.push(action[0])\n",
    "    #print((time.time() - time1))\n",
    "    return state.getReward()\n",
    "\n",
    "\n",
    "class treeNode():\n",
    "    def __init__(self, state, parent):\n",
    "        self.state = state\n",
    "        self.isTerminal = state.isTerminal()\n",
    "        self.isFullyExpanded = self.isTerminal\n",
    "        self.parent = parent\n",
    "        self.numVisits = 0\n",
    "        self.totalReward = 0\n",
    "        self.children = {}\n",
    "\n",
    "\n",
    "class mcts():\n",
    "    def __init__(self, timeLimit=None, iterationLimit=None, explorationConstant=1 / math.sqrt(2),\n",
    "                 rolloutPolicy=randomPolicy):\n",
    "        if timeLimit != None:\n",
    "            if iterationLimit != None:\n",
    "                raise ValueError(\"Cannot have both a time limit and an iteration limit\")\n",
    "            # time taken for each MCTS search in milliseconds\n",
    "            self.timeLimit = timeLimit\n",
    "            self.limitType = 'time'\n",
    "        else:\n",
    "            if iterationLimit == None:\n",
    "                raise ValueError(\"Must have either a time limit or an iteration limit\")\n",
    "            # number of iterations of the search\n",
    "            if iterationLimit < 1:\n",
    "                raise ValueError(\"Iteration limit must be greater than one\")\n",
    "            self.searchLimit = iterationLimit\n",
    "            self.limitType = 'iterations'\n",
    "        self.explorationConstant = explorationConstant\n",
    "        self.rollout = rolloutPolicy\n",
    "\n",
    "    def search(self, initialState):\n",
    "        self.root = treeNode(initialState, None)\n",
    "\n",
    "        if self.limitType == 'time':\n",
    "            timeLimit = time.time() + self.timeLimit / 1000\n",
    "            count = 0\n",
    "            while time.time() < timeLimit:\n",
    "                count = count + 1\n",
    "                self.executeRound()\n",
    "            print(\"Rollouts : \",count)\n",
    "        else:\n",
    "            for i in range(self.searchLimit):\n",
    "                self.executeRound()\n",
    "\n",
    "        bestChild = self.getBestChild(self.root, 0)\n",
    "        return self.getAction(self.root, bestChild)\n",
    "\n",
    "    def executeRound(self):\n",
    "        node = self.selectNode(self.root)\n",
    "        reward = self.rollout(node.state)\n",
    "        self.backpropogate(node, reward)\n",
    "\n",
    "    def selectNode(self, node):\n",
    "        while not node.isTerminal:\n",
    "            if node.isFullyExpanded:\n",
    "                node = self.getBestChild(node, self.explorationConstant)\n",
    "            else:\n",
    "                return self.expand(node)\n",
    "        return node\n",
    "\n",
    "    def expand(self, node):\n",
    "        actions = node.state.getPossibleActions()\n",
    "        for action in actions:\n",
    "            if action not in node.children:\n",
    "                newNode = treeNode(node.state.takeAction(action), node)\n",
    "                node.children[action] = newNode\n",
    "                if len(actions) == len(node.children):\n",
    "                    node.isFullyExpanded = True\n",
    "                return newNode\n",
    "\n",
    "        raise Exception(\"Should never reach here\")\n",
    "\n",
    "    def backpropogate(self, node, reward):\n",
    "        while node is not None:\n",
    "            node.numVisits += 1\n",
    "            node.totalReward += reward\n",
    "            node = node.parent\n",
    "\n",
    "    def getBestChild(self, node, explorationValue):\n",
    "        bestValue = float(\"-inf\")\n",
    "        bestNodes = []\n",
    "        for child in node.children.values():\n",
    "            nodeValue = node.state.getCurrentPlayer() * child.totalReward / child.numVisits + explorationValue * math.sqrt(\n",
    "                2 * math.log(node.numVisits) / child.numVisits)\n",
    "            if nodeValue > bestValue:\n",
    "                bestValue = nodeValue\n",
    "                bestNodes = [child]\n",
    "            elif nodeValue == bestValue:\n",
    "                bestNodes.append(child)\n",
    "        return random.choice(bestNodes)\n",
    "\n",
    "    def getAction(self, root, bestChild):\n",
    "        for action, node in root.children.items():\n",
    "            if node is bestChild:\n",
    "                return action"
   ]
  },
  {
   "cell_type": "code",
   "execution_count": 72,
   "metadata": {
    "tags": []
   },
   "outputs": [
    {
     "output_type": "stream",
     "name": "stdout",
     "text": "0.7201623916625977\n"
    }
   ],
   "source": [
    "temp_board = chess.Board()\n",
    "start_time = time.time()\n",
    "for i in range(10000):\n",
    "    temp_board = chess.Board()\n",
    "    z = list(temp_board.legal_moves)\n",
    "    x = []\n",
    "    for j in z:\n",
    "        x.append(j)\n",
    "    new_state = State(temp_board.copy(),1,True)\n",
    "    new_state.board.push(z[0])\n",
    "temp_board\n",
    "print((time.time() - start_time))"
   ]
  },
  {
   "cell_type": "code",
   "execution_count": 73,
   "metadata": {
    "tags": []
   },
   "outputs": [
    {
     "output_type": "stream",
     "name": "stdout",
     "text": "0.05001020431518555\n"
    }
   ],
   "source": [
    "# lets see how much time it takes to do a random rollout\n",
    "temp_board = chess.Board()\n",
    "start_time = time.time()\n",
    "done = False\n",
    "while not done:\n",
    "    temp_list = list(temp_board.legal_moves)\n",
    "    temp_board.push(choice(temp_list))\n",
    "    if temp_board.result() != \"*\":\n",
    "        done = True\n",
    "print((time.time() - start_time))"
   ]
  },
  {
   "cell_type": "code",
   "execution_count": 74,
   "metadata": {},
   "outputs": [],
   "source": [
    "class State():\n",
    "    def __init__(self,board,player,turn):\n",
    "        self.board = board\n",
    "        self.player = player # 1 player (white), 2 player (black) (only used for rewards)\n",
    "        self.turn = turn # true white, false black\n",
    "    def getCurrentPlayer(self):\n",
    "        return self.player\n",
    "    def getPossibleActions(self):\n",
    "        # making action to be a tuple for stupid reasons \n",
    "\n",
    "        temp = list(self.board.legal_moves)\n",
    "        output = []\n",
    "        for i in temp:\n",
    "            output.append((i,0))\n",
    "        return output\n",
    "\n",
    "    def takeAction(self,action):\n",
    "        new_state = State(self.board.copy(),self.player,not self.turn)\n",
    "        new_state.board.push(action[0])\n",
    "        return new_state\n",
    "\n",
    "    def isTerminal(self):\n",
    "        if self.board.result() == \"*\":\n",
    "            return False\n",
    "        else:\n",
    "            return True\n",
    "\n",
    "    def getReward(self):\n",
    "        if self.board.result() == \"*\":\n",
    "            return 0\n",
    "        if self.board.result() == \"1/2-1/2\":\n",
    "            return 0.5\n",
    "        if self.board.result() == \"1-0\" and self.player == 1:\n",
    "            return 1\n",
    "        elif self.board.result() == \"1-0\" and self.player == 2:\n",
    "            return -1\n",
    "        if self.board.result() == \"0-1\" and self.player == 2:\n",
    "            return 1\n",
    "        elif self.board.result() == \"0-1\" and self.player == 1:\n",
    "            return -1\n"
   ]
  },
  {
   "cell_type": "code",
   "execution_count": 75,
   "metadata": {
    "tags": []
   },
   "outputs": [
    {
     "output_type": "stream",
     "name": "stdout",
     "text": "Rollouts :  64\n"
    }
   ],
   "source": [
    "temp_board = chess.Board()\n",
    "initialState = State(temp_board,1,True)\n",
    "tree = mcts(timeLimit=2000)\n",
    "action = tree.search(initialState=initialState)"
   ]
  },
  {
   "cell_type": "code",
   "execution_count": 76,
   "metadata": {
    "tags": []
   },
   "outputs": [],
   "source": [
    "import chess\n",
    "import chess.svg\n",
    "from IPython.display import SVG, display\n",
    "board = chess.Board()\n"
   ]
  },
  {
   "source": [
    "## SELF PLAY LOOP"
   ],
   "cell_type": "markdown",
   "metadata": {}
  },
  {
   "source": [
    "for i in range(1):\n",
    "    board = chess.Board()\n",
    "    done = False\n",
    "    turn = True # white's turn\n",
    "    while not done:\n",
    "        if turn:\n",
    "            initialState = State(board,1,True)\n",
    "            tree = mcts(timeLimit=10000)\n",
    "            action = tree.search(initialState=initialState)\n",
    "            board.push(action[0])\n",
    "            turn = False\n",
    "            print(board)\n",
    "            print()\n",
    "        else:\n",
    "            initialState = State(board,2,False)\n",
    "            tree = mcts(timeLimit=10000)\n",
    "            action = tree.search(initialState=initialState)\n",
    "            board.push(action[0])\n",
    "            turn = True\n",
    "            print(board)\n",
    "            print()\n",
    "        if board.result() != \"*\":\n",
    "            done = True\n",
    "            print(board.result())\n"
   ],
   "cell_type": "code",
   "metadata": {
    "tags": []
   },
   "execution_count": 80,
   "outputs": [
    {
     "output_type": "stream",
     "name": "stdout",
     "text": "Rollouts :  312\nr n b q k b n r\np p p p p p p p\n. . . . . . . .\n. . . . . . . .\n. . . . . . . .\n. . . . . P . .\nP P P P P . P P\nR N B Q K B N R\n\nRollouts :  315\nr . b q k b n r\np p p p p p p p\nn . . . . . . .\n. . . . . . . .\n. . . . . . . .\n. . . . . P . .\nP P P P P . P P\nR N B Q K B N R\n\nRollouts :  315\nr . b q k b n r\np p p p p p p p\nn . . . . . . .\n. . . . . . . .\n. . . . . . . .\n. . . . . P . N\nP P P P P . P P\nR N B Q K B . R\n\nRollouts :  310\nr . b q k b n r\np p p p p p p p\n. . . . . . . .\n. . . . . . . .\n. n . . . . . .\n. . . . . P . N\nP P P P P . P P\nR N B Q K B . R\n\nRollouts :  318\nr . b q k b n r\np p p p p p p p\n. . . . . . . .\n. . . . . . . .\n. n P . . . . .\n. . . . . P . N\nP P . P P . P P\nR N B Q K B . R\n\nRollouts :  305\nr . b q k b n r\np p p p p p . p\n. . . . . . . .\n. . . . . . p .\n. n P . . . . .\n. . . . . P . N\nP P . P P . P P\nR N B Q K B . R\n\nRollouts :  316\nr . b q k b n r\np p p p p p . p\n. . . . . . . .\n. . . . . . p .\n. n P . . . . .\nP . . . . P . N\n. P . P P . P P\nR N B Q K B . R\n\nRollouts :  318\nr . b q k b n r\n. p p p p p . p\np . . . . . . .\n. . . . . . p .\n. n P . . . . .\nP . . . . P . N\n. P . P P . P P\nR N B Q K B . R\n\nRollouts :  323\nr . b q k b n r\n. p p p p p . p\np . . . . . . .\n. . . . . . p .\n. n P . . P . .\nP . . . . . . N\n. P . P P . P P\nR N B Q K B . R\n\nRollouts :  323\nr . b q k b n r\n. p . p p p . p\np . p . . . . .\n. . . . . . p .\n. n P . . P . .\nP . . . . . . N\n. P . P P . P P\nR N B Q K B . R\n\nRollouts :  319\nr . b q k b n r\n. p . p p p . p\np . p . . . . .\n. . . . . P p .\n. n P . . . . .\nP . . . . . . N\n. P . P P . P P\nR N B Q K B . R\n\nRollouts :  319\nr . b q k b . r\n. p . p p p . p\np . p . . . . n\n. . . . . P p .\n. n P . . . . .\nP . . . . . . N\n. P . P P . P P\nR N B Q K B . R\n\nRollouts :  323\nr . b q k b . r\n. p . p p p . p\np . p . . . . n\n. . . . . P p .\n. n P . . . . .\nP . . . . . . N\nR P . P P . P P\n. N B Q K B . R\n\nRollouts :  318\nr . b q k b . r\n. p . p p p . p\np . p . . . . n\n. . . . . P p .\n. . P . . . . .\nP . . n . . . N\nR P . P P . P P\n. N B Q K B . R\n\nRollouts :  307\nr . b q k b . r\n. p . p p p . p\np . p . . . . n\n. . . . . P p .\n. . P . . . . .\nP . . P . . . N\nR P . P . . P P\n. N B Q K B . R\n\nRollouts :  337\nr . b q k b . r\n. p . p p p . p\np . p . . . . n\n. . . . . P . .\n. . P . . . p .\nP . . P . . . N\nR P . P . . P P\n. N B Q K B . R\n\nRollouts :  327\nr . b q k b . r\n. p . p p p . p\np . p . . . . n\n. . P . . P . .\n. . . . . . p .\nP . . P . . . N\nR P . P . . P P\n. N B Q K B . R\n\nRollouts :  316\nr . b q k b . r\n. . . p p p . p\np . p . . . . n\n. p P . . P . .\n. . . . . . p .\nP . . P . . . N\nR P . P . . P P\n. N B Q K B . R\n\nRollouts :  328\nr . b q k b . r\n. . . p p p . p\np . p . . . . n\n. p P . . P . .\n. P . . . . p .\nP . . P . . . N\nR . . P . . P P\n. N B Q K B . R\n\nRollouts :  319\nr . b q k b r .\n. . . p p p . p\np . p . . . . n\n. p P . . P . .\n. P . . . . p .\nP . . P . . . N\nR . . P . . P P\n. N B Q K B . R\n\nRollouts :  325\nr . b q k b r .\n. . . p p p . p\np . p . . . . n\n. p P . . P . .\n. P . . . . p .\nP . . P . Q . N\nR . . P . . P P\n. N B . K B . R\n\nRollouts :  333\nr . b q k . r .\n. . . p p p b p\np . p . . . . n\n. p P . . P . .\n. P . . . . p .\nP . . P . Q . N\nR . . P . . P P\n. N B . K B . R\n\nRollouts :  317\nr . b q k . r .\n. . . p p p b p\np . p . . . . n\n. p P . . P . .\n. P . . . . p .\nP . . P . . . N\nR . . P . Q P P\n. N B . K B . R\n\nRollouts :  317\nr . b q k . r .\n. . . p p p . p\np . p . . . . n\n. p P . . P . .\n. P . . . . p .\nP . b P . . . N\nR . . P . Q P P\n. N B . K B . R\n\nRollouts :  324\nr . b q k . r .\n. . . p p p . p\np . p . . . . n\n. p P . . P . .\nP P . . . . p .\n. . b P . . . N\nR . . P . Q P P\n. N B . K B . R\n\nRollouts :  336\nr . b q k r . .\n. . . p p p . p\np . p . . . . n\n. p P . . P . .\nP P . . . . p .\n. . b P . . . N\nR . . P . Q P P\n. N B . K B . R\n\nRollouts :  315\nr . b q k r . .\n. . . p p p . p\np . p . . . . n\n. p P . . P . .\nP P . . . . p .\n. . b P . . . N\n. . . P . Q P P\nR N B . K B . R\n\nRollouts :  341\nr . b q k r . .\n. . . p p p . p\np . p . . . . n\n. . P . . P . .\np P . . . . p .\n. . b P . . . N\n. . . P . Q P P\nR N B . K B . R\n\nRollouts :  334\nr . b q k r . .\n. . . p p p . p\np . p . . . . n\n. . P . . P . .\np P . . . . p .\nR . b P . . . N\n. . . P . Q P P\n. N B . K B . R\n\nRollouts :  351\nr . b q k r . .\n. . . p . p . p\np . p . p . . n\n. . P . . P . .\np P . . . . p .\nR . b P . . . N\n. . . P . Q P P\n. N B . K B . R\n\nRollouts :  342\nr . b q k r . .\n. . . p . p . p\np . p . p . . n\n. . P . . P . .\np P . . . . p .\nR . b P . . . N\n. . . P . Q P P\n. N B K . B . R\n\nRollouts :  334\nr . b . k r . .\n. . . p . p . p\np . p . p q . n\n. . P . . P . .\np P . . . . p .\nR . b P . . . N\n. . . P . Q P P\n. N B K . B . R\n\nRollouts :  358\nr . b . k r . .\n. . . p . p . p\np . p . p q . n\n. . P . . P . .\np P . . . . p .\nR . b P . . . N\n. . . P K Q P P\n. N B . . B . R\n\nRollouts :  334\nr . b . k . . r\n. . . p . p . p\np . p . p q . n\n. . P . . P . .\np P . . . . p .\nR . b P . . . N\n. . . P K Q P P\n. N B . . B . R\n\nRollouts :  326\nr . b . k . . r\n. . . p . p . p\np . p . p q . n\n. . P . . P . .\np P . . . . p Q\nR . b P . . . N\n. . . P K . P P\n. N B . . B . R\n\nRollouts :  329\nr . b . k . . r\n. . . p . p . p\np . p . p . . n\n. . P . . P q .\np P . . . . p Q\nR . b P . . . N\n. . . P K . P P\n. N B . . B . R\n\nRollouts :  327\nr . b . k . . r\n. . . p . p . p\np . p . p . . n\n. . P . . P q .\np P . . . . p Q\nR . P P . . . N\n. . . . K . P P\n. N B . . B . R\n\nRollouts :  330\nr . b . k . . r\n. . . p . p . p\np . p . p . . n\n. . P . . P . q\np P . . . . p Q\nR . P P . . . N\n. . . . K . P P\n. N B . . B . R\n\nRollouts :  339\nr . b . k . . r\n. . . p . p . p\np . p . p . . n\n. . P . . P . q\np P . . . . p Q\nR . P P . . . N\n. . . . . . P P\n. N B K . B . R\n\nRollouts :  346\nr . b . k . . r\n. . . p . p . p\np . p . p . . .\n. . P . . n . q\np P . . . . p Q\nR . P P . . . N\n. . . . . . P P\n. N B K . B . R\n\nRollouts :  349\nr . b . k . . r\n. . . p . p . p\np . p . p . . .\n. . P . . n . q\np P . P . . p Q\nR . P . . . . N\n. . . . . . P P\n. N B K . B . R\n\nRollouts :  335\nr . b . k . . r\n. . . p . p . p\np . p . p . . .\n. . P . . n . q\np P . P . . . Q\nR . P . . . . p\n. . . . . . P P\n. N B K . B . R\n\nRollouts :  335\nr . b . k . . r\n. . . p . p . p\np . p . p . . .\n. . P . . n . q\np P . P . . . Q\nR . P . . . . p\n. . . . B . P P\n. N B K . . . R\n\nRollouts :  359\nr . b . k . . r\n. . . p . p . p\np . p n p . . .\n. . P . . . . q\np P . P . . . Q\nR . P . . . . p\n. . . . B . P P\n. N B K . . . R\n\nRollouts :  337\nr . b . k . . r\n. . . p . p . p\np . p n p . . .\n. . P . . . . q\np P . P . . . Q\nR . P . . . . p\n. . . . B . P P\n. N B K . . R .\n\nRollouts :  345\nr . b . k . . r\n. . . p . p . p\np . p n p . . .\n. . P . . . . .\np P . P . . . Q\nR . P . . . . p\n. . . . q . P P\n. N B K . . R .\n\nRollouts :  350\nr . b . k . . r\n. . . p . p . p\np . p n p . . .\n. . P . . . . .\np P . P . . . Q\nR . P . . . . p\n. . . . K . P P\n. N B . . . R .\n\nRollouts :  340\nr . b . k . . r\n. . . p . p . p\np . p . p . . .\n. . P . . . . .\np P . P n . . Q\nR . P . . . . p\n. . . . K . P P\n. N B . . . R .\n\nRollouts :  334\nr . b . k . . r\n. . . p . p . p\np . p . p . . .\n. . P . . . . .\np P . P n . . .\nR . P . . . . p\n. . . . K . P P\n. N B . Q . R .\n\nRollouts :  340\nr . . . k . . r\n. b . p . p . p\np . p . p . . .\n. . P . . . . .\np P . P n . . .\nR . P . . . . p\n. . . . K . P P\n. N B . Q . R .\n\nRollouts :  348\nr . . . k . . r\n. b . p . p . p\np . p . p . . .\n. . P . . . . .\np P . P n . . .\nR . P . . . . p\n. . . N K . P P\n. . B . Q . R .\n\nRollouts :  330\nr . . . k . . r\n. b . p . p . p\n. . p . p . . .\np . P . . . . .\np P . P n . . .\nR . P . . . . p\n. . . N K . P P\n. . B . Q . R .\n\nRollouts :  349\nr . . . k . . r\n. b . p . p . p\n. . p . p . . .\np . P . . . . .\np P . P n . P .\nR . P . . . . p\n. . . N K . . P\n. . B . Q . R .\n\nRollouts :  341\nr . . . k . . r\n. b . p . p . p\n. . p . p . . .\np . P . . . . .\np P . P . . P .\nR . P . . . . p\n. . . N K n . P\n. . B . Q . R .\n\nRollouts :  342\nr . . . k . . r\n. b . p . p . p\n. . p . p . . .\np . P . . . . .\np P . P . . P .\nR . P . . . . p\n. . . . K n . P\n. N B . Q . R .\n\nRollouts :  361\nr . . . k . . r\n. b . p . p . p\n. . p . p . . .\np . P . . . . .\np P . P . . P .\nR . P n . . . p\n. . . . K . . P\n. N B . Q . R .\n\nRollouts :  347\nr . . . k . . r\n. b . p . p . p\n. . p . p . . .\np . P . . . . .\np P . P . . P .\nR . P K . . . p\n. . . . . . . P\n. N B . Q . R .\n\nRollouts :  348\nr . . . k . . r\n. b . . . p . p\n. . p . p . . .\np . P p . . . .\np P . P . . P .\nR . P K . . . p\n. . . . . . . P\n. N B . Q . R .\n\nRollouts :  342\nr . . . k . . r\n. b . . . p . p\n. . p P p . . .\np . . . . . . .\np P . P . . P .\nR . P K . . . p\n. . . . . . . P\n. N B . Q . R .\n\nRollouts :  356\nr . . k . . . r\n. b . . . p . p\n. . p P p . . .\np . . . . . . .\np P . P . . P .\nR . P K . . . p\n. . . . . . . P\n. N B . Q . R .\n\nRollouts :  355\nr . . k . . . r\n. b . . . p . p\n. . p P p . . .\np . . P . . . .\np P . . . . P .\nR . P K . . . p\n. . . . . . . P\n. N B . Q . R .\n\nRollouts :  353\nr . . k . . . r\n. b . . . . . p\n. . p P p p . .\np . . P . . . .\np P . . . . P .\nR . P K . . . p\n. . . . . . . P\n. N B . Q . R .\n\nRollouts :  363\nr . . k . . . r\n. b . . . . . p\n. . p P p p . B\np . . P . . . .\np P . . . . P .\nR . P K . . . p\n. . . . . . . P\n. N . . Q . R .\n\nRollouts :  369\n. . r k . . . r\n. b . . . . . p\n. . p P p p . B\np . . P . . . .\np P . . . . P .\nR . P K . . . p\n. . . . . . . P\n. N . . Q . R .\n\nRollouts :  380\n. . r k . . . r\n. b . . . . . p\n. . p P p p . B\np . . P . . . .\np P . K . . P .\nR . P . . . . p\n. . . . . . . P\n. N . . Q . R .\n\nRollouts :  375\n. . r k . r . .\n. b . . . . . p\n. . p P p p . B\np . . P . . . .\np P . K . . P .\nR . P . . . . p\n. . . . . . . P\n. N . . Q . R .\n\nRollouts :  376\n. . r k . r . .\n. b . . . . . p\n. . p P p p . B\np . . P . . . .\np P P K . . P .\nR . . . . . . p\n. . . . . . . P\n. N . . Q . R .\n\nRollouts :  373\nb . r k . r . .\n. . . . . . . p\n. . p P p p . B\np . . P . . . .\np P P K . . P .\nR . . . . . . p\n. . . . . . . P\n. N . . Q . R .\n\nRollouts :  370\nb . r k . r . .\n. . . . . . . p\n. . p P p p . B\np . . P . . . .\np P P K . . P .\n. . R . . . . p\n. . . . . . . P\n. N . . Q . R .\n\nRollouts :  385\nb . r k . . r .\n. . . . . . . p\n. . p P p p . B\np . . P . . . .\np P P K . . P .\n. . R . . . . p\n. . . . . . . P\n. N . . Q . R .\n\nRollouts :  374\nb . r k . . r .\n. . . . . . . p\n. . p P p p . B\np . . P . . . .\np P P K . . P .\nN . R . . . . p\n. . . . . . . P\n. . . . Q . R .\n\nRollouts :  371\nb . r k . . r .\n. . . . . . . p\n. . p P p p . B\n. . . P . . . .\np p P K . . P .\nN . R . . . . p\n. . . . . . . P\n. . . . Q . R .\n\nRollouts :  392\nb . r k . . r .\n. . . . . . . p\n. . p P p p . B\n. . . P . . . .\np p P K . . P .\nN . . . . . R p\n. . . . . . . P\n. . . . Q . R .\n\nRollouts :  378\nb . r . k . r .\n. . . . . . . p\n. . p P p p . B\n. . . P . . . .\np p P K . . P .\nN . . . . . R p\n. . . . . . . P\n. . . . Q . R .\n\nRollouts :  381\nb . r . k . r .\n. . . . . . B p\n. . p P p p . .\n. . . P . . . .\np p P K . . P .\nN . . . . . R p\n. . . . . . . P\n. . . . Q . R .\n\nRollouts :  383\nb . r . . . r .\n. . . k . . B p\n. . p P p p . .\n. . . P . . . .\np p P K . . P .\nN . . . . . R p\n. . . . . . . P\n. . . . Q . R .\n\nRollouts :  377\nb . r . . . r .\n. . . k . . B p\n. . p P Q p . .\n. . . P . . . .\np p P K . . P .\nN . . . . . R p\n. . . . . . . P\n. . . . . . R .\n\nRollouts :  399\nb . r k . . r .\n. . . . . . B p\n. . p P Q p . .\n. . . P . . . .\np p P K . . P .\nN . . . . . R p\n. . . . . . . P\n. . . . . . R .\n\nRollouts :  6017\nb . r k . . r .\n. . . . . . . p\n. . p P Q B . .\n. . . P . . . .\np p P K . . P .\nN . . . . . R p\n. . . . . . . P\n. . . . . . R .\n\n1-0\n"
    }
   ]
  },
  {
   "cell_type": "code",
   "execution_count": null,
   "metadata": {},
   "outputs": [],
   "source": []
  }
 ],
 "metadata": {
  "kernelspec": {
   "name": "Python 3.6.9 64-bit ('deeplearning': conda)",
   "display_name": "Python 3.6.9 64-bit ('deeplearning': conda)",
   "metadata": {
    "interpreter": {
     "hash": "4e1fd0f1610f3830422031ee8a6eb611aee455366553aa4422538f0df1caf2fa"
    }
   }
  },
  "language_info": {
   "codemirror_mode": {
    "name": "ipython",
    "version": 3
   },
   "file_extension": ".py",
   "mimetype": "text/x-python",
   "name": "python",
   "nbconvert_exporter": "python",
   "pygments_lexer": "ipython3",
   "version": "3.6.9-final"
  }
 },
 "nbformat": 4,
 "nbformat_minor": 4
}