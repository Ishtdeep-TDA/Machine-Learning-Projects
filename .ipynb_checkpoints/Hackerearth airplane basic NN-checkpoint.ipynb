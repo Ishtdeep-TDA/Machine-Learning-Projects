{
 "cells": [
  {
   "cell_type": "code",
   "execution_count": 1,
   "metadata": {},
   "outputs": [],
   "source": [
    "import numpy as np\n",
    "import pandas as pd\n",
    "import matplotlib.pyplot as plt"
   ]
  },
  {
   "cell_type": "code",
   "execution_count": 2,
   "metadata": {},
   "outputs": [],
   "source": [
    "df = pd.read_csv(r\"E:\\Data Science\\Kaggle Competitions dataset\\Hackerearth Airplane Accident/train.csv\")\n",
    "df_test = pd.read_csv(r\"E:\\Data Science\\Kaggle Competitions dataset\\Hackerearth Airplane Accident/test.csv\")"
   ]
  },
  {
   "cell_type": "code",
   "execution_count": 3,
   "metadata": {},
   "outputs": [
    {
     "data": {
      "text/html": [
       "<div>\n",
       "<style scoped>\n",
       "    .dataframe tbody tr th:only-of-type {\n",
       "        vertical-align: middle;\n",
       "    }\n",
       "\n",
       "    .dataframe tbody tr th {\n",
       "        vertical-align: top;\n",
       "    }\n",
       "\n",
       "    .dataframe thead th {\n",
       "        text-align: right;\n",
       "    }\n",
       "</style>\n",
       "<table border=\"1\" class=\"dataframe\">\n",
       "  <thead>\n",
       "    <tr style=\"text-align: right;\">\n",
       "      <th></th>\n",
       "      <th>Severity</th>\n",
       "      <th>Safety_Score</th>\n",
       "      <th>Days_Since_Inspection</th>\n",
       "      <th>Total_Safety_Complaints</th>\n",
       "      <th>Control_Metric</th>\n",
       "      <th>Turbulence_In_gforces</th>\n",
       "      <th>Cabin_Temperature</th>\n",
       "      <th>Accident_Type_Code</th>\n",
       "      <th>Max_Elevation</th>\n",
       "      <th>Violations</th>\n",
       "      <th>Adverse_Weather_Metric</th>\n",
       "      <th>Accident_ID</th>\n",
       "    </tr>\n",
       "  </thead>\n",
       "  <tbody>\n",
       "    <tr>\n",
       "      <th>0</th>\n",
       "      <td>Minor_Damage_And_Injuries</td>\n",
       "      <td>49.223744</td>\n",
       "      <td>14</td>\n",
       "      <td>22</td>\n",
       "      <td>71.285324</td>\n",
       "      <td>0.272118</td>\n",
       "      <td>78.04</td>\n",
       "      <td>2</td>\n",
       "      <td>31335.476824</td>\n",
       "      <td>3</td>\n",
       "      <td>0.424352</td>\n",
       "      <td>7570</td>\n",
       "    </tr>\n",
       "    <tr>\n",
       "      <th>1</th>\n",
       "      <td>Minor_Damage_And_Injuries</td>\n",
       "      <td>62.465753</td>\n",
       "      <td>10</td>\n",
       "      <td>27</td>\n",
       "      <td>72.288058</td>\n",
       "      <td>0.423939</td>\n",
       "      <td>84.54</td>\n",
       "      <td>2</td>\n",
       "      <td>26024.711057</td>\n",
       "      <td>2</td>\n",
       "      <td>0.352350</td>\n",
       "      <td>12128</td>\n",
       "    </tr>\n",
       "    <tr>\n",
       "      <th>2</th>\n",
       "      <td>Significant_Damage_And_Fatalities</td>\n",
       "      <td>63.059361</td>\n",
       "      <td>13</td>\n",
       "      <td>16</td>\n",
       "      <td>66.362808</td>\n",
       "      <td>0.322604</td>\n",
       "      <td>78.86</td>\n",
       "      <td>7</td>\n",
       "      <td>39269.053927</td>\n",
       "      <td>3</td>\n",
       "      <td>0.003364</td>\n",
       "      <td>2181</td>\n",
       "    </tr>\n",
       "    <tr>\n",
       "      <th>3</th>\n",
       "      <td>Significant_Damage_And_Serious_Injuries</td>\n",
       "      <td>48.082192</td>\n",
       "      <td>11</td>\n",
       "      <td>9</td>\n",
       "      <td>74.703737</td>\n",
       "      <td>0.337029</td>\n",
       "      <td>81.79</td>\n",
       "      <td>3</td>\n",
       "      <td>42771.499200</td>\n",
       "      <td>1</td>\n",
       "      <td>0.211728</td>\n",
       "      <td>5946</td>\n",
       "    </tr>\n",
       "    <tr>\n",
       "      <th>4</th>\n",
       "      <td>Significant_Damage_And_Fatalities</td>\n",
       "      <td>26.484018</td>\n",
       "      <td>13</td>\n",
       "      <td>25</td>\n",
       "      <td>47.948952</td>\n",
       "      <td>0.541140</td>\n",
       "      <td>77.16</td>\n",
       "      <td>3</td>\n",
       "      <td>35509.228515</td>\n",
       "      <td>2</td>\n",
       "      <td>0.176883</td>\n",
       "      <td>9054</td>\n",
       "    </tr>\n",
       "  </tbody>\n",
       "</table>\n",
       "</div>"
      ],
      "text/plain": [
       "                                  Severity  Safety_Score  \\\n",
       "0                Minor_Damage_And_Injuries     49.223744   \n",
       "1                Minor_Damage_And_Injuries     62.465753   \n",
       "2        Significant_Damage_And_Fatalities     63.059361   \n",
       "3  Significant_Damage_And_Serious_Injuries     48.082192   \n",
       "4        Significant_Damage_And_Fatalities     26.484018   \n",
       "\n",
       "   Days_Since_Inspection  Total_Safety_Complaints  Control_Metric  \\\n",
       "0                     14                       22       71.285324   \n",
       "1                     10                       27       72.288058   \n",
       "2                     13                       16       66.362808   \n",
       "3                     11                        9       74.703737   \n",
       "4                     13                       25       47.948952   \n",
       "\n",
       "   Turbulence_In_gforces  Cabin_Temperature  Accident_Type_Code  \\\n",
       "0               0.272118              78.04                   2   \n",
       "1               0.423939              84.54                   2   \n",
       "2               0.322604              78.86                   7   \n",
       "3               0.337029              81.79                   3   \n",
       "4               0.541140              77.16                   3   \n",
       "\n",
       "   Max_Elevation  Violations  Adverse_Weather_Metric  Accident_ID  \n",
       "0   31335.476824           3                0.424352         7570  \n",
       "1   26024.711057           2                0.352350        12128  \n",
       "2   39269.053927           3                0.003364         2181  \n",
       "3   42771.499200           1                0.211728         5946  \n",
       "4   35509.228515           2                0.176883         9054  "
      ]
     },
     "execution_count": 3,
     "metadata": {},
     "output_type": "execute_result"
    }
   ],
   "source": [
    "df.head()"
   ]
  },
  {
   "cell_type": "code",
   "execution_count": 4,
   "metadata": {},
   "outputs": [],
   "source": [
    "y = df[\"Severity\"]\n",
    "df = df.drop(\"Severity\",axis =1)"
   ]
  },
  {
   "cell_type": "code",
   "execution_count": 5,
   "metadata": {},
   "outputs": [],
   "source": [
    "df = df.drop(\"Accident_ID\",axis = 1)\n",
    "ID = df_test[\"Accident_ID\"]\n",
    "df_test = df_test.drop(\"Accident_ID\",axis = 1)"
   ]
  },
  {
   "cell_type": "code",
   "execution_count": 6,
   "metadata": {},
   "outputs": [
    {
     "data": {
      "text/plain": [
       "(10000, 10)"
      ]
     },
     "execution_count": 6,
     "metadata": {},
     "output_type": "execute_result"
    }
   ],
   "source": [
    "df.shape"
   ]
  },
  {
   "cell_type": "code",
   "execution_count": 7,
   "metadata": {},
   "outputs": [
    {
     "data": {
      "text/html": [
       "<div>\n",
       "<style scoped>\n",
       "    .dataframe tbody tr th:only-of-type {\n",
       "        vertical-align: middle;\n",
       "    }\n",
       "\n",
       "    .dataframe tbody tr th {\n",
       "        vertical-align: top;\n",
       "    }\n",
       "\n",
       "    .dataframe thead th {\n",
       "        text-align: right;\n",
       "    }\n",
       "</style>\n",
       "<table border=\"1\" class=\"dataframe\">\n",
       "  <thead>\n",
       "    <tr style=\"text-align: right;\">\n",
       "      <th></th>\n",
       "      <th>Safety_Score</th>\n",
       "      <th>Days_Since_Inspection</th>\n",
       "      <th>Total_Safety_Complaints</th>\n",
       "      <th>Control_Metric</th>\n",
       "      <th>Turbulence_In_gforces</th>\n",
       "      <th>Cabin_Temperature</th>\n",
       "      <th>Accident_Type_Code</th>\n",
       "      <th>Max_Elevation</th>\n",
       "      <th>Violations</th>\n",
       "      <th>Adverse_Weather_Metric</th>\n",
       "    </tr>\n",
       "  </thead>\n",
       "  <tbody>\n",
       "    <tr>\n",
       "      <th>0</th>\n",
       "      <td>19.497717</td>\n",
       "      <td>16</td>\n",
       "      <td>6</td>\n",
       "      <td>72.151322</td>\n",
       "      <td>0.388959</td>\n",
       "      <td>78.32</td>\n",
       "      <td>4</td>\n",
       "      <td>37949.724386</td>\n",
       "      <td>2</td>\n",
       "      <td>0.069692</td>\n",
       "    </tr>\n",
       "    <tr>\n",
       "      <th>1</th>\n",
       "      <td>58.173516</td>\n",
       "      <td>15</td>\n",
       "      <td>3</td>\n",
       "      <td>64.585232</td>\n",
       "      <td>0.250841</td>\n",
       "      <td>78.60</td>\n",
       "      <td>7</td>\n",
       "      <td>30194.805567</td>\n",
       "      <td>2</td>\n",
       "      <td>0.002777</td>\n",
       "    </tr>\n",
       "    <tr>\n",
       "      <th>2</th>\n",
       "      <td>33.287671</td>\n",
       "      <td>15</td>\n",
       "      <td>3</td>\n",
       "      <td>64.721969</td>\n",
       "      <td>0.336669</td>\n",
       "      <td>86.96</td>\n",
       "      <td>6</td>\n",
       "      <td>17572.925484</td>\n",
       "      <td>1</td>\n",
       "      <td>0.004316</td>\n",
       "    </tr>\n",
       "    <tr>\n",
       "      <th>3</th>\n",
       "      <td>3.287671</td>\n",
       "      <td>21</td>\n",
       "      <td>5</td>\n",
       "      <td>66.362808</td>\n",
       "      <td>0.421775</td>\n",
       "      <td>80.86</td>\n",
       "      <td>3</td>\n",
       "      <td>40209.186341</td>\n",
       "      <td>2</td>\n",
       "      <td>0.199990</td>\n",
       "    </tr>\n",
       "    <tr>\n",
       "      <th>4</th>\n",
       "      <td>10.867580</td>\n",
       "      <td>18</td>\n",
       "      <td>2</td>\n",
       "      <td>56.107566</td>\n",
       "      <td>0.313228</td>\n",
       "      <td>79.22</td>\n",
       "      <td>2</td>\n",
       "      <td>35495.525408</td>\n",
       "      <td>2</td>\n",
       "      <td>0.483696</td>\n",
       "    </tr>\n",
       "  </tbody>\n",
       "</table>\n",
       "</div>"
      ],
      "text/plain": [
       "   Safety_Score  Days_Since_Inspection  Total_Safety_Complaints  \\\n",
       "0     19.497717                     16                        6   \n",
       "1     58.173516                     15                        3   \n",
       "2     33.287671                     15                        3   \n",
       "3      3.287671                     21                        5   \n",
       "4     10.867580                     18                        2   \n",
       "\n",
       "   Control_Metric  Turbulence_In_gforces  Cabin_Temperature  \\\n",
       "0       72.151322               0.388959              78.32   \n",
       "1       64.585232               0.250841              78.60   \n",
       "2       64.721969               0.336669              86.96   \n",
       "3       66.362808               0.421775              80.86   \n",
       "4       56.107566               0.313228              79.22   \n",
       "\n",
       "   Accident_Type_Code  Max_Elevation  Violations  Adverse_Weather_Metric  \n",
       "0                   4   37949.724386           2                0.069692  \n",
       "1                   7   30194.805567           2                0.002777  \n",
       "2                   6   17572.925484           1                0.004316  \n",
       "3                   3   40209.186341           2                0.199990  \n",
       "4                   2   35495.525408           2                0.483696  "
      ]
     },
     "execution_count": 7,
     "metadata": {},
     "output_type": "execute_result"
    }
   ],
   "source": [
    "df_test.head()"
   ]
  },
  {
   "cell_type": "code",
   "execution_count": 8,
   "metadata": {},
   "outputs": [
    {
     "data": {
      "text/plain": [
       "(2500, 10)"
      ]
     },
     "execution_count": 8,
     "metadata": {},
     "output_type": "execute_result"
    }
   ],
   "source": [
    "df_test.shape"
   ]
  },
  {
   "cell_type": "code",
   "execution_count": 9,
   "metadata": {},
   "outputs": [],
   "source": [
    "combined = pd.concat([df,df_test],axis=0)"
   ]
  },
  {
   "cell_type": "code",
   "execution_count": null,
   "metadata": {},
   "outputs": [],
   "source": []
  },
  {
   "cell_type": "code",
   "execution_count": 10,
   "metadata": {},
   "outputs": [
    {
     "name": "stdout",
     "output_type": "stream",
     "text": [
      "Safety_Score    1195\n",
      "dtype: int64\n",
      "Days_Since_Inspection    23\n",
      "dtype: int64\n",
      "Total_Safety_Complaints    44\n",
      "dtype: int64\n",
      "Control_Metric    963\n",
      "dtype: int64\n",
      "Turbulence_In_gforces    1128\n",
      "dtype: int64\n",
      "Cabin_Temperature    964\n",
      "dtype: int64\n",
      "Accident_Type_Code    7\n",
      "dtype: int64\n",
      "Max_Elevation    4447\n",
      "dtype: int64\n",
      "Violations    6\n",
      "dtype: int64\n",
      "Adverse_Weather_Metric    4556\n",
      "dtype: int64\n"
     ]
    }
   ],
   "source": [
    "\n",
    "for i in combined.columns:\n",
    "    temp = pd.DataFrame(combined[i])\n",
    "    print(temp.nunique())"
   ]
  },
  {
   "cell_type": "code",
   "execution_count": 11,
   "metadata": {},
   "outputs": [],
   "source": [
    "combined[\"Violations\"] = combined[\"Violations\"].astype(\"category\")\n",
    "combined[\"Accident_Type_Code\"] = combined[\"Accident_Type_Code\"].astype(\"category\")\n"
   ]
  },
  {
   "cell_type": "code",
   "execution_count": 12,
   "metadata": {},
   "outputs": [],
   "source": [
    "combined_dummy = pd.get_dummies(combined)"
   ]
  },
  {
   "cell_type": "code",
   "execution_count": 13,
   "metadata": {},
   "outputs": [],
   "source": [
    "dum_df = combined_dummy.iloc[:10000,:]\n",
    "dum_df_test = combined_dummy.iloc[10000:,:]"
   ]
  },
  {
   "cell_type": "code",
   "execution_count": 14,
   "metadata": {},
   "outputs": [],
   "source": [
    "from sklearn.preprocessing import MinMaxScaler\n",
    "scaler = MinMaxScaler()\n",
    "scaler.fit(dum_df)\n",
    "normal = scaler.transform(dum_df)\n",
    "normal_test = scaler.transform(dum_df_test)"
   ]
  },
  {
   "cell_type": "code",
   "execution_count": 15,
   "metadata": {},
   "outputs": [
    {
     "data": {
      "text/plain": [
       "(10000, 21)"
      ]
     },
     "execution_count": 15,
     "metadata": {},
     "output_type": "execute_result"
    }
   ],
   "source": [
    "normal.shape"
   ]
  },
  {
   "cell_type": "code",
   "execution_count": 16,
   "metadata": {},
   "outputs": [],
   "source": [
    "from sklearn.model_selection import train_test_split\n",
    "X_train, X_test, y_train, y_test = train_test_split(normal, y, test_size=0.001, random_state=42)"
   ]
  },
  {
   "cell_type": "code",
   "execution_count": 17,
   "metadata": {},
   "outputs": [],
   "source": [
    "y_train = pd.get_dummies(y_train)"
   ]
  },
  {
   "cell_type": "code",
   "execution_count": 50,
   "metadata": {},
   "outputs": [
    {
     "data": {
      "text/html": [
       "<div>\n",
       "<style scoped>\n",
       "    .dataframe tbody tr th:only-of-type {\n",
       "        vertical-align: middle;\n",
       "    }\n",
       "\n",
       "    .dataframe tbody tr th {\n",
       "        vertical-align: top;\n",
       "    }\n",
       "\n",
       "    .dataframe thead th {\n",
       "        text-align: right;\n",
       "    }\n",
       "</style>\n",
       "<table border=\"1\" class=\"dataframe\">\n",
       "  <thead>\n",
       "    <tr style=\"text-align: right;\">\n",
       "      <th></th>\n",
       "      <th>Highly_Fatal_And_Damaging</th>\n",
       "      <th>Minor_Damage_And_Injuries</th>\n",
       "      <th>Significant_Damage_And_Fatalities</th>\n",
       "      <th>Significant_Damage_And_Serious_Injuries</th>\n",
       "    </tr>\n",
       "  </thead>\n",
       "  <tbody>\n",
       "    <tr>\n",
       "      <th>2750</th>\n",
       "      <td>0</td>\n",
       "      <td>0</td>\n",
       "      <td>0</td>\n",
       "      <td>1</td>\n",
       "    </tr>\n",
       "    <tr>\n",
       "      <th>7487</th>\n",
       "      <td>0</td>\n",
       "      <td>0</td>\n",
       "      <td>0</td>\n",
       "      <td>1</td>\n",
       "    </tr>\n",
       "    <tr>\n",
       "      <th>5272</th>\n",
       "      <td>1</td>\n",
       "      <td>0</td>\n",
       "      <td>0</td>\n",
       "      <td>0</td>\n",
       "    </tr>\n",
       "    <tr>\n",
       "      <th>5653</th>\n",
       "      <td>0</td>\n",
       "      <td>1</td>\n",
       "      <td>0</td>\n",
       "      <td>0</td>\n",
       "    </tr>\n",
       "    <tr>\n",
       "      <th>3999</th>\n",
       "      <td>1</td>\n",
       "      <td>0</td>\n",
       "      <td>0</td>\n",
       "      <td>0</td>\n",
       "    </tr>\n",
       "  </tbody>\n",
       "</table>\n",
       "</div>"
      ],
      "text/plain": [
       "      Highly_Fatal_And_Damaging  Minor_Damage_And_Injuries  \\\n",
       "2750                          0                          0   \n",
       "7487                          0                          0   \n",
       "5272                          1                          0   \n",
       "5653                          0                          1   \n",
       "3999                          1                          0   \n",
       "\n",
       "      Significant_Damage_And_Fatalities  \\\n",
       "2750                                  0   \n",
       "7487                                  0   \n",
       "5272                                  0   \n",
       "5653                                  0   \n",
       "3999                                  0   \n",
       "\n",
       "      Significant_Damage_And_Serious_Injuries  \n",
       "2750                                        1  \n",
       "7487                                        1  \n",
       "5272                                        0  \n",
       "5653                                        0  \n",
       "3999                                        0  "
      ]
     },
     "execution_count": 50,
     "metadata": {},
     "output_type": "execute_result"
    }
   ],
   "source": [
    "y_train.head()"
   ]
  },
  {
   "cell_type": "code",
   "execution_count": 18,
   "metadata": {},
   "outputs": [],
   "source": [
    "import tensorflow as tf\n",
    "from tensorflow import keras"
   ]
  },
  {
   "cell_type": "code",
   "execution_count": 29,
   "metadata": {},
   "outputs": [],
   "source": [
    "from tensorflow.keras.regularizers import l2,l1\n",
    "from tensorflow.keras.models import Sequential\n",
    "from tensorflow.keras.layers import Dense,Activation,BatchNormalization,Dropout\n"
   ]
  },
  {
   "cell_type": "code",
   "execution_count": 35,
   "metadata": {},
   "outputs": [],
   "source": [
    "model = Sequential()\n",
    "model.add(Dense(21,activation=tf.nn.relu ,kernel_initializer='lecun_uniform',kernel_regularizer = l2(0.01)))\n",
    "model.add(Dense(10,activation=tf.nn.relu ,kernel_initializer='lecun_uniform',kernel_regularizer = l2(0.01)))\n",
    "model.add(Dense(4,activation=tf.nn.softmax))"
   ]
  },
  {
   "cell_type": "code",
   "execution_count": 72,
   "metadata": {},
   "outputs": [],
   "source": [
    "adam = keras.optimizers.Adam(learning_rate=0.0002, beta_1=0.9, beta_2=0.999, amsgrad=False)"
   ]
  },
  {
   "cell_type": "code",
   "execution_count": 73,
   "metadata": {},
   "outputs": [],
   "source": [
    "model.compile(optimizer=adam, loss='categorical_crossentropy',metrics=['categorical_crossentropy'])"
   ]
  },
  {
   "cell_type": "code",
   "execution_count": 74,
   "metadata": {},
   "outputs": [],
   "source": [
    "X_train = pd.DataFrame(X_train)\n",
    "y_train = pd.DataFrame(y_train)"
   ]
  },
  {
   "cell_type": "code",
   "execution_count": null,
   "metadata": {},
   "outputs": [],
   "source": [
    "# try learning rate on plateau as it needs to be decreased after 500 epochs or so (batch 128)"
   ]
  },
  {
   "cell_type": "code",
   "execution_count": 75,
   "metadata": {},
   "outputs": [
    {
     "name": "stdout",
     "output_type": "stream",
     "text": [
      "Train on 9490 samples, validate on 500 samples\n",
      "Epoch 1/200\n",
      "9490/9490 [==============================] - 1s 66us/sample - loss: 0.3742 - categorical_crossentropy: 0.2317 - val_loss: 0.3716 - val_categorical_crossentropy: 0.2292\n",
      "Epoch 2/200\n",
      "9490/9490 [==============================] - 0s 17us/sample - loss: 0.3737 - categorical_crossentropy: 0.2313 - val_loss: 0.3708 - val_categorical_crossentropy: 0.2284\n",
      "Epoch 3/200\n",
      "9490/9490 [==============================] - 0s 16us/sample - loss: 0.3739 - categorical_crossentropy: 0.2316 - val_loss: 0.3710 - val_categorical_crossentropy: 0.2286\n",
      "Epoch 4/200\n",
      "9490/9490 [==============================] - 0s 16us/sample - loss: 0.3737 - categorical_crossentropy: 0.2314 - val_loss: 0.3728 - val_categorical_crossentropy: 0.2304\n",
      "Epoch 5/200\n",
      "9490/9490 [==============================] - 0s 16us/sample - loss: 0.3738 - categorical_crossentropy: 0.2315 - val_loss: 0.3701 - val_categorical_crossentropy: 0.2278\n",
      "Epoch 6/200\n",
      "9490/9490 [==============================] - 0s 16us/sample - loss: 0.3741 - categorical_crossentropy: 0.2319 - val_loss: 0.3680 - val_categorical_crossentropy: 0.2258\n",
      "Epoch 7/200\n",
      "9490/9490 [==============================] - 0s 16us/sample - loss: 0.3737 - categorical_crossentropy: 0.2315 - val_loss: 0.3682 - val_categorical_crossentropy: 0.2259\n",
      "Epoch 8/200\n",
      "9490/9490 [==============================] - 0s 16us/sample - loss: 0.3736 - categorical_crossentropy: 0.2314 - val_loss: 0.3651 - val_categorical_crossentropy: 0.2229\n",
      "Epoch 9/200\n",
      "9490/9490 [==============================] - 0s 18us/sample - loss: 0.3736 - categorical_crossentropy: 0.2314 - val_loss: 0.3688 - val_categorical_crossentropy: 0.2266\n",
      "Epoch 10/200\n",
      "9490/9490 [==============================] - 0s 17us/sample - loss: 0.3737 - categorical_crossentropy: 0.2315 - val_loss: 0.3675 - val_categorical_crossentropy: 0.2253\n",
      "Epoch 11/200\n",
      "9490/9490 [==============================] - 0s 16us/sample - loss: 0.3738 - categorical_crossentropy: 0.2316 - val_loss: 0.3694 - val_categorical_crossentropy: 0.2271\n",
      "Epoch 12/200\n",
      "9490/9490 [==============================] - 0s 17us/sample - loss: 0.3733 - categorical_crossentropy: 0.2311 - val_loss: 0.3708 - val_categorical_crossentropy: 0.2286\n",
      "Epoch 13/200\n",
      "9490/9490 [==============================] - 0s 17us/sample - loss: 0.3728 - categorical_crossentropy: 0.2307 - val_loss: 0.3679 - val_categorical_crossentropy: 0.2257\n",
      "Epoch 14/200\n",
      "9490/9490 [==============================] - 0s 16us/sample - loss: 0.3736 - categorical_crossentropy: 0.2314 - val_loss: 0.3702 - val_categorical_crossentropy: 0.2280\n",
      "Epoch 15/200\n",
      "9490/9490 [==============================] - 0s 17us/sample - loss: 0.3733 - categorical_crossentropy: 0.2311 - val_loss: 0.3702 - val_categorical_crossentropy: 0.2279\n",
      "Epoch 16/200\n",
      "9490/9490 [==============================] - 0s 18us/sample - loss: 0.3737 - categorical_crossentropy: 0.2316 - val_loss: 0.3692 - val_categorical_crossentropy: 0.2271\n",
      "Epoch 17/200\n",
      "9490/9490 [==============================] - 0s 17us/sample - loss: 0.3733 - categorical_crossentropy: 0.2311 - val_loss: 0.3661 - val_categorical_crossentropy: 0.2239\n",
      "Epoch 18/200\n",
      "9490/9490 [==============================] - 0s 16us/sample - loss: 0.3736 - categorical_crossentropy: 0.2315 - val_loss: 0.3668 - val_categorical_crossentropy: 0.2246\n",
      "Epoch 19/200\n",
      "9490/9490 [==============================] - 0s 16us/sample - loss: 0.3735 - categorical_crossentropy: 0.2314 - val_loss: 0.3688 - val_categorical_crossentropy: 0.2266\n",
      "Epoch 20/200\n",
      "9490/9490 [==============================] - 0s 17us/sample - loss: 0.3730 - categorical_crossentropy: 0.2308 - val_loss: 0.3690 - val_categorical_crossentropy: 0.2269\n",
      "Epoch 21/200\n",
      "9490/9490 [==============================] - 0s 18us/sample - loss: 0.3731 - categorical_crossentropy: 0.2310 - val_loss: 0.3688 - val_categorical_crossentropy: 0.2266\n",
      "Epoch 22/200\n",
      "9490/9490 [==============================] - 0s 16us/sample - loss: 0.3736 - categorical_crossentropy: 0.2315 - val_loss: 0.3680 - val_categorical_crossentropy: 0.2259\n",
      "Epoch 23/200\n",
      "9490/9490 [==============================] - 0s 16us/sample - loss: 0.3735 - categorical_crossentropy: 0.2313 - val_loss: 0.3680 - val_categorical_crossentropy: 0.2260\n",
      "Epoch 24/200\n",
      "9490/9490 [==============================] - 0s 17us/sample - loss: 0.3732 - categorical_crossentropy: 0.2312 - val_loss: 0.3678 - val_categorical_crossentropy: 0.2257\n",
      "Epoch 25/200\n",
      "9490/9490 [==============================] - 0s 18us/sample - loss: 0.3737 - categorical_crossentropy: 0.2316 - val_loss: 0.3675 - val_categorical_crossentropy: 0.2254\n",
      "Epoch 26/200\n",
      "9490/9490 [==============================] - 0s 17us/sample - loss: 0.3733 - categorical_crossentropy: 0.2312 - val_loss: 0.3690 - val_categorical_crossentropy: 0.2269\n",
      "Epoch 27/200\n",
      "9490/9490 [==============================] - 0s 16us/sample - loss: 0.3731 - categorical_crossentropy: 0.2310 - val_loss: 0.3658 - val_categorical_crossentropy: 0.2238\n",
      "Epoch 28/200\n",
      "9490/9490 [==============================] - 0s 16us/sample - loss: 0.3731 - categorical_crossentropy: 0.2311 - val_loss: 0.3665 - val_categorical_crossentropy: 0.2244\n",
      "Epoch 29/200\n",
      "9490/9490 [==============================] - 0s 16us/sample - loss: 0.3738 - categorical_crossentropy: 0.2318 - val_loss: 0.3651 - val_categorical_crossentropy: 0.2231\n",
      "Epoch 30/200\n",
      "9490/9490 [==============================] - 0s 16us/sample - loss: 0.3732 - categorical_crossentropy: 0.2312 - val_loss: 0.3680 - val_categorical_crossentropy: 0.2261\n",
      "Epoch 31/200\n",
      "9490/9490 [==============================] - 0s 17us/sample - loss: 0.3728 - categorical_crossentropy: 0.2308 - val_loss: 0.3686 - val_categorical_crossentropy: 0.2266\n",
      "Epoch 32/200\n",
      "9490/9490 [==============================] - 0s 16us/sample - loss: 0.3736 - categorical_crossentropy: 0.2317 - val_loss: 0.3687 - val_categorical_crossentropy: 0.2268\n",
      "Epoch 33/200\n",
      "9490/9490 [==============================] - 0s 17us/sample - loss: 0.3725 - categorical_crossentropy: 0.2306 - val_loss: 0.3675 - val_categorical_crossentropy: 0.2256\n",
      "Epoch 34/200\n",
      "9490/9490 [==============================] - 0s 18us/sample - loss: 0.3732 - categorical_crossentropy: 0.2314 - val_loss: 0.3698 - val_categorical_crossentropy: 0.2280\n",
      "Epoch 35/200\n",
      "9490/9490 [==============================] - 0s 16us/sample - loss: 0.3730 - categorical_crossentropy: 0.2312 - val_loss: 0.3663 - val_categorical_crossentropy: 0.2245\n",
      "Epoch 36/200\n",
      "9490/9490 [==============================] - 0s 16us/sample - loss: 0.3724 - categorical_crossentropy: 0.2306 - val_loss: 0.3658 - val_categorical_crossentropy: 0.2240\n",
      "Epoch 37/200\n",
      "9490/9490 [==============================] - 0s 17us/sample - loss: 0.3725 - categorical_crossentropy: 0.2307 - val_loss: 0.3702 - val_categorical_crossentropy: 0.2283\n",
      "Epoch 38/200\n",
      "9490/9490 [==============================] - 0s 16us/sample - loss: 0.3727 - categorical_crossentropy: 0.2309 - val_loss: 0.3685 - val_categorical_crossentropy: 0.2268\n",
      "Epoch 39/200\n",
      "9490/9490 [==============================] - 0s 16us/sample - loss: 0.3726 - categorical_crossentropy: 0.2309 - val_loss: 0.3649 - val_categorical_crossentropy: 0.2231\n",
      "Epoch 40/200\n",
      "9490/9490 [==============================] - 0s 16us/sample - loss: 0.3722 - categorical_crossentropy: 0.2305 - val_loss: 0.3669 - val_categorical_crossentropy: 0.2251\n",
      "Epoch 41/200\n",
      "9490/9490 [==============================] - 0s 17us/sample - loss: 0.3724 - categorical_crossentropy: 0.2306 - val_loss: 0.3718 - val_categorical_crossentropy: 0.2301\n",
      "Epoch 42/200\n",
      "9490/9490 [==============================] - 0s 18us/sample - loss: 0.3724 - categorical_crossentropy: 0.2306 - val_loss: 0.3683 - val_categorical_crossentropy: 0.2266\n",
      "Epoch 43/200\n",
      "9490/9490 [==============================] - 0s 17us/sample - loss: 0.3730 - categorical_crossentropy: 0.2313 - val_loss: 0.3690 - val_categorical_crossentropy: 0.2273\n",
      "Epoch 44/200\n",
      "9490/9490 [==============================] - 0s 16us/sample - loss: 0.3723 - categorical_crossentropy: 0.2306 - val_loss: 0.3730 - val_categorical_crossentropy: 0.2313\n",
      "Epoch 45/200\n",
      "9490/9490 [==============================] - 0s 18us/sample - loss: 0.3735 - categorical_crossentropy: 0.2318 - val_loss: 0.3679 - val_categorical_crossentropy: 0.2263\n",
      "Epoch 46/200\n"
     ]
    },
    {
     "name": "stdout",
     "output_type": "stream",
     "text": [
      "9490/9490 [==============================] - 0s 17us/sample - loss: 0.3729 - categorical_crossentropy: 0.2313 - val_loss: 0.3672 - val_categorical_crossentropy: 0.2255\n",
      "Epoch 47/200\n",
      "9490/9490 [==============================] - 0s 17us/sample - loss: 0.3724 - categorical_crossentropy: 0.2307 - val_loss: 0.3708 - val_categorical_crossentropy: 0.2292\n",
      "Epoch 48/200\n",
      "9490/9490 [==============================] - 0s 18us/sample - loss: 0.3728 - categorical_crossentropy: 0.2312 - val_loss: 0.3691 - val_categorical_crossentropy: 0.2275\n",
      "Epoch 49/200\n",
      "9490/9490 [==============================] - 0s 16us/sample - loss: 0.3721 - categorical_crossentropy: 0.2305 - val_loss: 0.3666 - val_categorical_crossentropy: 0.2250\n",
      "Epoch 50/200\n",
      "9490/9490 [==============================] - 0s 17us/sample - loss: 0.3723 - categorical_crossentropy: 0.2307 - val_loss: 0.3653 - val_categorical_crossentropy: 0.2237\n",
      "Epoch 51/200\n",
      "9490/9490 [==============================] - 0s 16us/sample - loss: 0.3724 - categorical_crossentropy: 0.2308 - val_loss: 0.3672 - val_categorical_crossentropy: 0.2256\n",
      "Epoch 52/200\n",
      "9490/9490 [==============================] - 0s 16us/sample - loss: 0.3720 - categorical_crossentropy: 0.2304 - val_loss: 0.3677 - val_categorical_crossentropy: 0.2261\n",
      "Epoch 53/200\n",
      "9490/9490 [==============================] - 0s 16us/sample - loss: 0.3719 - categorical_crossentropy: 0.2303 - val_loss: 0.3705 - val_categorical_crossentropy: 0.2290\n",
      "Epoch 54/200\n",
      "9490/9490 [==============================] - 0s 16us/sample - loss: 0.3726 - categorical_crossentropy: 0.2310 - val_loss: 0.3727 - val_categorical_crossentropy: 0.2311\n",
      "Epoch 55/200\n",
      "9490/9490 [==============================] - 0s 17us/sample - loss: 0.3722 - categorical_crossentropy: 0.2307 - val_loss: 0.3692 - val_categorical_crossentropy: 0.2277\n",
      "Epoch 56/200\n",
      "9490/9490 [==============================] - 0s 17us/sample - loss: 0.3727 - categorical_crossentropy: 0.2313 - val_loss: 0.3669 - val_categorical_crossentropy: 0.2254\n",
      "Epoch 57/200\n",
      "9490/9490 [==============================] - 0s 17us/sample - loss: 0.3720 - categorical_crossentropy: 0.2305 - val_loss: 0.3663 - val_categorical_crossentropy: 0.2248\n",
      "Epoch 58/200\n",
      "9490/9490 [==============================] - 0s 17us/sample - loss: 0.3722 - categorical_crossentropy: 0.2307 - val_loss: 0.3724 - val_categorical_crossentropy: 0.2308\n",
      "Epoch 59/200\n",
      "9490/9490 [==============================] - 0s 17us/sample - loss: 0.3722 - categorical_crossentropy: 0.2308 - val_loss: 0.3708 - val_categorical_crossentropy: 0.2294\n",
      "Epoch 60/200\n",
      "9490/9490 [==============================] - 0s 17us/sample - loss: 0.3721 - categorical_crossentropy: 0.2307 - val_loss: 0.3684 - val_categorical_crossentropy: 0.2270\n",
      "Epoch 61/200\n",
      "9490/9490 [==============================] - 0s 16us/sample - loss: 0.3719 - categorical_crossentropy: 0.2305 - val_loss: 0.3698 - val_categorical_crossentropy: 0.2284\n",
      "Epoch 62/200\n",
      "9490/9490 [==============================] - 0s 17us/sample - loss: 0.3719 - categorical_crossentropy: 0.2304 - val_loss: 0.3668 - val_categorical_crossentropy: 0.2254\n",
      "Epoch 63/200\n",
      "9490/9490 [==============================] - 0s 17us/sample - loss: 0.3718 - categorical_crossentropy: 0.2305 - val_loss: 0.3722 - val_categorical_crossentropy: 0.2309\n",
      "Epoch 64/200\n",
      "9490/9490 [==============================] - 0s 16us/sample - loss: 0.3722 - categorical_crossentropy: 0.2308 - val_loss: 0.3692 - val_categorical_crossentropy: 0.2278\n",
      "Epoch 65/200\n",
      "9490/9490 [==============================] - 0s 16us/sample - loss: 0.3718 - categorical_crossentropy: 0.2305 - val_loss: 0.3677 - val_categorical_crossentropy: 0.2264\n",
      "Epoch 66/200\n",
      "9490/9490 [==============================] - 0s 17us/sample - loss: 0.3715 - categorical_crossentropy: 0.2301 - val_loss: 0.3709 - val_categorical_crossentropy: 0.2296\n",
      "Epoch 67/200\n",
      "9490/9490 [==============================] - 0s 18us/sample - loss: 0.3718 - categorical_crossentropy: 0.2305 - val_loss: 0.3672 - val_categorical_crossentropy: 0.2259\n",
      "Epoch 68/200\n",
      "9490/9490 [==============================] - 0s 16us/sample - loss: 0.3719 - categorical_crossentropy: 0.2307 - val_loss: 0.3663 - val_categorical_crossentropy: 0.2250\n",
      "Epoch 69/200\n",
      "9490/9490 [==============================] - 0s 16us/sample - loss: 0.3714 - categorical_crossentropy: 0.2301 - val_loss: 0.3671 - val_categorical_crossentropy: 0.2258\n",
      "Epoch 70/200\n",
      "9490/9490 [==============================] - 0s 17us/sample - loss: 0.3711 - categorical_crossentropy: 0.2298 - val_loss: 0.3650 - val_categorical_crossentropy: 0.2238\n",
      "Epoch 71/200\n",
      "9490/9490 [==============================] - 0s 17us/sample - loss: 0.3721 - categorical_crossentropy: 0.2308 - val_loss: 0.3698 - val_categorical_crossentropy: 0.2286\n",
      "Epoch 72/200\n",
      "9490/9490 [==============================] - 0s 16us/sample - loss: 0.3713 - categorical_crossentropy: 0.2301 - val_loss: 0.3666 - val_categorical_crossentropy: 0.2254\n",
      "Epoch 73/200\n",
      "9490/9490 [==============================] - 0s 18us/sample - loss: 0.3717 - categorical_crossentropy: 0.2305 - val_loss: 0.3638 - val_categorical_crossentropy: 0.2227\n",
      "Epoch 74/200\n",
      "9490/9490 [==============================] - 0s 16us/sample - loss: 0.3714 - categorical_crossentropy: 0.2302 - val_loss: 0.3654 - val_categorical_crossentropy: 0.2242\n",
      "Epoch 75/200\n",
      "9490/9490 [==============================] - 0s 16us/sample - loss: 0.3712 - categorical_crossentropy: 0.2300 - val_loss: 0.3685 - val_categorical_crossentropy: 0.2273\n",
      "Epoch 76/200\n",
      "9490/9490 [==============================] - 0s 18us/sample - loss: 0.3715 - categorical_crossentropy: 0.2303 - val_loss: 0.3658 - val_categorical_crossentropy: 0.2247\n",
      "Epoch 77/200\n",
      "9490/9490 [==============================] - 0s 17us/sample - loss: 0.3715 - categorical_crossentropy: 0.2304 - val_loss: 0.3674 - val_categorical_crossentropy: 0.2262\n",
      "Epoch 78/200\n",
      "9490/9490 [==============================] - 0s 16us/sample - loss: 0.3710 - categorical_crossentropy: 0.2298 - val_loss: 0.3723 - val_categorical_crossentropy: 0.2312\n",
      "Epoch 79/200\n",
      "9490/9490 [==============================] - 0s 16us/sample - loss: 0.3715 - categorical_crossentropy: 0.2303 - val_loss: 0.3685 - val_categorical_crossentropy: 0.2274\n",
      "Epoch 80/200\n",
      "9490/9490 [==============================] - 0s 17us/sample - loss: 0.3711 - categorical_crossentropy: 0.2300 - val_loss: 0.3673 - val_categorical_crossentropy: 0.2262\n",
      "Epoch 81/200\n",
      "9490/9490 [==============================] - 0s 18us/sample - loss: 0.3710 - categorical_crossentropy: 0.2299 - val_loss: 0.3642 - val_categorical_crossentropy: 0.2231\n",
      "Epoch 82/200\n",
      "9490/9490 [==============================] - 0s 17us/sample - loss: 0.3712 - categorical_crossentropy: 0.2301 - val_loss: 0.3657 - val_categorical_crossentropy: 0.2246\n",
      "Epoch 83/200\n",
      "9490/9490 [==============================] - 0s 16us/sample - loss: 0.3712 - categorical_crossentropy: 0.2301 - val_loss: 0.3657 - val_categorical_crossentropy: 0.2247\n",
      "Epoch 84/200\n",
      "9490/9490 [==============================] - 0s 16us/sample - loss: 0.3710 - categorical_crossentropy: 0.2300 - val_loss: 0.3673 - val_categorical_crossentropy: 0.2263\n",
      "Epoch 85/200\n",
      "9490/9490 [==============================] - 0s 17us/sample - loss: 0.3713 - categorical_crossentropy: 0.2302 - val_loss: 0.3687 - val_categorical_crossentropy: 0.2276\n",
      "Epoch 86/200\n",
      "9490/9490 [==============================] - 0s 16us/sample - loss: 0.3710 - categorical_crossentropy: 0.2300 - val_loss: 0.3674 - val_categorical_crossentropy: 0.2263\n",
      "Epoch 87/200\n",
      "9490/9490 [==============================] - 0s 16us/sample - loss: 0.3710 - categorical_crossentropy: 0.2300 - val_loss: 0.3687 - val_categorical_crossentropy: 0.2277\n",
      "Epoch 88/200\n",
      "9490/9490 [==============================] - 0s 16us/sample - loss: 0.3709 - categorical_crossentropy: 0.2300 - val_loss: 0.3692 - val_categorical_crossentropy: 0.2282\n",
      "Epoch 89/200\n",
      "9490/9490 [==============================] - 0s 16us/sample - loss: 0.3706 - categorical_crossentropy: 0.2296 - val_loss: 0.3649 - val_categorical_crossentropy: 0.2239\n",
      "Epoch 90/200\n",
      "9490/9490 [==============================] - 0s 16us/sample - loss: 0.3707 - categorical_crossentropy: 0.2297 - val_loss: 0.3657 - val_categorical_crossentropy: 0.2248\n",
      "Epoch 91/200\n"
     ]
    },
    {
     "name": "stdout",
     "output_type": "stream",
     "text": [
      "9490/9490 [==============================] - 0s 18us/sample - loss: 0.3706 - categorical_crossentropy: 0.2297 - val_loss: 0.3681 - val_categorical_crossentropy: 0.2272\n",
      "Epoch 92/200\n",
      "9490/9490 [==============================] - 0s 18us/sample - loss: 0.3707 - categorical_crossentropy: 0.2298 - val_loss: 0.3637 - val_categorical_crossentropy: 0.2228\n",
      "Epoch 93/200\n",
      "9490/9490 [==============================] - 0s 18us/sample - loss: 0.3719 - categorical_crossentropy: 0.2310 - val_loss: 0.3663 - val_categorical_crossentropy: 0.2253\n",
      "Epoch 94/200\n",
      "9490/9490 [==============================] - 0s 18us/sample - loss: 0.3707 - categorical_crossentropy: 0.2298 - val_loss: 0.3656 - val_categorical_crossentropy: 0.2247\n",
      "Epoch 95/200\n",
      "9490/9490 [==============================] - 0s 17us/sample - loss: 0.3712 - categorical_crossentropy: 0.2302 - val_loss: 0.3661 - val_categorical_crossentropy: 0.2251\n",
      "Epoch 96/200\n",
      "9490/9490 [==============================] - 0s 17us/sample - loss: 0.3704 - categorical_crossentropy: 0.2294 - val_loss: 0.3672 - val_categorical_crossentropy: 0.2262\n",
      "Epoch 97/200\n",
      "9490/9490 [==============================] - 0s 18us/sample - loss: 0.3704 - categorical_crossentropy: 0.2295 - val_loss: 0.3650 - val_categorical_crossentropy: 0.2241\n",
      "Epoch 98/200\n",
      "9490/9490 [==============================] - 0s 17us/sample - loss: 0.3702 - categorical_crossentropy: 0.2293 - val_loss: 0.3735 - val_categorical_crossentropy: 0.2326\n",
      "Epoch 99/200\n",
      "9490/9490 [==============================] - 0s 17us/sample - loss: 0.3711 - categorical_crossentropy: 0.2302 - val_loss: 0.3671 - val_categorical_crossentropy: 0.2262\n",
      "Epoch 100/200\n",
      "9490/9490 [==============================] - 0s 18us/sample - loss: 0.3700 - categorical_crossentropy: 0.2290 - val_loss: 0.3668 - val_categorical_crossentropy: 0.2259\n",
      "Epoch 101/200\n",
      "9490/9490 [==============================] - 0s 17us/sample - loss: 0.3702 - categorical_crossentropy: 0.2293 - val_loss: 0.3699 - val_categorical_crossentropy: 0.2290\n",
      "Epoch 102/200\n",
      "9490/9490 [==============================] - 0s 16us/sample - loss: 0.3704 - categorical_crossentropy: 0.2295 - val_loss: 0.3664 - val_categorical_crossentropy: 0.2255\n",
      "Epoch 103/200\n",
      "9490/9490 [==============================] - 0s 17us/sample - loss: 0.3700 - categorical_crossentropy: 0.2291 - val_loss: 0.3644 - val_categorical_crossentropy: 0.2234\n",
      "Epoch 104/200\n",
      "9490/9490 [==============================] - 0s 16us/sample - loss: 0.3701 - categorical_crossentropy: 0.2292 - val_loss: 0.3647 - val_categorical_crossentropy: 0.2239\n",
      "Epoch 105/200\n",
      "9490/9490 [==============================] - 0s 16us/sample - loss: 0.3705 - categorical_crossentropy: 0.2296 - val_loss: 0.3660 - val_categorical_crossentropy: 0.2251\n",
      "Epoch 106/200\n",
      "9490/9490 [==============================] - 0s 17us/sample - loss: 0.3704 - categorical_crossentropy: 0.2295 - val_loss: 0.3644 - val_categorical_crossentropy: 0.2236\n",
      "Epoch 107/200\n",
      "9490/9490 [==============================] - 0s 17us/sample - loss: 0.3699 - categorical_crossentropy: 0.2290 - val_loss: 0.3656 - val_categorical_crossentropy: 0.2247\n",
      "Epoch 108/200\n",
      "9490/9490 [==============================] - 0s 17us/sample - loss: 0.3699 - categorical_crossentropy: 0.2290 - val_loss: 0.3646 - val_categorical_crossentropy: 0.2237\n",
      "Epoch 109/200\n",
      "9490/9490 [==============================] - 0s 16us/sample - loss: 0.3701 - categorical_crossentropy: 0.2292 - val_loss: 0.3644 - val_categorical_crossentropy: 0.2235\n",
      "Epoch 110/200\n",
      "9490/9490 [==============================] - 0s 17us/sample - loss: 0.3700 - categorical_crossentropy: 0.2291 - val_loss: 0.3682 - val_categorical_crossentropy: 0.2273\n",
      "Epoch 111/200\n",
      "9490/9490 [==============================] - 0s 18us/sample - loss: 0.3699 - categorical_crossentropy: 0.2290 - val_loss: 0.3652 - val_categorical_crossentropy: 0.2243\n",
      "Epoch 112/200\n",
      "9490/9490 [==============================] - 0s 17us/sample - loss: 0.3696 - categorical_crossentropy: 0.2288 - val_loss: 0.3672 - val_categorical_crossentropy: 0.2263\n",
      "Epoch 113/200\n",
      "9490/9490 [==============================] - 0s 16us/sample - loss: 0.3694 - categorical_crossentropy: 0.2285 - val_loss: 0.3674 - val_categorical_crossentropy: 0.2265\n",
      "Epoch 114/200\n",
      "9490/9490 [==============================] - 0s 17us/sample - loss: 0.3697 - categorical_crossentropy: 0.2289 - val_loss: 0.3662 - val_categorical_crossentropy: 0.2254\n",
      "Epoch 115/200\n",
      "9490/9490 [==============================] - 0s 17us/sample - loss: 0.3694 - categorical_crossentropy: 0.2286 - val_loss: 0.3647 - val_categorical_crossentropy: 0.2238\n",
      "Epoch 116/200\n",
      "9490/9490 [==============================] - 0s 17us/sample - loss: 0.3696 - categorical_crossentropy: 0.2287 - val_loss: 0.3682 - val_categorical_crossentropy: 0.2273\n",
      "Epoch 117/200\n",
      "9490/9490 [==============================] - 0s 16us/sample - loss: 0.3699 - categorical_crossentropy: 0.2290 - val_loss: 0.3676 - val_categorical_crossentropy: 0.2267\n",
      "Epoch 118/200\n",
      "9490/9490 [==============================] - 0s 18us/sample - loss: 0.3695 - categorical_crossentropy: 0.2287 - val_loss: 0.3673 - val_categorical_crossentropy: 0.2264\n",
      "Epoch 119/200\n",
      "9490/9490 [==============================] - 0s 17us/sample - loss: 0.3695 - categorical_crossentropy: 0.2288 - val_loss: 0.3666 - val_categorical_crossentropy: 0.2259\n",
      "Epoch 120/200\n",
      "9490/9490 [==============================] - 0s 16us/sample - loss: 0.3690 - categorical_crossentropy: 0.2283 - val_loss: 0.3648 - val_categorical_crossentropy: 0.2240\n",
      "Epoch 121/200\n",
      "9490/9490 [==============================] - 0s 16us/sample - loss: 0.3694 - categorical_crossentropy: 0.2286 - val_loss: 0.3640 - val_categorical_crossentropy: 0.2233\n",
      "Epoch 122/200\n",
      "9490/9490 [==============================] - 0s 18us/sample - loss: 0.3691 - categorical_crossentropy: 0.2283 - val_loss: 0.3635 - val_categorical_crossentropy: 0.2227\n",
      "Epoch 123/200\n",
      "9490/9490 [==============================] - 0s 17us/sample - loss: 0.3695 - categorical_crossentropy: 0.2287 - val_loss: 0.3684 - val_categorical_crossentropy: 0.2277\n",
      "Epoch 124/200\n",
      "9490/9490 [==============================] - 0s 16us/sample - loss: 0.3688 - categorical_crossentropy: 0.2279 - val_loss: 0.3632 - val_categorical_crossentropy: 0.2224\n",
      "Epoch 125/200\n",
      "9490/9490 [==============================] - 0s 16us/sample - loss: 0.3690 - categorical_crossentropy: 0.2282 - val_loss: 0.3643 - val_categorical_crossentropy: 0.2236\n",
      "Epoch 126/200\n",
      "9490/9490 [==============================] - 0s 17us/sample - loss: 0.3687 - categorical_crossentropy: 0.2280 - val_loss: 0.3642 - val_categorical_crossentropy: 0.2235\n",
      "Epoch 127/200\n",
      "9490/9490 [==============================] - 0s 18us/sample - loss: 0.3690 - categorical_crossentropy: 0.2282 - val_loss: 0.3641 - val_categorical_crossentropy: 0.2233\n",
      "Epoch 128/200\n",
      "9490/9490 [==============================] - 0s 16us/sample - loss: 0.3687 - categorical_crossentropy: 0.2279 - val_loss: 0.3675 - val_categorical_crossentropy: 0.2268\n",
      "Epoch 129/200\n",
      "9490/9490 [==============================] - 0s 17us/sample - loss: 0.3693 - categorical_crossentropy: 0.2286 - val_loss: 0.3640 - val_categorical_crossentropy: 0.2233\n",
      "Epoch 130/200\n",
      "9490/9490 [==============================] - 0s 17us/sample - loss: 0.3686 - categorical_crossentropy: 0.2279 - val_loss: 0.3641 - val_categorical_crossentropy: 0.2234\n",
      "Epoch 131/200\n",
      "9490/9490 [==============================] - 0s 16us/sample - loss: 0.3687 - categorical_crossentropy: 0.2280 - val_loss: 0.3638 - val_categorical_crossentropy: 0.2231\n",
      "Epoch 132/200\n",
      "9490/9490 [==============================] - 0s 16us/sample - loss: 0.3685 - categorical_crossentropy: 0.2278 - val_loss: 0.3632 - val_categorical_crossentropy: 0.2225\n",
      "Epoch 133/200\n",
      "9490/9490 [==============================] - 0s 17us/sample - loss: 0.3688 - categorical_crossentropy: 0.2282 - val_loss: 0.3632 - val_categorical_crossentropy: 0.2224\n",
      "Epoch 134/200\n",
      "9490/9490 [==============================] - 0s 17us/sample - loss: 0.3684 - categorical_crossentropy: 0.2277 - val_loss: 0.3644 - val_categorical_crossentropy: 0.2237\n",
      "Epoch 135/200\n",
      "9490/9490 [==============================] - 0s 17us/sample - loss: 0.3694 - categorical_crossentropy: 0.2287 - val_loss: 0.3687 - val_categorical_crossentropy: 0.2280\n",
      "Epoch 136/200\n"
     ]
    },
    {
     "name": "stdout",
     "output_type": "stream",
     "text": [
      "9490/9490 [==============================] - 0s 18us/sample - loss: 0.3685 - categorical_crossentropy: 0.2278 - val_loss: 0.3642 - val_categorical_crossentropy: 0.2235\n",
      "Epoch 137/200\n",
      "9490/9490 [==============================] - 0s 17us/sample - loss: 0.3679 - categorical_crossentropy: 0.2272 - val_loss: 0.3654 - val_categorical_crossentropy: 0.2247\n",
      "Epoch 138/200\n",
      "9490/9490 [==============================] - 0s 16us/sample - loss: 0.3680 - categorical_crossentropy: 0.2273 - val_loss: 0.3664 - val_categorical_crossentropy: 0.2257\n",
      "Epoch 139/200\n",
      "9490/9490 [==============================] - 0s 18us/sample - loss: 0.3680 - categorical_crossentropy: 0.2273 - val_loss: 0.3632 - val_categorical_crossentropy: 0.2225\n",
      "Epoch 140/200\n",
      "9490/9490 [==============================] - 0s 17us/sample - loss: 0.3684 - categorical_crossentropy: 0.2277 - val_loss: 0.3657 - val_categorical_crossentropy: 0.2251\n",
      "Epoch 141/200\n",
      "9490/9490 [==============================] - 0s 16us/sample - loss: 0.3682 - categorical_crossentropy: 0.2275 - val_loss: 0.3630 - val_categorical_crossentropy: 0.2223\n",
      "Epoch 142/200\n",
      "9490/9490 [==============================] - 0s 18us/sample - loss: 0.3682 - categorical_crossentropy: 0.2276 - val_loss: 0.3665 - val_categorical_crossentropy: 0.2258\n",
      "Epoch 143/200\n",
      "9490/9490 [==============================] - 0s 17us/sample - loss: 0.3686 - categorical_crossentropy: 0.2279 - val_loss: 0.3646 - val_categorical_crossentropy: 0.2240\n",
      "Epoch 144/200\n",
      "9490/9490 [==============================] - 0s 18us/sample - loss: 0.3680 - categorical_crossentropy: 0.2274 - val_loss: 0.3632 - val_categorical_crossentropy: 0.2226\n",
      "Epoch 145/200\n",
      "9490/9490 [==============================] - 0s 17us/sample - loss: 0.3682 - categorical_crossentropy: 0.2276 - val_loss: 0.3637 - val_categorical_crossentropy: 0.2231\n",
      "Epoch 146/200\n",
      "9490/9490 [==============================] - 0s 16us/sample - loss: 0.3676 - categorical_crossentropy: 0.2271 - val_loss: 0.3619 - val_categorical_crossentropy: 0.2213\n",
      "Epoch 147/200\n",
      "9490/9490 [==============================] - 0s 18us/sample - loss: 0.3679 - categorical_crossentropy: 0.2273 - val_loss: 0.3645 - val_categorical_crossentropy: 0.2238\n",
      "Epoch 148/200\n",
      "9490/9490 [==============================] - 0s 17us/sample - loss: 0.3681 - categorical_crossentropy: 0.2275 - val_loss: 0.3639 - val_categorical_crossentropy: 0.2233\n",
      "Epoch 149/200\n",
      "9490/9490 [==============================] - 0s 17us/sample - loss: 0.3675 - categorical_crossentropy: 0.2269 - val_loss: 0.3657 - val_categorical_crossentropy: 0.2251\n",
      "Epoch 150/200\n",
      "9490/9490 [==============================] - 0s 18us/sample - loss: 0.3675 - categorical_crossentropy: 0.2270 - val_loss: 0.3611 - val_categorical_crossentropy: 0.2206\n",
      "Epoch 151/200\n",
      "9490/9490 [==============================] - 0s 17us/sample - loss: 0.3675 - categorical_crossentropy: 0.2269 - val_loss: 0.3673 - val_categorical_crossentropy: 0.2268\n",
      "Epoch 152/200\n",
      "9490/9490 [==============================] - 0s 17us/sample - loss: 0.3678 - categorical_crossentropy: 0.2273 - val_loss: 0.3610 - val_categorical_crossentropy: 0.2205\n",
      "Epoch 153/200\n",
      "9490/9490 [==============================] - 0s 17us/sample - loss: 0.3676 - categorical_crossentropy: 0.2271 - val_loss: 0.3656 - val_categorical_crossentropy: 0.2251\n",
      "Epoch 154/200\n",
      "9490/9490 [==============================] - 0s 16us/sample - loss: 0.3672 - categorical_crossentropy: 0.2267 - val_loss: 0.3618 - val_categorical_crossentropy: 0.2212\n",
      "Epoch 155/200\n",
      "9490/9490 [==============================] - 0s 18us/sample - loss: 0.3679 - categorical_crossentropy: 0.2274 - val_loss: 0.3617 - val_categorical_crossentropy: 0.2212\n",
      "Epoch 156/200\n",
      "9490/9490 [==============================] - 0s 17us/sample - loss: 0.3675 - categorical_crossentropy: 0.2270 - val_loss: 0.3635 - val_categorical_crossentropy: 0.2230\n",
      "Epoch 157/200\n",
      "9490/9490 [==============================] - 0s 17us/sample - loss: 0.3678 - categorical_crossentropy: 0.2274 - val_loss: 0.3614 - val_categorical_crossentropy: 0.2210\n",
      "Epoch 158/200\n",
      "9490/9490 [==============================] - 0s 18us/sample - loss: 0.3671 - categorical_crossentropy: 0.2267 - val_loss: 0.3660 - val_categorical_crossentropy: 0.2256\n",
      "Epoch 159/200\n",
      "9490/9490 [==============================] - 0s 16us/sample - loss: 0.3668 - categorical_crossentropy: 0.2264 - val_loss: 0.3680 - val_categorical_crossentropy: 0.2276\n",
      "Epoch 160/200\n",
      "9490/9490 [==============================] - 0s 17us/sample - loss: 0.3676 - categorical_crossentropy: 0.2272 - val_loss: 0.3651 - val_categorical_crossentropy: 0.2247\n",
      "Epoch 161/200\n",
      "9490/9490 [==============================] - 0s 18us/sample - loss: 0.3672 - categorical_crossentropy: 0.2268 - val_loss: 0.3634 - val_categorical_crossentropy: 0.2230\n",
      "Epoch 162/200\n",
      "9490/9490 [==============================] - 0s 17us/sample - loss: 0.3672 - categorical_crossentropy: 0.2269 - val_loss: 0.3610 - val_categorical_crossentropy: 0.2207\n",
      "Epoch 163/200\n",
      "9490/9490 [==============================] - 0s 18us/sample - loss: 0.3670 - categorical_crossentropy: 0.2267 - val_loss: 0.3640 - val_categorical_crossentropy: 0.2238\n",
      "Epoch 164/200\n",
      "9490/9490 [==============================] - 0s 17us/sample - loss: 0.3673 - categorical_crossentropy: 0.2270 - val_loss: 0.3630 - val_categorical_crossentropy: 0.2226\n",
      "Epoch 165/200\n",
      "9490/9490 [==============================] - 0s 17us/sample - loss: 0.3676 - categorical_crossentropy: 0.2273 - val_loss: 0.3618 - val_categorical_crossentropy: 0.2215\n",
      "Epoch 166/200\n",
      "9490/9490 [==============================] - 0s 17us/sample - loss: 0.3668 - categorical_crossentropy: 0.2266 - val_loss: 0.3599 - val_categorical_crossentropy: 0.2197\n",
      "Epoch 167/200\n",
      "9490/9490 [==============================] - 0s 17us/sample - loss: 0.3669 - categorical_crossentropy: 0.2267 - val_loss: 0.3621 - val_categorical_crossentropy: 0.2218\n",
      "Epoch 168/200\n",
      "9490/9490 [==============================] - 0s 18us/sample - loss: 0.3669 - categorical_crossentropy: 0.2267 - val_loss: 0.3626 - val_categorical_crossentropy: 0.2224\n",
      "Epoch 169/200\n",
      "9490/9490 [==============================] - 0s 17us/sample - loss: 0.3669 - categorical_crossentropy: 0.2267 - val_loss: 0.3645 - val_categorical_crossentropy: 0.2242\n",
      "Epoch 170/200\n",
      "9490/9490 [==============================] - 0s 18us/sample - loss: 0.3666 - categorical_crossentropy: 0.2264 - val_loss: 0.3624 - val_categorical_crossentropy: 0.2222\n",
      "Epoch 171/200\n",
      "9490/9490 [==============================] - 0s 17us/sample - loss: 0.3670 - categorical_crossentropy: 0.2268 - val_loss: 0.3620 - val_categorical_crossentropy: 0.2218\n",
      "Epoch 172/200\n",
      "9490/9490 [==============================] - 0s 17us/sample - loss: 0.3669 - categorical_crossentropy: 0.2268 - val_loss: 0.3601 - val_categorical_crossentropy: 0.2200\n",
      "Epoch 173/200\n",
      "9490/9490 [==============================] - 0s 17us/sample - loss: 0.3669 - categorical_crossentropy: 0.2268 - val_loss: 0.3611 - val_categorical_crossentropy: 0.2210\n",
      "Epoch 174/200\n",
      "9490/9490 [==============================] - 0s 16us/sample - loss: 0.3667 - categorical_crossentropy: 0.2266 - val_loss: 0.3595 - val_categorical_crossentropy: 0.2195\n",
      "Epoch 175/200\n",
      "9490/9490 [==============================] - 0s 17us/sample - loss: 0.3664 - categorical_crossentropy: 0.2263 - val_loss: 0.3612 - val_categorical_crossentropy: 0.2212\n",
      "Epoch 176/200\n",
      "9490/9490 [==============================] - 0s 17us/sample - loss: 0.3664 - categorical_crossentropy: 0.2264 - val_loss: 0.3593 - val_categorical_crossentropy: 0.2193\n",
      "Epoch 177/200\n",
      "9490/9490 [==============================] - 0s 16us/sample - loss: 0.3662 - categorical_crossentropy: 0.2262 - val_loss: 0.3609 - val_categorical_crossentropy: 0.2209\n",
      "Epoch 178/200\n",
      "9490/9490 [==============================] - 0s 17us/sample - loss: 0.3668 - categorical_crossentropy: 0.2269 - val_loss: 0.3635 - val_categorical_crossentropy: 0.2235\n",
      "Epoch 179/200\n",
      "9490/9490 [==============================] - 0s 17us/sample - loss: 0.3660 - categorical_crossentropy: 0.2260 - val_loss: 0.3600 - val_categorical_crossentropy: 0.2201\n",
      "Epoch 180/200\n",
      "9490/9490 [==============================] - 0s 16us/sample - loss: 0.3668 - categorical_crossentropy: 0.2269 - val_loss: 0.3625 - val_categorical_crossentropy: 0.2225\n",
      "Epoch 181/200\n"
     ]
    },
    {
     "name": "stdout",
     "output_type": "stream",
     "text": [
      "9490/9490 [==============================] - 0s 16us/sample - loss: 0.3661 - categorical_crossentropy: 0.2261 - val_loss: 0.3650 - val_categorical_crossentropy: 0.2250\n",
      "Epoch 182/200\n",
      "9490/9490 [==============================] - 0s 16us/sample - loss: 0.3664 - categorical_crossentropy: 0.2264 - val_loss: 0.3652 - val_categorical_crossentropy: 0.2252\n",
      "Epoch 183/200\n",
      "9490/9490 [==============================] - 0s 17us/sample - loss: 0.3666 - categorical_crossentropy: 0.2266 - val_loss: 0.3609 - val_categorical_crossentropy: 0.2210\n",
      "Epoch 184/200\n",
      "9490/9490 [==============================] - 0s 16us/sample - loss: 0.3659 - categorical_crossentropy: 0.2260 - val_loss: 0.3646 - val_categorical_crossentropy: 0.2247\n",
      "Epoch 185/200\n",
      "9490/9490 [==============================] - 0s 16us/sample - loss: 0.3667 - categorical_crossentropy: 0.2268 - val_loss: 0.3611 - val_categorical_crossentropy: 0.2213\n",
      "Epoch 186/200\n",
      "9490/9490 [==============================] - 0s 17us/sample - loss: 0.3660 - categorical_crossentropy: 0.2261 - val_loss: 0.3595 - val_categorical_crossentropy: 0.2197\n",
      "Epoch 187/200\n",
      "9490/9490 [==============================] - 0s 17us/sample - loss: 0.3661 - categorical_crossentropy: 0.2262 - val_loss: 0.3593 - val_categorical_crossentropy: 0.2194\n",
      "Epoch 188/200\n",
      "9490/9490 [==============================] - 0s 17us/sample - loss: 0.3661 - categorical_crossentropy: 0.2263 - val_loss: 0.3609 - val_categorical_crossentropy: 0.2212\n",
      "Epoch 189/200\n",
      "9490/9490 [==============================] - 0s 19us/sample - loss: 0.3661 - categorical_crossentropy: 0.2263 - val_loss: 0.3601 - val_categorical_crossentropy: 0.2204\n",
      "Epoch 190/200\n",
      "9490/9490 [==============================] - 0s 18us/sample - loss: 0.3660 - categorical_crossentropy: 0.2263 - val_loss: 0.3588 - val_categorical_crossentropy: 0.2190\n",
      "Epoch 191/200\n",
      "9490/9490 [==============================] - 0s 18us/sample - loss: 0.3657 - categorical_crossentropy: 0.2259 - val_loss: 0.3599 - val_categorical_crossentropy: 0.2202\n",
      "Epoch 192/200\n",
      "9490/9490 [==============================] - 0s 18us/sample - loss: 0.3660 - categorical_crossentropy: 0.2262 - val_loss: 0.3584 - val_categorical_crossentropy: 0.2187\n",
      "Epoch 193/200\n",
      "9490/9490 [==============================] - 0s 17us/sample - loss: 0.3664 - categorical_crossentropy: 0.2266 - val_loss: 0.3609 - val_categorical_crossentropy: 0.2212\n",
      "Epoch 194/200\n",
      "9490/9490 [==============================] - 0s 16us/sample - loss: 0.3659 - categorical_crossentropy: 0.2262 - val_loss: 0.3575 - val_categorical_crossentropy: 0.2178\n",
      "Epoch 195/200\n",
      "9490/9490 [==============================] - 0s 16us/sample - loss: 0.3652 - categorical_crossentropy: 0.2255 - val_loss: 0.3589 - val_categorical_crossentropy: 0.2192\n",
      "Epoch 196/200\n",
      "9490/9490 [==============================] - 0s 16us/sample - loss: 0.3659 - categorical_crossentropy: 0.2262 - val_loss: 0.3607 - val_categorical_crossentropy: 0.2211\n",
      "Epoch 197/200\n",
      "9490/9490 [==============================] - 0s 17us/sample - loss: 0.3658 - categorical_crossentropy: 0.2261 - val_loss: 0.3585 - val_categorical_crossentropy: 0.2189\n",
      "Epoch 198/200\n",
      "9490/9490 [==============================] - 0s 17us/sample - loss: 0.3652 - categorical_crossentropy: 0.2256 - val_loss: 0.3614 - val_categorical_crossentropy: 0.2217\n",
      "Epoch 199/200\n",
      "9490/9490 [==============================] - 0s 16us/sample - loss: 0.3651 - categorical_crossentropy: 0.2255 - val_loss: 0.3595 - val_categorical_crossentropy: 0.2199\n",
      "Epoch 200/200\n",
      "9490/9490 [==============================] - 0s 16us/sample - loss: 0.3650 - categorical_crossentropy: 0.2254 - val_loss: 0.3641 - val_categorical_crossentropy: 0.2244\n"
     ]
    },
    {
     "data": {
      "text/plain": [
       "<tensorflow.python.keras.callbacks.History at 0x28e5f2e4e80>"
      ]
     },
     "execution_count": 75,
     "metadata": {},
     "output_type": "execute_result"
    }
   ],
   "source": [
    "model.fit(X_train.values, y_train.values, epochs=800,batch_size = 128,validation_split = 0.05)"
   ]
  },
  {
   "cell_type": "code",
   "execution_count": 45,
   "metadata": {},
   "outputs": [],
   "source": [
    "nn_pred = model.predict(normal_test)"
   ]
  },
  {
   "cell_type": "code",
   "execution_count": 51,
   "metadata": {},
   "outputs": [
    {
     "data": {
      "text/plain": [
       "numpy.ndarray"
      ]
     },
     "execution_count": 51,
     "metadata": {},
     "output_type": "execute_result"
    }
   ],
   "source": [
    "type(nn_pred)"
   ]
  },
  {
   "cell_type": "code",
   "execution_count": 58,
   "metadata": {},
   "outputs": [],
   "source": [
    "def convert():\n",
    "    out = []\n",
    "    output = []\n",
    "    for i in range(len(nn_pred)):\n",
    "        temp = max(nn_pred[i])\n",
    "        for j in range(4):\n",
    "            if temp == nn_pred[i][j]:\n",
    "                out.append(j)\n",
    "    for i in out:\n",
    "        if i==0:\n",
    "            output.append(\"Highly_Fatal_And_Damaging\")\n",
    "        if i==1:\n",
    "            output.append(\"Minor_Damage_And_Injuries\")\n",
    "        if i==2:\n",
    "            output.append(\"Significant_Damage_And_Fatalities\")\n",
    "        if i==3:\n",
    "            output.append(\"Significant_Damage_And_Serious_Injuries\")\n",
    "    return output\n",
    "                "
   ]
  },
  {
   "cell_type": "code",
   "execution_count": 59,
   "metadata": {},
   "outputs": [],
   "source": [
    "nn_out = convert()"
   ]
  },
  {
   "cell_type": "code",
   "execution_count": 61,
   "metadata": {},
   "outputs": [
    {
     "name": "stdout",
     "output_type": "stream",
     "text": [
      "2500\n"
     ]
    }
   ],
   "source": [
    "print(len(nn_out))"
   ]
  },
  {
   "cell_type": "code",
   "execution_count": null,
   "metadata": {},
   "outputs": [],
   "source": []
  },
  {
   "cell_type": "code",
   "execution_count": null,
   "metadata": {},
   "outputs": [],
   "source": []
  },
  {
   "cell_type": "code",
   "execution_count": 62,
   "metadata": {},
   "outputs": [],
   "source": [
    "submission = pd.DataFrame()\n",
    "submission[\"Accident_ID\"] = ID\n",
    "submission[\"Severity\"] = nn_out\n",
    "submission.to_csv(\"E:\\Data Science\\Kaggle Competitions dataset\\Hackerearth Airplane Accident/submission.csv\",index = False)"
   ]
  },
  {
   "cell_type": "code",
   "execution_count": null,
   "metadata": {},
   "outputs": [],
   "source": [
    "gbm.feature_importances_"
   ]
  },
  {
   "cell_type": "code",
   "execution_count": null,
   "metadata": {},
   "outputs": [],
   "source": [
    "df.head()"
   ]
  },
  {
   "cell_type": "code",
   "execution_count": null,
   "metadata": {},
   "outputs": [],
   "source": [
    "gb_imp = gbm.feature_importances_\n",
    "imp_col = {}\n",
    "for c,i in enumerate(df.columns):\n",
    "    imp_col[gb_imp[c]] = i\n",
    "print(imp_col)"
   ]
  },
  {
   "cell_type": "code",
   "execution_count": null,
   "metadata": {},
   "outputs": [],
   "source": [
    " x= sorted(imp_col.keys())"
   ]
  },
  {
   "cell_type": "code",
   "execution_count": null,
   "metadata": {},
   "outputs": [],
   "source": [
    "for i in x:\n",
    "    print(imp_col[i])"
   ]
  },
  {
   "cell_type": "code",
   "execution_count": null,
   "metadata": {},
   "outputs": [],
   "source": [
    "for i in df.columns:\n",
    "    print(df[i].nunique(),end= \" \")\n",
    "    print(i)"
   ]
  },
  {
   "cell_type": "code",
   "execution_count": null,
   "metadata": {},
   "outputs": [],
   "source": [
    "df[\"Accident_Type_Code\"].unique()"
   ]
  },
  {
   "cell_type": "code",
   "execution_count": null,
   "metadata": {},
   "outputs": [],
   "source": [
    "(df['Accident_Type_Code'] == 1).sum()"
   ]
  },
  {
   "cell_type": "code",
   "execution_count": null,
   "metadata": {},
   "outputs": [],
   "source": [
    "df.describe()"
   ]
  },
  {
   "cell_type": "code",
   "execution_count": null,
   "metadata": {},
   "outputs": [],
   "source": [
    "df.values.tolist()[0]"
   ]
  },
  {
   "cell_type": "code",
   "execution_count": null,
   "metadata": {},
   "outputs": [],
   "source": []
  }
 ],
 "metadata": {
  "kernelspec": {
   "display_name": "Python 3",
   "language": "python",
   "name": "python3"
  },
  "language_info": {
   "codemirror_mode": {
    "name": "ipython",
    "version": 3
   },
   "file_extension": ".py",
   "mimetype": "text/x-python",
   "name": "python",
   "nbconvert_exporter": "python",
   "pygments_lexer": "ipython3",
   "version": "3.6.9"
  }
 },
 "nbformat": 4,
 "nbformat_minor": 2
}
