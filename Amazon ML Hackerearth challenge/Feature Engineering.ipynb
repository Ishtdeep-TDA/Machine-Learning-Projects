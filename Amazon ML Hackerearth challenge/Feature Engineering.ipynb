{
 "metadata": {
  "language_info": {
   "codemirror_mode": {
    "name": "ipython",
    "version": 3
   },
   "file_extension": ".py",
   "mimetype": "text/x-python",
   "name": "python",
   "nbconvert_exporter": "python",
   "pygments_lexer": "ipython3",
   "version": "3.6.9-final"
  },
  "orig_nbformat": 2,
  "kernelspec": {
   "name": "python3",
   "display_name": "Python 3"
  }
 },
 "nbformat": 4,
 "nbformat_minor": 2,
 "cells": [
  {
   "cell_type": "code",
   "execution_count": 74,
   "metadata": {},
   "outputs": [],
   "source": [
    "import numpy as np\n",
    "import pandas as pd\n",
    "import matplotlib.pyplot as plt\n",
    "import seaborn as sns\n",
    "import featuretools as ft"
   ]
  },
  {
   "cell_type": "code",
   "execution_count": 75,
   "metadata": {},
   "outputs": [
    {
     "output_type": "execute_result",
     "data": {
      "text/plain": [
       "   customer_visit_score  customer_product_search_score  customer_ctr_score  \\\n",
       "0             13.168425                       9.447662           -0.070203   \n",
       "1             17.092979                       7.329056            0.153298   \n",
       "2             17.505334                       5.143676            0.106709   \n",
       "3             31.423381                       4.917740           -0.020226   \n",
       "4             11.909502                       4.237073            0.187178   \n",
       "\n",
       "   customer_stay_score  customer_frequency_score  \\\n",
       "0            -0.139541                  0.436956   \n",
       "1            -0.102726                  0.380340   \n",
       "2             0.262834                  0.417648   \n",
       "3            -0.100526                  0.778130   \n",
       "4             0.172891                  0.162067   \n",
       "\n",
       "   customer_product_variation_score  customer_order_score  \\\n",
       "0                          4.705761              2.537985   \n",
       "1                          4.205138              4.193444   \n",
       "2                          4.479070              3.878971   \n",
       "3                          5.055535              2.708940   \n",
       "4                          3.445247              3.677360   \n",
       "\n",
       "   customer_affinity_score customer_active_segment  X1  \n",
       "0                 7.959503                       C   F  \n",
       "1                17.517381                       C   A  \n",
       "2                12.595155                       C  BA  \n",
       "3                 4.795073                      AA   F  \n",
       "4                56.636326                       C  AA  "
      ],
      "text/html": "<div>\n<style scoped>\n    .dataframe tbody tr th:only-of-type {\n        vertical-align: middle;\n    }\n\n    .dataframe tbody tr th {\n        vertical-align: top;\n    }\n\n    .dataframe thead th {\n        text-align: right;\n    }\n</style>\n<table border=\"1\" class=\"dataframe\">\n  <thead>\n    <tr style=\"text-align: right;\">\n      <th></th>\n      <th>customer_visit_score</th>\n      <th>customer_product_search_score</th>\n      <th>customer_ctr_score</th>\n      <th>customer_stay_score</th>\n      <th>customer_frequency_score</th>\n      <th>customer_product_variation_score</th>\n      <th>customer_order_score</th>\n      <th>customer_affinity_score</th>\n      <th>customer_active_segment</th>\n      <th>X1</th>\n    </tr>\n  </thead>\n  <tbody>\n    <tr>\n      <th>0</th>\n      <td>13.168425</td>\n      <td>9.447662</td>\n      <td>-0.070203</td>\n      <td>-0.139541</td>\n      <td>0.436956</td>\n      <td>4.705761</td>\n      <td>2.537985</td>\n      <td>7.959503</td>\n      <td>C</td>\n      <td>F</td>\n    </tr>\n    <tr>\n      <th>1</th>\n      <td>17.092979</td>\n      <td>7.329056</td>\n      <td>0.153298</td>\n      <td>-0.102726</td>\n      <td>0.380340</td>\n      <td>4.205138</td>\n      <td>4.193444</td>\n      <td>17.517381</td>\n      <td>C</td>\n      <td>A</td>\n    </tr>\n    <tr>\n      <th>2</th>\n      <td>17.505334</td>\n      <td>5.143676</td>\n      <td>0.106709</td>\n      <td>0.262834</td>\n      <td>0.417648</td>\n      <td>4.479070</td>\n      <td>3.878971</td>\n      <td>12.595155</td>\n      <td>C</td>\n      <td>BA</td>\n    </tr>\n    <tr>\n      <th>3</th>\n      <td>31.423381</td>\n      <td>4.917740</td>\n      <td>-0.020226</td>\n      <td>-0.100526</td>\n      <td>0.778130</td>\n      <td>5.055535</td>\n      <td>2.708940</td>\n      <td>4.795073</td>\n      <td>AA</td>\n      <td>F</td>\n    </tr>\n    <tr>\n      <th>4</th>\n      <td>11.909502</td>\n      <td>4.237073</td>\n      <td>0.187178</td>\n      <td>0.172891</td>\n      <td>0.162067</td>\n      <td>3.445247</td>\n      <td>3.677360</td>\n      <td>56.636326</td>\n      <td>C</td>\n      <td>AA</td>\n    </tr>\n  </tbody>\n</table>\n</div>"
     },
     "metadata": {},
     "execution_count": 75
    }
   ],
   "source": [
    "df = pd.read_csv(\"G:\\Data Science\\Kaggle Competitions dataset\\Amazon ML Hiring Hackerearth/non_null_df_train.csv\")\n",
    "df.head()"
   ]
  },
  {
   "cell_type": "code",
   "execution_count": 77,
   "metadata": {},
   "outputs": [],
   "source": [
    "num_cols = [\"customer_visit_score\",\"customer_product_search_score\",'customer_product_search_score',\n",
    "       'customer_ctr_score', 'customer_stay_score', 'customer_frequency_score',\n",
    "       'customer_product_variation_score', 'customer_order_score',\n",
    "       'customer_affinity_score']"
   ]
  },
  {
   "cell_type": "code",
   "execution_count": 78,
   "metadata": {},
   "outputs": [
    {
     "output_type": "execute_result",
     "data": {
      "text/plain": [
       "customer_visit_score                float64\n",
       "customer_product_search_score       float64\n",
       "customer_ctr_score                  float64\n",
       "customer_stay_score                 float64\n",
       "customer_frequency_score            float64\n",
       "customer_product_variation_score    float64\n",
       "customer_order_score                float64\n",
       "customer_affinity_score             float64\n",
       "dtype: object"
      ]
     },
     "metadata": {},
     "execution_count": 78
    }
   ],
   "source": [
    "numerical_df =df.drop(['customer_active_segment','X1'],axis = 1)\n",
    "numerical_df.dtypes"
   ]
  },
  {
   "cell_type": "code",
   "execution_count": 79,
   "metadata": {},
   "outputs": [],
   "source": [
    "def create_features(input_df):\n",
    "    temp_df = pd.DataFrame()\n",
    "\n",
    "    for c in range(len(input_df.columns)):\n",
    "\n",
    "        for c1 in range(c+1,len(input_df.columns)):\n",
    "\n",
    "            temp_df[f'{input_df.columns[c]} + {input_df.columns[c1]}'] = input_df[input_df.columns[c]] + input_df[input_df.columns[c1]]\n",
    "            temp_df[f'{input_df.columns[c]} - {input_df.columns[c1]}'] = input_df[input_df.columns[c]] - input_df[input_df.columns[c1]]\n",
    "            temp_df[f'{input_df.columns[c]} * {input_df.columns[c1]}'] = input_df[input_df.columns[c]] * input_df[input_df.columns[c1]]\n",
    "\n",
    "        temp_df[f'LOG_{input_df.columns[c]}'] = np.log10(input_df[input_df.columns[c]])\n",
    "    return temp_df"
   ]
  },
  {
   "cell_type": "code",
   "execution_count": 84,
   "metadata": {},
   "outputs": [],
   "source": [
    "# 1 layer deep features\n",
    "temp = create_features(numerical_df)\n",
    "# To extensively form more features\n",
    "temp = create_features(temp)"
   ]
  },
  {
   "cell_type": "code",
   "execution_count": 85,
   "metadata": {},
   "outputs": [
    {
     "output_type": "execute_result",
     "data": {
      "text/plain": [
       "(10738, 12650)"
      ]
     },
     "metadata": {},
     "execution_count": 85
    }
   ],
   "source": [
    "temp.shape"
   ]
  },
  {
   "cell_type": "code",
   "execution_count": 86,
   "metadata": {},
   "outputs": [],
   "source": [
    "temp.to_csv('G:\\Data Science\\Kaggle Competitions dataset\\Amazon ML Hiring Hackerearth/extra_features.csv',index = False)"
   ]
  },
  {
   "source": [
    "temp.to_csv('G:\\Data Science\\Kaggle Competitions dataset\\Amazon ML Hiring Hackerearth/feature_engineered.csv',index = False)"
   ],
   "cell_type": "code",
   "metadata": {},
   "execution_count": 83,
   "outputs": []
  },
  {
   "cell_type": "code",
   "execution_count": null,
   "metadata": {},
   "outputs": [],
   "source": []
  }
 ]
}