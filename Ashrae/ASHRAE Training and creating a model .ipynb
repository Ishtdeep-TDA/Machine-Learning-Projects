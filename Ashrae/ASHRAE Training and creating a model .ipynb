{
 "cells": [
  {
   "cell_type": "code",
   "execution_count": 1,
   "metadata": {},
   "outputs": [],
   "source": [
    "import numpy as np # linear algebra\n",
    "import pandas as pd # data processing, CSV file I/O (e.g. pd.read_csv)\n",
    "import os\n"
   ]
  },
  {
   "cell_type": "code",
   "execution_count": 2,
   "metadata": {},
   "outputs": [],
   "source": [
    "pd.set_option('display.max_rows', 10)\n",
    "pd.set_option('display.max_columns', 100)"
   ]
  },
  {
   "cell_type": "code",
   "execution_count": 3,
   "metadata": {},
   "outputs": [],
   "source": [
    "#REDUCE MEMORY USAGE\n",
    "## Function to reduce the DF size\n",
    "def reduce_mem_usage(df, verbose=True):\n",
    "    numerics = ['int16', 'int32', 'int64', 'float16', 'float32', 'float64']\n",
    "    start_mem = df.memory_usage().sum() / 1024**2    \n",
    "    for col in df.columns:\n",
    "        col_type = df[col].dtypes\n",
    "        if col_type in numerics:\n",
    "            c_min = df[col].min()\n",
    "            c_max = df[col].max()\n",
    "            if str(col_type)[:3] == 'int':\n",
    "                if c_min > np.iinfo(np.int8).min and c_max < np.iinfo(np.int8).max:\n",
    "                    df[col] = df[col].astype(np.int8)\n",
    "                elif c_min > np.iinfo(np.int16).min and c_max < np.iinfo(np.int16).max:\n",
    "                    df[col] = df[col].astype(np.int16)\n",
    "                elif c_min > np.iinfo(np.int32).min and c_max < np.iinfo(np.int32).max:\n",
    "                    df[col] = df[col].astype(np.int32)\n",
    "                elif c_min > np.iinfo(np.int64).min and c_max < np.iinfo(np.int64).max:\n",
    "                    df[col] = df[col].astype(np.int64)  \n",
    "            else:\n",
    "                if c_min > np.finfo(np.float16).min and c_max < np.finfo(np.float16).max:\n",
    "                    df[col] = df[col].astype(np.float16)\n",
    "                elif c_min > np.finfo(np.float32).min and c_max < np.finfo(np.float32).max:\n",
    "                    df[col] = df[col].astype(np.float32)\n",
    "                else:\n",
    "                    df[col] = df[col].astype(np.float64)    \n",
    "    end_mem = df.memory_usage().sum() / 1024**2\n",
    "    if verbose: print('Mem. usage decreased to {:5.2f} Mb ({:.1f}% reduction)'.format(end_mem, 100 * (start_mem - end_mem) / start_mem))\n",
    "    return df"
   ]
  },
  {
   "cell_type": "code",
   "execution_count": 4,
   "metadata": {},
   "outputs": [],
   "source": [
    "train_df = pd.read_csv(r\"E:\\Data Science\\Kaggle Competitions dataset/train.csv\")"
   ]
  },
  {
   "cell_type": "code",
   "execution_count": 5,
   "metadata": {},
   "outputs": [
    {
     "name": "stdout",
     "output_type": "stream",
     "text": [
      "Mem. usage decreased to 289.19 Mb (53.1% reduction)\n"
     ]
    }
   ],
   "source": [
    "train_df = reduce_mem_usage(train_df)"
   ]
  },
  {
   "cell_type": "code",
   "execution_count": 6,
   "metadata": {},
   "outputs": [],
   "source": [
    "y = train_df[\"meter_reading\"]"
   ]
  },
  {
   "cell_type": "code",
   "execution_count": 7,
   "metadata": {},
   "outputs": [
    {
     "data": {
      "text/plain": [
       "0"
      ]
     },
     "execution_count": 7,
     "metadata": {},
     "output_type": "execute_result"
    }
   ],
   "source": [
    "import gc\n",
    "del train_df\n",
    "gc.collect()"
   ]
  },
  {
   "cell_type": "code",
   "execution_count": 8,
   "metadata": {},
   "outputs": [],
   "source": [
    "#final_train = pd.read_csv(r\"E:\\Data Science\\Kaggle Competitions dataset\\Ashrae/final_train_NN.csv\")"
   ]
  },
  {
   "cell_type": "code",
   "execution_count": 9,
   "metadata": {},
   "outputs": [],
   "source": [
    "#from sklearn.preprocessing import MinMaxScaler\n",
    "\n",
    "#scaler = MinMaxScaler()\n",
    "#scaler.fit(final_train)\n",
    "#normal = scaler.transform(final_train)"
   ]
  },
  {
   "cell_type": "code",
   "execution_count": 10,
   "metadata": {},
   "outputs": [],
   "source": [
    "#normal.shape"
   ]
  },
  {
   "cell_type": "code",
   "execution_count": 11,
   "metadata": {},
   "outputs": [],
   "source": [
    "#normal_temp = pd.DataFrame(normal)"
   ]
  },
  {
   "cell_type": "code",
   "execution_count": 12,
   "metadata": {},
   "outputs": [],
   "source": [
    "#normal_temp.to_csv(r\"E:\\Data Science\\Kaggle Competitions dataset\\Ashrae\\normal_final_train_NN.csv\")"
   ]
  },
  {
   "cell_type": "code",
   "execution_count": 13,
   "metadata": {},
   "outputs": [],
   "source": [
    "#del final_train\n",
    "#del normal\n",
    "#gc.collect()"
   ]
  },
  {
   "cell_type": "code",
   "execution_count": null,
   "metadata": {},
   "outputs": [],
   "source": []
  },
  {
   "cell_type": "code",
   "execution_count": 14,
   "metadata": {},
   "outputs": [],
   "source": [
    "#final_test = pd.read_csv(r\"E:\\Data Science\\Kaggle Competitions dataset\\Ashrae/final_test_NN1.csv\")"
   ]
  },
  {
   "cell_type": "code",
   "execution_count": 15,
   "metadata": {},
   "outputs": [],
   "source": [
    "#final_test.shape"
   ]
  },
  {
   "cell_type": "code",
   "execution_count": null,
   "metadata": {},
   "outputs": [],
   "source": []
  },
  {
   "cell_type": "code",
   "execution_count": 16,
   "metadata": {},
   "outputs": [],
   "source": [
    "#test_norm1 = final_test.iloc[:20000000,:]"
   ]
  },
  {
   "cell_type": "code",
   "execution_count": 17,
   "metadata": {},
   "outputs": [],
   "source": [
    "#test_norm1 = reduce_mem_usage(test_norm1)"
   ]
  },
  {
   "cell_type": "code",
   "execution_count": 18,
   "metadata": {},
   "outputs": [],
   "source": [
    "#test_norm1 = scaler.transform(test_norm1)"
   ]
  },
  {
   "cell_type": "code",
   "execution_count": 19,
   "metadata": {},
   "outputs": [],
   "source": [
    "#test_norm1 = pd.DataFrame(test_norm1)"
   ]
  },
  {
   "cell_type": "code",
   "execution_count": 20,
   "metadata": {},
   "outputs": [],
   "source": [
    "#test_norm2 = final_test.iloc[20000000:,:]"
   ]
  },
  {
   "cell_type": "code",
   "execution_count": 21,
   "metadata": {},
   "outputs": [],
   "source": [
    "#test_norm2 = reduce_mem_usage(test_norm2)"
   ]
  },
  {
   "cell_type": "code",
   "execution_count": 22,
   "metadata": {},
   "outputs": [],
   "source": [
    "#test_norm2 = scaler.transform(test_norm2)"
   ]
  },
  {
   "cell_type": "code",
   "execution_count": 23,
   "metadata": {},
   "outputs": [],
   "source": [
    "#test_norm2 = pd.DataFrame(test_norm2)"
   ]
  },
  {
   "cell_type": "code",
   "execution_count": 24,
   "metadata": {},
   "outputs": [],
   "source": [
    "#del final_test\n",
    "#gc.collect()"
   ]
  },
  {
   "cell_type": "code",
   "execution_count": 25,
   "metadata": {},
   "outputs": [],
   "source": [
    "#test_normal = pd.concat([test_norm1,test_norm2])"
   ]
  },
  {
   "cell_type": "code",
   "execution_count": 26,
   "metadata": {},
   "outputs": [],
   "source": [
    "#del test_norm1\n",
    "#del test_norm2\n",
    "#gc.collect()"
   ]
  },
  {
   "cell_type": "code",
   "execution_count": 27,
   "metadata": {},
   "outputs": [],
   "source": [
    "#normal_test = pd.DataFrame(test_normal)"
   ]
  },
  {
   "cell_type": "code",
   "execution_count": 28,
   "metadata": {},
   "outputs": [],
   "source": [
    "#normal_test.to_csv(r\"E:\\Data Science\\Kaggle Competitions dataset\\Ashrae\\normal_final_test_NN1.csv\")"
   ]
  },
  {
   "cell_type": "code",
   "execution_count": 29,
   "metadata": {},
   "outputs": [],
   "source": [
    "#final_train.head()"
   ]
  },
  {
   "cell_type": "code",
   "execution_count": 30,
   "metadata": {},
   "outputs": [],
   "source": [
    "normal = pd.read_csv(r\"E:\\Data Science\\Kaggle Competitions dataset\\Ashrae\\normal_final_train_NN.csv\",index_col=False)"
   ]
  },
  {
   "cell_type": "code",
   "execution_count": 50,
   "metadata": {},
   "outputs": [],
   "source": []
  },
  {
   "cell_type": "code",
   "execution_count": 31,
   "metadata": {},
   "outputs": [],
   "source": [
    "from sklearn.model_selection import train_test_split\n",
    "X_train, X_test, y_train, y_test = train_test_split(normal, y, test_size=0.001, random_state=42)"
   ]
  },
  {
   "cell_type": "code",
   "execution_count": null,
   "metadata": {},
   "outputs": [],
   "source": []
  },
  {
   "cell_type": "code",
   "execution_count": 32,
   "metadata": {},
   "outputs": [
    {
     "data": {
      "text/plain": [
       "0"
      ]
     },
     "execution_count": 32,
     "metadata": {},
     "output_type": "execute_result"
    }
   ],
   "source": [
    "del normal\n",
    "gc.collect()"
   ]
  },
  {
   "cell_type": "code",
   "execution_count": 33,
   "metadata": {},
   "outputs": [],
   "source": [
    "import tensorflow as tf\n",
    "from tensorflow import keras"
   ]
  },
  {
   "cell_type": "code",
   "execution_count": 51,
   "metadata": {},
   "outputs": [],
   "source": [
    "from tensorflow.keras.regularizers import l2 as reg2,l1 as reg1\n",
    "from tensorflow.keras.models import Sequential\n",
    "from tensorflow.keras.layers import Dense,Activation,BatchNormalization,Dropout\n",
    "\n",
    "\n",
    "model4 = Sequential()\n",
    "model4.add(Dense(121,activation=tf.nn.relu ,kernel_initializer='lecun_uniform'))\n",
    "model4.add(BatchNormalization())\n",
    "model4.add(Dense(500,activation=tf.nn.relu ,kernel_initializer='lecun_uniform',kernel_regularizer = reg2(0.01)))\n",
    "model4.add(BatchNormalization())\n",
    "model4.add(Dense(500,activation=tf.nn.relu ,kernel_initializer='lecun_uniform',kernel_regularizer = reg2(0.01)))\n",
    "model4.add(BatchNormalization())\n",
    "model4.add(Dense(200,activation=tf.nn.relu ,kernel_initializer='lecun_uniform',kernel_regularizer = reg2(0.01)))\n",
    "model4.add(Dense(1,activation=\"linear\",kernel_initializer='lecun_uniform'))\n"
   ]
  },
  {
   "cell_type": "code",
   "execution_count": 52,
   "metadata": {},
   "outputs": [],
   "source": [
    "adam = keras.optimizers.Adam(learning_rate=0.001, beta_1=0.9, beta_2=0.999, amsgrad=False)"
   ]
  },
  {
   "cell_type": "code",
   "execution_count": 53,
   "metadata": {},
   "outputs": [],
   "source": [
    "model4.compile(optimizer=adam, loss='mean_squared_error',metrics=['mean_squared_error'])"
   ]
  },
  {
   "cell_type": "code",
   "execution_count": 54,
   "metadata": {},
   "outputs": [],
   "source": [
    "X_train = pd.DataFrame(X_train)\n",
    "y_train = pd.DataFrame(y_train)"
   ]
  },
  {
   "cell_type": "code",
   "execution_count": 55,
   "metadata": {},
   "outputs": [],
   "source": [
    "# 25 epochs LR of 0.001 batch 10K val MSE is 1357837824\n",
    "# Reducing LR to 0.0001 30 epoch MSE 1077661952 \n",
    "# "
   ]
  },
  {
   "cell_type": "code",
   "execution_count": 56,
   "metadata": {},
   "outputs": [
    {
     "name": "stdout",
     "output_type": "stream",
     "text": [
      "Train on 18176294 samples, validate on 2019589 samples\n",
      "Epoch 1/40\n",
      "18176294/18176294 [==============================] - 220s 12us/sample - loss: 23050131155.9533 - mean_squared_error: 23049648128.0000 - val_loss: 31847995297.1584 - val_mean_squared_error: 31847958528.0000\n",
      "Epoch 2/40\n",
      "18176294/18176294 [==============================] - 102s 6us/sample - loss: 21873798718.3911 - mean_squared_error: 21873414144.0000 - val_loss: 205528472261.9185 - val_mean_squared_error: 205527777280.0000\n",
      "Epoch 3/40\n",
      "18176294/18176294 [==============================] - 102s 6us/sample - loss: 20218986563.7700 - mean_squared_error: 20218718208.0000 - val_loss: 194523960516.9345 - val_mean_squared_error: 194521792512.0000\n",
      "Epoch 4/40\n",
      "18176294/18176294 [==============================] - 103s 6us/sample - loss: 18363762500.5603 - mean_squared_error: 18363494400.0000 - val_loss: 38200848583007.8125 - val_mean_squared_error: 38200697421824.0000\n",
      "Epoch 5/40\n",
      "18176294/18176294 [==============================] - 102s 6us/sample - loss: 16592026668.6443 - mean_squared_error: 16592167936.0000 - val_loss: 5572851050306.0166 - val_mean_squared_error: 5572818632704.0000\n",
      "Epoch 6/40\n",
      "18176294/18176294 [==============================] - 102s 6us/sample - loss: 15093070315.5471 - mean_squared_error: 15093094400.0000 - val_loss: 35920769818329.8750 - val_mean_squared_error: 35920287891456.0000\n",
      "Epoch 7/40\n",
      "18176294/18176294 [==============================] - 102s 6us/sample - loss: 13412399580.4036 - mean_squared_error: 13412407296.0000 - val_loss: 22569769444861.9297 - val_mean_squared_error: 22569671458816.0000\n",
      "Epoch 8/40\n",
      "18176294/18176294 [==============================] - 103s 6us/sample - loss: 11662106465.8839 - mean_squared_error: 11662139392.0000 - val_loss: 65841435701830.5000 - val_mean_squared_error: 65840946872320.0000\n",
      "Epoch 9/40\n",
      "18176294/18176294 [==============================] - 103s 6us/sample - loss: 9695207056.4506 - mean_squared_error: 9695234048.0000 - val_loss: 71099300402191.8125 - val_mean_squared_error: 71098016202752.0000\n",
      "Epoch 10/40\n",
      "18176294/18176294 [==============================] - 104s 6us/sample - loss: 7890228478.7940 - mean_squared_error: 7890235904.0000 - val_loss: 2520692744611714.0000 - val_mean_squared_error: 2520690267783168.0000\n",
      "Epoch 11/40\n",
      "18176294/18176294 [==============================] - 103s 6us/sample - loss: 7629164441.6579 - mean_squared_error: 7629172224.0000 - val_loss: 58671241963660.0078 - val_mean_squared_error: 58670847098880.0000\n",
      "Epoch 12/40\n",
      "18176294/18176294 [==============================] - 105s 6us/sample - loss: 7733427324.5834 - mean_squared_error: 7733425152.0000 - val_loss: 1092831372754681.5000 - val_mean_squared_error: 1092829195534336.0000\n",
      "Epoch 13/40\n",
      "18176294/18176294 [==============================] - 105s 6us/sample - loss: 6556661335.0397 - mean_squared_error: 6556662272.0000 - val_loss: 1021920904062444.6250 - val_mean_squared_error: 1021918815715328.0000\n",
      "Epoch 14/40\n",
      "18176294/18176294 [==============================] - 107s 6us/sample - loss: 6077904408.3202 - mean_squared_error: 6077913600.0000 - val_loss: 156096985794120.0938 - val_mean_squared_error: 156096408846336.0000\n",
      "Epoch 15/40\n",
      "18176294/18176294 [==============================] - 107s 6us/sample - loss: 6142438174.8713 - mean_squared_error: 6142452224.0000 - val_loss: 1205269408321164.7500 - val_mean_squared_error: 1205267547029504.0000\n",
      "Epoch 16/40\n",
      "18176294/18176294 [==============================] - 109s 6us/sample - loss: 5918779950.2978 - mean_squared_error: 5918770688.0000 - val_loss: 72137872176935.3281 - val_mean_squared_error: 72139134730240.0000\n",
      "Epoch 17/40\n",
      "18176294/18176294 [==============================] - 107s 6us/sample - loss: 5692431167.1318 - mean_squared_error: 5692422656.0000 - val_loss: 342257983205090.3750 - val_mean_squared_error: 342257555210240.0000\n",
      "Epoch 18/40\n",
      "18176294/18176294 [==============================] - 106s 6us/sample - loss: 4735004311.1017 - mean_squared_error: 4734985216.0000 - val_loss: 3089106247124280.5000 - val_mean_squared_error: 3089106103959552.0000\n",
      "Epoch 19/40\n",
      "18176294/18176294 [==============================] - 103s 6us/sample - loss: 4332267921.8634 - mean_squared_error: 4332269056.0000 - val_loss: 117501659921119.1562 - val_mean_squared_error: 117501539123200.0000\n",
      "Epoch 20/40\n",
      "18176294/18176294 [==============================] - 102s 6us/sample - loss: 4395013114.4580 - mean_squared_error: 4395008000.0000 - val_loss: 599997557501678.6250 - val_mean_squared_error: 599996663595008.0000\n",
      "Epoch 21/40\n",
      "18176294/18176294 [==============================] - 102s 6us/sample - loss: 4103953309.1109 - mean_squared_error: 4103950592.0000 - val_loss: 125619354735542.1562 - val_mean_squared_error: 125618448498688.0000\n",
      "Epoch 22/40\n",
      "18176294/18176294 [==============================] - 103s 6us/sample - loss: 4337206344.1390 - mean_squared_error: 4337193984.0000 - val_loss: 609563784690156.3750 - val_mean_squared_error: 609562428178432.0000\n",
      "Epoch 23/40\n",
      "18176294/18176294 [==============================] - 103s 6us/sample - loss: 3782970350.5162 - mean_squared_error: 3782959104.0000 - val_loss: 867245064369255.3750 - val_mean_squared_error: 867243755831296.0000\n",
      "Epoch 24/40\n",
      "18176294/18176294 [==============================] - 103s 6us/sample - loss: 3511815372.4710 - mean_squared_error: 3511810048.0000 - val_loss: 143465537891973.3750 - val_mean_squared_error: 143464222162944.0000\n",
      "Epoch 25/40\n",
      "18176294/18176294 [==============================] - 103s 6us/sample - loss: 3280015553.1357 - mean_squared_error: 3280007680.0000 - val_loss: 114113659354914.0625 - val_mean_squared_error: 114113481015296.0000\n",
      "Epoch 26/40\n",
      "18176294/18176294 [==============================] - 103s 6us/sample - loss: 3126292960.1102 - mean_squared_error: 3126288384.0000 - val_loss: 1080650276119280.5000 - val_mean_squared_error: 1080648802500608.0000\n",
      "Epoch 27/40\n",
      "18176294/18176294 [==============================] - 103s 6us/sample - loss: 3299859970.8636 - mean_squared_error: 3299855872.0000 - val_loss: 884188082579.4124 - val_mean_squared_error: 884188446720.0000\n",
      "Epoch 28/40\n",
      "18176294/18176294 [==============================] - 103s 6us/sample - loss: 3170588878.0493 - mean_squared_error: 3170588928.0000 - val_loss: 23577335965203.4844 - val_mean_squared_error: 23577189416960.0000\n",
      "Epoch 29/40\n",
      "18176294/18176294 [==============================] - 103s 6us/sample - loss: 2592525355.0337 - mean_squared_error: 2592528128.0000 - val_loss: 178801923132783.9375 - val_mean_squared_error: 178801652793344.0000\n",
      "Epoch 30/40\n",
      "18176294/18176294 [==============================] - 103s 6us/sample - loss: 2880166275.7734 - mean_squared_error: 2880167936.0000 - val_loss: 782426068949.9054 - val_mean_squared_error: 782425915392.0000\n",
      "Epoch 31/40\n",
      "18176294/18176294 [==============================] - 102s 6us/sample - loss: 2331506534.4583 - mean_squared_error: 2331509248.0000 - val_loss: 1108950234791.2671 - val_mean_squared_error: 1108944355328.0000\n",
      "Epoch 32/40\n",
      "18176294/18176294 [==============================] - 102s 6us/sample - loss: 2414141216.4439 - mean_squared_error: 2414139392.0000 - val_loss: 250275552409.1413 - val_mean_squared_error: 250275627008.0000\n",
      "Epoch 33/40\n",
      "18176294/18176294 [==============================] - 103s 6us/sample - loss: 2376870813.3908 - mean_squared_error: 2376862976.0000 - val_loss: 156217028626.2177 - val_mean_squared_error: 156216819712.0000\n",
      "Epoch 34/40\n",
      "18176294/18176294 [==============================] - 102s 6us/sample - loss: 2196682545.5855 - mean_squared_error: 2196667392.0000 - val_loss: 1461005442024.7375 - val_mean_squared_error: 1460995227648.0000\n",
      "Epoch 35/40\n",
      "18176294/18176294 [==============================] - 101s 6us/sample - loss: 2092371363.7477 - mean_squared_error: 2092355968.0000 - val_loss: 57420345052.0900 - val_mean_squared_error: 57420394496.0000\n",
      "Epoch 36/40\n",
      "18176294/18176294 [==============================] - 101s 6us/sample - loss: 2004918251.4143 - mean_squared_error: 2004916224.0000 - val_loss: 12161598716232.0098 - val_mean_squared_error: 12161562705920.0000\n",
      "Epoch 37/40\n",
      "18176294/18176294 [==============================] - 101s 6us/sample - loss: 2277133937.5150 - mean_squared_error: 2277116416.0000 - val_loss: 514066241393.1170 - val_mean_squared_error: 514060320768.0000\n"
     ]
    },
    {
     "name": "stdout",
     "output_type": "stream",
     "text": [
      "Epoch 38/40\n",
      "18176294/18176294 [==============================] - 101s 6us/sample - loss: 2494132731.2301 - mean_squared_error: 2494134784.0000 - val_loss: 1739775598992.7051 - val_mean_squared_error: 1739758108672.0000\n",
      "Epoch 39/40\n",
      "18176294/18176294 [==============================] - 101s 6us/sample - loss: 1883045895.5531 - mean_squared_error: 1883033856.0000 - val_loss: 238078939433.2529 - val_mean_squared_error: 238078918656.0000\n",
      "Epoch 40/40\n",
      "18176294/18176294 [==============================] - 102s 6us/sample - loss: 1886073951.0449 - mean_squared_error: 1886062208.0000 - val_loss: 201275513727.8962 - val_mean_squared_error: 201275637760.0000\n"
     ]
    }
   ],
   "source": [
    "history4 = model4.fit(X_train.values, y_train.values, epochs=40,batch_size = 10000,validation_split = 0.1)"
   ]
  },
  {
   "cell_type": "code",
   "execution_count": 57,
   "metadata": {},
   "outputs": [
    {
     "name": "stdout",
     "output_type": "stream",
     "text": [
      "Saved model to disk\n"
     ]
    }
   ],
   "source": [
    "model_json = model4.to_json()\n",
    "with open(\"modelNN_1.json\", \"w\") as json_file:\n",
    "    json_file.write(model_json)\n",
    "# serialize weights to HDF5\n",
    "model4.save_weights(\"modelNN_1.h5\")\n",
    "print(\"Saved model to disk\")"
   ]
  },
  {
   "cell_type": "code",
   "execution_count": 41,
   "metadata": {},
   "outputs": [
    {
     "data": {
      "text/plain": [
       "189777"
      ]
     },
     "execution_count": 41,
     "metadata": {},
     "output_type": "execute_result"
    }
   ],
   "source": [
    "del model4\n",
    "del history4\n",
    "gc.collect()\n"
   ]
  },
  {
   "cell_type": "code",
   "execution_count": null,
   "metadata": {},
   "outputs": [],
   "source": []
  },
  {
   "cell_type": "code",
   "execution_count": 42,
   "metadata": {},
   "outputs": [],
   "source": [
    "model = Sequential()\n",
    "model.add(Dense(121,activation=tf.nn.relu ,kernel_initializer='lecun_uniform'))\n",
    "model.add(BatchNormalization())\n",
    "model.add(Dense(500,activation=tf.nn.relu ,kernel_initializer='lecun_uniform',kernel_regularizer = reg2(0.01)))\n",
    "model.add(BatchNormalization())\n",
    "model.add(Dense(500,activation=tf.nn.relu ,kernel_initializer='lecun_uniform',kernel_regularizer = reg2(0.01)))\n",
    "model.add(BatchNormalization())\n",
    "model.add(Dense(500,activation=tf.nn.tanh ,kernel_initializer='lecun_uniform',kernel_regularizer = reg2(0.01)))\n",
    "model.add(BatchNormalization())\n",
    "model.add(Dense(400,activation=tf.nn.tanh ,kernel_initializer='lecun_uniform'))\n",
    "model.add(BatchNormalization())\n",
    "model.add(Dense(200,activation=tf.nn.relu ,kernel_initializer='lecun_uniform',kernel_regularizer = reg2(0.01)))\n",
    "model.add(BatchNormalization())\n",
    "model.add(Dense(100,activation=tf.nn.relu ,kernel_initializer='lecun_uniform',kernel_regularizer = reg2(0.01)))\n",
    "model.add(Dense(1,activation=\"linear\" ,kernel_initializer='lecun_uniform'))"
   ]
  },
  {
   "cell_type": "code",
   "execution_count": 43,
   "metadata": {},
   "outputs": [],
   "source": [
    "adam = keras.optimizers.Adam(learning_rate=0.0001, beta_1=0.9, beta_2=0.999, amsgrad=False)"
   ]
  },
  {
   "cell_type": "code",
   "execution_count": 44,
   "metadata": {},
   "outputs": [],
   "source": [
    "model.compile(optimizer=adam, loss='mean_squared_error',metrics=['mean_squared_error'])"
   ]
  },
  {
   "cell_type": "code",
   "execution_count": 45,
   "metadata": {},
   "outputs": [
    {
     "name": "stdout",
     "output_type": "stream",
     "text": [
      "Train on 18176294 samples, validate on 2019589 samples\n",
      "Epoch 1/100\n",
      "18176294/18176294 [==============================] - 168s 9us/sample - loss: 23361763625.1093 - mean_squared_error: 23361734656.0000 - val_loss: 24224783322.3795 - val_mean_squared_error: 24224774144.0000\n",
      "Epoch 2/100\n",
      "18176294/18176294 [==============================] - 48s 3us/sample - loss: 23361650718.0943 - mean_squared_error: 23361634304.0000 - val_loss: 24224641082.1729 - val_mean_squared_error: 24224647168.0000\n",
      "Epoch 3/100\n",
      "18176294/18176294 [==============================] - 48s 3us/sample - loss: 23361503511.8087 - mean_squared_error: 23361472512.0000 - val_loss: 24224556927.3816 - val_mean_squared_error: 24224552960.0000\n",
      "Epoch 4/100\n",
      "18176294/18176294 [==============================] - 48s 3us/sample - loss: 23361322156.6035 - mean_squared_error: 23361304576.0000 - val_loss: 24224256982.5199 - val_mean_squared_error: 24224256000.0000\n",
      "Epoch 5/100\n",
      "18176294/18176294 [==============================] - 49s 3us/sample - loss: 23361115131.7394 - mean_squared_error: 23361122304.0000 - val_loss: 24224073689.2825 - val_mean_squared_error: 24224071680.0000\n",
      "Epoch 6/100\n",
      "18176294/18176294 [==============================] - 48s 3us/sample - loss: 23360868557.9940 - mean_squared_error: 23360899072.0000 - val_loss: 24223947371.4262 - val_mean_squared_error: 24223942656.0000\n",
      "Epoch 7/100\n",
      "18176294/18176294 [==============================] - 48s 3us/sample - loss: 23360609004.6277 - mean_squared_error: 23360638976.0000 - val_loss: 24223349024.8317 - val_mean_squared_error: 24223354880.0000\n",
      "Epoch 8/100\n",
      "18176294/18176294 [==============================] - 48s 3us/sample - loss: 23360319564.8124 - mean_squared_error: 23360319488.0000 - val_loss: 24223237030.9986 - val_mean_squared_error: 24223242240.0000\n",
      "Epoch 9/100\n",
      "18176294/18176294 [==============================] - 48s 3us/sample - loss: 23359997559.5973 - mean_squared_error: 23359975424.0000 - val_loss: 24222759368.3256 - val_mean_squared_error: 24222758912.0000\n",
      "Epoch 10/100\n",
      "18176294/18176294 [==============================] - 48s 3us/sample - loss: 23359662267.5180 - mean_squared_error: 23359660032.0000 - val_loss: 24222643945.1170 - val_mean_squared_error: 24222648320.0000\n",
      "Epoch 11/100\n",
      "18176294/18176294 [==============================] - 48s 3us/sample - loss: 23359333462.9632 - mean_squared_error: 23359340544.0000 - val_loss: 24222793151.7072 - val_mean_squared_error: 24222789632.0000\n",
      "Epoch 12/100\n",
      "18176294/18176294 [==============================] - 48s 3us/sample - loss: 23358974963.1793 - mean_squared_error: 23358939136.0000 - val_loss: 24221648192.3678 - val_mean_squared_error: 24221644800.0000\n",
      "Epoch 13/100\n",
      "18176294/18176294 [==============================] - 48s 3us/sample - loss: 23358600341.4557 - mean_squared_error: 23358595072.0000 - val_loss: 24221329916.9487 - val_mean_squared_error: 24221339648.0000\n",
      "Epoch 14/100\n",
      "18176294/18176294 [==============================] - 48s 3us/sample - loss: 23358317212.9921 - mean_squared_error: 23358302208.0000 - val_loss: 24221217909.3576 - val_mean_squared_error: 24221224960.0000\n",
      "Epoch 15/100\n",
      "18176294/18176294 [==============================] - 48s 3us/sample - loss: 23357888615.5959 - mean_squared_error: 23357876224.0000 - val_loss: 24220354722.3282 - val_mean_squared_error: 24220348416.0000\n",
      "Epoch 16/100\n",
      "18176294/18176294 [==============================] - 48s 3us/sample - loss: 23357523476.0199 - mean_squared_error: 23357526016.0000 - val_loss: 24219979938.4777 - val_mean_squared_error: 24219969536.0000\n",
      "Epoch 17/100\n",
      "18176294/18176294 [==============================] - 48s 3us/sample - loss: 23357157724.5203 - mean_squared_error: 23357122560.0000 - val_loss: 24219588956.4364 - val_mean_squared_error: 24219576320.0000\n",
      "Epoch 18/100\n",
      "18176294/18176294 [==============================] - 48s 3us/sample - loss: 23356783840.2460 - mean_squared_error: 23356803072.0000 - val_loss: 24219604092.5928 - val_mean_squared_error: 24219600896.0000\n",
      "Epoch 19/100\n",
      "18176294/18176294 [==============================] - 48s 3us/sample - loss: 23356476306.5521 - mean_squared_error: 23356479488.0000 - val_loss: 24218877990.0893 - val_mean_squared_error: 24218873856.0000\n",
      "Epoch 20/100\n",
      "18176294/18176294 [==============================] - 48s 3us/sample - loss: 23356099902.3004 - mean_squared_error: 23356100608.0000 - val_loss: 24218519800.3906 - val_mean_squared_error: 24218525696.0000\n",
      "Epoch 21/100\n",
      "18176294/18176294 [==============================] - 48s 3us/sample - loss: 23355767897.3870 - mean_squared_error: 23355764736.0000 - val_loss: 24218228263.1606 - val_mean_squared_error: 24218228736.0000\n",
      "Epoch 22/100\n",
      "18176294/18176294 [==============================] - 48s 3us/sample - loss: 23355453243.3050 - mean_squared_error: 23355473920.0000 - val_loss: 24218267024.6915 - val_mean_squared_error: 24218261504.0000\n",
      "Epoch 23/100\n",
      "18176294/18176294 [==============================] - 48s 3us/sample - loss: 23355143906.5310 - mean_squared_error: 23355129856.0000 - val_loss: 24220692286.9931 - val_mean_squared_error: 24220708864.0000\n",
      "Epoch 24/100\n",
      "18176294/18176294 [==============================] - 48s 3us/sample - loss: 23354876917.4590 - mean_squared_error: 23354888192.0000 - val_loss: 24218323328.5429 - val_mean_squared_error: 24218324992.0000\n",
      "Epoch 25/100\n",
      "18176294/18176294 [==============================] - 48s 3us/sample - loss: 23354565273.5665 - mean_squared_error: 23354558464.0000 - val_loss: 24220418470.3971 - val_mean_squared_error: 24220424192.0000\n",
      "Epoch 26/100\n",
      "18176294/18176294 [==============================] - 48s 3us/sample - loss: 23354312833.8618 - mean_squared_error: 23354300416.0000 - val_loss: 24220318984.7950 - val_mean_squared_error: 24220323840.0000\n",
      "Epoch 27/100\n",
      "18176294/18176294 [==============================] - 48s 3us/sample - loss: 23354179464.4352 - mean_squared_error: 23354163200.0000 - val_loss: 24216634018.8563 - val_mean_squared_error: 24216639488.0000\n",
      "Epoch 28/100\n",
      "18176294/18176294 [==============================] - 48s 3us/sample - loss: 23353893027.1114 - mean_squared_error: 23353880576.0000 - val_loss: 24217179943.8455 - val_mean_squared_error: 24217178112.0000\n",
      "Epoch 29/100\n",
      "18176294/18176294 [==============================] - 48s 3us/sample - loss: 23353692602.5012 - mean_squared_error: 23353714688.0000 - val_loss: 24217544716.2591 - val_mean_squared_error: 24217546752.0000\n",
      "Epoch 30/100\n",
      "18176294/18176294 [==============================] - 48s 3us/sample - loss: 23353513660.8773 - mean_squared_error: 23353516032.0000 - val_loss: 24216875162.7162 - val_mean_squared_error: 24216881152.0000\n",
      "Epoch 31/100\n",
      "18176294/18176294 [==============================] - 48s 3us/sample - loss: 23353343840.7732 - mean_squared_error: 23353335808.0000 - val_loss: 24215902023.2622 - val_mean_squared_error: 24215894016.0000\n",
      "Epoch 32/100\n",
      "18176294/18176294 [==============================] - 48s 3us/sample - loss: 23353165584.0378 - mean_squared_error: 23353163776.0000 - val_loss: 24215992430.5800 - val_mean_squared_error: 24215996416.0000\n",
      "Epoch 33/100\n",
      "18176294/18176294 [==============================] - 48s 3us/sample - loss: 23353068465.9681 - mean_squared_error: 23353065472.0000 - val_loss: 24215103723.6560 - val_mean_squared_error: 24215107584.0000\n",
      "Epoch 34/100\n",
      "18176294/18176294 [==============================] - 48s 3us/sample - loss: 23352863294.3388 - mean_squared_error: 23352885248.0000 - val_loss: 24215668877.3733 - val_mean_squared_error: 24215672832.0000\n",
      "Epoch 35/100\n",
      "18176294/18176294 [==============================] - 48s 3us/sample - loss: 23352824112.8786 - mean_squared_error: 23352819712.0000 - val_loss: 24215059454.6912 - val_mean_squared_error: 24215066624.0000\n",
      "Epoch 36/100\n",
      "18176294/18176294 [==============================] - 48s 3us/sample - loss: 23352622054.1457 - mean_squared_error: 23352641536.0000 - val_loss: 24215505448.1362 - val_mean_squared_error: 24215511040.0000\n",
      "Epoch 37/100\n",
      "18176294/18176294 [==============================] - 48s 3us/sample - loss: 23352590018.0381 - mean_squared_error: 23352571904.0000 - val_loss: 24215939774.7314 - val_mean_squared_error: 24215947264.0000\n",
      "Epoch 38/100\n"
     ]
    },
    {
     "name": "stdout",
     "output_type": "stream",
     "text": [
      "18176294/18176294 [==============================] - 48s 3us/sample - loss: 23352487197.4370 - mean_squared_error: 23352504320.0000 - val_loss: 24214594094.1509 - val_mean_squared_error: 24214587392.0000\n",
      "Epoch 39/100\n",
      "18176294/18176294 [==============================] - 48s 3us/sample - loss: 23352452405.2371 - mean_squared_error: 23352446976.0000 - val_loss: 24214875876.2914 - val_mean_squared_error: 24214865920.0000\n",
      "Epoch 40/100\n",
      "18176294/18176294 [==============================] - 48s 3us/sample - loss: 23352346611.9849 - mean_squared_error: 23352358912.0000 - val_loss: 24215055910.8439 - val_mean_squared_error: 24215056384.0000\n",
      "Epoch 41/100\n",
      "18176294/18176294 [==============================] - 48s 3us/sample - loss: 23352393520.5937 - mean_squared_error: 23352410112.0000 - val_loss: 24215367123.9964 - val_mean_squared_error: 24215365632.0000\n",
      "Epoch 42/100\n",
      "18176294/18176294 [==============================] - 48s 3us/sample - loss: 23352399946.5147 - mean_squared_error: 23352379392.0000 - val_loss: 24214383900.0756 - val_mean_squared_error: 24214384640.0000\n",
      "Epoch 43/100\n",
      "18176294/18176294 [==============================] - 48s 3us/sample - loss: 23352240396.6630 - mean_squared_error: 23352250368.0000 - val_loss: 24214788357.2545 - val_mean_squared_error: 24214786048.0000\n",
      "Epoch 44/100\n",
      "18176294/18176294 [==============================] - 48s 3us/sample - loss: 23352221823.6131 - mean_squared_error: 23352244224.0000 - val_loss: 24214896509.3901 - val_mean_squared_error: 24214896640.0000\n",
      "Epoch 45/100\n",
      "18176294/18176294 [==============================] - 48s 3us/sample - loss: 23352253838.0536 - mean_squared_error: 23352264704.0000 - val_loss: 24214293782.9334 - val_mean_squared_error: 24214296576.0000\n",
      "Epoch 46/100\n",
      "18176294/18176294 [==============================] - 48s 3us/sample - loss: 23352100400.2323 - mean_squared_error: 23352104960.0000 - val_loss: 24214712879.2034 - val_mean_squared_error: 24214714368.0000\n",
      "Epoch 47/100\n",
      "18176294/18176294 [==============================] - 48s 3us/sample - loss: 23352090872.7312 - mean_squared_error: 23352082432.0000 - val_loss: 24214037838.2952 - val_mean_squared_error: 24214030336.0000\n",
      "Epoch 48/100\n",
      "18176294/18176294 [==============================] - 48s 3us/sample - loss: 23352081558.4791 - mean_squared_error: 23352074240.0000 - val_loss: 24214216758.4248 - val_mean_squared_error: 24214208512.0000\n",
      "Epoch 49/100\n",
      "18176294/18176294 [==============================] - 48s 3us/sample - loss: 23352096715.7510 - mean_squared_error: 23352096768.0000 - val_loss: 24214226602.0185 - val_mean_squared_error: 24214228992.0000\n",
      "Epoch 50/100\n",
      "18176294/18176294 [==============================] - 48s 3us/sample - loss: 23352107546.7080 - mean_squared_error: 23352129536.0000 - val_loss: 24214831580.6212 - val_mean_squared_error: 24214818816.0000\n",
      "Epoch 51/100\n",
      "18176294/18176294 [==============================] - 48s 3us/sample - loss: 23352014926.6694 - mean_squared_error: 23352020992.0000 - val_loss: 24214120539.4987 - val_mean_squared_error: 24214126592.0000\n",
      "Epoch 52/100\n",
      "18176294/18176294 [==============================] - 48s 3us/sample - loss: 23352027206.6331 - mean_squared_error: 23352006656.0000 - val_loss: 24220296332.3121 - val_mean_squared_error: 24220305408.0000\n",
      "Epoch 53/100\n",
      "18176294/18176294 [==============================] - 48s 3us/sample - loss: 23352540038.8264 - mean_squared_error: 23352541184.0000 - val_loss: 24216716411.1464 - val_mean_squared_error: 24216721408.0000\n",
      "Epoch 54/100\n",
      "18176294/18176294 [==============================] - 48s 3us/sample - loss: 23352342680.2703 - mean_squared_error: 23352336384.0000 - val_loss: 24214176533.9446 - val_mean_squared_error: 24214173696.0000\n",
      "Epoch 55/100\n",
      "18176294/18176294 [==============================] - 48s 3us/sample - loss: 23352248461.1650 - mean_squared_error: 23352246272.0000 - val_loss: 24215596244.0744 - val_mean_squared_error: 24215586816.0000\n",
      "Epoch 56/100\n",
      "18176294/18176294 [==============================] - 48s 3us/sample - loss: 23352205596.0427 - mean_squared_error: 23352209408.0000 - val_loss: 24214413232.4257 - val_mean_squared_error: 24214415360.0000\n",
      "Epoch 57/100\n",
      "18176294/18176294 [==============================] - 48s 3us/sample - loss: 23352172253.3380 - mean_squared_error: 23352178688.0000 - val_loss: 24214499938.2424 - val_mean_squared_error: 24214497280.0000\n",
      "Epoch 58/100\n",
      "18176294/18176294 [==============================] - 48s 3us/sample - loss: 23352146583.8951 - mean_squared_error: 23352158208.0000 - val_loss: 24214367574.0695 - val_mean_squared_error: 24214358016.0000\n",
      "Epoch 59/100\n",
      "18176294/18176294 [==============================] - 48s 3us/sample - loss: 23352057379.3630 - mean_squared_error: 23352059904.0000 - val_loss: 24214745747.0296 - val_mean_squared_error: 24214749184.0000\n",
      "Epoch 60/100\n",
      "18176294/18176294 [==============================] - 48s 3us/sample - loss: 23355533890.6144 - mean_squared_error: 23355523072.0000 - val_loss: 13609837189734774.0000 - val_mean_squared_error: 13609846196666368.0000\n",
      "Epoch 61/100\n",
      "18176294/18176294 [==============================] - 48s 3us/sample - loss: 23357422570.3696 - mean_squared_error: 23357413376.0000 - val_loss: 25467647262551.0156 - val_mean_squared_error: 25467646115840.0000\n",
      "Epoch 62/100\n",
      "18176294/18176294 [==============================] - 48s 3us/sample - loss: 23357403186.7653 - mean_squared_error: 23357370368.0000 - val_loss: 868914181274459.3750 - val_mean_squared_error: 868913961238528.0000\n",
      "Epoch 63/100\n",
      "18176294/18176294 [==============================] - 48s 3us/sample - loss: 23353553910.5335 - mean_squared_error: 23353550848.0000 - val_loss: 24214030104.1197 - val_mean_squared_error: 24214030336.0000\n",
      "Epoch 64/100\n",
      "18176294/18176294 [==============================] - 48s 3us/sample - loss: 23352079315.2377 - mean_squared_error: 23352104960.0000 - val_loss: 24214049835.4679 - val_mean_squared_error: 24214050816.0000\n",
      "Epoch 65/100\n",
      "18176294/18176294 [==============================] - 48s 3us/sample - loss: 23351969961.8595 - mean_squared_error: 23351951360.0000 - val_loss: 24214172809.2224 - val_mean_squared_error: 24214171648.0000\n",
      "Epoch 66/100\n",
      "18176294/18176294 [==============================] - 48s 3us/sample - loss: 23351969545.7405 - mean_squared_error: 23351986176.0000 - val_loss: 24215096763.1820 - val_mean_squared_error: 24215099392.0000\n",
      "Epoch 67/100\n",
      "18176294/18176294 [==============================] - 48s 3us/sample - loss: 23351983992.9265 - mean_squared_error: 23351994368.0000 - val_loss: 24214365571.4467 - val_mean_squared_error: 24214366208.0000\n",
      "Epoch 68/100\n",
      "18176294/18176294 [==============================] - 48s 3us/sample - loss: 23351984752.6327 - mean_squared_error: 23351986176.0000 - val_loss: 24213886341.6547 - val_mean_squared_error: 24213882880.0000\n",
      "Epoch 69/100\n",
      "18176294/18176294 [==============================] - 48s 3us/sample - loss: 23352036755.7007 - mean_squared_error: 23352047616.0000 - val_loss: 24214361322.6681 - val_mean_squared_error: 24214360064.0000\n",
      "Epoch 70/100\n",
      "18176294/18176294 [==============================] - 48s 3us/sample - loss: 23351934529.2788 - mean_squared_error: 23351953408.0000 - val_loss: 24214037281.9064 - val_mean_squared_error: 24214036480.0000\n",
      "Epoch 71/100\n",
      "18176294/18176294 [==============================] - 48s 3us/sample - loss: 23351946133.4712 - mean_squared_error: 23351951360.0000 - val_loss: 24216828836.3847 - val_mean_squared_error: 24216832000.0000\n",
      "Epoch 72/100\n",
      "18176294/18176294 [==============================] - 48s 3us/sample - loss: 23351992001.1775 - mean_squared_error: 23352004608.0000 - val_loss: 24220706143.5707 - val_mean_squared_error: 24220704768.0000\n",
      "Epoch 73/100\n",
      "18176294/18176294 [==============================] - 48s 3us/sample - loss: 23352431018.1130 - mean_squared_error: 23352420352.0000 - val_loss: 24213817465.9692 - val_mean_squared_error: 24213817344.0000\n",
      "Epoch 74/100\n",
      "18176294/18176294 [==============================] - 48s 3us/sample - loss: 23351900602.3962 - mean_squared_error: 23351898112.0000 - val_loss: 24214012765.8365 - val_mean_squared_error: 24214009856.0000\n",
      "Epoch 75/100\n",
      "18176294/18176294 [==============================] - 48s 3us/sample - loss: 23351929633.3917 - mean_squared_error: 23351937024.0000 - val_loss: 24213978289.3955 - val_mean_squared_error: 24213979136.0000\n"
     ]
    },
    {
     "name": "stdout",
     "output_type": "stream",
     "text": [
      "Epoch 76/100\n",
      "18176294/18176294 [==============================] - 48s 3us/sample - loss: 23351863488.2044 - mean_squared_error: 23351861248.0000 - val_loss: 24213866718.5018 - val_mean_squared_error: 24213872640.0000\n",
      "Epoch 77/100\n",
      "18176294/18176294 [==============================] - 48s 3us/sample - loss: 23351831238.1298 - mean_squared_error: 23351838720.0000 - val_loss: 24214204881.5972 - val_mean_squared_error: 24214198272.0000\n",
      "Epoch 78/100\n",
      "18176294/18176294 [==============================] - 48s 3us/sample - loss: 23352102131.9044 - mean_squared_error: 23352104960.0000 - val_loss: 24215812268.6097 - val_mean_squared_error: 24215822336.0000\n",
      "Epoch 79/100\n",
      "18176294/18176294 [==============================] - 48s 3us/sample - loss: 23351987492.8947 - mean_squared_error: 23351977984.0000 - val_loss: 24213863929.2889 - val_mean_squared_error: 24213852160.0000\n",
      "Epoch 80/100\n",
      "18176294/18176294 [==============================] - 48s 3us/sample - loss: 23351972583.2602 - mean_squared_error: 23351965696.0000 - val_loss: 24215331195.3180 - val_mean_squared_error: 24215332864.0000\n",
      "Epoch 81/100\n",
      "18176294/18176294 [==============================] - 48s 3us/sample - loss: 23355054828.7613 - mean_squared_error: 23355056128.0000 - val_loss: 24218375707.0418 - val_mean_squared_error: 24218378240.0000\n",
      "Epoch 82/100\n",
      "18176294/18176294 [==============================] - 48s 3us/sample - loss: 23351906564.7552 - mean_squared_error: 23351916544.0000 - val_loss: 24213766710.1949 - val_mean_squared_error: 24213764096.0000\n",
      "Epoch 83/100\n",
      "18176294/18176294 [==============================] - 48s 3us/sample - loss: 23354786654.0147 - mean_squared_error: 23354771456.0000 - val_loss: 2108315893361.4634 - val_mean_squared_error: 2108315795456.0000\n",
      "Epoch 84/100\n",
      "18176294/18176294 [==============================] - 48s 3us/sample - loss: 23357482811.6765 - mean_squared_error: 23357458432.0000 - val_loss: 479850826414316.8750 - val_mean_squared_error: 479850791960576.0000\n",
      "Epoch 85/100\n",
      "18176294/18176294 [==============================] - 48s 3us/sample - loss: 23357417512.8663 - mean_squared_error: 23357405184.0000 - val_loss: 10060554327655228.0000 - val_mean_squared_error: 10060551795245056.0000\n",
      "Epoch 86/100\n",
      "18176294/18176294 [==============================] - 48s 3us/sample - loss: 23352688209.9528 - mean_squared_error: 23352692736.0000 - val_loss: 24218027310.9756 - val_mean_squared_error: 24218025984.0000\n",
      "Epoch 87/100\n",
      "18176294/18176294 [==============================] - 48s 3us/sample - loss: 23351933144.6207 - mean_squared_error: 23351955456.0000 - val_loss: 24214180167.5164 - val_mean_squared_error: 24214185984.0000\n",
      "Epoch 88/100\n",
      "18176294/18176294 [==============================] - 48s 3us/sample - loss: 23351907091.9492 - mean_squared_error: 23351922688.0000 - val_loss: 24213730450.6364 - val_mean_squared_error: 24213727232.0000\n",
      "Epoch 89/100\n",
      "18176294/18176294 [==============================] - 48s 3us/sample - loss: 23352128208.7999 - mean_squared_error: 23352119296.0000 - val_loss: 24220149147.0127 - val_mean_squared_error: 24220151808.0000\n",
      "Epoch 90/100\n",
      "18176294/18176294 [==============================] - 48s 3us/sample - loss: 23351940960.4513 - mean_squared_error: 23351932928.0000 - val_loss: 24214062524.6898 - val_mean_squared_error: 24214052864.0000\n",
      "Epoch 91/100\n",
      "18176294/18176294 [==============================] - 48s 3us/sample - loss: 23351933656.9211 - mean_squared_error: 23351920640.0000 - val_loss: 24213878245.5510 - val_mean_squared_error: 24213884928.0000\n",
      "Epoch 92/100\n",
      "18176294/18176294 [==============================] - 48s 3us/sample - loss: 23351922485.8854 - mean_squared_error: 23351949312.0000 - val_loss: 24213739704.7318 - val_mean_squared_error: 24213741568.0000\n",
      "Epoch 93/100\n",
      "18176294/18176294 [==============================] - 48s 3us/sample - loss: 23351847809.2741 - mean_squared_error: 23351873536.0000 - val_loss: 24214023303.8057 - val_mean_squared_error: 24214016000.0000\n",
      "Epoch 94/100\n",
      "18176294/18176294 [==============================] - 48s 3us/sample - loss: 23351895116.2889 - mean_squared_error: 23351900160.0000 - val_loss: 24213804471.3301 - val_mean_squared_error: 24213800960.0000\n",
      "Epoch 95/100\n",
      "18176294/18176294 [==============================] - 48s 3us/sample - loss: 23351888296.5724 - mean_squared_error: 23351867392.0000 - val_loss: 24213954414.1182 - val_mean_squared_error: 24213958656.0000\n",
      "Epoch 96/100\n",
      "18176294/18176294 [==============================] - 49s 3us/sample - loss: 23351882824.3031 - mean_squared_error: 23351875584.0000 - val_loss: 24213837694.4731 - val_mean_squared_error: 24213837824.0000\n",
      "Epoch 97/100\n",
      "18176294/18176294 [==============================] - 49s 3us/sample - loss: 23351908434.3827 - mean_squared_error: 23351912448.0000 - val_loss: 24214361416.5558 - val_mean_squared_error: 24214362112.0000\n",
      "Epoch 98/100\n",
      "18176294/18176294 [==============================] - 48s 3us/sample - loss: 23352133842.4445 - mean_squared_error: 23352135680.0000 - val_loss: 24213474638.5969 - val_mean_squared_error: 24213483520.0000\n",
      "Epoch 99/100\n",
      "18176294/18176294 [==============================] - 48s 3us/sample - loss: 23351901760.4450 - mean_squared_error: 23351920640.0000 - val_loss: 24213752205.3384 - val_mean_squared_error: 24213743616.0000\n",
      "Epoch 100/100\n",
      "18176294/18176294 [==============================] - 48s 3us/sample - loss: 23351885483.1018 - mean_squared_error: 23351877632.0000 - val_loss: 24213653493.0591 - val_mean_squared_error: 24213647360.0000\n"
     ]
    }
   ],
   "source": [
    "history = model.fit(X_train.values, y_train.values, epochs=100,batch_size = 10000,validation_split = 0.1)"
   ]
  },
  {
   "cell_type": "code",
   "execution_count": 47,
   "metadata": {},
   "outputs": [
    {
     "name": "stdout",
     "output_type": "stream",
     "text": [
      "Saved model to disk\n"
     ]
    }
   ],
   "source": [
    "model_json = model.to_json()\n",
    "with open(\"modelDeepNN_1.json\", \"w\") as json_file:\n",
    "    json_file.write(model_json)\n",
    "# serialize weights to HDF5\n",
    "model.save_weights(\"modelDeepNN_1.h5\")\n",
    "print(\"Saved model to disk\")"
   ]
  },
  {
   "cell_type": "code",
   "execution_count": null,
   "metadata": {},
   "outputs": [],
   "source": []
  }
 ],
 "metadata": {
  "kernelspec": {
   "display_name": "Python 3",
   "language": "python",
   "name": "python3"
  },
  "language_info": {
   "codemirror_mode": {
    "name": "ipython",
    "version": 3
   },
   "file_extension": ".py",
   "mimetype": "text/x-python",
   "name": "python",
   "nbconvert_exporter": "python",
   "pygments_lexer": "ipython3",
   "version": "3.6.9"
  }
 },
 "nbformat": 4,
 "nbformat_minor": 2
}
